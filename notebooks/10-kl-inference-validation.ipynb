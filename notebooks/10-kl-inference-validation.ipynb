{
 "cells": [
  {
   "cell_type": "code",
   "execution_count": null,
   "id": "750736b1-3eb9-4cde-9291-f2773ba103db",
   "metadata": {
    "tags": []
   },
   "outputs": [],
   "source": [
    "%load_ext autoreload\n",
    "%autoreload 2"
   ]
  },
  {
   "cell_type": "code",
   "execution_count": null,
   "id": "b80c6e4e-6d1e-4fbe-9d60-86a81ca5d871",
   "metadata": {
    "tags": []
   },
   "outputs": [],
   "source": [
    "from pathlib import Path\n",
    "\n",
    "from transformers import AutoProcessor, LayoutLMv3ForTokenClassification\n",
    "\n",
    "from mozilla_sec_eia.ex_21.inference import (\n",
    "    create_inference_dataset,\n",
    "    perform_inference\n",
    ")\n",
    "from mozilla_sec_eia.utils.pdf import (\n",
    "    draw_boxes_on_img,\n",
    "    unnormalize_box\n",
    ")"
   ]
  },
  {
   "cell_type": "code",
   "execution_count": null,
   "id": "9ad2d903-498d-4a6a-a925-d87823af668b",
   "metadata": {
    "tags": []
   },
   "outputs": [],
   "source": [
    "has_labels = True"
   ]
  },
  {
   "cell_type": "code",
   "execution_count": null,
   "id": "fc458390-afcc-435c-859e-74f99792310e",
   "metadata": {
    "tags": []
   },
   "outputs": [],
   "source": [
    "label_list = ['O', 'B-Subsidiary', 'I-Subsidiary', 'B-Loc', 'I-Loc', 'B-Own_Per']\n",
    "id2label = {k: v for k,v in enumerate(label_list)}\n",
    "label2id = {v: k for k,v in enumerate(label_list)}"
   ]
  },
  {
   "cell_type": "code",
   "execution_count": null,
   "id": "0c84c2d2-d47c-4035-807d-ecd8834df982",
   "metadata": {
    "tags": []
   },
   "outputs": [],
   "source": [
    "# load_model function loads a model with mlflow\n",
    "model_path = Path(\"../models/layoutlm_v1_50_labeled_docs\")"
   ]
  },
  {
   "cell_type": "code",
   "execution_count": null,
   "id": "97df08e3-89c1-4830-9fb6-684061147ab0",
   "metadata": {
    "tags": []
   },
   "outputs": [],
   "source": [
    "model = LayoutLMv3ForTokenClassification.from_pretrained(model_path,\n",
    "                                                         id2label=id2label,\n",
    "                                                         label2id=label2id)"
   ]
  },
  {
   "cell_type": "code",
   "execution_count": null,
   "id": "beaf2e8a-37cb-4681-b821-f8246636dbde",
   "metadata": {
    "tags": []
   },
   "outputs": [],
   "source": [
    "processor = AutoProcessor.from_pretrained(\n",
    "        \"microsoft/layoutlmv3-base\", apply_ocr=False\n",
    "    )"
   ]
  },
  {
   "cell_type": "code",
   "execution_count": null,
   "id": "9bd3adeb-6d04-4c02-8ac7-30ddc2e8ec46",
   "metadata": {
    "tags": []
   },
   "outputs": [],
   "source": [
    "pdf_dir = Path(\"../sec10k_filings/pdfs\")"
   ]
  },
  {
   "cell_type": "code",
   "execution_count": null,
   "id": "83bd4261-0c40-4984-a0ed-05e24433ab33",
   "metadata": {
    "tags": []
   },
   "outputs": [],
   "source": [
    "# only necessary if using data with labels\n",
    "labeled_json_dir = Path(\"../sec10k_filings/labeled_jsons_v0.1\")"
   ]
  },
  {
   "cell_type": "markdown",
   "id": "6d7939f3-17b5-49c8-aff2-4c13591ba4ae",
   "metadata": {},
   "source": [
    "# Create a Dataset and Perform Inference"
   ]
  },
  {
   "cell_type": "code",
   "execution_count": null,
   "id": "5dd63683-e1d0-4942-8af0-26e684487ee2",
   "metadata": {},
   "outputs": [],
   "source": [
    "dataset = create_inference_dataset(\n",
    "        pdfs_dir=pdf_dir, labeled_json_dir=labeled_json_dir, has_labels=has_labels\n",
    "    )"
   ]
  },
  {
   "cell_type": "code",
   "execution_count": null,
   "id": "86cee48d-eb12-4ee3-8268-2faa4bfda8c6",
   "metadata": {
    "tags": []
   },
   "outputs": [],
   "source": [
    "# only use 3 examples\n",
    "dataset_index = [0, 1, 2]"
   ]
  },
  {
   "cell_type": "code",
   "execution_count": null,
   "id": "c52aed29-be48-474c-be70-07aa71f19342",
   "metadata": {
    "tags": []
   },
   "outputs": [],
   "source": [
    "# check but I think this is mainly slow because it's checking to make sure PDFs and JSONs are cached\n",
    "logit_list, pred_list = perform_inference(pdf_dir, model, processor, dataset_index, labeled_json_dir, has_labels)"
   ]
  },
  {
   "cell_type": "markdown",
   "id": "92e65767-5a2a-4b88-9b52-ae70eb1d36f5",
   "metadata": {},
   "source": [
    "# Visualize with no labels"
   ]
  },
  {
   "cell_type": "code",
   "execution_count": null,
   "id": "c8d2d2ef-5200-444c-ba19-00f824ecd819",
   "metadata": {
    "tags": []
   },
   "outputs": [],
   "source": [
    "assert not has_labels"
   ]
  },
  {
   "cell_type": "code",
   "execution_count": null,
   "id": "359f9ebd-2ded-45e3-a04a-cfe371f07fef",
   "metadata": {
    "tags": []
   },
   "outputs": [],
   "source": [
    "def visual_inputs():\n",
    "    for i in range(len(pred_list)):\n",
    "        predictions = pred_list[i]\n",
    "        example = dataset[i]\n",
    "        image = example[\"image\"]\n",
    "        words = example[\"tokens\"]\n",
    "        boxes = example[\"bboxes\"]\n",
    "        encoding = processor(\n",
    "            image,\n",
    "            words,\n",
    "            boxes=boxes,\n",
    "            return_tensors=\"pt\",\n",
    "            truncation=True,\n",
    "            padding=\"max_length\",\n",
    "        )\n",
    "        yield predictions, encoding, image\n",
    "\n",
    "gen = visual_inputs()"
   ]
  },
  {
   "cell_type": "code",
   "execution_count": null,
   "id": "e132ca80-4714-4539-b49f-1bbc4484f594",
   "metadata": {
    "tags": []
   },
   "outputs": [],
   "source": [
    "predictions, encoding, image = next(gen)\n",
    "width, height = image.size\n",
    "preds = [model.config.id2label[pred] for pred in predictions]\n",
    "token_boxes = encoding.bbox.squeeze().tolist()\n",
    "boxes = [unnormalize_box(box, width, height) for box in token_boxes]\n",
    "\n",
    "image = image.convert(\"RGB\")\n",
    "draw_boxes_on_img(preds, boxes, image, width, height)\n",
    "image"
   ]
  },
  {
   "cell_type": "markdown",
   "id": "81fac987-78d5-4c20-bf66-e4782c4fc50c",
   "metadata": {},
   "source": [
    "# Visualize with Labels"
   ]
  },
  {
   "cell_type": "code",
   "execution_count": null,
   "id": "6f5a175e-155d-46a2-8a37-d049f3cc8777",
   "metadata": {
    "tags": []
   },
   "outputs": [],
   "source": [
    "assert has_labels"
   ]
  },
  {
   "cell_type": "code",
   "execution_count": null,
   "id": "db143f1e-f760-49f2-a104-1fc101ff1b18",
   "metadata": {
    "tags": []
   },
   "outputs": [],
   "source": [
    "def convert_ner_tags_to_id(ner_tags):\n",
    "    return [int(label2id[ner_tag]) for ner_tag in ner_tags]\n",
    "\n",
    "def visual_inputs_with_labels():\n",
    "    for i in range(len(pred_list)):\n",
    "        predictions = pred_list[i]\n",
    "        example = dataset[i]\n",
    "        image = example[\"image\"]\n",
    "        words = example[\"tokens\"]\n",
    "        boxes = example[\"bboxes\"]\n",
    "        ner_tags = convert_ner_tags_to_id(example[\"ner_tags\"])\n",
    "        encoding = processor(\n",
    "            image,\n",
    "            words,\n",
    "            boxes=boxes,\n",
    "            word_labels=ner_tags,\n",
    "            return_tensors=\"pt\",\n",
    "            truncation=True,\n",
    "            padding=\"max_length\",\n",
    "        )\n",
    "        yield predictions, encoding, image\n",
    "\n",
    "gen_w_labels = visual_inputs_with_labels()"
   ]
  },
  {
   "cell_type": "code",
   "execution_count": null,
   "id": "f0d6161c-bd25-4932-8d03-e8dad9b2690d",
   "metadata": {
    "tags": []
   },
   "outputs": [],
   "source": [
    "# TODO: also add visualizaton for wrong predictions\n",
    "predictions, encoding, image = next(gen_w_labels)\n",
    "width, height = image.size\n",
    "token_boxes = encoding.bbox.squeeze().tolist()\n",
    "boxes = [unnormalize_box(box, width, height) for box in token_boxes]\n",
    "labels = encoding.labels.squeeze().tolist()\n",
    "\n",
    "true_predictions = [model.config.id2label[pred] for pred, label in zip(predictions, labels) if label != - 100]\n",
    "true_labels = [model.config.id2label[label] for prediction, label in zip(predictions, labels) if label != -100]\n",
    "true_boxes = [unnormalize_box(box, width, height) for box, label in zip(token_boxes, labels) if label != -100]\n",
    "\n",
    "image = image.convert(\"RGB\")\n",
    "draw_boxes_on_img(true_predictions, true_boxes, image, width, height)\n",
    "image"
   ]
  }
 ],
 "metadata": {
  "kernelspec": {
   "display_name": "mozilla-sec-eia",
   "language": "python",
   "name": "mozilla-sec-eia"
  },
  "language_info": {
   "codemirror_mode": {
    "name": "ipython",
    "version": 3
   },
   "file_extension": ".py",
   "mimetype": "text/x-python",
   "name": "python",
   "nbconvert_exporter": "python",
   "pygments_lexer": "ipython3",
   "version": "3.11.9"
  }
 },
 "nbformat": 4,
 "nbformat_minor": 5
}
