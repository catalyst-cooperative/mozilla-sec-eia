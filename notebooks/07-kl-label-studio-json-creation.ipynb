{
 "cells": [
  {
   "cell_type": "markdown",
   "id": "a5e1d3c2-0256-45ea-a787-14bf5c3e8376",
   "metadata": {},
   "source": [
    "# Create a JSON for a doc to import into Label Studio"
   ]
  },
  {
   "cell_type": "code",
   "execution_count": 78,
   "id": "733ff09d-a4d8-459e-a582-ce015f046ae6",
   "metadata": {
    "tags": []
   },
   "outputs": [],
   "source": [
    "import json\n",
    "import os\n",
    "from typing import Any, Dict, List, Optional, Union\n",
    "\n",
    "import cv2\n",
    "import fitz  # PyMuPDF\n",
    "import numpy as np\n",
    "import pandas as pd\n",
    "from pathlib import Path\n",
    "from PIL import Image\n",
    "\n",
    "from mozilla_sec_eia.utils import GCSArchive"
   ]
  },
  {
   "cell_type": "code",
   "execution_count": 2,
   "id": "d3bc000f-8b6e-4133-b192-4ec910e8fe3f",
   "metadata": {
    "tags": []
   },
   "outputs": [],
   "source": [
    "archive = GCSArchive()\n",
    "md = archive.get_metadata()"
   ]
  },
  {
   "cell_type": "code",
   "execution_count": 30,
   "id": "44299403-e650-469f-9f62-95e3588025b7",
   "metadata": {
    "tags": []
   },
   "outputs": [],
   "source": [
    "md[\"company_name\"] = md[\"Company Name\"].str.lower().str.strip()"
   ]
  },
  {
   "cell_type": "code",
   "execution_count": 62,
   "id": "c988a679-2e73-4ec8-a9bb-34828a69f634",
   "metadata": {
    "tags": []
   },
   "outputs": [],
   "source": [
    "train_df = pd.read_csv(\"../labeled_data_tracking.csv\")"
   ]
  },
  {
   "cell_type": "code",
   "execution_count": 66,
   "id": "10373d5f-925a-49e3-af27-395f8429175f",
   "metadata": {
    "tags": []
   },
   "outputs": [],
   "source": [
    "train_df = train_df.merge(md, on=[\"Filename\", \"CIK\"], how=\"left\")"
   ]
  },
  {
   "cell_type": "code",
   "execution_count": 77,
   "id": "7353804e-8d9e-469d-8d5c-d2b54924bc2b",
   "metadata": {
    "tags": []
   },
   "outputs": [],
   "source": [
    "cache_dir = Path(\"../sec10k_filings\")"
   ]
  },
  {
   "cell_type": "code",
   "execution_count": 72,
   "id": "5425d024-4215-4a07-82f4-7025fb8c3fd7",
   "metadata": {
    "tags": []
   },
   "outputs": [],
   "source": [
    "train_filings = archive.get_filings(train_df, cache_directory=cache_dir)"
   ]
  },
  {
   "cell_type": "code",
   "execution_count": 98,
   "id": "777be419-70a5-4c61-812f-9b66c6232dc5",
   "metadata": {
    "tags": []
   },
   "outputs": [],
   "source": [
    "pdfs_dir = cache_dir / \"pdfs\"\n",
    "pdfs_dir.mkdir(parents=True, exist_ok=True)"
   ]
  },
  {
   "cell_type": "code",
   "execution_count": 82,
   "id": "e9eabdd3-61b5-4269-95ad-c56b6adad124",
   "metadata": {
    "tags": []
   },
   "outputs": [
    {
     "name": "stderr",
     "output_type": "stream",
     "text": [
      "<table> is empty\n",
      "'<c> The Southwest Companies Nevada PriMerit Bank Federally chartered stock savings bank Paiute Pipeline Company Nevada Carson Water Company Nevada Southwest Gas Transmission Company Partnership between Southwest Gas Corporation and Utility Financial Corp. Utility Financial Corp. Nevada Southwest Gas Corporation of Arizona Nevada PRIMERIT BANK SUBSIDIARIES AT DECEMBER 31, 1993'\n",
      "<table> is empty\n",
      "'<c> Airgas Canada, Inc. Canada Airgas Carbonic, Inc. DE Airgas Data, LLC DE Airgas East, Inc. DE Airgas Gaspro, Inc. DE Airgas Great Lakes, Inc. DE Airgas Gulf States, Inc. DE Airgas Intermountain, Inc. CO Airgas International, Inc. VI Airgas Investments, Inc. DE Airgas Mid America, Inc. DE Airgas Mid'\n",
      "<table> is empty\n",
      "'<c> Airgas Canada, Inc. Canada Airgas Carbonic, Inc. DE Airgas Data, LLC DE Airgas East, Inc. DE Airgas Great Lakes, Inc. DE Airgas Gulf States, Inc. DE Airgas Intermountain, Inc. CO Airgas International, Inc. VI Airgas Mid America, Inc. DE Airgas Mid South, Inc. DE Airgas Nor Pac, Inc. DE'\n"
     ]
    }
   ],
   "source": [
    "# create PDFs\n",
    "for sec_filing in train_filings:\n",
    "    filename = pdfs_dir / Path(sec_filing.filename.split(\".\")[0] + \".pdf\")\n",
    "    with open(filename, \"wb\") as file:\n",
    "        sec_filing.ex_21.save_as_pdf(file)"
   ]
  },
  {
   "cell_type": "markdown",
   "id": "ddf41468-9d82-448c-a29e-1e710093fd5a",
   "metadata": {
    "jp-MarkdownHeadingCollapsed": true,
    "tags": []
   },
   "source": [
    "# PDF text extraction utility functions"
   ]
  },
  {
   "cell_type": "code",
   "execution_count": 74,
   "id": "16b4a347-2c66-42e4-8bf6-6f7002e9c810",
   "metadata": {
    "tags": []
   },
   "outputs": [],
   "source": [
    "# copied from well gas project wellgas/features/extract_text.py\n",
    "def extract_pdf_data_from_page(page: fitz.Page) -> dict[str, pd.DataFrame]:\n",
    "    \"\"\"Parse PDF page data.\"\"\"\n",
    "    contents = _parse_page_contents(page)\n",
    "    meta = {\n",
    "        \"rotation_degrees\": [page.rotation],\n",
    "        \"origin_x_pdf_coord\": [page.rect[0]],\n",
    "        \"origin_y_pdf_coord\": [page.rect[1]],\n",
    "        \"width_pdf_coord\": [page.rect[2] - page.rect[0]],\n",
    "        \"height_pdf_coord\": [page.rect[3] - page.rect[1]],\n",
    "        \"has_images\": [not contents[\"image\"].empty],\n",
    "        \"has_text\": [not contents[\"pdf_text\"].empty],\n",
    "        \"page_num\": [page.number],\n",
    "    }\n",
    "    if not contents[\"image\"].empty:\n",
    "        img_area = (\n",
    "            contents[\"image\"]\n",
    "            .eval(\n",
    "                \"((bottom_right_x_pdf - top_left_x_pdf)\"\n",
    "                \" * (bottom_right_y_pdf - top_left_y_pdf))\"\n",
    "            )\n",
    "            .sum()\n",
    "        )\n",
    "    else:\n",
    "        img_area = 0\n",
    "    total_area = meta[\"width_pdf_coord\"][0] * meta[\"height_pdf_coord\"][0]\n",
    "\n",
    "    meta[\"image_area_frac\"] = [np.float32(img_area / total_area)]\n",
    "    meta_df = pd.DataFrame(meta).astype(\n",
    "        {\n",
    "            \"rotation_degrees\": np.int16,\n",
    "            \"origin_x_pdf_coord\": np.float32,\n",
    "            \"origin_y_pdf_coord\": np.float32,\n",
    "            \"width_pdf_coord\": np.float32,\n",
    "            \"height_pdf_coord\": np.float32,\n",
    "            \"has_images\": \"boolean\",\n",
    "            \"has_text\": \"boolean\",\n",
    "            \"page_num\": np.int16,\n",
    "            \"image_area_frac\": np.float32,\n",
    "        }\n",
    "    )\n",
    "    meta = dict(page=meta_df)\n",
    "    for df in contents.values():  # add ID fields\n",
    "        if not df.empty:\n",
    "            df[\"page_num\"] = np.int16(page.number)\n",
    "    return contents | meta\n",
    "\n",
    "\n",
    "def _parse_page_contents(page: fitz.Page) -> dict[str, pd.DataFrame]:\n",
    "    \"\"\"Parse page contents using fitz.TextPage.\"\"\"\n",
    "    flags = fitz.TEXTFLAGS_DICT\n",
    "    # try getting only words\n",
    "    textpage = page.get_textpage(flags=flags)\n",
    "    content = textpage.extractDICT()\n",
    "    words = textpage.extractWORDS()\n",
    "    images = []\n",
    "    text = []\n",
    "    for block in content[\"blocks\"]:\n",
    "        if block[\"type\"] == 0:\n",
    "            # skip over text, we'll parse it by word blocks\n",
    "            continue\n",
    "        elif block[\"type\"] == 1:\n",
    "            images.append(_parse_image_block(block))\n",
    "        else:\n",
    "            raise ValueError(f\"Unknown block type: {block['type']}\")\n",
    "    for word_block in words:\n",
    "        parsed = _parse_word_block(word_block)\n",
    "        if not parsed.empty:\n",
    "            text.append(parsed)\n",
    "    if text:\n",
    "        text = pd.concat(text, axis=0, ignore_index=True)\n",
    "    else:\n",
    "        text = pd.DataFrame()\n",
    "    if images:\n",
    "        images = pd.concat(\n",
    "            (pd.DataFrame(image) for image in images), axis=0, ignore_index=True\n",
    "        )\n",
    "    else:\n",
    "        images = pd.DataFrame()\n",
    "        \n",
    "    return dict(pdf_text=text, image=images)\n",
    "\n",
    "\n",
    "def _parse_image_block(img_block: dict[str, Any]) -> pd.DataFrame:\n",
    "    \"\"\"Parse an image block from a fitz.TextPage.extractDICT() output.\"\"\"\n",
    "    top_left_x_pdf, top_left_y_pdf, bottom_right_x_pdf, bottom_right_y_pdf = img_block[\n",
    "        \"bbox\"\n",
    "    ]\n",
    "    dpi = min(\n",
    "        img_block[\"xres\"], img_block[\"yres\"]\n",
    "    )  # should be equal; min() just in case\n",
    "    out = pd.DataFrame(\n",
    "        {\n",
    "            \"img_num\": [img_block[\"number\"]],\n",
    "            \"dpi\": [dpi],\n",
    "            \"top_left_x_pdf\": [top_left_x_pdf],\n",
    "            \"top_left_y_pdf\": [top_left_y_pdf],\n",
    "            \"bottom_right_x_pdf\": [bottom_right_x_pdf],\n",
    "            \"bottom_right_y_pdf\": [bottom_right_y_pdf],\n",
    "        }\n",
    "    ).astype(\n",
    "        {\n",
    "            \"img_num\": np.int16,\n",
    "            \"dpi\": np.int16,\n",
    "            \"top_left_x_pdf\": np.float32,\n",
    "            \"top_left_y_pdf\": np.float32,\n",
    "            \"bottom_right_x_pdf\": np.float32,\n",
    "            \"bottom_right_y_pdf\": np.float32,\n",
    "        }\n",
    "    )\n",
    "    return out\n",
    "\n",
    "def _parse_word_block(word_block: tuple) -> pd.DataFrame:\n",
    "    \"\"\"Parse a word block from a fitz.TextPage.extractWORDS() output.\"\"\"\n",
    "    out = {\n",
    "        \"top_left_x_pdf\": [word_block[0]],\n",
    "        \"top_left_y_pdf\": [word_block[1]],\n",
    "        \"bottom_right_x_pdf\": [word_block[2]],\n",
    "        \"bottom_right_y_pdf\": [word_block[3]],\n",
    "        \"text\": [word_block[4]],\n",
    "        \"block_num\": [word_block[5]],\n",
    "        \"line_num\": [word_block[6]],\n",
    "        \"word_num\": [word_block[7]]\n",
    "    }\n",
    "    out = pd.DataFrame(out).astype(\n",
    "        {\n",
    "            \"block_num\": np.int16,\n",
    "            \"line_num\": np.int16,\n",
    "            \"word_num\": np.int16,\n",
    "            \"text\": \"string\",\n",
    "            \"top_left_x_pdf\": np.float32,\n",
    "            \"top_left_y_pdf\": np.float32,\n",
    "            \"bottom_right_x_pdf\": np.float32,\n",
    "            \"bottom_right_y_pdf\": np.float32,\n",
    "        }\n",
    "    )\n",
    "    return out\n",
    "\n",
    "def _frac_normal_ascii(text: Union[str, bytes]) -> float:\n",
    "    \"\"\"Fraction of characters that are normal ASCII characters.\"\"\"\n",
    "    # normal characters, from space to tilde, plus whitespace\n",
    "    # see https://www.asciitable.com/\n",
    "    sum_ = 0\n",
    "    if isinstance(text, bytes):\n",
    "        text = text.decode(\"utf-8\")\n",
    "    for char in text:\n",
    "        if (32 <= ord(char) <= 126) or char in \"\\t\\n\":\n",
    "            sum_ += 1\n",
    "    return sum_ / len(text)\n"
   ]
  },
  {
   "cell_type": "code",
   "execution_count": 75,
   "id": "ce9f45f1-16c4-4181-ba2c-aeec07eacdaf",
   "metadata": {
    "tags": []
   },
   "outputs": [],
   "source": [
    "\n",
    "def _render_page(\n",
    "    pg: fitz.Page, dpi=150, clip: Optional[fitz.Rect] = None\n",
    ") -> Image.Image:\n",
    "    \"\"\"Render a page of a PDF as a PIL.Image object.\n",
    "\n",
    "    Args:\n",
    "        pg (fitz.Page): a page of a PDF\n",
    "        dpi (int, optional): image resolution in pixels per inch. Defaults to 150.\n",
    "        clip (Optional[fitz.Rect], optional): Optionally render only a subset of the\n",
    "            page. Defined in PDF coordinates. Defaults to None, which renders the\n",
    "            full page.\n",
    "\n",
    "    Returns:\n",
    "        Image.Image: PDF page rendered as a PIL.Image object\n",
    "    \"\"\"\n",
    "    # 300 dpi is what tesseract recommends. PaddleOCR seems to do fine with half that.\n",
    "    render: fitz.Pixmap = pg.get_pixmap(dpi=dpi, clip=clip)  # type: ignore\n",
    "    img = _pil_img_from_pixmap(render)\n",
    "    return img\n",
    "\n",
    "\n",
    "def _pil_img_from_pixmap(pix: fitz.Pixmap) -> Image.Image:\n",
    "    \"\"\"Convert pyMuPDF Pixmap object to PIL.Image object.\n",
    "\n",
    "    For some reason pyMuPDF (aka fitz) lets you save images using PIL, but does not\n",
    "    have any function to convert to PIL objects. Clearly they do this conversion\n",
    "    internally; they should just expose it. Instead, I had to copy it out from their\n",
    "    source code.\n",
    "\n",
    "    Args:\n",
    "        pix (fitz.Pixmap): a rendered Pixmap\n",
    "\n",
    "    Returns:\n",
    "        Image: a PIL.Image object\n",
    "    \"\"\"\n",
    "    # pyMuPDF source code on GitHub is all in SWIG (some kind of C to python code\n",
    "    # generator) and is unreadable to me. So you have to inspect your local .py files.\n",
    "    # Adapted from the Pixmap.pil_save method in python3.9/site-packages/fitz/fitz.py\n",
    "    # I just replaced instances of \"self\" with \"pix\"\n",
    "    cspace = pix.colorspace\n",
    "    if cspace is None:\n",
    "        mode = \"L\"\n",
    "    elif cspace.n == 1:\n",
    "        mode = \"L\" if pix.alpha == 0 else \"LA\"\n",
    "    elif cspace.n == 3:\n",
    "        mode = \"RGB\" if pix.alpha == 0 else \"RGBA\"\n",
    "    else:\n",
    "        mode = \"CMYK\"\n",
    "\n",
    "    img = Image.frombytes(mode, (pix.width, pix.height), pix.samples)\n",
    "    return img"
   ]
  },
  {
   "cell_type": "code",
   "execution_count": 76,
   "id": "40ce4c4f-ac84-4a85-ade4-6268f840bbd2",
   "metadata": {
    "tags": []
   },
   "outputs": [],
   "source": [
    "PDF_POINTS_PER_INCH = 72  # I believe this is standard for all PDFs\n",
    "\n",
    "def pil_to_cv2(image: Image.Image) -> np.ndarray:  # noqa: C901\n",
    "    \"\"\"Convert a PIL Image to an OpenCV image (numpy array).\"\"\"\n",
    "    # copied from https://gist.github.com/panzi/1ceac1cb30bb6b3450aa5227c02eedd3\n",
    "    # This covers the common modes, is not exhaustive.\n",
    "    mode = image.mode\n",
    "    new_image: np.ndarray\n",
    "    if mode == \"1\":\n",
    "        new_image = np.array(image, dtype=np.uint8)\n",
    "        new_image *= 255\n",
    "    elif mode == \"L\":\n",
    "        new_image = np.array(image, dtype=np.uint8)\n",
    "    elif mode == \"LA\" or mode == \"La\":\n",
    "        new_image = np.array(image.convert(\"RGBA\"), dtype=np.uint8)\n",
    "        new_image = cv2.cvtColor(new_image, cv2.COLOR_RGBA2BGRA)\n",
    "    elif mode == \"RGB\":\n",
    "        new_image = np.array(image, dtype=np.uint8)\n",
    "        new_image = cv2.cvtColor(new_image, cv2.COLOR_RGB2BGR)\n",
    "    elif mode == \"RGBA\":\n",
    "        new_image = np.array(image, dtype=np.uint8)\n",
    "        new_image = cv2.cvtColor(new_image, cv2.COLOR_RGBA2BGRA)\n",
    "    elif mode == \"LAB\":\n",
    "        new_image = np.array(image, dtype=np.uint8)\n",
    "        new_image = cv2.cvtColor(new_image, cv2.COLOR_LAB2BGR)\n",
    "    elif mode == \"HSV\":\n",
    "        new_image = np.array(image, dtype=np.uint8)\n",
    "        new_image = cv2.cvtColor(new_image, cv2.COLOR_HSV2BGR)\n",
    "    elif mode == \"YCbCr\":\n",
    "        # XXX: not sure if YCbCr == YCrCb\n",
    "        new_image = np.array(image, dtype=np.uint8)\n",
    "        new_image = cv2.cvtColor(new_image, cv2.COLOR_YCrCb2BGR)\n",
    "    elif mode == \"P\" or mode == \"CMYK\":\n",
    "        new_image = np.array(image.convert(\"RGB\"), dtype=np.uint8)\n",
    "        new_image = cv2.cvtColor(new_image, cv2.COLOR_RGB2BGR)\n",
    "    elif mode == \"PA\" or mode == \"Pa\":\n",
    "        new_image = np.array(image.convert(\"RGBA\"), dtype=np.uint8)\n",
    "        new_image = cv2.cvtColor(new_image, cv2.COLOR_RGBA2BGRA)\n",
    "    else:\n",
    "        raise ValueError(f\"unhandled image color mode: {mode}\")\n",
    "\n",
    "    return new_image\n",
    "\n",
    "\n",
    "def cv2_to_pil(img: np.ndarray) -> Image.Image:\n",
    "    \"\"\"Create PIL Image from numpy pixel array.\"\"\"\n",
    "    if len(img.shape) == 2:  # single channel, AKA grayscale\n",
    "        return Image.fromarray(img)\n",
    "    else:  # only handle BGR for now\n",
    "        return Image.fromarray(cv2.cvtColor(img, cv2.COLOR_BGR2RGB))\n",
    "\n",
    "\n",
    "def display_img_array(img: np.ndarray, figsize=(5, 5), **kwargs):\n",
    "    \"\"\"Plot image array for jupyter sessions.\"\"\"\n",
    "    plt.figure(figsize=figsize)\n",
    "    if len(img.shape) == 2:  # grayscale\n",
    "        return plt.imshow(img, cmap=\"gray\", vmin=0, vmax=255, **kwargs)\n",
    "    else:\n",
    "        return plt.imshow(cv2.cvtColor(img, cv2.COLOR_BGR2RGB), **kwargs)\n",
    "\n",
    "\n",
    "def overlay_bboxes(\n",
    "    img: np.ndarray, bboxes: np.ndarray, color=(255, 0, 0)\n",
    ") -> np.ndarray:\n",
    "    \"\"\"Overlay bounding boxes of shape N x 4 (x0, y0, x1, y1) on an image.\"\"\"\n",
    "    img = img.copy()\n",
    "    for box in np.round(bboxes, 0).astype(np.int32):  # float to int just in case:\n",
    "        x0, y0, x1, y1 = box\n",
    "        cv2.rectangle(img, (x0, y0), (x1, y1), color=color, thickness=1)\n",
    "    return img\n",
    "\n",
    "\n",
    "def pdf_coords_to_pixel_coords(coords: np.ndarray, dpi: int) -> np.ndarray:\n",
    "    \"\"\"Convert PDF coordinates to pixel coordinates.\"\"\"\n",
    "    # For arbitrary PDFs you would need to subtract the origin in PDF coordinates,\n",
    "    # but since you create these PDFs, you know the origin is (0, 0).\n",
    "    out = coords * dpi / PDF_POINTS_PER_INCH\n",
    "    return out"
   ]
  },
  {
   "cell_type": "markdown",
   "id": "d20ba0a3-75f3-4553-843e-e15bf8aa7e9c",
   "metadata": {},
   "source": [
    "# Read in one doc and create a JSON"
   ]
  },
  {
   "cell_type": "code",
   "execution_count": 98,
   "id": "a64ac471-be16-4aba-8352-b17e1c5e22e3",
   "metadata": {
    "tags": []
   },
   "outputs": [],
   "source": [
    "# UPDATE THIS\n",
    "pdf_filename = \"wisconsin_electric.pdf\""
   ]
  },
  {
   "cell_type": "code",
   "execution_count": 99,
   "id": "7bc33fcc-41aa-479e-9593-230e1121ea69",
   "metadata": {
    "tags": []
   },
   "outputs": [],
   "source": [
    "src_path = Path(pdf_filename)\n",
    "assert src_path.exists()"
   ]
  },
  {
   "cell_type": "code",
   "execution_count": 100,
   "id": "e32a2238-a388-4537-bea9-6d8b5b3a83ef",
   "metadata": {
    "tags": []
   },
   "outputs": [
    {
     "data": {
      "text/plain": [
       "True"
      ]
     },
     "execution_count": 100,
     "metadata": {},
     "output_type": "execute_result"
    }
   ],
   "source": [
    "# from file\n",
    "doc = fitz.Document(str(src_path))\n",
    "doc.is_pdf"
   ]
  },
  {
   "cell_type": "code",
   "execution_count": 101,
   "id": "4c7a758c-dead-417f-b293-d47f164bc91b",
   "metadata": {
    "tags": []
   },
   "outputs": [
    {
     "data": {
      "text/plain": [
       "True"
      ]
     },
     "execution_count": 101,
     "metadata": {},
     "output_type": "execute_result"
    }
   ],
   "source": [
    "# from bytes\n",
    "_bytes = src_path.read_bytes()\n",
    "from io import BytesIO\n",
    "doc = fitz.open(stream=BytesIO(_bytes), filetype=\"pdf\")\n",
    "doc.is_pdf"
   ]
  },
  {
   "cell_type": "markdown",
   "id": "74ff145a-7f9f-4ad6-b608-3fe222fd2f0c",
   "metadata": {},
   "source": [
    "### Extract Text Bboxes"
   ]
  },
  {
   "cell_type": "code",
   "execution_count": 102,
   "id": "80121c43-3d1b-4d0d-ac31-335a9adb9680",
   "metadata": {
    "tags": []
   },
   "outputs": [
    {
     "data": {
      "text/plain": [
       "dict_keys(['pdf_text', 'image', 'page'])"
      ]
     },
     "execution_count": 102,
     "metadata": {},
     "output_type": "execute_result"
    }
   ],
   "source": [
    "pg = doc[0]\n",
    "extracted = extract_pdf_data_from_page(pg)\n",
    "extracted.keys()"
   ]
  },
  {
   "cell_type": "code",
   "execution_count": 103,
   "id": "dad7b775-df37-4005-b884-c4b918fb5cae",
   "metadata": {
    "tags": []
   },
   "outputs": [
    {
     "data": {
      "text/plain": [
       "((106, 9), (0, 0), (1, 9))"
      ]
     },
     "execution_count": 103,
     "metadata": {},
     "output_type": "execute_result"
    }
   ],
   "source": [
    "txt = extracted['pdf_text']\n",
    "img_info = extracted['image']\n",
    "pg_meta = extracted['page']\n",
    "txt.shape, img_info.shape, pg_meta.shape"
   ]
  },
  {
   "cell_type": "code",
   "execution_count": 104,
   "id": "82258cb0-81f6-4386-a30a-226ba1dcdaea",
   "metadata": {
    "tags": []
   },
   "outputs": [
    {
     "data": {
      "text/html": [
       "<div>\n",
       "<style scoped>\n",
       "    .dataframe tbody tr th:only-of-type {\n",
       "        vertical-align: middle;\n",
       "    }\n",
       "\n",
       "    .dataframe tbody tr th {\n",
       "        vertical-align: top;\n",
       "    }\n",
       "\n",
       "    .dataframe thead th {\n",
       "        text-align: right;\n",
       "    }\n",
       "</style>\n",
       "<table border=\"1\" class=\"dataframe\">\n",
       "  <thead>\n",
       "    <tr style=\"text-align: right;\">\n",
       "      <th></th>\n",
       "      <th>top_left_x_pdf</th>\n",
       "      <th>top_left_y_pdf</th>\n",
       "      <th>bottom_right_x_pdf</th>\n",
       "      <th>bottom_right_y_pdf</th>\n",
       "      <th>text</th>\n",
       "      <th>block_num</th>\n",
       "      <th>line_num</th>\n",
       "      <th>word_num</th>\n",
       "      <th>page_num</th>\n",
       "    </tr>\n",
       "  </thead>\n",
       "  <tbody>\n",
       "    <tr>\n",
       "      <th>0</th>\n",
       "      <td>504.791168</td>\n",
       "      <td>83.474442</td>\n",
       "      <td>541.465210</td>\n",
       "      <td>98.621445</td>\n",
       "      <td>Exhibit</td>\n",
       "      <td>0</td>\n",
       "      <td>0</td>\n",
       "      <td>0</td>\n",
       "      <td>0</td>\n",
       "    </tr>\n",
       "    <tr>\n",
       "      <th>1</th>\n",
       "      <td>544.523193</td>\n",
       "      <td>83.474442</td>\n",
       "      <td>565.929260</td>\n",
       "      <td>98.621445</td>\n",
       "      <td>21.1</td>\n",
       "      <td>0</td>\n",
       "      <td>0</td>\n",
       "      <td>1</td>\n",
       "      <td>0</td>\n",
       "    </tr>\n",
       "    <tr>\n",
       "      <th>2</th>\n",
       "      <td>184.882263</td>\n",
       "      <td>127.074478</td>\n",
       "      <td>248.440277</td>\n",
       "      <td>142.221481</td>\n",
       "      <td>WISCONSIN</td>\n",
       "      <td>1</td>\n",
       "      <td>0</td>\n",
       "      <td>0</td>\n",
       "      <td>0</td>\n",
       "    </tr>\n",
       "    <tr>\n",
       "      <th>3</th>\n",
       "      <td>251.498276</td>\n",
       "      <td>127.074478</td>\n",
       "      <td>306.498260</td>\n",
       "      <td>142.221481</td>\n",
       "      <td>ELECTRIC</td>\n",
       "      <td>1</td>\n",
       "      <td>0</td>\n",
       "      <td>1</td>\n",
       "      <td>0</td>\n",
       "    </tr>\n",
       "    <tr>\n",
       "      <th>4</th>\n",
       "      <td>309.556274</td>\n",
       "      <td>127.074478</td>\n",
       "      <td>351.114288</td>\n",
       "      <td>142.221481</td>\n",
       "      <td>POWER</td>\n",
       "      <td>1</td>\n",
       "      <td>0</td>\n",
       "      <td>2</td>\n",
       "      <td>0</td>\n",
       "    </tr>\n",
       "    <tr>\n",
       "      <th>...</th>\n",
       "      <td>...</td>\n",
       "      <td>...</td>\n",
       "      <td>...</td>\n",
       "      <td>...</td>\n",
       "      <td>...</td>\n",
       "      <td>...</td>\n",
       "      <td>...</td>\n",
       "      <td>...</td>\n",
       "      <td>...</td>\n",
       "    </tr>\n",
       "    <tr>\n",
       "      <th>101</th>\n",
       "      <td>167.466446</td>\n",
       "      <td>432.646484</td>\n",
       "      <td>212.476440</td>\n",
       "      <td>446.386475</td>\n",
       "      <td>subsidiary</td>\n",
       "      <td>10</td>\n",
       "      <td>2</td>\n",
       "      <td>5</td>\n",
       "      <td>0</td>\n",
       "    </tr>\n",
       "    <tr>\n",
       "      <th>102</th>\n",
       "      <td>215.256439</td>\n",
       "      <td>432.646484</td>\n",
       "      <td>223.596436</td>\n",
       "      <td>446.386475</td>\n",
       "      <td>of</td>\n",
       "      <td>10</td>\n",
       "      <td>2</td>\n",
       "      <td>6</td>\n",
       "      <td>0</td>\n",
       "    </tr>\n",
       "    <tr>\n",
       "      <th>103</th>\n",
       "      <td>226.376434</td>\n",
       "      <td>432.646484</td>\n",
       "      <td>249.706451</td>\n",
       "      <td>446.386475</td>\n",
       "      <td>WEC</td>\n",
       "      <td>10</td>\n",
       "      <td>2</td>\n",
       "      <td>7</td>\n",
       "      <td>0</td>\n",
       "    </tr>\n",
       "    <tr>\n",
       "      <th>104</th>\n",
       "      <td>252.486450</td>\n",
       "      <td>432.646484</td>\n",
       "      <td>284.166443</td>\n",
       "      <td>446.386475</td>\n",
       "      <td>Energy</td>\n",
       "      <td>10</td>\n",
       "      <td>2</td>\n",
       "      <td>8</td>\n",
       "      <td>0</td>\n",
       "    </tr>\n",
       "    <tr>\n",
       "      <th>105</th>\n",
       "      <td>286.946442</td>\n",
       "      <td>432.646484</td>\n",
       "      <td>317.516418</td>\n",
       "      <td>446.386475</td>\n",
       "      <td>Group.</td>\n",
       "      <td>10</td>\n",
       "      <td>2</td>\n",
       "      <td>9</td>\n",
       "      <td>0</td>\n",
       "    </tr>\n",
       "  </tbody>\n",
       "</table>\n",
       "<p>106 rows × 9 columns</p>\n",
       "</div>"
      ],
      "text/plain": [
       "     top_left_x_pdf  top_left_y_pdf  bottom_right_x_pdf  bottom_right_y_pdf  \\\n",
       "0        504.791168       83.474442          541.465210           98.621445   \n",
       "1        544.523193       83.474442          565.929260           98.621445   \n",
       "2        184.882263      127.074478          248.440277          142.221481   \n",
       "3        251.498276      127.074478          306.498260          142.221481   \n",
       "4        309.556274      127.074478          351.114288          142.221481   \n",
       "..              ...             ...                 ...                 ...   \n",
       "101      167.466446      432.646484          212.476440          446.386475   \n",
       "102      215.256439      432.646484          223.596436          446.386475   \n",
       "103      226.376434      432.646484          249.706451          446.386475   \n",
       "104      252.486450      432.646484          284.166443          446.386475   \n",
       "105      286.946442      432.646484          317.516418          446.386475   \n",
       "\n",
       "           text  block_num  line_num  word_num  page_num  \n",
       "0       Exhibit          0         0         0         0  \n",
       "1          21.1          0         0         1         0  \n",
       "2     WISCONSIN          1         0         0         0  \n",
       "3      ELECTRIC          1         0         1         0  \n",
       "4         POWER          1         0         2         0  \n",
       "..          ...        ...       ...       ...       ...  \n",
       "101  subsidiary         10         2         5         0  \n",
       "102          of         10         2         6         0  \n",
       "103         WEC         10         2         7         0  \n",
       "104      Energy         10         2         8         0  \n",
       "105      Group.         10         2         9         0  \n",
       "\n",
       "[106 rows x 9 columns]"
      ]
     },
     "execution_count": 104,
     "metadata": {},
     "output_type": "execute_result"
    }
   ],
   "source": [
    "txt"
   ]
  },
  {
   "cell_type": "code",
   "execution_count": 105,
   "id": "15720340-aa63-4832-8993-e2e128d4c939",
   "metadata": {
    "tags": []
   },
   "outputs": [],
   "source": [
    "full_pg_img = _render_page(pg)"
   ]
  },
  {
   "cell_type": "code",
   "execution_count": 103,
   "id": "0d38a2b9-1e00-4073-90d2-1dea3ef8df31",
   "metadata": {
    "tags": []
   },
   "outputs": [],
   "source": [
    "image_filename = \"wisconsin_electric.jpg\""
   ]
  },
  {
   "cell_type": "code",
   "execution_count": 107,
   "id": "33dda993-8962-46cb-abc1-a97d7cd73fb6",
   "metadata": {
    "tags": []
   },
   "outputs": [],
   "source": [
    "full_pg_img.save(image_filename)"
   ]
  },
  {
   "cell_type": "markdown",
   "id": "1f437add-fa00-401a-b19f-98d8e8ee5907",
   "metadata": {},
   "source": [
    "## Define page variables and JSON dict"
   ]
  },
  {
   "cell_type": "code",
   "execution_count": 35,
   "id": "33ab8090-7933-4375-8a7f-26ba12d25290",
   "metadata": {
    "tags": []
   },
   "outputs": [],
   "source": [
    "original_width = pil_to_cv2(full_pg_img).shape[1]\n",
    "original_height = pil_to_cv2(full_pg_img).shape[0]"
   ]
  },
  {
   "cell_type": "code",
   "execution_count": 37,
   "id": "5ebc2992-d806-40df-94ae-ee212e9320fb",
   "metadata": {
    "tags": []
   },
   "outputs": [
    {
     "data": {
      "text/plain": [
       "(0.16798942273629794, 0.11878039560889525)"
      ]
     },
     "execution_count": 37,
     "metadata": {},
     "output_type": "execute_result"
    }
   ],
   "source": [
    "x_norm = 100/pg_meta.width_pdf_coord.iloc[0]\n",
    "y_norm = 100/pg_meta.height_pdf_coord.iloc[0]\n",
    "x_norm, y_norm"
   ]
  },
  {
   "cell_type": "code",
   "execution_count": 104,
   "id": "e8f7c12e-4c87-4347-aadc-81f878db6773",
   "metadata": {
    "tags": []
   },
   "outputs": [],
   "source": [
    "annotation_json = {\n",
    "    \"data\": {\n",
    "        \"ocr\": f\"gs://labeled-ex21-filings/{image_filename}\"  # how do we get the image name?\n",
    "    },\n",
    "    \"annotations\": [],\n",
    "    \"predictions\": [{\"model_version\": \"v1.0\", \"result\": []}],\n",
    "}"
   ]
  },
  {
   "cell_type": "markdown",
   "id": "4f811e16-d444-4235-b5c1-90c5c335e32d",
   "metadata": {},
   "source": [
    "## Create a bounding box result entry for each word"
   ]
  },
  {
   "cell_type": "code",
   "execution_count": 159,
   "id": "b2acb1e5-6a53-4b8a-a78d-2cb86a19c4ac",
   "metadata": {
    "tags": []
   },
   "outputs": [],
   "source": [
    "def get_bbox_dicts(bbox: pd.Series, ind) -> List[Dict]:\n",
    "    x = bbox[\"top_left_x_pdf\"] * x_norm\n",
    "    y = bbox[\"top_left_y_pdf\"] * y_norm\n",
    "    width = (bbox[\"bottom_right_x_pdf\"] - bbox[\"top_left_x_pdf\"]) * x_norm\n",
    "    height = (bbox[\"bottom_right_y_pdf\"] - bbox[\"top_left_y_pdf\"]) * y_norm\n",
    "    print(x, y, width, height)\n",
    "    word = bbox[\"text\"]\n",
    "    bbox_id = f\"bbox_{ind}\"\n",
    "    box_dict = {\n",
    "        \"original_width\": original_width,\n",
    "        \"original_height\": original_height,\n",
    "        \"image_rotation\": 0,\n",
    "        \"value\": {\n",
    "            \"x\": x,\n",
    "            \"y\": y,\n",
    "            \"width\": width,\n",
    "            \"height\": height,\n",
    "            \"rotation\": 0\n",
    "        },\n",
    "        \"id\": bbox_id,\n",
    "        \"from_name\": \"bbox\",\n",
    "        \"to_name\": \"image\",\n",
    "        \"type\": \"rectangle\",\n",
    "        \"origin\": \"manual\"\n",
    "    }\n",
    "    word_dict = {\n",
    "        \"original_width\": original_width,\n",
    "        \"original_height\": original_height,\n",
    "        \"image_rotation\": 0,\n",
    "        \"value\": {\n",
    "            \"x\": x,\n",
    "            \"y\": y,\n",
    "            \"width\": width,\n",
    "            \"height\": height,\n",
    "            \"rotation\": 0,\n",
    "            \"text\": [word]\n",
    "        },\n",
    "        \"id\": bbox_id,\n",
    "        \"from_name\": \"transcription\",\n",
    "        \"to_name\": \"image\",\n",
    "        \"type\": \"textarea\",\n",
    "        \"origin\": \"manual\"\n",
    "    }\n",
    "    return [box_dict, word_dict]"
   ]
  },
  {
   "cell_type": "code",
   "execution_count": 122,
   "id": "fd0317ca-288a-4e65-b322-198b7b3ae6f6",
   "metadata": {
    "tags": []
   },
   "outputs": [],
   "source": [
    "result = []\n",
    "# change to using an apply?\n",
    "for i, row in txt.iterrows():\n",
    "    result += get_bbox_dicts(row, i)"
   ]
  },
  {
   "cell_type": "code",
   "execution_count": 123,
   "id": "c448e8b0-4ff8-47ce-b96b-6d0012c2595b",
   "metadata": {
    "tags": []
   },
   "outputs": [],
   "source": [
    "annotation_json[\"predictions\"][0][\"result\"] = result"
   ]
  },
  {
   "cell_type": "code",
   "execution_count": 124,
   "id": "864ce01c-e3c6-45c6-bd40-2b478472c916",
   "metadata": {
    "tags": []
   },
   "outputs": [],
   "source": [
    "json_filename = \"wisconsin_electric_full.json\""
   ]
  },
  {
   "cell_type": "code",
   "execution_count": 125,
   "id": "8a561cb1-fb88-4062-b85a-71bc4f022796",
   "metadata": {
    "tags": []
   },
   "outputs": [],
   "source": [
    "with open(json_filename, 'w') as fp:\n",
    "    json.dump(annotation_json, fp)"
   ]
  },
  {
   "cell_type": "markdown",
   "id": "4f834cd6-360c-4485-891c-6d7238e0b35f",
   "metadata": {},
   "source": [
    "# Create JSONs and images for entire training set"
   ]
  },
  {
   "cell_type": "code",
   "execution_count": 89,
   "id": "bf0a0d33-7020-44c0-a4e9-d935577576a8",
   "metadata": {
    "tags": []
   },
   "outputs": [],
   "source": [
    "image_dir = cache_dir / \"images\"\n",
    "image_dir.mkdir(parents=True, exist_ok=True)"
   ]
  },
  {
   "cell_type": "code",
   "execution_count": 90,
   "id": "d764f66d-bfa2-4558-927d-7fd22ffe3923",
   "metadata": {
    "tags": []
   },
   "outputs": [],
   "source": [
    "json_dir = cache_dir / \"jsons\"\n",
    "json_dir.mkdir(parents=True, exist_ok=True)"
   ]
  },
  {
   "cell_type": "code",
   "execution_count": 118,
   "id": "4be2936a-1718-499f-b812-ed0bb88a5517",
   "metadata": {
    "tags": []
   },
   "outputs": [
    {
     "name": "stdout",
     "output_type": "stream",
     "text": [
      "Creating JSON for 107815-2017q1-107815-0000107815-17-000106.pdf\n",
      "Creating JSON for 1158059-2005q2-1158059-0000893220-05-001394.pdf\n",
      "Creating JSON for 92487-2021q1-92487-0000004904-21-000010.pdf\n",
      "Creating JSON for 38725-2017q1-38725-0000038725-17-000042.pdf\n",
      "Creating JSON for 18647-2008q1-18647-0001169232-08-000603.pdf\n",
      "Creating JSON for 916529-2003q1-916529-0001144204-03-001333.pdf\n",
      "Creating JSON for 1170154-2011q1-1170154-0001193125-11-062378.pdf\n",
      "Creating JSON for 59527-2020q1-59527-0000059527-20-000007.pdf\n",
      "Creating JSON for 1012493-1999q4-1012493-0000922358-99-000021.pdf\n",
      "Creating JSON for 4904-2009q1-4904-0000004904-09-000040.pdf\n",
      "Creating JSON for 1223037-2009q4-1223037-0001193125-09-249998.pdf\n",
      "Creating JSON for 1166847-2012q1-1166847-0001117768-12-000118.pdf\n",
      "Creating JSON for 922237-1999q4-922237-0000950005-99-000915.pdf\n",
      "Creating JSON for 60549-1998q1-60549-0001047469-98-012481.pdf\n",
      "Creating JSON for 922358-2006q4-922358-0000950134-06-018966.pdf\n",
      "Creating JSON for 100122-2003q1-100122-0000941138-03-000007.pdf\n",
      "Creating JSON for 96271-2007q1-96271-0001193125-07-042781.pdf\n",
      "Creating JSON for 61339-2017q1-61339-0001161728-17-000004.pdf\n",
      "Creating JSON for 1317577-2013q3-1317577-0001193125-13-356794.pdf\n",
      "Creating JSON for 932628-2016q4-932628-0000932628-16-000045.pdf\n",
      "Creating JSON for 20947-2006q1-20947-0001031296-06-000044.pdf\n",
      "Creating JSON for 1158053-2004q2-1158053-0000893220-04-001186.pdf\n",
      "Creating JSON for 92416-1994q1-92416-0000892569-94-000102.pdf\n",
      "Creating JSON for 32604-2009q4-32604-0001144204-09-061535.pdf\n",
      "Creating JSON for 354707-2019q1-354707-0000354707-19-000043.pdf\n",
      "Creating JSON for 1048268-2006q4-1048268-0000950134-06-023507.pdf\n",
      "Creating JSON for 100826-2009q1-100826-0001193125-09-042636.pdf\n",
      "Creating JSON for 1431372-2017q1-1431372-0001564590-17-003864.pdf\n",
      "Creating JSON for 77227-2009q1-77227-0001031296-09-000008.pdf\n",
      "Creating JSON for 3146-2006q1-3146-0001193125-06-055140.pdf\n",
      "Creating JSON for 710182-1997q1-710182-0000930661-97-000576.pdf\n",
      "Creating JSON for 1043186-2019q2-1043186-0001564590-19-011739.pdf\n",
      "Creating JSON for 81033-2006q1-81033-0000950117-06-000927.pdf\n",
      "Creating JSON for 205402-1999q1-205402-0000950114-99-000043.pdf\n",
      "Creating JSON for 9342-1995q1-9342-0000009342-95-000008.pdf\n",
      "Creating JSON for 84557-2006q1-84557-0001046861-06-000007.pdf\n",
      "Creating JSON for 746834-2007q1-746834-0000950152-07-002063.pdf\n",
      "Creating JSON for 804212-2014q2-804212-0000804212-14-000014.pdf\n",
      "Creating JSON for 86521-2010q1-86521-0000086521-10-000019.pdf\n",
      "Creating JSON for 1582244-2016q4-1582244-0001582244-16-000187.pdf\n",
      "Creating JSON for 46207-2013q1-46207-0001104659-13-011461.pdf\n",
      "Creating JSON for 1140414-2016q2-1140414-0001387131-16-004912.pdf\n",
      "Creating JSON for 933157-2008q2-933157-0001144204-08-021779.pdf\n",
      "Creating JSON for 40545-2004q1-40545-0000040545-04-000013.pdf\n",
      "Creating JSON for 71675-2002q1-71675-0001046861-02-000012.pdf\n",
      "Creating JSON for 1029528-2004q1-1029528-0001193125-04-043994.pdf\n",
      "Creating JSON for 103682-2016q1-103682-0001193125-16-480850.pdf\n",
      "Creating JSON for 38079-2016q1-38079-0001558370-16-004332.pdf\n",
      "Creating JSON for 75488-2003q1-75488-0001047469-03-007124.pdf\n",
      "Creating JSON for 869495-2013q1-869495-0001144204-13-002380.pdf\n",
      "Creating JSON for 80812-1998q4-80812-0000927016-98-004349.pdf\n",
      "Creating JSON for 106170-1998q1-106170-0000072741-98-000076.pdf\n"
     ]
    }
   ],
   "source": [
    "for pdf_filename in os.listdir(pdfs_dir):\n",
    "    print(f\"Creating JSON for {pdf_filename}\")\n",
    "    src_path = pdfs_dir / pdf_filename\n",
    "    assert src_path.exists()\n",
    "    # from file\n",
    "    doc = fitz.Document(str(src_path))\n",
    "    assert doc.is_pdf\n",
    "    pg = doc[0]\n",
    "    extracted = extract_pdf_data_from_page(pg)\n",
    "    txt = extracted['pdf_text']\n",
    "    img_info = extracted['image']\n",
    "    pg_meta = extracted['page']\n",
    "    # render an image of the page and save\n",
    "    # what happens when there are multiple pages?\n",
    "    # might need to use util function\n",
    "    full_pg_img = _render_page(pg)\n",
    "    image_filename = pdf_filename.split(\".\")[0] + \".png\"\n",
    "    full_pg_img.save(image_dir / image_filename)\n",
    "    # fill in some basic variables\n",
    "    original_width = pil_to_cv2(full_pg_img).shape[1]\n",
    "    original_height = pil_to_cv2(full_pg_img).shape[0]\n",
    "    x_norm = 100/pg_meta.width_pdf_coord.iloc[0]\n",
    "    y_norm = 100/pg_meta.height_pdf_coord.iloc[0]\n",
    "    # base annotation JSON template\n",
    "    filename_no_ext = pdf_filename.split(\".\")[0]\n",
    "    annotation_json = {\n",
    "        \"id\": f\"{filename_no_ext}\",\n",
    "        \"data\": {\n",
    "        \"ocr\": f\"gs://labeled-ex21-filings/unlabeled/{image_filename}\" \n",
    "        },\n",
    "        \"annotations\": [],\n",
    "        \"predictions\": [{\"model_version\": \"v1.0\", \"result\": []}],\n",
    "    }\n",
    "    result = []\n",
    "    # change to using an apply?\n",
    "    for i, row in txt.iterrows():\n",
    "        result += get_bbox_dicts(row, i)\n",
    "\n",
    "    annotation_json[\"predictions\"][0][\"result\"] = result\n",
    "    json_filename = json_dir / Path(filename_no_ext + \".json\")\n",
    "    with open(json_filename, 'w') as fp:\n",
    "        json.dump(annotation_json, fp)"
   ]
  },
  {
   "cell_type": "markdown",
   "id": "afdcc7d2-4374-4f3d-b791-c4cb13e2ec16",
   "metadata": {},
   "source": [
    "# Format LS output JSON into pandas dataframe"
   ]
  },
  {
   "cell_type": "code",
   "execution_count": 212,
   "id": "fd21e2dd-2e7a-4a2c-90e1-b5b5f7f3a70b",
   "metadata": {
    "tags": []
   },
   "outputs": [],
   "source": [
    "json_file_path = \"test.json\"\n",
    "\n",
    "with open(json_file_path, 'r') as j:\n",
    "     doc_dict = json.loads(j.read())"
   ]
  },
  {
   "cell_type": "code",
   "execution_count": 233,
   "id": "e410f147-c234-44e1-bcf0-2e7b99da7178",
   "metadata": {
    "tags": []
   },
   "outputs": [
    {
     "data": {
      "text/plain": [
       "'gs://labeled-ex21-filings/unlabeled/107815-2017q1-107815-0000107815-17-000106.png'"
      ]
     },
     "execution_count": 233,
     "metadata": {},
     "output_type": "execute_result"
    }
   ],
   "source": [
    "# do something like get the filename of the result, then read in the data for that doc\n",
    "doc_dict[\"task\"][\"data\"][\"ocr\"]"
   ]
  },
  {
   "cell_type": "code",
   "execution_count": 122,
   "id": "47ac189b-bec8-4a7c-acf8-5135945a6c96",
   "metadata": {
    "tags": []
   },
   "outputs": [],
   "source": [
    "pdf_filename = \"107815-2017q1-107815-0000107815-17-000106.pdf\""
   ]
  },
  {
   "cell_type": "code",
   "execution_count": 267,
   "id": "b907c1cf-7662-4f4d-8c05-bfa1d041c6e6",
   "metadata": {
    "tags": []
   },
   "outputs": [],
   "source": [
    "src_path = pdfs_dir / pdf_filename\n",
    "assert src_path.exists()\n",
    "# from file\n",
    "doc = fitz.Document(str(src_path))\n",
    "assert doc.is_pdf\n",
    "pg = doc[0]\n",
    "extracted = extract_pdf_data_from_page(pg)\n",
    "txt = extracted['pdf_text']\n",
    "img_info = extracted['image']\n",
    "pg_meta = extracted['page']\n",
    "full_pg_img = _render_page(pg)\n",
    "original_width = pil_to_cv2(full_pg_img).shape[1]\n",
    "original_height = pil_to_cv2(full_pg_img).shape[0]\n",
    "x_norm = 100/pg_meta.width_pdf_coord.iloc[0]\n",
    "y_norm = 100/pg_meta.height_pdf_coord.iloc[0]"
   ]
  },
  {
   "cell_type": "code",
   "execution_count": 263,
   "id": "48723f8d-0175-4e2a-9b42-e1824db3b736",
   "metadata": {
    "tags": []
   },
   "outputs": [],
   "source": [
    "# merge the labels onto the txt dataframe\n",
    "# do this by creating a dataframe with a row for each word\n",
    "doc_df = pd.DataFrame()\n",
    "for item in doc_dict[\"result\"]:\n",
    "    value = item[\"value\"]\n",
    "    ind = int(item[\"id\"].split(\"_\")[-1])\n",
    "    doc_df = pd.concat([doc_df, pd.DataFrame(value, index=[ind])])\n",
    "doc_df = doc_df.groupby(level=0).first()"
   ]
  },
  {
   "cell_type": "code",
   "execution_count": 268,
   "id": "55a13b13-7b78-44c1-9feb-fef2833c186f",
   "metadata": {
    "tags": []
   },
   "outputs": [],
   "source": [
    "output_df = pd.concat([txt, doc_df[[\"labels\"]]], axis=1)"
   ]
  },
  {
   "cell_type": "code",
   "execution_count": 271,
   "id": "114aa81a-01e6-4525-bfc0-bb3837224b15",
   "metadata": {
    "tags": []
   },
   "outputs": [
    {
     "data": {
      "text/html": [
       "<div>\n",
       "<style scoped>\n",
       "    .dataframe tbody tr th:only-of-type {\n",
       "        vertical-align: middle;\n",
       "    }\n",
       "\n",
       "    .dataframe tbody tr th {\n",
       "        vertical-align: top;\n",
       "    }\n",
       "\n",
       "    .dataframe thead th {\n",
       "        text-align: right;\n",
       "    }\n",
       "</style>\n",
       "<table border=\"1\" class=\"dataframe\">\n",
       "  <thead>\n",
       "    <tr style=\"text-align: right;\">\n",
       "      <th></th>\n",
       "      <th>top_left_x_pdf</th>\n",
       "      <th>top_left_y_pdf</th>\n",
       "      <th>bottom_right_x_pdf</th>\n",
       "      <th>bottom_right_y_pdf</th>\n",
       "      <th>text</th>\n",
       "      <th>block_num</th>\n",
       "      <th>line_num</th>\n",
       "      <th>word_num</th>\n",
       "      <th>page_num</th>\n",
       "      <th>labels</th>\n",
       "    </tr>\n",
       "  </thead>\n",
       "  <tbody>\n",
       "    <tr>\n",
       "      <th>62</th>\n",
       "      <td>31.346460</td>\n",
       "      <td>349.576477</td>\n",
       "      <td>51.346462</td>\n",
       "      <td>363.316467</td>\n",
       "      <td>ATC</td>\n",
       "      <td>7</td>\n",
       "      <td>0</td>\n",
       "      <td>0</td>\n",
       "      <td>0</td>\n",
       "      <td>B-Subsidiary</td>\n",
       "    </tr>\n",
       "    <tr>\n",
       "      <th>63</th>\n",
       "      <td>54.126465</td>\n",
       "      <td>349.576477</td>\n",
       "      <td>115.266464</td>\n",
       "      <td>363.316467</td>\n",
       "      <td>Management,</td>\n",
       "      <td>7</td>\n",
       "      <td>0</td>\n",
       "      <td>1</td>\n",
       "      <td>0</td>\n",
       "      <td>I-Subsidiary</td>\n",
       "    </tr>\n",
       "    <tr>\n",
       "      <th>64</th>\n",
       "      <td>118.046463</td>\n",
       "      <td>349.576477</td>\n",
       "      <td>134.166458</td>\n",
       "      <td>363.316467</td>\n",
       "      <td>Inc.</td>\n",
       "      <td>7</td>\n",
       "      <td>0</td>\n",
       "      <td>2</td>\n",
       "      <td>0</td>\n",
       "      <td>I-Subsidiary</td>\n",
       "    </tr>\n",
       "    <tr>\n",
       "      <th>66</th>\n",
       "      <td>369.109741</td>\n",
       "      <td>349.576477</td>\n",
       "      <td>414.669739</td>\n",
       "      <td>363.316467</td>\n",
       "      <td>Wisconsin</td>\n",
       "      <td>7</td>\n",
       "      <td>2</td>\n",
       "      <td>0</td>\n",
       "      <td>0</td>\n",
       "      <td>B-Loc</td>\n",
       "    </tr>\n",
       "    <tr>\n",
       "      <th>67</th>\n",
       "      <td>493.422943</td>\n",
       "      <td>349.576477</td>\n",
       "      <td>527.332947</td>\n",
       "      <td>363.316467</td>\n",
       "      <td>26.24%</td>\n",
       "      <td>7</td>\n",
       "      <td>4</td>\n",
       "      <td>0</td>\n",
       "      <td>0</td>\n",
       "      <td>B-Own_Per</td>\n",
       "    </tr>\n",
       "    <tr>\n",
       "      <th>68</th>\n",
       "      <td>31.346460</td>\n",
       "      <td>365.576477</td>\n",
       "      <td>73.576462</td>\n",
       "      <td>379.316467</td>\n",
       "      <td>American</td>\n",
       "      <td>8</td>\n",
       "      <td>0</td>\n",
       "      <td>0</td>\n",
       "      <td>0</td>\n",
       "      <td>B-Subsidiary</td>\n",
       "    </tr>\n",
       "    <tr>\n",
       "      <th>69</th>\n",
       "      <td>76.356461</td>\n",
       "      <td>365.576477</td>\n",
       "      <td>135.806473</td>\n",
       "      <td>379.316467</td>\n",
       "      <td>Transmission</td>\n",
       "      <td>8</td>\n",
       "      <td>0</td>\n",
       "      <td>1</td>\n",
       "      <td>0</td>\n",
       "      <td>I-Subsidiary</td>\n",
       "    </tr>\n",
       "    <tr>\n",
       "      <th>70</th>\n",
       "      <td>138.586472</td>\n",
       "      <td>365.576477</td>\n",
       "      <td>181.376465</td>\n",
       "      <td>379.316467</td>\n",
       "      <td>Company</td>\n",
       "      <td>8</td>\n",
       "      <td>0</td>\n",
       "      <td>2</td>\n",
       "      <td>0</td>\n",
       "      <td>I-Subsidiary</td>\n",
       "    </tr>\n",
       "    <tr>\n",
       "      <th>71</th>\n",
       "      <td>184.156464</td>\n",
       "      <td>365.576477</td>\n",
       "      <td>202.496460</td>\n",
       "      <td>379.316467</td>\n",
       "      <td>LLC</td>\n",
       "      <td>8</td>\n",
       "      <td>0</td>\n",
       "      <td>3</td>\n",
       "      <td>0</td>\n",
       "      <td>I-Subsidiary</td>\n",
       "    </tr>\n",
       "    <tr>\n",
       "      <th>73</th>\n",
       "      <td>369.109741</td>\n",
       "      <td>365.576477</td>\n",
       "      <td>414.669739</td>\n",
       "      <td>379.316467</td>\n",
       "      <td>Wisconsin</td>\n",
       "      <td>8</td>\n",
       "      <td>2</td>\n",
       "      <td>0</td>\n",
       "      <td>0</td>\n",
       "      <td>B-Loc</td>\n",
       "    </tr>\n",
       "    <tr>\n",
       "      <th>74</th>\n",
       "      <td>493.422943</td>\n",
       "      <td>365.576477</td>\n",
       "      <td>527.332947</td>\n",
       "      <td>379.316467</td>\n",
       "      <td>23.04%</td>\n",
       "      <td>8</td>\n",
       "      <td>4</td>\n",
       "      <td>0</td>\n",
       "      <td>0</td>\n",
       "      <td>B-Own_Per</td>\n",
       "    </tr>\n",
       "    <tr>\n",
       "      <th>75</th>\n",
       "      <td>31.346460</td>\n",
       "      <td>381.576477</td>\n",
       "      <td>61.916462</td>\n",
       "      <td>395.316467</td>\n",
       "      <td>Bostco</td>\n",
       "      <td>9</td>\n",
       "      <td>0</td>\n",
       "      <td>0</td>\n",
       "      <td>0</td>\n",
       "      <td>B-Subsidiary</td>\n",
       "    </tr>\n",
       "    <tr>\n",
       "      <th>76</th>\n",
       "      <td>64.696465</td>\n",
       "      <td>381.576477</td>\n",
       "      <td>83.036469</td>\n",
       "      <td>395.316467</td>\n",
       "      <td>LLC</td>\n",
       "      <td>9</td>\n",
       "      <td>0</td>\n",
       "      <td>1</td>\n",
       "      <td>0</td>\n",
       "      <td>I-Subsidiary</td>\n",
       "    </tr>\n",
       "    <tr>\n",
       "      <th>77</th>\n",
       "      <td>369.109741</td>\n",
       "      <td>381.576477</td>\n",
       "      <td>414.669739</td>\n",
       "      <td>395.316467</td>\n",
       "      <td>Wisconsin</td>\n",
       "      <td>9</td>\n",
       "      <td>2</td>\n",
       "      <td>0</td>\n",
       "      <td>0</td>\n",
       "      <td>B-Loc</td>\n",
       "    </tr>\n",
       "    <tr>\n",
       "      <th>78</th>\n",
       "      <td>497.592926</td>\n",
       "      <td>381.576477</td>\n",
       "      <td>523.162964</td>\n",
       "      <td>395.316467</td>\n",
       "      <td>100%</td>\n",
       "      <td>9</td>\n",
       "      <td>4</td>\n",
       "      <td>0</td>\n",
       "      <td>0</td>\n",
       "      <td>B-Own_Per</td>\n",
       "    </tr>\n",
       "  </tbody>\n",
       "</table>\n",
       "</div>"
      ],
      "text/plain": [
       "    top_left_x_pdf  top_left_y_pdf  bottom_right_x_pdf  bottom_right_y_pdf  \\\n",
       "62       31.346460      349.576477           51.346462          363.316467   \n",
       "63       54.126465      349.576477          115.266464          363.316467   \n",
       "64      118.046463      349.576477          134.166458          363.316467   \n",
       "66      369.109741      349.576477          414.669739          363.316467   \n",
       "67      493.422943      349.576477          527.332947          363.316467   \n",
       "68       31.346460      365.576477           73.576462          379.316467   \n",
       "69       76.356461      365.576477          135.806473          379.316467   \n",
       "70      138.586472      365.576477          181.376465          379.316467   \n",
       "71      184.156464      365.576477          202.496460          379.316467   \n",
       "73      369.109741      365.576477          414.669739          379.316467   \n",
       "74      493.422943      365.576477          527.332947          379.316467   \n",
       "75       31.346460      381.576477           61.916462          395.316467   \n",
       "76       64.696465      381.576477           83.036469          395.316467   \n",
       "77      369.109741      381.576477          414.669739          395.316467   \n",
       "78      497.592926      381.576477          523.162964          395.316467   \n",
       "\n",
       "            text  block_num  line_num  word_num  page_num        labels  \n",
       "62           ATC          7         0         0         0  B-Subsidiary  \n",
       "63   Management,          7         0         1         0  I-Subsidiary  \n",
       "64          Inc.          7         0         2         0  I-Subsidiary  \n",
       "66     Wisconsin          7         2         0         0         B-Loc  \n",
       "67        26.24%          7         4         0         0     B-Own_Per  \n",
       "68      American          8         0         0         0  B-Subsidiary  \n",
       "69  Transmission          8         0         1         0  I-Subsidiary  \n",
       "70       Company          8         0         2         0  I-Subsidiary  \n",
       "71           LLC          8         0         3         0  I-Subsidiary  \n",
       "73     Wisconsin          8         2         0         0         B-Loc  \n",
       "74        23.04%          8         4         0         0     B-Own_Per  \n",
       "75        Bostco          9         0         0         0  B-Subsidiary  \n",
       "76           LLC          9         0         1         0  I-Subsidiary  \n",
       "77     Wisconsin          9         2         0         0         B-Loc  \n",
       "78          100%          9         4         0         0     B-Own_Per  "
      ]
     },
     "execution_count": 271,
     "metadata": {},
     "output_type": "execute_result"
    }
   ],
   "source": [
    "output_df[output_df.labels.notna()]"
   ]
  },
  {
   "cell_type": "code",
   "execution_count": 272,
   "id": "acda7238-9d75-479d-938a-ceeae4af3e10",
   "metadata": {
    "tags": []
   },
   "outputs": [],
   "source": [
    "# refer to notebook 5 for remaining steps to get into fine-tuned format for LayoutLM"
   ]
  },
  {
   "cell_type": "code",
   "execution_count": null,
   "id": "1e9bd347-aa13-41b0-911a-ab347a4893eb",
   "metadata": {},
   "outputs": [],
   "source": []
  }
 ],
 "metadata": {
  "kernelspec": {
   "display_name": "mozilla-sec-eia",
   "language": "python",
   "name": "mozilla-sec-eia"
  },
  "language_info": {
   "codemirror_mode": {
    "name": "ipython",
    "version": 3
   },
   "file_extension": ".py",
   "mimetype": "text/x-python",
   "name": "python",
   "nbconvert_exporter": "python",
   "pygments_lexer": "ipython3",
   "version": "3.11.8"
  }
 },
 "nbformat": 4,
 "nbformat_minor": 5
}
