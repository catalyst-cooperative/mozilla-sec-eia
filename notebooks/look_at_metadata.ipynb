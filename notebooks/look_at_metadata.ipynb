{
 "cells": [
  {
   "cell_type": "code",
   "execution_count": null,
   "id": "67d0acc8-d779-4674-9395-4b84d5170d94",
   "metadata": {
    "tags": []
   },
   "outputs": [],
   "source": [
    "%load_ext autoreload\n",
    "%autoreload 2"
   ]
  },
  {
   "cell_type": "code",
   "execution_count": null,
   "id": "affd00a5-90f9-4c0e-a698-680d938b142e",
   "metadata": {
    "tags": []
   },
   "outputs": [],
   "source": [
    "from pathlib import Path\n",
    "\n",
    "from mozilla_sec_eia.utils.cloud import GCSArchive"
   ]
  },
  {
   "cell_type": "code",
   "execution_count": null,
   "id": "fe1ecd91-c81f-4804-b0e1-61c079cb0e7b",
   "metadata": {
    "tags": []
   },
   "outputs": [],
   "source": [
    "archive = GCSArchive()\n",
    "md = archive.get_metadata()"
   ]
  },
  {
   "cell_type": "code",
   "execution_count": null,
   "id": "192bd6de-4190-44a8-82a2-237bf8d47cd1",
   "metadata": {
    "tags": []
   },
   "outputs": [],
   "source": [
    "md[\"company_name\"] = md[\"company_name\"].str.lower().str.strip()"
   ]
  },
  {
   "cell_type": "code",
   "execution_count": null,
   "id": "57a2a5da-faba-4c06-bbcc-1653bff811f0",
   "metadata": {
    "tags": []
   },
   "outputs": [],
   "source": [
    "subset = md[md.filename == \"edgar/data/922237/0000950005-99-000915.txt\"]"
   ]
  },
  {
   "cell_type": "code",
   "execution_count": null,
   "id": "61449a36-6841-469a-a61d-35e830fa575b",
   "metadata": {
    "tags": []
   },
   "outputs": [],
   "source": [
    "cache_dir = Path(\"../sec10k_filings\")"
   ]
  },
  {
   "cell_type": "code",
   "execution_count": null,
   "id": "1408a405-94cc-4dd6-a105-9a1b564d186c",
   "metadata": {
    "tags": []
   },
   "outputs": [],
   "source": [
    "filings = archive.get_filings(subset, cache_directory=cache_dir)"
   ]
  },
  {
   "cell_type": "code",
   "execution_count": null,
   "id": "c6a114af-dad3-4776-9710-f6af621dff7d",
   "metadata": {
    "tags": []
   },
   "outputs": [],
   "source": [
    "pdfs_dir = cache_dir / \"nrel_pdfs\"\n",
    "pdfs_dir.mkdir(parents=True, exist_ok=True)"
   ]
  },
  {
   "cell_type": "code",
   "execution_count": null,
   "id": "83b79c90-ed86-49fd-ac5b-b0f02883663a",
   "metadata": {},
   "outputs": [],
   "source": [
    "for sec_filing in filings:\n",
    "    filename = pdfs_dir / Path(sec_filing.filename.split(\".\")[0] + \".pdf\")\n",
    "    print(filename)\n",
    "    with open(filename, \"wb\") as file:\n",
    "        sec_filing.ex_21.save_as_pdf(file)"
   ]
  }
 ],
 "metadata": {
  "kernelspec": {
   "display_name": "mozilla-sec-eia",
   "language": "python",
   "name": "mozilla-sec-eia"
  },
  "language_info": {
   "codemirror_mode": {
    "name": "ipython",
    "version": 3
   },
   "file_extension": ".py",
   "mimetype": "text/x-python",
   "name": "python",
   "nbconvert_exporter": "python",
   "pygments_lexer": "ipython3",
   "version": "3.11.9"
  }
 },
 "nbformat": 4,
 "nbformat_minor": 5
}
