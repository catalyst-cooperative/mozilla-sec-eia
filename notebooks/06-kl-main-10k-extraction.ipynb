{
 "cells": [
  {
   "cell_type": "code",
   "execution_count": null,
   "id": "1dda6b8d-bf3e-44c0-ad28-3e1476b08be8",
   "metadata": {
    "tags": []
   },
   "outputs": [],
   "source": [
    "import re\n",
    "import os\n",
    "\n",
    "import pandas as pd\n",
    "from pathlib import Path\n",
    "from concurrent.futures import ProcessPoolExecutor\n",
    "\n",
    "from mozilla_sec_eia.utils import GCSArchive"
   ]
  },
  {
   "cell_type": "code",
   "execution_count": null,
   "id": "077f4abf-8648-45af-9cc9-a407c48740fc",
   "metadata": {
    "tags": []
   },
   "outputs": [],
   "source": [
    "archive = GCSArchive()\n",
    "md = archive.get_metadata()\n",
    "md.shape"
   ]
  },
  {
   "cell_type": "code",
   "execution_count": null,
   "id": "7d0a2cf3-e283-4fbc-adb1-db3534057954",
   "metadata": {
    "tags": []
   },
   "outputs": [],
   "source": [
    "def extract_10k(filing):\n",
    "    return filing.extract_company_data()"
   ]
  },
  {
   "cell_type": "code",
   "execution_count": null,
   "id": "e78a1874-d850-4a64-b950-5dd1586f744e",
   "metadata": {
    "tags": []
   },
   "outputs": [],
   "source": [
    "%%time\n",
    "extracted = []\n",
    "with ProcessPoolExecutor() as executor:\n",
    "    for i, ext in enumerate(executor.map(extract_10k, archive.iterate_filings(md.sample(10)))):\n",
    "        extracted += ext\n",
    "        print(f\"Extracted {i} filings.\")"
   ]
  },
  {
   "cell_type": "code",
   "execution_count": null,
   "id": "37959f34-bf5c-4fec-ae7f-e990a40e5abe",
   "metadata": {
    "tags": []
   },
   "outputs": [],
   "source": [
    "extracted[0]"
   ]
  },
  {
   "cell_type": "code",
   "execution_count": null,
   "id": "0afb72b9-bbdc-4c5f-bc87-735a5270b441",
   "metadata": {
    "tags": []
   },
   "outputs": [],
   "source": [
    "df = pd.DataFrame(extracted)\n",
    "df[\"key\"].unique()"
   ]
  },
  {
   "cell_type": "code",
   "execution_count": null,
   "id": "3a9ff92c-47e4-42f2-b903-dccab52d3b9d",
   "metadata": {},
   "outputs": [],
   "source": []
  }
 ],
 "metadata": {
  "kernelspec": {
   "display_name": "Python 3 (ipykernel)",
   "language": "python",
   "name": "python3"
  },
  "language_info": {
   "codemirror_mode": {
    "name": "ipython",
    "version": 3
   },
   "file_extension": ".py",
   "mimetype": "text/x-python",
   "name": "python",
   "nbconvert_exporter": "python",
   "pygments_lexer": "ipython3",
   "version": "3.11.8"
  }
 },
 "nbformat": 4,
 "nbformat_minor": 5
}
