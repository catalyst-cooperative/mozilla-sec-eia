{
 "cells": [
  {
   "cell_type": "code",
   "execution_count": 1,
   "id": "d383d1dd-6cdc-45ea-a371-105046c009e2",
   "metadata": {},
   "outputs": [],
   "source": [
    "%load_ext autoreload\n",
    "%autoreload 3"
   ]
  },
  {
   "cell_type": "code",
   "execution_count": 2,
   "id": "3c58ad67-151d-4054-a972-a1e7ee12949f",
   "metadata": {},
   "outputs": [],
   "source": [
    "import pandas as pd\n",
    "from upath import UPath"
   ]
  },
  {
   "cell_type": "markdown",
   "id": "511b2c77-ebd2-43b0-8e45-1d1c76fb321d",
   "metadata": {},
   "source": [
    "### EIA"
   ]
  },
  {
   "cell_type": "code",
   "execution_count": 3,
   "id": "4907820f-2552-4a3b-866a-30c3181af91b",
   "metadata": {},
   "outputs": [],
   "source": [
    "eia_df = pd.read_parquet(\"gs://sec10k-outputs/v2/core_eia__parents_and_subsidiaries.parquet\")"
   ]
  },
  {
   "cell_type": "markdown",
   "id": "5f488f86-4b34-4a94-985f-588f991ba86b",
   "metadata": {},
   "source": [
    "### Ex. 21"
   ]
  },
  {
   "cell_type": "code",
   "execution_count": 3,
   "id": "c1795acc-8005-4b6d-be4d-27c722b634f1",
   "metadata": {},
   "outputs": [],
   "source": [
    "ex21_df = pd.read_pickle(\"/Users/katielamb/CatalystCoop/dagster_home/storage/transformed_ex21_subsidiary_table\")"
   ]
  },
  {
   "cell_type": "code",
   "execution_count": 6,
   "id": "291ce873-4971-4e03-985a-65dbdd8b0850",
   "metadata": {},
   "outputs": [
    {
     "data": {
      "text/html": [
       "<div>\n",
       "<style scoped>\n",
       "    .dataframe tbody tr th:only-of-type {\n",
       "        vertical-align: middle;\n",
       "    }\n",
       "\n",
       "    .dataframe tbody tr th {\n",
       "        vertical-align: top;\n",
       "    }\n",
       "\n",
       "    .dataframe thead th {\n",
       "        text-align: right;\n",
       "    }\n",
       "</style>\n",
       "<table border=\"1\" class=\"dataframe\">\n",
       "  <thead>\n",
       "    <tr style=\"text-align: right;\">\n",
       "      <th></th>\n",
       "      <th>sec_company_id</th>\n",
       "      <th>company_name_raw</th>\n",
       "      <th>location_of_inc</th>\n",
       "      <th>own_per</th>\n",
       "      <th>filename</th>\n",
       "      <th>report_date</th>\n",
       "      <th>report_year</th>\n",
       "      <th>company_name</th>\n",
       "      <th>company_name_no_legal</th>\n",
       "      <th>company_name_mphone</th>\n",
       "      <th>parent_company_cik</th>\n",
       "    </tr>\n",
       "  </thead>\n",
       "  <tbody>\n",
       "    <tr>\n",
       "      <th>0</th>\n",
       "      <td>0000000020_colormax limited_united kingdom</td>\n",
       "      <td>colormax limited</td>\n",
       "      <td>united kingdom</td>\n",
       "      <td>NaN</td>\n",
       "      <td>edgar/data/20/0000893220-06-000650.txt</td>\n",
       "      <td>2006-03-23</td>\n",
       "      <td>2006</td>\n",
       "      <td>colormax limited</td>\n",
       "      <td>colormax</td>\n",
       "      <td>KLRMKS</td>\n",
       "      <td>0000000020</td>\n",
       "    </tr>\n",
       "    <tr>\n",
       "      <th>1</th>\n",
       "      <td>0000000020_gundlach equipment corporation_dela...</td>\n",
       "      <td>gundlach equipment corporation</td>\n",
       "      <td>delaware</td>\n",
       "      <td>NaN</td>\n",
       "      <td>edgar/data/20/0000950123-10-024631.txt</td>\n",
       "      <td>2010-03-15</td>\n",
       "      <td>2010</td>\n",
       "      <td>gundlach equipment corporation</td>\n",
       "      <td>gundlach equipment</td>\n",
       "      <td>KNTLX EKPMNT</td>\n",
       "      <td>0000000020</td>\n",
       "    </tr>\n",
       "    <tr>\n",
       "      <th>2</th>\n",
       "      <td>0000000020_jeffrey rader ab_sweden</td>\n",
       "      <td>jeffrey rader ab</td>\n",
       "      <td>sweden</td>\n",
       "      <td>NaN</td>\n",
       "      <td>edgar/data/20/0000950123-10-024631.txt</td>\n",
       "      <td>2010-03-15</td>\n",
       "      <td>2010</td>\n",
       "      <td>jeffrey rader ab</td>\n",
       "      <td>jeffrey rader ab</td>\n",
       "      <td>JFR RTR AB</td>\n",
       "      <td>0000000020</td>\n",
       "    </tr>\n",
       "    <tr>\n",
       "      <th>3</th>\n",
       "      <td>0000000020_jeffrey rader canada company_canada</td>\n",
       "      <td>jeffrey rader canada company</td>\n",
       "      <td>canada</td>\n",
       "      <td>NaN</td>\n",
       "      <td>edgar/data/20/0000950123-10-024631.txt</td>\n",
       "      <td>2010-03-15</td>\n",
       "      <td>2010</td>\n",
       "      <td>jeffrey rader canada company</td>\n",
       "      <td>jeffrey rader canada</td>\n",
       "      <td>JFR RTR KNT</td>\n",
       "      <td>0000000020</td>\n",
       "    </tr>\n",
       "    <tr>\n",
       "      <th>4</th>\n",
       "      <td>0000000020_jeffrey rader corporation_delaware</td>\n",
       "      <td>jeffrey rader corporation</td>\n",
       "      <td>delaware</td>\n",
       "      <td>NaN</td>\n",
       "      <td>edgar/data/20/0000950123-10-024631.txt</td>\n",
       "      <td>2010-03-15</td>\n",
       "      <td>2010</td>\n",
       "      <td>jeffrey rader corporation</td>\n",
       "      <td>jeffrey rader</td>\n",
       "      <td>JFR RTR</td>\n",
       "      <td>0000000020</td>\n",
       "    </tr>\n",
       "    <tr>\n",
       "      <th>...</th>\n",
       "      <td>...</td>\n",
       "      <td>...</td>\n",
       "      <td>...</td>\n",
       "      <td>...</td>\n",
       "      <td>...</td>\n",
       "      <td>...</td>\n",
       "      <td>...</td>\n",
       "      <td>...</td>\n",
       "      <td>...</td>\n",
       "      <td>...</td>\n",
       "      <td>...</td>\n",
       "    </tr>\n",
       "    <tr>\n",
       "      <th>1055982</th>\n",
       "      <td>0001967649_vestis supply chain limited liabili...</td>\n",
       "      <td>vestis (supply chain), llc</td>\n",
       "      <td>delaware</td>\n",
       "      <td>NaN</td>\n",
       "      <td>edgar/data/1967649/0001967649-23-000025.txt</td>\n",
       "      <td>2023-12-21</td>\n",
       "      <td>2023</td>\n",
       "      <td>vestis supply chain limited liability company</td>\n",
       "      <td>vestis supply chain</td>\n",
       "      <td>FSTS SPL XN</td>\n",
       "      <td>0001967649</td>\n",
       "    </tr>\n",
       "    <tr>\n",
       "      <th>1055983</th>\n",
       "      <td>0001967649_vestis syracuse limited liability c...</td>\n",
       "      <td>vestis (syracuse), llc</td>\n",
       "      <td>delaware</td>\n",
       "      <td>NaN</td>\n",
       "      <td>edgar/data/1967649/0001967649-23-000025.txt</td>\n",
       "      <td>2023-12-21</td>\n",
       "      <td>2023</td>\n",
       "      <td>vestis syracuse limited liability company</td>\n",
       "      <td>vestis syracuse</td>\n",
       "      <td>FSTS SRKS</td>\n",
       "      <td>0001967649</td>\n",
       "    </tr>\n",
       "    <tr>\n",
       "      <th>1055984</th>\n",
       "      <td>0001967649_vestis texas limited liability comp...</td>\n",
       "      <td>vestis (texas), llc</td>\n",
       "      <td>delaware</td>\n",
       "      <td>NaN</td>\n",
       "      <td>edgar/data/1967649/0001967649-23-000025.txt</td>\n",
       "      <td>2023-12-21</td>\n",
       "      <td>2023</td>\n",
       "      <td>vestis texas limited liability company</td>\n",
       "      <td>vestis texas</td>\n",
       "      <td>FSTS TKSS</td>\n",
       "      <td>0001967649</td>\n",
       "    </tr>\n",
       "    <tr>\n",
       "      <th>1055985</th>\n",
       "      <td>0001967649_vestis west adams limited liability...</td>\n",
       "      <td>vestis (west adams), llc</td>\n",
       "      <td>delaware</td>\n",
       "      <td>NaN</td>\n",
       "      <td>edgar/data/1967649/0001967649-23-000025.txt</td>\n",
       "      <td>2023-12-21</td>\n",
       "      <td>2023</td>\n",
       "      <td>vestis west adams limited liability company</td>\n",
       "      <td>vestis west adams</td>\n",
       "      <td>FSTS WST ATMS</td>\n",
       "      <td>0001967649</td>\n",
       "    </tr>\n",
       "    <tr>\n",
       "      <th>1055986</th>\n",
       "      <td>0001978811_gouverneur savings and loan associa...</td>\n",
       "      <td>gouverneur savings and loan association</td>\n",
       "      <td>new york</td>\n",
       "      <td>100.0</td>\n",
       "      <td>edgar/data/1978811/0001558370-23-020009.txt</td>\n",
       "      <td>2023-12-26</td>\n",
       "      <td>2023</td>\n",
       "      <td>gouverneur savings and loan association</td>\n",
       "      <td>gouverneur savings and loan</td>\n",
       "      <td>KFRNR SFNKS ANT LN</td>\n",
       "      <td>0001978811</td>\n",
       "    </tr>\n",
       "  </tbody>\n",
       "</table>\n",
       "<p>1055987 rows × 11 columns</p>\n",
       "</div>"
      ],
      "text/plain": [
       "                                            sec_company_id  \\\n",
       "0               0000000020_colormax limited_united kingdom   \n",
       "1        0000000020_gundlach equipment corporation_dela...   \n",
       "2                       0000000020_jeffrey rader ab_sweden   \n",
       "3           0000000020_jeffrey rader canada company_canada   \n",
       "4            0000000020_jeffrey rader corporation_delaware   \n",
       "...                                                    ...   \n",
       "1055982  0001967649_vestis supply chain limited liabili...   \n",
       "1055983  0001967649_vestis syracuse limited liability c...   \n",
       "1055984  0001967649_vestis texas limited liability comp...   \n",
       "1055985  0001967649_vestis west adams limited liability...   \n",
       "1055986  0001978811_gouverneur savings and loan associa...   \n",
       "\n",
       "                                company_name_raw location_of_inc own_per  \\\n",
       "0                               colormax limited  united kingdom     NaN   \n",
       "1                 gundlach equipment corporation        delaware     NaN   \n",
       "2                               jeffrey rader ab          sweden     NaN   \n",
       "3                   jeffrey rader canada company          canada     NaN   \n",
       "4                      jeffrey rader corporation        delaware     NaN   \n",
       "...                                          ...             ...     ...   \n",
       "1055982               vestis (supply chain), llc        delaware     NaN   \n",
       "1055983                   vestis (syracuse), llc        delaware     NaN   \n",
       "1055984                      vestis (texas), llc        delaware     NaN   \n",
       "1055985                 vestis (west adams), llc        delaware     NaN   \n",
       "1055986  gouverneur savings and loan association        new york   100.0   \n",
       "\n",
       "                                            filename report_date  report_year  \\\n",
       "0             edgar/data/20/0000893220-06-000650.txt  2006-03-23         2006   \n",
       "1             edgar/data/20/0000950123-10-024631.txt  2010-03-15         2010   \n",
       "2             edgar/data/20/0000950123-10-024631.txt  2010-03-15         2010   \n",
       "3             edgar/data/20/0000950123-10-024631.txt  2010-03-15         2010   \n",
       "4             edgar/data/20/0000950123-10-024631.txt  2010-03-15         2010   \n",
       "...                                              ...         ...          ...   \n",
       "1055982  edgar/data/1967649/0001967649-23-000025.txt  2023-12-21         2023   \n",
       "1055983  edgar/data/1967649/0001967649-23-000025.txt  2023-12-21         2023   \n",
       "1055984  edgar/data/1967649/0001967649-23-000025.txt  2023-12-21         2023   \n",
       "1055985  edgar/data/1967649/0001967649-23-000025.txt  2023-12-21         2023   \n",
       "1055986  edgar/data/1978811/0001558370-23-020009.txt  2023-12-26         2023   \n",
       "\n",
       "                                          company_name  \\\n",
       "0                                     colormax limited   \n",
       "1                       gundlach equipment corporation   \n",
       "2                                     jeffrey rader ab   \n",
       "3                         jeffrey rader canada company   \n",
       "4                            jeffrey rader corporation   \n",
       "...                                                ...   \n",
       "1055982  vestis supply chain limited liability company   \n",
       "1055983      vestis syracuse limited liability company   \n",
       "1055984         vestis texas limited liability company   \n",
       "1055985    vestis west adams limited liability company   \n",
       "1055986        gouverneur savings and loan association   \n",
       "\n",
       "               company_name_no_legal company_name_mphone parent_company_cik  \n",
       "0                           colormax              KLRMKS         0000000020  \n",
       "1                 gundlach equipment        KNTLX EKPMNT         0000000020  \n",
       "2                   jeffrey rader ab          JFR RTR AB         0000000020  \n",
       "3               jeffrey rader canada         JFR RTR KNT         0000000020  \n",
       "4                      jeffrey rader             JFR RTR         0000000020  \n",
       "...                              ...                 ...                ...  \n",
       "1055982          vestis supply chain         FSTS SPL XN         0001967649  \n",
       "1055983              vestis syracuse           FSTS SRKS         0001967649  \n",
       "1055984                 vestis texas           FSTS TKSS         0001967649  \n",
       "1055985            vestis west adams       FSTS WST ATMS         0001967649  \n",
       "1055986  gouverneur savings and loan  KFRNR SFNKS ANT LN         0001978811  \n",
       "\n",
       "[1055987 rows x 11 columns]"
      ]
     },
     "execution_count": 6,
     "metadata": {},
     "output_type": "execute_result"
    }
   ],
   "source": [
    "ex21_df"
   ]
  },
  {
   "cell_type": "code",
   "execution_count": 25,
   "id": "304d929b-ce6c-4508-b511-475f287a6b37",
   "metadata": {},
   "outputs": [],
   "source": [
    "merged_df = ex21_df.merge(\n",
    "        eia_df.drop_duplicates(subset=\"company_name\")[[\"company_name\", \"utility_id_eia\"]], how=\"left\", on=\"company_name\", suffixes=(\"_ex21\", \"_eia\")\n",
    "    )"
   ]
  },
  {
   "cell_type": "code",
   "execution_count": 14,
   "id": "d315f8d5-7166-4161-bc4e-79c45ed3ad59",
   "metadata": {},
   "outputs": [
    {
     "data": {
      "text/plain": [
       "(1055987, 20821)"
      ]
     },
     "execution_count": 14,
     "metadata": {},
     "output_type": "execute_result"
    }
   ],
   "source": [
    "len(ex21_df), len(eia_df)"
   ]
  },
  {
   "cell_type": "code",
   "execution_count": 27,
   "id": "3aae6d2c-a941-478e-8178-84cf1321e0b3",
   "metadata": {},
   "outputs": [
    {
     "data": {
      "text/plain": [
       "utility_id_eia\n",
       "True     1050887\n",
       "False       5100\n",
       "Name: count, dtype: int64"
      ]
     },
     "execution_count": 27,
     "metadata": {},
     "output_type": "execute_result"
    }
   ],
   "source": [
    "merged_df.utility_id_eia.isnull().value_counts()"
   ]
  },
  {
   "cell_type": "code",
   "execution_count": 29,
   "id": "6aba0ae8-a8ee-47ef-8eb9-a0ef9f283b51",
   "metadata": {},
   "outputs": [
    {
     "data": {
      "text/plain": [
       "1675"
      ]
     },
     "execution_count": 29,
     "metadata": {},
     "output_type": "execute_result"
    }
   ],
   "source": [
    "len(merged_df.utility_id_eia.unique())"
   ]
  },
  {
   "cell_type": "markdown",
   "id": "8d178634-b494-4769-93e3-c0213e4a0326",
   "metadata": {},
   "source": [
    "### Read in SEC output table"
   ]
  },
  {
   "cell_type": "code",
   "execution_count": 26,
   "id": "25e8183d-3248-440c-aa4e-e7ee7db4c487",
   "metadata": {},
   "outputs": [],
   "source": [
    "# review outputs from Dagster\n",
    "sec_out_df = pd.read_parquet(UPath(\"gs://sec10k-outputs/v2/out_sec_10k__parents_and_subsidiaries/2023q1.parquet\"))"
   ]
  },
  {
   "cell_type": "code",
   "execution_count": 27,
   "id": "3881bfbd-cdc3-4f9c-92af-9e74d7758e51",
   "metadata": {},
   "outputs": [
    {
     "data": {
      "text/html": [
       "<div>\n",
       "<style scoped>\n",
       "    .dataframe tbody tr th:only-of-type {\n",
       "        vertical-align: middle;\n",
       "    }\n",
       "\n",
       "    .dataframe tbody tr th {\n",
       "        vertical-align: top;\n",
       "    }\n",
       "\n",
       "    .dataframe thead th {\n",
       "        text-align: right;\n",
       "    }\n",
       "</style>\n",
       "<table border=\"1\" class=\"dataframe\">\n",
       "  <thead>\n",
       "    <tr style=\"text-align: right;\">\n",
       "      <th></th>\n",
       "      <th>sec_company_id</th>\n",
       "      <th>filename</th>\n",
       "      <th>business_phone</th>\n",
       "      <th>central_index_key</th>\n",
       "      <th>city</th>\n",
       "      <th>company_name</th>\n",
       "      <th>date_of_name_change</th>\n",
       "      <th>film_number</th>\n",
       "      <th>fiscal_year_end</th>\n",
       "      <th>form_type</th>\n",
       "      <th>...</th>\n",
       "      <th>street_1</th>\n",
       "      <th>street_2</th>\n",
       "      <th>zip</th>\n",
       "      <th>report_date</th>\n",
       "      <th>report_year</th>\n",
       "      <th>location_of_inc</th>\n",
       "      <th>company_name_clean</th>\n",
       "      <th>parent_company_cik</th>\n",
       "      <th>own_per</th>\n",
       "      <th>files_10k</th>\n",
       "    </tr>\n",
       "  </thead>\n",
       "  <tbody>\n",
       "    <tr>\n",
       "      <th>0</th>\n",
       "      <td>0000001800</td>\n",
       "      <td>edgar/data/1800/0001628280-23-004026.txt</td>\n",
       "      <td>2246676100</td>\n",
       "      <td>0000001800</td>\n",
       "      <td>abbott park</td>\n",
       "      <td>abbott laboratories</td>\n",
       "      <td>None</td>\n",
       "      <td>23642562</td>\n",
       "      <td>1231</td>\n",
       "      <td>10-k</td>\n",
       "      <td>...</td>\n",
       "      <td>100 abbott park road</td>\n",
       "      <td>None</td>\n",
       "      <td>60064-3500</td>\n",
       "      <td>2023-02-17</td>\n",
       "      <td>2023</td>\n",
       "      <td>illinois</td>\n",
       "      <td>abbott laboratories</td>\n",
       "      <td>None</td>\n",
       "      <td>None</td>\n",
       "      <td>True</td>\n",
       "    </tr>\n",
       "    <tr>\n",
       "      <th>1</th>\n",
       "      <td>0000001800_3a nutrition (vietnam) company limi...</td>\n",
       "      <td>edgar/data/1800/0001628280-23-004026.txt</td>\n",
       "      <td>None</td>\n",
       "      <td>None</td>\n",
       "      <td>None</td>\n",
       "      <td>3a nutrition (vietnam) company limited</td>\n",
       "      <td>None</td>\n",
       "      <td>None</td>\n",
       "      <td>None</td>\n",
       "      <td>None</td>\n",
       "      <td>...</td>\n",
       "      <td>None</td>\n",
       "      <td>None</td>\n",
       "      <td>None</td>\n",
       "      <td>2023-02-17</td>\n",
       "      <td>2023</td>\n",
       "      <td>viet nam</td>\n",
       "      <td>3a nutrition vietnam company limited</td>\n",
       "      <td>0000001800</td>\n",
       "      <td>None</td>\n",
       "      <td>False</td>\n",
       "    </tr>\n",
       "    <tr>\n",
       "      <th>2</th>\n",
       "      <td>0000001800_abbott (jiaxing) nutrition co., ltd...</td>\n",
       "      <td>edgar/data/1800/0001628280-23-004026.txt</td>\n",
       "      <td>None</td>\n",
       "      <td>None</td>\n",
       "      <td>None</td>\n",
       "      <td>abbott (jiaxing) nutrition co., ltd</td>\n",
       "      <td>None</td>\n",
       "      <td>None</td>\n",
       "      <td>None</td>\n",
       "      <td>None</td>\n",
       "      <td>...</td>\n",
       "      <td>None</td>\n",
       "      <td>None</td>\n",
       "      <td>None</td>\n",
       "      <td>2023-02-17</td>\n",
       "      <td>2023</td>\n",
       "      <td>china</td>\n",
       "      <td>abbott jiaxing nutrition co limited</td>\n",
       "      <td>0000001800</td>\n",
       "      <td>None</td>\n",
       "      <td>False</td>\n",
       "    </tr>\n",
       "    <tr>\n",
       "      <th>3</th>\n",
       "      <td>0000001800_abbott (shanghai) diagnostics sales...</td>\n",
       "      <td>edgar/data/1800/0001628280-23-004026.txt</td>\n",
       "      <td>None</td>\n",
       "      <td>None</td>\n",
       "      <td>None</td>\n",
       "      <td>abbott (shanghai) diagnostics sales co., ltd</td>\n",
       "      <td>None</td>\n",
       "      <td>None</td>\n",
       "      <td>None</td>\n",
       "      <td>None</td>\n",
       "      <td>...</td>\n",
       "      <td>None</td>\n",
       "      <td>None</td>\n",
       "      <td>None</td>\n",
       "      <td>2023-02-17</td>\n",
       "      <td>2023</td>\n",
       "      <td>china</td>\n",
       "      <td>abbott shanghai diagnostics sales co limited</td>\n",
       "      <td>0000001800</td>\n",
       "      <td>None</td>\n",
       "      <td>False</td>\n",
       "    </tr>\n",
       "    <tr>\n",
       "      <th>4</th>\n",
       "      <td>0000001800_abbott (uk) finance limited_united ...</td>\n",
       "      <td>edgar/data/1800/0001628280-23-004026.txt</td>\n",
       "      <td>None</td>\n",
       "      <td>None</td>\n",
       "      <td>None</td>\n",
       "      <td>abbott (uk) finance limited</td>\n",
       "      <td>None</td>\n",
       "      <td>None</td>\n",
       "      <td>None</td>\n",
       "      <td>None</td>\n",
       "      <td>...</td>\n",
       "      <td>None</td>\n",
       "      <td>None</td>\n",
       "      <td>None</td>\n",
       "      <td>2023-02-17</td>\n",
       "      <td>2023</td>\n",
       "      <td>united kingdom</td>\n",
       "      <td>abbott uk finance limited</td>\n",
       "      <td>0000001800</td>\n",
       "      <td>None</td>\n",
       "      <td>False</td>\n",
       "    </tr>\n",
       "    <tr>\n",
       "      <th>...</th>\n",
       "      <td>...</td>\n",
       "      <td>...</td>\n",
       "      <td>...</td>\n",
       "      <td>...</td>\n",
       "      <td>...</td>\n",
       "      <td>...</td>\n",
       "      <td>...</td>\n",
       "      <td>...</td>\n",
       "      <td>...</td>\n",
       "      <td>...</td>\n",
       "      <td>...</td>\n",
       "      <td>...</td>\n",
       "      <td>...</td>\n",
       "      <td>...</td>\n",
       "      <td>...</td>\n",
       "      <td>...</td>\n",
       "      <td>...</td>\n",
       "      <td>...</td>\n",
       "      <td>...</td>\n",
       "      <td>...</td>\n",
       "      <td>...</td>\n",
       "    </tr>\n",
       "    <tr>\n",
       "      <th>171358</th>\n",
       "      <td>0001951118</td>\n",
       "      <td>edgar/data/1951118/0001853620-23-000117.txt</td>\n",
       "      <td>(248) 991-6700</td>\n",
       "      <td>0001951118</td>\n",
       "      <td>farmington hills</td>\n",
       "      <td>mercedes-benz auto receivables trust 2022-1</td>\n",
       "      <td>None</td>\n",
       "      <td>23764946</td>\n",
       "      <td>1231</td>\n",
       "      <td>10-k</td>\n",
       "      <td>...</td>\n",
       "      <td>35555 w. twelve mile rd.</td>\n",
       "      <td>suite 100</td>\n",
       "      <td>48331</td>\n",
       "      <td>2023-03-27</td>\n",
       "      <td>2023</td>\n",
       "      <td>delaware</td>\n",
       "      <td>mercedes benz auto receivables trust 2022 1</td>\n",
       "      <td>None</td>\n",
       "      <td>None</td>\n",
       "      <td>True</td>\n",
       "    </tr>\n",
       "    <tr>\n",
       "      <th>171359</th>\n",
       "      <td>0001951752</td>\n",
       "      <td>edgar/data/1951752/0001951752-23-000016.txt</td>\n",
       "      <td>3135943495</td>\n",
       "      <td>0001951752</td>\n",
       "      <td>dearborn</td>\n",
       "      <td>ford credit auto owner trust 2022-d</td>\n",
       "      <td>None</td>\n",
       "      <td>23751556</td>\n",
       "      <td>1231</td>\n",
       "      <td>10-k</td>\n",
       "      <td>...</td>\n",
       "      <td>c/o ford motor co , whq ste 801-c1</td>\n",
       "      <td>one american road</td>\n",
       "      <td>48126</td>\n",
       "      <td>2023-03-22</td>\n",
       "      <td>2023</td>\n",
       "      <td>None</td>\n",
       "      <td>ford credit auto owner trust 2022 d</td>\n",
       "      <td>None</td>\n",
       "      <td>None</td>\n",
       "      <td>True</td>\n",
       "    </tr>\n",
       "    <tr>\n",
       "      <th>171360</th>\n",
       "      <td>0001954336</td>\n",
       "      <td>edgar/data/1477336/0001954336-23-000024.txt</td>\n",
       "      <td>313-656-5500</td>\n",
       "      <td>0001954336</td>\n",
       "      <td>wilmington</td>\n",
       "      <td>ally auto receivables trust 2022-3</td>\n",
       "      <td>None</td>\n",
       "      <td>23759320</td>\n",
       "      <td>1231</td>\n",
       "      <td>10-k</td>\n",
       "      <td>...</td>\n",
       "      <td>1209 orange street</td>\n",
       "      <td>None</td>\n",
       "      <td>19801</td>\n",
       "      <td>2023-03-24</td>\n",
       "      <td>2023</td>\n",
       "      <td>delaware</td>\n",
       "      <td>ally auto receivables trust 2022 3</td>\n",
       "      <td>None</td>\n",
       "      <td>None</td>\n",
       "      <td>True</td>\n",
       "    </tr>\n",
       "    <tr>\n",
       "      <th>171361</th>\n",
       "      <td>0001954436</td>\n",
       "      <td>edgar/data/1954436/0000929638-23-001050.txt</td>\n",
       "      <td>(214) 572-8276</td>\n",
       "      <td>0001954436</td>\n",
       "      <td>irving</td>\n",
       "      <td>exeter automobile receivables trust 2022-6</td>\n",
       "      <td>None</td>\n",
       "      <td>23784761</td>\n",
       "      <td>1231</td>\n",
       "      <td>10-k</td>\n",
       "      <td>...</td>\n",
       "      <td>2101 w. john carpenter freeway</td>\n",
       "      <td>None</td>\n",
       "      <td>75063</td>\n",
       "      <td>2023-03-31</td>\n",
       "      <td>2023</td>\n",
       "      <td>delaware</td>\n",
       "      <td>exeter automobile receivables trust 2022 6</td>\n",
       "      <td>None</td>\n",
       "      <td>None</td>\n",
       "      <td>True</td>\n",
       "    </tr>\n",
       "    <tr>\n",
       "      <th>171362</th>\n",
       "      <td>0001955010</td>\n",
       "      <td>edgar/data/1955010/0001140361-23-012122.txt</td>\n",
       "      <td>212-326-1500</td>\n",
       "      <td>0001955010</td>\n",
       "      <td>new york</td>\n",
       "      <td>oha senior private lending fund (u) llc</td>\n",
       "      <td>None</td>\n",
       "      <td>23740150</td>\n",
       "      <td>1231</td>\n",
       "      <td>10-k</td>\n",
       "      <td>...</td>\n",
       "      <td>one vanderbilt, 16th floor</td>\n",
       "      <td>None</td>\n",
       "      <td>10017</td>\n",
       "      <td>2023-03-17</td>\n",
       "      <td>2023</td>\n",
       "      <td>delaware</td>\n",
       "      <td>oha senior private lending fund u limited liab...</td>\n",
       "      <td>None</td>\n",
       "      <td>None</td>\n",
       "      <td>True</td>\n",
       "    </tr>\n",
       "  </tbody>\n",
       "</table>\n",
       "<p>171363 rows × 27 columns</p>\n",
       "</div>"
      ],
      "text/plain": [
       "                                           sec_company_id  \\\n",
       "0                                              0000001800   \n",
       "1       0000001800_3a nutrition (vietnam) company limi...   \n",
       "2       0000001800_abbott (jiaxing) nutrition co., ltd...   \n",
       "3       0000001800_abbott (shanghai) diagnostics sales...   \n",
       "4       0000001800_abbott (uk) finance limited_united ...   \n",
       "...                                                   ...   \n",
       "171358                                         0001951118   \n",
       "171359                                         0001951752   \n",
       "171360                                         0001954336   \n",
       "171361                                         0001954436   \n",
       "171362                                         0001955010   \n",
       "\n",
       "                                           filename  business_phone  \\\n",
       "0          edgar/data/1800/0001628280-23-004026.txt      2246676100   \n",
       "1          edgar/data/1800/0001628280-23-004026.txt            None   \n",
       "2          edgar/data/1800/0001628280-23-004026.txt            None   \n",
       "3          edgar/data/1800/0001628280-23-004026.txt            None   \n",
       "4          edgar/data/1800/0001628280-23-004026.txt            None   \n",
       "...                                             ...             ...   \n",
       "171358  edgar/data/1951118/0001853620-23-000117.txt  (248) 991-6700   \n",
       "171359  edgar/data/1951752/0001951752-23-000016.txt      3135943495   \n",
       "171360  edgar/data/1477336/0001954336-23-000024.txt    313-656-5500   \n",
       "171361  edgar/data/1954436/0000929638-23-001050.txt  (214) 572-8276   \n",
       "171362  edgar/data/1955010/0001140361-23-012122.txt    212-326-1500   \n",
       "\n",
       "       central_index_key              city  \\\n",
       "0             0000001800       abbott park   \n",
       "1                   None              None   \n",
       "2                   None              None   \n",
       "3                   None              None   \n",
       "4                   None              None   \n",
       "...                  ...               ...   \n",
       "171358        0001951118  farmington hills   \n",
       "171359        0001951752          dearborn   \n",
       "171360        0001954336        wilmington   \n",
       "171361        0001954436            irving   \n",
       "171362        0001955010          new york   \n",
       "\n",
       "                                        company_name date_of_name_change  \\\n",
       "0                                abbott laboratories                None   \n",
       "1             3a nutrition (vietnam) company limited                None   \n",
       "2                abbott (jiaxing) nutrition co., ltd                None   \n",
       "3       abbott (shanghai) diagnostics sales co., ltd                None   \n",
       "4                        abbott (uk) finance limited                None   \n",
       "...                                              ...                 ...   \n",
       "171358   mercedes-benz auto receivables trust 2022-1                None   \n",
       "171359           ford credit auto owner trust 2022-d                None   \n",
       "171360            ally auto receivables trust 2022-3                None   \n",
       "171361    exeter automobile receivables trust 2022-6                None   \n",
       "171362       oha senior private lending fund (u) llc                None   \n",
       "\n",
       "       film_number fiscal_year_end form_type  ...  \\\n",
       "0         23642562            1231      10-k  ...   \n",
       "1             None            None      None  ...   \n",
       "2             None            None      None  ...   \n",
       "3             None            None      None  ...   \n",
       "4             None            None      None  ...   \n",
       "...            ...             ...       ...  ...   \n",
       "171358    23764946            1231      10-k  ...   \n",
       "171359    23751556            1231      10-k  ...   \n",
       "171360    23759320            1231      10-k  ...   \n",
       "171361    23784761            1231      10-k  ...   \n",
       "171362    23740150            1231      10-k  ...   \n",
       "\n",
       "                                  street_1           street_2         zip  \\\n",
       "0                     100 abbott park road               None  60064-3500   \n",
       "1                                     None               None        None   \n",
       "2                                     None               None        None   \n",
       "3                                     None               None        None   \n",
       "4                                     None               None        None   \n",
       "...                                    ...                ...         ...   \n",
       "171358            35555 w. twelve mile rd.          suite 100       48331   \n",
       "171359  c/o ford motor co , whq ste 801-c1  one american road       48126   \n",
       "171360                  1209 orange street               None       19801   \n",
       "171361      2101 w. john carpenter freeway               None       75063   \n",
       "171362          one vanderbilt, 16th floor               None       10017   \n",
       "\n",
       "       report_date report_year location_of_inc  \\\n",
       "0       2023-02-17        2023        illinois   \n",
       "1       2023-02-17        2023        viet nam   \n",
       "2       2023-02-17        2023           china   \n",
       "3       2023-02-17        2023           china   \n",
       "4       2023-02-17        2023  united kingdom   \n",
       "...            ...         ...             ...   \n",
       "171358  2023-03-27        2023        delaware   \n",
       "171359  2023-03-22        2023            None   \n",
       "171360  2023-03-24        2023        delaware   \n",
       "171361  2023-03-31        2023        delaware   \n",
       "171362  2023-03-17        2023        delaware   \n",
       "\n",
       "                                       company_name_clean parent_company_cik  \\\n",
       "0                                     abbott laboratories               None   \n",
       "1                    3a nutrition vietnam company limited         0000001800   \n",
       "2                     abbott jiaxing nutrition co limited         0000001800   \n",
       "3            abbott shanghai diagnostics sales co limited         0000001800   \n",
       "4                               abbott uk finance limited         0000001800   \n",
       "...                                                   ...                ...   \n",
       "171358        mercedes benz auto receivables trust 2022 1               None   \n",
       "171359                ford credit auto owner trust 2022 d               None   \n",
       "171360                 ally auto receivables trust 2022 3               None   \n",
       "171361         exeter automobile receivables trust 2022 6               None   \n",
       "171362  oha senior private lending fund u limited liab...               None   \n",
       "\n",
       "       own_per files_10k  \n",
       "0         None      True  \n",
       "1         None     False  \n",
       "2         None     False  \n",
       "3         None     False  \n",
       "4         None     False  \n",
       "...        ...       ...  \n",
       "171358    None      True  \n",
       "171359    None      True  \n",
       "171360    None      True  \n",
       "171361    None      True  \n",
       "171362    None      True  \n",
       "\n",
       "[171363 rows x 27 columns]"
      ]
     },
     "execution_count": 27,
     "metadata": {},
     "output_type": "execute_result"
    }
   ],
   "source": [
    "sec_out_df"
   ]
  },
  {
   "cell_type": "markdown",
   "id": "3447dcdb-4506-4de0-9201-9711ff9259ee",
   "metadata": {},
   "source": [
    "### There are a combination of SEC 10K filers and subsidiary companies:"
   ]
  },
  {
   "cell_type": "code",
   "execution_count": 28,
   "id": "0d654dfc-2fb2-41d3-9ff8-6fe70732a04a",
   "metadata": {},
   "outputs": [
    {
     "data": {
      "text/plain": [
       "files_10k\n",
       "False    165824\n",
       "True       5539\n",
       "Name: count, dtype: int64"
      ]
     },
     "execution_count": 28,
     "metadata": {},
     "output_type": "execute_result"
    }
   ],
   "source": [
    "sec_out_df.files_10k.value_counts()"
   ]
  },
  {
   "cell_type": "markdown",
   "id": "6797b5b7-be91-430a-a30c-cc26c62aa7b1",
   "metadata": {},
   "source": [
    "### `sec_company_id` and `central_index_key` should be unique:"
   ]
  },
  {
   "cell_type": "code",
   "execution_count": 29,
   "id": "67e0e789-feb0-4866-ba82-8346c62c1bef",
   "metadata": {},
   "outputs": [
    {
     "data": {
      "text/plain": [
       "True"
      ]
     },
     "execution_count": 29,
     "metadata": {},
     "output_type": "execute_result"
    }
   ],
   "source": [
    "sec_out_df.sec_company_id.is_unique"
   ]
  },
  {
   "cell_type": "code",
   "execution_count": 30,
   "id": "053d65c9-dbdd-4622-a4ee-badc7db2a88d",
   "metadata": {},
   "outputs": [
    {
     "data": {
      "text/plain": [
       "True"
      ]
     },
     "execution_count": 30,
     "metadata": {},
     "output_type": "execute_result"
    }
   ],
   "source": [
    "sec_out_df.central_index_key.dropna().is_unique"
   ]
  },
  {
   "cell_type": "markdown",
   "id": "b7e05e03-fa05-4655-a085-c66afcfba442",
   "metadata": {},
   "source": [
    "### Location of incorporation should be clean and standardized for filers and subsidiaries."
   ]
  },
  {
   "cell_type": "code",
   "execution_count": 32,
   "id": "cb33b703-be24-4ddc-a9f2-148850c3f4af",
   "metadata": {},
   "outputs": [
    {
     "data": {
      "text/plain": [
       "location_of_inc\n",
       "delaware          3076\n",
       "nevada             300\n",
       "maryland           299\n",
       "cayman islands     135\n",
       "north carolina      92\n",
       "new york            74\n",
       "florida             74\n",
       "pennsylvania        71\n",
       "california          57\n",
       "texas               56\n",
       "Name: count, dtype: int64"
      ]
     },
     "execution_count": 32,
     "metadata": {},
     "output_type": "execute_result"
    }
   ],
   "source": [
    "sec_out_df[sec_out_df.files_10k][\"location_of_inc\"].value_counts().head(10)"
   ]
  },
  {
   "cell_type": "code",
   "execution_count": 33,
   "id": "cb6fc7b5-b9c0-46ae-991c-cae41f86e8f3",
   "metadata": {},
   "outputs": [
    {
     "data": {
      "text/plain": [
       "location_of_inc\n",
       "bahamas                  1\n",
       "germany                  1\n",
       "hong kong                1\n",
       "china                    1\n",
       "virgin islands, u.s.     1\n",
       "quebec, canada           1\n",
       "new brunswick, canada    1\n",
       "new hampshire            1\n",
       "netherlands antilles     1\n",
       "malaysia                 1\n",
       "Name: count, dtype: int64"
      ]
     },
     "execution_count": 33,
     "metadata": {},
     "output_type": "execute_result"
    }
   ],
   "source": [
    "sec_out_df[sec_out_df.files_10k][\"location_of_inc\"].value_counts().tail(10)"
   ]
  },
  {
   "cell_type": "code",
   "execution_count": 34,
   "id": "5373ced2-75e9-4229-b927-3ad4b8d33e39",
   "metadata": {},
   "outputs": [
    {
     "data": {
      "text/plain": [
       "location_of_inc\n",
       "delaware          67546\n",
       "united kingdom     4979\n",
       "cayman islands     3000\n",
       "texas              2881\n",
       "netherlands        2615\n",
       "california         2566\n",
       "germany            2381\n",
       "china              2305\n",
       "florida            2130\n",
       "australia          1938\n",
       "Name: count, dtype: int64"
      ]
     },
     "execution_count": 34,
     "metadata": {},
     "output_type": "execute_result"
    }
   ],
   "source": [
    "sec_out_df[~sec_out_df.files_10k][\"location_of_inc\"].value_counts().head(10)"
   ]
  },
  {
   "cell_type": "code",
   "execution_count": 35,
   "id": "3ceb1aa2-c622-4a97-9293-281325637f09",
   "metadata": {},
   "outputs": [
    {
     "data": {
      "text/plain": [
       "location_of_inc\n",
       "ontario, can                 1\n",
       "british col, can             1\n",
       "hong kong china china        1\n",
       "zhongshan, china             1\n",
       "jacksonville, florida        1\n",
       "toronto, ontario, canada     1\n",
       "limassol, cyprus             1\n",
       "doncaster, syorkshire, uk    1\n",
       "manchester, england          1\n",
       "cote                         1\n",
       "Name: count, dtype: int64"
      ]
     },
     "execution_count": 35,
     "metadata": {},
     "output_type": "execute_result"
    }
   ],
   "source": [
    "sec_out_df[~sec_out_df.files_10k][\"location_of_inc\"].value_counts().tail(10)"
   ]
  },
  {
   "cell_type": "markdown",
   "id": "95d51bdb-c378-45bc-9848-4a2a8895b470",
   "metadata": {},
   "source": [
    "### All non SEC 10K filers should have a `parent_company_cik`"
   ]
  },
  {
   "cell_type": "code",
   "execution_count": 36,
   "id": "89cd6bdb-a06c-40ae-8b49-c610e769f9c8",
   "metadata": {},
   "outputs": [
    {
     "data": {
      "text/plain": [
       "parent_company_cik\n",
       "False    165824\n",
       "Name: count, dtype: int64"
      ]
     },
     "execution_count": 36,
     "metadata": {},
     "output_type": "execute_result"
    }
   ],
   "source": [
    "sec_out_df[~sec_out_df.files_10k][\"parent_company_cik\"].isnull().value_counts()"
   ]
  },
  {
   "cell_type": "markdown",
   "id": "8f4bd494-951f-417f-ba56-fa0202d741a5",
   "metadata": {},
   "source": [
    "### When run on all year quarters, all `parent_company_cik` should appear in `central_index_key` column"
   ]
  },
  {
   "cell_type": "code",
   "execution_count": 45,
   "id": "d024bc29-d0b1-45cd-a0a2-c9b66e73e0d6",
   "metadata": {},
   "outputs": [
    {
     "data": {
      "text/plain": [
       "2954"
      ]
     },
     "execution_count": 45,
     "metadata": {},
     "output_type": "execute_result"
    }
   ],
   "source": [
    "n_parent_company_cik = len(set(sec_out_df.parent_company_cik))\n",
    "n_parent_company_cik"
   ]
  },
  {
   "cell_type": "code",
   "execution_count": 46,
   "id": "d70660f2-559e-4ec1-8167-1bfdce45c287",
   "metadata": {},
   "outputs": [
    {
     "data": {
      "text/plain": [
       "2832"
      ]
     },
     "execution_count": 46,
     "metadata": {},
     "output_type": "execute_result"
    }
   ],
   "source": [
    "n_overlap = len(set(sec_out_df.parent_company_cik).intersection(set(sec_out_df.central_index_key)))\n",
    "n_overlap"
   ]
  },
  {
   "cell_type": "code",
   "execution_count": 47,
   "id": "0eb86d64-5ca0-423a-864c-dbfb00b5b9fa",
   "metadata": {},
   "outputs": [
    {
     "data": {
      "text/plain": [
       "122"
      ]
     },
     "execution_count": 47,
     "metadata": {},
     "output_type": "execute_result"
    }
   ],
   "source": [
    "n_parent_company_cik - n_overlap"
   ]
  },
  {
   "cell_type": "markdown",
   "id": "60366af2-259a-4a87-a93f-2180d8777c67",
   "metadata": {},
   "source": [
    "### There should be filer companies that have a `parent_company_cik` because they were matched to a subsidiary"
   ]
  },
  {
   "cell_type": "code",
   "execution_count": 49,
   "id": "b5c53dab-3be5-48f1-90f6-583acfb452ab",
   "metadata": {},
   "outputs": [
    {
     "data": {
      "text/plain": [
       "parent_company_cik\n",
       "True     5474\n",
       "False      65\n",
       "Name: count, dtype: int64"
      ]
     },
     "execution_count": 49,
     "metadata": {},
     "output_type": "execute_result"
    }
   ],
   "source": [
    "sec_out_df[sec_out_df.files_10k].parent_company_cik.isnull().value_counts()"
   ]
  },
  {
   "cell_type": "markdown",
   "id": "5358a4e1-38a7-489d-bf1a-f53de58447ba",
   "metadata": {},
   "source": [
    "### There should be no non-filer companies that have a CIK"
   ]
  },
  {
   "cell_type": "code",
   "execution_count": 50,
   "id": "4a19df26-79c3-4aa1-bcbf-916b822346ca",
   "metadata": {},
   "outputs": [
    {
     "data": {
      "text/plain": [
       "central_index_key\n",
       "True    165824\n",
       "Name: count, dtype: int64"
      ]
     },
     "execution_count": 50,
     "metadata": {},
     "output_type": "execute_result"
    }
   ],
   "source": [
    "sec_out_df[~sec_out_df.files_10k].central_index_key.isnull().value_counts()"
   ]
  },
  {
   "cell_type": "markdown",
   "id": "bde4f03f-e5b0-4895-ade6-ae44b260e78e",
   "metadata": {},
   "source": [
    "### There should be no duplicated `company_name`, `location_of_inc`, `parent_company_cik` records"
   ]
  },
  {
   "cell_type": "code",
   "execution_count": 52,
   "id": "ca87709a-daa7-4396-83a4-0f5bb8ec2cd4",
   "metadata": {},
   "outputs": [
    {
     "data": {
      "text/html": [
       "<div>\n",
       "<style scoped>\n",
       "    .dataframe tbody tr th:only-of-type {\n",
       "        vertical-align: middle;\n",
       "    }\n",
       "\n",
       "    .dataframe tbody tr th {\n",
       "        vertical-align: top;\n",
       "    }\n",
       "\n",
       "    .dataframe thead th {\n",
       "        text-align: right;\n",
       "    }\n",
       "</style>\n",
       "<table border=\"1\" class=\"dataframe\">\n",
       "  <thead>\n",
       "    <tr style=\"text-align: right;\">\n",
       "      <th></th>\n",
       "      <th>sec_company_id</th>\n",
       "      <th>filename</th>\n",
       "      <th>business_phone</th>\n",
       "      <th>central_index_key</th>\n",
       "      <th>city</th>\n",
       "      <th>company_name</th>\n",
       "      <th>date_of_name_change</th>\n",
       "      <th>film_number</th>\n",
       "      <th>fiscal_year_end</th>\n",
       "      <th>form_type</th>\n",
       "      <th>...</th>\n",
       "      <th>street_1</th>\n",
       "      <th>street_2</th>\n",
       "      <th>zip</th>\n",
       "      <th>report_date</th>\n",
       "      <th>report_year</th>\n",
       "      <th>location_of_inc</th>\n",
       "      <th>company_name_clean</th>\n",
       "      <th>parent_company_cik</th>\n",
       "      <th>own_per</th>\n",
       "      <th>files_10k</th>\n",
       "    </tr>\n",
       "  </thead>\n",
       "  <tbody>\n",
       "  </tbody>\n",
       "</table>\n",
       "<p>0 rows × 27 columns</p>\n",
       "</div>"
      ],
      "text/plain": [
       "Empty DataFrame\n",
       "Columns: [sec_company_id, filename, business_phone, central_index_key, city, company_name, date_of_name_change, film_number, fiscal_year_end, form_type, former_conformed_name, irs_number, sec_act, sec_file_number, standard_industrial_classification, state, state_of_incorporation, street_1, street_2, zip, report_date, report_year, location_of_inc, company_name_clean, parent_company_cik, own_per, files_10k]\n",
       "Index: []\n",
       "\n",
       "[0 rows x 27 columns]"
      ]
     },
     "execution_count": 52,
     "metadata": {},
     "output_type": "execute_result"
    }
   ],
   "source": [
    "sec_out_df[sec_out_df.duplicated(subset=[\"company_name\", \"location_of_inc\", \"parent_company_cik\"])]"
   ]
  },
  {
   "cell_type": "markdown",
   "id": "bca9e395-bd96-4183-b299-46cd589d97d5",
   "metadata": {},
   "source": [
    "### There can be companies with the same name, location, and CIK, but different parent companies."
   ]
  },
  {
   "cell_type": "code",
   "execution_count": 56,
   "id": "cc1880f3-a9d3-4f8a-a42b-2f9ff428ca45",
   "metadata": {},
   "outputs": [],
   "source": [
    "sec_out_df = sec_out_df.fillna({\"central_index_key\": pd.NA})"
   ]
  },
  {
   "cell_type": "code",
   "execution_count": 59,
   "id": "f87257df-00f7-48a8-882a-fb1ea8c27e18",
   "metadata": {},
   "outputs": [
    {
     "data": {
      "text/html": [
       "<div>\n",
       "<style scoped>\n",
       "    .dataframe tbody tr th:only-of-type {\n",
       "        vertical-align: middle;\n",
       "    }\n",
       "\n",
       "    .dataframe tbody tr th {\n",
       "        vertical-align: top;\n",
       "    }\n",
       "\n",
       "    .dataframe thead th {\n",
       "        text-align: right;\n",
       "    }\n",
       "</style>\n",
       "<table border=\"1\" class=\"dataframe\">\n",
       "  <thead>\n",
       "    <tr style=\"text-align: right;\">\n",
       "      <th></th>\n",
       "      <th>company_name</th>\n",
       "      <th>location_of_inc</th>\n",
       "      <th>central_index_key</th>\n",
       "      <th>parent_company_cik</th>\n",
       "    </tr>\n",
       "  </thead>\n",
       "  <tbody>\n",
       "  </tbody>\n",
       "</table>\n",
       "</div>"
      ],
      "text/plain": [
       "Empty DataFrame\n",
       "Columns: [company_name, location_of_inc, central_index_key, parent_company_cik]\n",
       "Index: []"
      ]
     },
     "execution_count": 59,
     "metadata": {},
     "output_type": "execute_result"
    }
   ],
   "source": [
    "sec_out_df[~sec_out_df.central_index_key.isnull() \n",
    "           & (sec_out_df.duplicated(\n",
    "               subset=[\"company_name\", \"location_of_inc\", \"central_index_key\"], keep=False\n",
    "             ))][[\"company_name\", \"location_of_inc\", \"central_index_key\", \"parent_company_cik\"]]"
   ]
  },
  {
   "cell_type": "code",
   "execution_count": null,
   "id": "e2169181-dcd8-4b43-b03e-9526f597147d",
   "metadata": {},
   "outputs": [],
   "source": []
  }
 ],
 "metadata": {
  "kernelspec": {
   "display_name": "mozilla_sec_eia",
   "language": "python",
   "name": "mozilla_sec_eia"
  },
  "language_info": {
   "codemirror_mode": {
    "name": "ipython",
    "version": 3
   },
   "file_extension": ".py",
   "mimetype": "text/x-python",
   "name": "python",
   "nbconvert_exporter": "python",
   "pygments_lexer": "ipython3",
   "version": "3.12.0"
  }
 },
 "nbformat": 4,
 "nbformat_minor": 5
}
