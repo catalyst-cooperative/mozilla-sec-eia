{
 "cells": [
  {
   "cell_type": "markdown",
   "id": "277dd674-b2a5-49d7-b182-758bb6bb179a",
   "metadata": {},
   "source": [
    "# Create training data\n",
    "\n",
    "Schema:\n",
    "* id: (int) unique ID for each doc\n",
    "* tokens: (list) words or groups of words \n",
    "* bboxes: (list) bounding box for each token (x1, y1, x2, y2)\n",
    "* ner_tags: (int) the entity tag corresponding to each token\n",
    "* image: PIL Image"
   ]
  },
  {
   "cell_type": "code",
   "execution_count": 2,
   "id": "1965dd48-1d86-4456-afa6-66ca5ae4a51b",
   "metadata": {
    "tags": []
   },
   "outputs": [
    {
     "name": "stdout",
     "output_type": "stream",
     "text": [
      "Collecting opencv-python\n",
      "  Downloading opencv_python-4.9.0.80-cp37-abi3-macosx_11_0_arm64.whl.metadata (20 kB)\n",
      "Requirement already satisfied: numpy>=1.21.2 in /Users/katielamb/mambaforge/envs/mozilla-sec-eia/lib/python3.11/site-packages (from opencv-python) (1.26.4)\n",
      "Downloading opencv_python-4.9.0.80-cp37-abi3-macosx_11_0_arm64.whl (35.4 MB)\n",
      "\u001b[2K   \u001b[90m━━━━━━━━━━━━━━━━━━━━━━━━━━━━━━━━━━━━━━━━\u001b[0m \u001b[32m35.4/35.4 MB\u001b[0m \u001b[31m8.1 MB/s\u001b[0m eta \u001b[36m0:00:00\u001b[0m00:01\u001b[0m00:01\u001b[0m\n",
      "\u001b[?25hInstalling collected packages: opencv-python\n",
      "Successfully installed opencv-python-4.9.0.80\n"
     ]
    }
   ],
   "source": [
    "!pip install opencv-python"
   ]
  },
  {
   "cell_type": "code",
   "execution_count": 1,
   "id": "91015277-ac2f-485e-b866-8de301e7ea60",
   "metadata": {
    "tags": []
   },
   "outputs": [],
   "source": [
    "from typing import Any, Optional, Union\n",
    "\n",
    "import fitz  # PyMuPDF\n",
    "import numpy as np\n",
    "import pandas as pd\n",
    "from PIL import Image\n",
    "from pathlib import Path\n",
    "import cv2\n",
    "import matplotlib.pyplot as plt"
   ]
  },
  {
   "cell_type": "code",
   "execution_count": 2,
   "id": "d066e666-af80-4df1-9682-9d96a10413cd",
   "metadata": {
    "tags": []
   },
   "outputs": [],
   "source": [
    "id_to_label = {\n",
    "    0: \"no object\",\n",
    "    1: \"header: subsdiary\",\n",
    "    2: \"data: subsidiary\",\n",
    "    3: \"header: location of incorporation\",\n",
    "    4: \"data: location of incorporation\",\n",
    "    5: \"header: ownership percentage\",\n",
    "    6: \"data: ownership percentage\"\n",
    "}"
   ]
  },
  {
   "cell_type": "code",
   "execution_count": 3,
   "id": "69287355-f6be-4892-977e-3a3e27eb76f8",
   "metadata": {
    "tags": []
   },
   "outputs": [],
   "source": [
    "# copied from well gas project wellgas/features/extract_text.py\n",
    "def extract_pdf_data_from_page(page: fitz.Page) -> dict[str, pd.DataFrame]:\n",
    "    \"\"\"Parse PDF page data.\"\"\"\n",
    "    contents = _parse_page_contents(page)\n",
    "    meta = {\n",
    "        \"rotation_degrees\": [page.rotation],\n",
    "        \"origin_x_pdf_coord\": [page.rect[0]],\n",
    "        \"origin_y_pdf_coord\": [page.rect[1]],\n",
    "        \"width_pdf_coord\": [page.rect[2] - page.rect[0]],\n",
    "        \"height_pdf_coord\": [page.rect[3] - page.rect[1]],\n",
    "        \"has_images\": [not contents[\"image\"].empty],\n",
    "        \"has_text\": [not contents[\"pdf_text\"].empty],\n",
    "        \"page_num\": [page.number],\n",
    "    }\n",
    "    if not contents[\"image\"].empty:\n",
    "        img_area = (\n",
    "            contents[\"image\"]\n",
    "            .eval(\n",
    "                \"((bottom_right_x_pdf - top_left_x_pdf)\"\n",
    "                \" * (bottom_right_y_pdf - top_left_y_pdf))\"\n",
    "            )\n",
    "            .sum()\n",
    "        )\n",
    "    else:\n",
    "        img_area = 0\n",
    "    total_area = meta[\"width_pdf_coord\"][0] * meta[\"height_pdf_coord\"][0]\n",
    "\n",
    "    meta[\"image_area_frac\"] = [np.float32(img_area / total_area)]\n",
    "    meta_df = pd.DataFrame(meta).astype(\n",
    "        {\n",
    "            \"rotation_degrees\": np.int16,\n",
    "            \"origin_x_pdf_coord\": np.float32,\n",
    "            \"origin_y_pdf_coord\": np.float32,\n",
    "            \"width_pdf_coord\": np.float32,\n",
    "            \"height_pdf_coord\": np.float32,\n",
    "            \"has_images\": \"boolean\",\n",
    "            \"has_text\": \"boolean\",\n",
    "            \"page_num\": np.int16,\n",
    "            \"image_area_frac\": np.float32,\n",
    "        }\n",
    "    )\n",
    "    meta = dict(page=meta_df)\n",
    "    for df in contents.values():  # add ID fields\n",
    "        if not df.empty:\n",
    "            df[\"page_num\"] = np.int16(page.number)\n",
    "    return contents | meta\n",
    "\n",
    "\n",
    "def _parse_page_contents(page: fitz.Page) -> dict[str, pd.DataFrame]:\n",
    "    \"\"\"Parse page contents using fitz.TextPage.\"\"\"\n",
    "    flags = fitz.TEXTFLAGS_DICT\n",
    "    textpage = page.get_textpage(flags=flags)\n",
    "    content = textpage.extractDICT()\n",
    "    images = []\n",
    "    text = []\n",
    "    for block in content[\"blocks\"]:\n",
    "        if block[\"type\"] == 0:\n",
    "            parsed = _parse_text_block(block)\n",
    "            if not parsed.empty:  # can happen when all blocks are whitespace\n",
    "                text.append(parsed)\n",
    "        elif block[\"type\"] == 1:\n",
    "            images.append(_parse_image_block(block))\n",
    "        else:\n",
    "            raise ValueError(f\"Unknown block type: {block['type']}\")\n",
    "    if text:\n",
    "        text = pd.concat(text, axis=0, ignore_index=True)\n",
    "    else:\n",
    "        text = pd.DataFrame()\n",
    "    if images:\n",
    "        images = pd.concat(\n",
    "            (pd.DataFrame(image) for image in images), axis=0, ignore_index=True\n",
    "        )\n",
    "    else:\n",
    "        images = pd.DataFrame()\n",
    "    return dict(pdf_text=text, image=images)\n",
    "\n",
    "\n",
    "def _parse_image_block(img_block: dict[str, Any]) -> pd.DataFrame:\n",
    "    \"\"\"Parse an image block from a fitz.TextPage.extractDICT() output.\"\"\"\n",
    "    top_left_x_pdf, top_left_y_pdf, bottom_right_x_pdf, bottom_right_y_pdf = img_block[\n",
    "        \"bbox\"\n",
    "    ]\n",
    "    dpi = min(\n",
    "        img_block[\"xres\"], img_block[\"yres\"]\n",
    "    )  # should be equal; min() just in case\n",
    "    out = pd.DataFrame(\n",
    "        {\n",
    "            \"img_num\": [img_block[\"number\"]],\n",
    "            \"dpi\": [dpi],\n",
    "            \"top_left_x_pdf\": [top_left_x_pdf],\n",
    "            \"top_left_y_pdf\": [top_left_y_pdf],\n",
    "            \"bottom_right_x_pdf\": [bottom_right_x_pdf],\n",
    "            \"bottom_right_y_pdf\": [bottom_right_y_pdf],\n",
    "        }\n",
    "    ).astype(\n",
    "        {\n",
    "            \"img_num\": np.int16,\n",
    "            \"dpi\": np.int16,\n",
    "            \"top_left_x_pdf\": np.float32,\n",
    "            \"top_left_y_pdf\": np.float32,\n",
    "            \"bottom_right_x_pdf\": np.float32,\n",
    "            \"bottom_right_y_pdf\": np.float32,\n",
    "        }\n",
    "    )\n",
    "    return out\n",
    "\n",
    "\n",
    "def _parse_text_block(text_block: dict[str, Any]) -> pd.DataFrame:\n",
    "    \"\"\"Parse a text block from a fitz.TextPage.extractDICT() output.\"\"\"\n",
    "    # block and line bboxes have no information additional to the text bboxes\n",
    "    out = dict(\n",
    "        block_num=[],\n",
    "        line_num=[],\n",
    "        font_size=[],\n",
    "        font=[],\n",
    "        color_srgb=[],\n",
    "        text=[],\n",
    "        top_left_x_pdf=[],\n",
    "        top_left_y_pdf=[],\n",
    "        bottom_right_x_pdf=[],\n",
    "        bottom_right_y_pdf=[],\n",
    "    )\n",
    "    block_num = text_block[\"number\"]\n",
    "    for line_num, line in enumerate(text_block[\"lines\"]):\n",
    "        for span in line[\"spans\"]:  # no numbering, differentiated by font properties\n",
    "            if span[\"text\"].isspace():  # ignore whitespace spans\n",
    "                continue\n",
    "            if _frac_normal_ascii(span[\"text\"]) < 0.7 and len(span[\"text\"]) > 3:\n",
    "                # Long non-ASCII is likely bad encoding. It has created problems like\n",
    "                # unbalanced quotes or unquoted \\r and \\n in CSVs\n",
    "                out[\"text\"].append(\"\")\n",
    "            else:\n",
    "                out[\"text\"].append(span[\"text\"])\n",
    "            out[\"block_num\"].append(block_num)\n",
    "            out[\"line_num\"].append(line_num)\n",
    "            out[\"font_size\"].append(span[\"size\"])\n",
    "            out[\"font\"].append(span[\"font\"])\n",
    "            out[\"color_srgb\"].append(span[\"color\"])\n",
    "            out[\"top_left_x_pdf\"].append(span[\"bbox\"][0])\n",
    "            out[\"top_left_y_pdf\"].append(span[\"bbox\"][1])\n",
    "            out[\"bottom_right_x_pdf\"].append(span[\"bbox\"][2])\n",
    "            out[\"bottom_right_y_pdf\"].append(span[\"bbox\"][3])\n",
    "    out = pd.DataFrame(out).astype(\n",
    "        {\n",
    "            \"block_num\": np.int16,\n",
    "            \"line_num\": np.int16,\n",
    "            \"font_size\": np.float32,\n",
    "            \"font\": \"string\",\n",
    "            \"color_srgb\": np.int32,\n",
    "            \"text\": \"string\",\n",
    "            \"top_left_x_pdf\": np.float32,\n",
    "            \"top_left_y_pdf\": np.float32,\n",
    "            \"bottom_right_x_pdf\": np.float32,\n",
    "            \"bottom_right_y_pdf\": np.float32,\n",
    "        }\n",
    "    )\n",
    "    return out\n",
    "\n",
    "\n",
    "def _frac_normal_ascii(text: Union[str, bytes]) -> float:\n",
    "    \"\"\"Fraction of characters that are normal ASCII characters.\"\"\"\n",
    "    # normal characters, from space to tilde, plus whitespace\n",
    "    # see https://www.asciitable.com/\n",
    "    sum_ = 0\n",
    "    if isinstance(text, bytes):\n",
    "        text = text.decode(\"utf-8\")\n",
    "    for char in text:\n",
    "        if (32 <= ord(char) <= 126) or char in \"\\t\\n\":\n",
    "            sum_ += 1\n",
    "    return sum_ / len(text)\n"
   ]
  },
  {
   "cell_type": "code",
   "execution_count": 4,
   "id": "20cb1911-6368-4393-a6f7-a66a7d8f5c55",
   "metadata": {
    "tags": []
   },
   "outputs": [],
   "source": [
    "\n",
    "def _render_page(\n",
    "    pg: fitz.Page, dpi=150, clip: Optional[fitz.Rect] = None\n",
    ") -> Image.Image:\n",
    "    \"\"\"Render a page of a PDF as a PIL.Image object.\n",
    "\n",
    "    Args:\n",
    "        pg (fitz.Page): a page of a PDF\n",
    "        dpi (int, optional): image resolution in pixels per inch. Defaults to 150.\n",
    "        clip (Optional[fitz.Rect], optional): Optionally render only a subset of the\n",
    "            page. Defined in PDF coordinates. Defaults to None, which renders the\n",
    "            full page.\n",
    "\n",
    "    Returns:\n",
    "        Image.Image: PDF page rendered as a PIL.Image object\n",
    "    \"\"\"\n",
    "    # 300 dpi is what tesseract recommends. PaddleOCR seems to do fine with half that.\n",
    "    render: fitz.Pixmap = pg.get_pixmap(dpi=dpi, clip=clip)  # type: ignore\n",
    "    img = _pil_img_from_pixmap(render)\n",
    "    return img\n",
    "\n",
    "\n",
    "def _pil_img_from_pixmap(pix: fitz.Pixmap) -> Image.Image:\n",
    "    \"\"\"Convert pyMuPDF Pixmap object to PIL.Image object.\n",
    "\n",
    "    For some reason pyMuPDF (aka fitz) lets you save images using PIL, but does not\n",
    "    have any function to convert to PIL objects. Clearly they do this conversion\n",
    "    internally; they should just expose it. Instead, I had to copy it out from their\n",
    "    source code.\n",
    "\n",
    "    Args:\n",
    "        pix (fitz.Pixmap): a rendered Pixmap\n",
    "\n",
    "    Returns:\n",
    "        Image: a PIL.Image object\n",
    "    \"\"\"\n",
    "    # pyMuPDF source code on GitHub is all in SWIG (some kind of C to python code\n",
    "    # generator) and is unreadable to me. So you have to inspect your local .py files.\n",
    "    # Adapted from the Pixmap.pil_save method in python3.9/site-packages/fitz/fitz.py\n",
    "    # I just replaced instances of \"self\" with \"pix\"\n",
    "    cspace = pix.colorspace\n",
    "    if cspace is None:\n",
    "        mode = \"L\"\n",
    "    elif cspace.n == 1:\n",
    "        mode = \"L\" if pix.alpha == 0 else \"LA\"\n",
    "    elif cspace.n == 3:\n",
    "        mode = \"RGB\" if pix.alpha == 0 else \"RGBA\"\n",
    "    else:\n",
    "        mode = \"CMYK\"\n",
    "\n",
    "    img = Image.frombytes(mode, (pix.width, pix.height), pix.samples)\n",
    "    return img"
   ]
  },
  {
   "cell_type": "code",
   "execution_count": 5,
   "id": "7d3ba492-7913-47bc-81cb-2e1179a8e1d6",
   "metadata": {
    "tags": []
   },
   "outputs": [],
   "source": [
    "PDF_POINTS_PER_INCH = 72  # I believe this is standard for all PDFs\n",
    "\n",
    "def pil_to_cv2(image: Image.Image) -> np.ndarray:  # noqa: C901\n",
    "    \"\"\"Convert a PIL Image to an OpenCV image (numpy array).\"\"\"\n",
    "    # copied from https://gist.github.com/panzi/1ceac1cb30bb6b3450aa5227c02eedd3\n",
    "    # This covers the common modes, is not exhaustive.\n",
    "    mode = image.mode\n",
    "    new_image: np.ndarray\n",
    "    if mode == \"1\":\n",
    "        new_image = np.array(image, dtype=np.uint8)\n",
    "        new_image *= 255\n",
    "    elif mode == \"L\":\n",
    "        new_image = np.array(image, dtype=np.uint8)\n",
    "    elif mode == \"LA\" or mode == \"La\":\n",
    "        new_image = np.array(image.convert(\"RGBA\"), dtype=np.uint8)\n",
    "        new_image = cv2.cvtColor(new_image, cv2.COLOR_RGBA2BGRA)\n",
    "    elif mode == \"RGB\":\n",
    "        new_image = np.array(image, dtype=np.uint8)\n",
    "        new_image = cv2.cvtColor(new_image, cv2.COLOR_RGB2BGR)\n",
    "    elif mode == \"RGBA\":\n",
    "        new_image = np.array(image, dtype=np.uint8)\n",
    "        new_image = cv2.cvtColor(new_image, cv2.COLOR_RGBA2BGRA)\n",
    "    elif mode == \"LAB\":\n",
    "        new_image = np.array(image, dtype=np.uint8)\n",
    "        new_image = cv2.cvtColor(new_image, cv2.COLOR_LAB2BGR)\n",
    "    elif mode == \"HSV\":\n",
    "        new_image = np.array(image, dtype=np.uint8)\n",
    "        new_image = cv2.cvtColor(new_image, cv2.COLOR_HSV2BGR)\n",
    "    elif mode == \"YCbCr\":\n",
    "        # XXX: not sure if YCbCr == YCrCb\n",
    "        new_image = np.array(image, dtype=np.uint8)\n",
    "        new_image = cv2.cvtColor(new_image, cv2.COLOR_YCrCb2BGR)\n",
    "    elif mode == \"P\" or mode == \"CMYK\":\n",
    "        new_image = np.array(image.convert(\"RGB\"), dtype=np.uint8)\n",
    "        new_image = cv2.cvtColor(new_image, cv2.COLOR_RGB2BGR)\n",
    "    elif mode == \"PA\" or mode == \"Pa\":\n",
    "        new_image = np.array(image.convert(\"RGBA\"), dtype=np.uint8)\n",
    "        new_image = cv2.cvtColor(new_image, cv2.COLOR_RGBA2BGRA)\n",
    "    else:\n",
    "        raise ValueError(f\"unhandled image color mode: {mode}\")\n",
    "\n",
    "    return new_image\n",
    "\n",
    "\n",
    "def cv2_to_pil(img: np.ndarray) -> Image.Image:\n",
    "    \"\"\"Create PIL Image from numpy pixel array.\"\"\"\n",
    "    if len(img.shape) == 2:  # single channel, AKA grayscale\n",
    "        return Image.fromarray(img)\n",
    "    else:  # only handle BGR for now\n",
    "        return Image.fromarray(cv2.cvtColor(img, cv2.COLOR_BGR2RGB))\n",
    "\n",
    "\n",
    "def display_img_array(img: np.ndarray, figsize=(5, 5), **kwargs):\n",
    "    \"\"\"Plot image array for jupyter sessions.\"\"\"\n",
    "    plt.figure(figsize=figsize)\n",
    "    if len(img.shape) == 2:  # grayscale\n",
    "        return plt.imshow(img, cmap=\"gray\", vmin=0, vmax=255, **kwargs)\n",
    "    else:\n",
    "        return plt.imshow(cv2.cvtColor(img, cv2.COLOR_BGR2RGB), **kwargs)\n",
    "\n",
    "\n",
    "def overlay_bboxes(\n",
    "    img: np.ndarray, bboxes: np.ndarray, color=(255, 0, 0)\n",
    ") -> np.ndarray:\n",
    "    \"\"\"Overlay bounding boxes of shape N x 4 (x0, y0, x1, y1) on an image.\"\"\"\n",
    "    img = img.copy()\n",
    "    for box in np.round(bboxes, 0).astype(np.int32):  # float to int just in case:\n",
    "        x0, y0, x1, y1 = box\n",
    "        cv2.rectangle(img, (x0, y0), (x1, y1), color=color, thickness=1)\n",
    "    return img\n",
    "\n",
    "\n",
    "def pdf_coords_to_pixel_coords(coords: np.ndarray, dpi: int) -> np.ndarray:\n",
    "    \"\"\"Convert PDF coordinates to pixel coordinates.\"\"\"\n",
    "    # For arbitrary PDFs you would need to subtract the origin in PDF coordinates,\n",
    "    # but since you create these PDFs, you know the origin is (0, 0).\n",
    "    out = coords * dpi / PDF_POINTS_PER_INCH\n",
    "    return out"
   ]
  },
  {
   "cell_type": "markdown",
   "id": "2595a71e-09ff-4b40-ae6a-dfc1e6e24d97",
   "metadata": {},
   "source": [
    "# Demo with one doc"
   ]
  },
  {
   "cell_type": "code",
   "execution_count": 6,
   "id": "af0ea213-9084-4c6e-b59e-76dda20b9ac8",
   "metadata": {
    "tags": []
   },
   "outputs": [],
   "source": [
    "src_path = Path(\"./wisconsin_electric.pdf\")\n",
    "assert src_path.exists()"
   ]
  },
  {
   "cell_type": "code",
   "execution_count": 7,
   "id": "cc2db08d-fe70-47a6-b539-1cb20c60c7ec",
   "metadata": {
    "tags": []
   },
   "outputs": [
    {
     "data": {
      "text/plain": [
       "True"
      ]
     },
     "execution_count": 7,
     "metadata": {},
     "output_type": "execute_result"
    }
   ],
   "source": [
    "# from file\n",
    "doc = fitz.Document(str(src_path))\n",
    "doc.is_pdf"
   ]
  },
  {
   "cell_type": "code",
   "execution_count": 8,
   "id": "ccd4bee7-ee3a-4752-83b0-ca098135e66f",
   "metadata": {
    "tags": []
   },
   "outputs": [
    {
     "data": {
      "text/plain": [
       "True"
      ]
     },
     "execution_count": 8,
     "metadata": {},
     "output_type": "execute_result"
    }
   ],
   "source": [
    "# from bytes\n",
    "_bytes = src_path.read_bytes()\n",
    "from io import BytesIO\n",
    "doc = fitz.open(stream=BytesIO(_bytes), filetype=\"pdf\")\n",
    "doc.is_pdf"
   ]
  },
  {
   "cell_type": "markdown",
   "id": "d08536a6-04db-401f-a725-d54ef3723576",
   "metadata": {},
   "source": [
    "### Extract Text Bboxes"
   ]
  },
  {
   "cell_type": "code",
   "execution_count": 9,
   "id": "04d30555-63aa-4e8d-9aab-bf8d887ac5c0",
   "metadata": {
    "tags": []
   },
   "outputs": [
    {
     "data": {
      "text/plain": [
       "dict_keys(['pdf_text', 'image', 'page'])"
      ]
     },
     "execution_count": 9,
     "metadata": {},
     "output_type": "execute_result"
    }
   ],
   "source": [
    "pg = doc[0]\n",
    "extracted = extract_pdf_data_from_page(pg)\n",
    "extracted.keys()"
   ]
  },
  {
   "cell_type": "code",
   "execution_count": 10,
   "id": "be5b2066-62d5-4240-b927-c0bc720a6852",
   "metadata": {
    "tags": []
   },
   "outputs": [
    {
     "data": {
      "text/plain": [
       "((22, 11), (0, 0), (1, 9))"
      ]
     },
     "execution_count": 10,
     "metadata": {},
     "output_type": "execute_result"
    }
   ],
   "source": [
    "txt = extracted['pdf_text']\n",
    "img_info = extracted['image']\n",
    "pg_meta = extracted['page']\n",
    "txt.shape, img_info.shape, pg_meta.shape"
   ]
  },
  {
   "cell_type": "code",
   "execution_count": 11,
   "id": "d5044efd-fd14-42ab-8f2b-23f2a9d50b37",
   "metadata": {
    "tags": []
   },
   "outputs": [
    {
     "data": {
      "text/html": [
       "<div>\n",
       "<style scoped>\n",
       "    .dataframe tbody tr th:only-of-type {\n",
       "        vertical-align: middle;\n",
       "    }\n",
       "\n",
       "    .dataframe tbody tr th {\n",
       "        vertical-align: top;\n",
       "    }\n",
       "\n",
       "    .dataframe thead th {\n",
       "        text-align: right;\n",
       "    }\n",
       "</style>\n",
       "<table border=\"1\" class=\"dataframe\">\n",
       "  <thead>\n",
       "    <tr style=\"text-align: right;\">\n",
       "      <th></th>\n",
       "      <th>block_num</th>\n",
       "      <th>line_num</th>\n",
       "      <th>font_size</th>\n",
       "      <th>font</th>\n",
       "      <th>color_srgb</th>\n",
       "      <th>text</th>\n",
       "      <th>top_left_x_pdf</th>\n",
       "      <th>top_left_y_pdf</th>\n",
       "      <th>bottom_right_x_pdf</th>\n",
       "      <th>bottom_right_y_pdf</th>\n",
       "      <th>page_num</th>\n",
       "    </tr>\n",
       "  </thead>\n",
       "  <tbody>\n",
       "    <tr>\n",
       "      <th>0</th>\n",
       "      <td>0</td>\n",
       "      <td>0</td>\n",
       "      <td>11.0</td>\n",
       "      <td>Helvetica-Bold</td>\n",
       "      <td>0</td>\n",
       "      <td>Exhibit 21.1</td>\n",
       "      <td>504.791168</td>\n",
       "      <td>83.474442</td>\n",
       "      <td>565.929260</td>\n",
       "      <td>98.621445</td>\n",
       "      <td>0</td>\n",
       "    </tr>\n",
       "    <tr>\n",
       "      <th>1</th>\n",
       "      <td>1</td>\n",
       "      <td>0</td>\n",
       "      <td>11.0</td>\n",
       "      <td>Helvetica-Bold</td>\n",
       "      <td>0</td>\n",
       "      <td>WISCONSIN ELECTRIC POWER COMPANY</td>\n",
       "      <td>184.882263</td>\n",
       "      <td>127.074478</td>\n",
       "      <td>410.393280</td>\n",
       "      <td>142.221481</td>\n",
       "      <td>0</td>\n",
       "    </tr>\n",
       "    <tr>\n",
       "      <th>2</th>\n",
       "      <td>2</td>\n",
       "      <td>0</td>\n",
       "      <td>11.0</td>\n",
       "      <td>Helvetica-Bold</td>\n",
       "      <td>0</td>\n",
       "      <td>SUBSIDIARIES AS OF DECEMBER 31, 2016</td>\n",
       "      <td>184.249771</td>\n",
       "      <td>142.274490</td>\n",
       "      <td>411.025818</td>\n",
       "      <td>157.421494</td>\n",
       "      <td>0</td>\n",
       "    </tr>\n",
       "    <tr>\n",
       "      <th>3</th>\n",
       "      <td>3</td>\n",
       "      <td>0</td>\n",
       "      <td>10.0</td>\n",
       "      <td>Helvetica</td>\n",
       "      <td>0</td>\n",
       "      <td>The following table includes the subsidiaries ...</td>\n",
       "      <td>29.346460</td>\n",
       "      <td>214.576477</td>\n",
       "      <td>559.586365</td>\n",
       "      <td>228.316483</td>\n",
       "      <td>0</td>\n",
       "    </tr>\n",
       "    <tr>\n",
       "      <th>4</th>\n",
       "      <td>3</td>\n",
       "      <td>1</td>\n",
       "      <td>10.0</td>\n",
       "      <td>Helvetica</td>\n",
       "      <td>0</td>\n",
       "      <td>Wisconsin, as well as the percent of ownership...</td>\n",
       "      <td>29.346460</td>\n",
       "      <td>226.646484</td>\n",
       "      <td>547.326355</td>\n",
       "      <td>240.386490</td>\n",
       "      <td>0</td>\n",
       "    </tr>\n",
       "    <tr>\n",
       "      <th>5</th>\n",
       "      <td>3</td>\n",
       "      <td>2</td>\n",
       "      <td>10.0</td>\n",
       "      <td>Helvetica</td>\n",
       "      <td>0</td>\n",
       "      <td>Inc.</td>\n",
       "      <td>29.346460</td>\n",
       "      <td>238.716492</td>\n",
       "      <td>45.466461</td>\n",
       "      <td>252.456497</td>\n",
       "      <td>0</td>\n",
       "    </tr>\n",
       "    <tr>\n",
       "      <th>6</th>\n",
       "      <td>4</td>\n",
       "      <td>0</td>\n",
       "      <td>10.0</td>\n",
       "      <td>Helvetica</td>\n",
       "      <td>0</td>\n",
       "      <td>Subsidiary</td>\n",
       "      <td>31.346460</td>\n",
       "      <td>317.576477</td>\n",
       "      <td>78.026466</td>\n",
       "      <td>331.316467</td>\n",
       "      <td>0</td>\n",
       "    </tr>\n",
       "    <tr>\n",
       "      <th>7</th>\n",
       "      <td>5</td>\n",
       "      <td>0</td>\n",
       "      <td>10.0</td>\n",
       "      <td>Helvetica</td>\n",
       "      <td>0</td>\n",
       "      <td>State of Incorporation</td>\n",
       "      <td>344.084747</td>\n",
       "      <td>307.576477</td>\n",
       "      <td>439.694733</td>\n",
       "      <td>321.316467</td>\n",
       "      <td>0</td>\n",
       "    </tr>\n",
       "    <tr>\n",
       "      <th>8</th>\n",
       "      <td>5</td>\n",
       "      <td>1</td>\n",
       "      <td>10.0</td>\n",
       "      <td>Helvetica</td>\n",
       "      <td>0</td>\n",
       "      <td>or Organization</td>\n",
       "      <td>357.709747</td>\n",
       "      <td>317.979828</td>\n",
       "      <td>426.069763</td>\n",
       "      <td>331.719818</td>\n",
       "      <td>0</td>\n",
       "    </tr>\n",
       "    <tr>\n",
       "      <th>9</th>\n",
       "      <td>5</td>\n",
       "      <td>3</td>\n",
       "      <td>10.0</td>\n",
       "      <td>Helvetica</td>\n",
       "      <td>0</td>\n",
       "      <td>Percent Ownership</td>\n",
       "      <td>467.862946</td>\n",
       "      <td>317.576477</td>\n",
       "      <td>552.892944</td>\n",
       "      <td>331.316467</td>\n",
       "      <td>0</td>\n",
       "    </tr>\n",
       "    <tr>\n",
       "      <th>10</th>\n",
       "      <td>7</td>\n",
       "      <td>0</td>\n",
       "      <td>10.0</td>\n",
       "      <td>Helvetica</td>\n",
       "      <td>0</td>\n",
       "      <td>ATC Management, Inc. *</td>\n",
       "      <td>31.346460</td>\n",
       "      <td>349.576477</td>\n",
       "      <td>140.836456</td>\n",
       "      <td>363.316467</td>\n",
       "      <td>0</td>\n",
       "    </tr>\n",
       "    <tr>\n",
       "      <th>11</th>\n",
       "      <td>7</td>\n",
       "      <td>2</td>\n",
       "      <td>10.0</td>\n",
       "      <td>Helvetica</td>\n",
       "      <td>0</td>\n",
       "      <td>Wisconsin</td>\n",
       "      <td>369.109741</td>\n",
       "      <td>349.576477</td>\n",
       "      <td>414.669739</td>\n",
       "      <td>363.316467</td>\n",
       "      <td>0</td>\n",
       "    </tr>\n",
       "    <tr>\n",
       "      <th>12</th>\n",
       "      <td>7</td>\n",
       "      <td>4</td>\n",
       "      <td>10.0</td>\n",
       "      <td>Helvetica</td>\n",
       "      <td>0</td>\n",
       "      <td>26.24%</td>\n",
       "      <td>493.422943</td>\n",
       "      <td>349.576477</td>\n",
       "      <td>527.332947</td>\n",
       "      <td>363.316467</td>\n",
       "      <td>0</td>\n",
       "    </tr>\n",
       "    <tr>\n",
       "      <th>13</th>\n",
       "      <td>8</td>\n",
       "      <td>0</td>\n",
       "      <td>10.0</td>\n",
       "      <td>Helvetica</td>\n",
       "      <td>0</td>\n",
       "      <td>American Transmission Company LLC *</td>\n",
       "      <td>31.346460</td>\n",
       "      <td>365.576477</td>\n",
       "      <td>209.166458</td>\n",
       "      <td>379.316467</td>\n",
       "      <td>0</td>\n",
       "    </tr>\n",
       "    <tr>\n",
       "      <th>14</th>\n",
       "      <td>8</td>\n",
       "      <td>2</td>\n",
       "      <td>10.0</td>\n",
       "      <td>Helvetica</td>\n",
       "      <td>0</td>\n",
       "      <td>Wisconsin</td>\n",
       "      <td>369.109741</td>\n",
       "      <td>365.576477</td>\n",
       "      <td>414.669739</td>\n",
       "      <td>379.316467</td>\n",
       "      <td>0</td>\n",
       "    </tr>\n",
       "    <tr>\n",
       "      <th>15</th>\n",
       "      <td>8</td>\n",
       "      <td>4</td>\n",
       "      <td>10.0</td>\n",
       "      <td>Helvetica</td>\n",
       "      <td>0</td>\n",
       "      <td>23.04%</td>\n",
       "      <td>493.422943</td>\n",
       "      <td>365.576477</td>\n",
       "      <td>527.332947</td>\n",
       "      <td>379.316467</td>\n",
       "      <td>0</td>\n",
       "    </tr>\n",
       "    <tr>\n",
       "      <th>16</th>\n",
       "      <td>9</td>\n",
       "      <td>0</td>\n",
       "      <td>10.0</td>\n",
       "      <td>Helvetica</td>\n",
       "      <td>0</td>\n",
       "      <td>Bostco LLC</td>\n",
       "      <td>31.346460</td>\n",
       "      <td>381.576477</td>\n",
       "      <td>83.036469</td>\n",
       "      <td>395.316467</td>\n",
       "      <td>0</td>\n",
       "    </tr>\n",
       "    <tr>\n",
       "      <th>17</th>\n",
       "      <td>9</td>\n",
       "      <td>2</td>\n",
       "      <td>10.0</td>\n",
       "      <td>Helvetica</td>\n",
       "      <td>0</td>\n",
       "      <td>Wisconsin</td>\n",
       "      <td>369.109741</td>\n",
       "      <td>381.576477</td>\n",
       "      <td>414.669739</td>\n",
       "      <td>395.316467</td>\n",
       "      <td>0</td>\n",
       "    </tr>\n",
       "    <tr>\n",
       "      <th>18</th>\n",
       "      <td>9</td>\n",
       "      <td>4</td>\n",
       "      <td>10.0</td>\n",
       "      <td>Helvetica</td>\n",
       "      <td>0</td>\n",
       "      <td>100%</td>\n",
       "      <td>497.592926</td>\n",
       "      <td>381.576477</td>\n",
       "      <td>523.162964</td>\n",
       "      <td>395.316467</td>\n",
       "      <td>0</td>\n",
       "    </tr>\n",
       "    <tr>\n",
       "      <th>19</th>\n",
       "      <td>10</td>\n",
       "      <td>0</td>\n",
       "      <td>10.0</td>\n",
       "      <td>Times-Roman</td>\n",
       "      <td>0</td>\n",
       "      <td>*</td>\n",
       "      <td>28.346460</td>\n",
       "      <td>420.446472</td>\n",
       "      <td>33.346458</td>\n",
       "      <td>433.786469</td>\n",
       "      <td>0</td>\n",
       "    </tr>\n",
       "    <tr>\n",
       "      <th>20</th>\n",
       "      <td>10</td>\n",
       "      <td>1</td>\n",
       "      <td>10.0</td>\n",
       "      <td>Helvetica</td>\n",
       "      <td>0</td>\n",
       "      <td>On January 1, 2017, we transferred our ownersh...</td>\n",
       "      <td>41.846458</td>\n",
       "      <td>420.576477</td>\n",
       "      <td>543.156311</td>\n",
       "      <td>434.316467</td>\n",
       "      <td>0</td>\n",
       "    </tr>\n",
       "    <tr>\n",
       "      <th>21</th>\n",
       "      <td>10</td>\n",
       "      <td>2</td>\n",
       "      <td>10.0</td>\n",
       "      <td>Helvetica</td>\n",
       "      <td>0</td>\n",
       "      <td>Company LLC to to another subsidiary of WEC En...</td>\n",
       "      <td>41.846458</td>\n",
       "      <td>432.646484</td>\n",
       "      <td>317.516418</td>\n",
       "      <td>446.386475</td>\n",
       "      <td>0</td>\n",
       "    </tr>\n",
       "  </tbody>\n",
       "</table>\n",
       "</div>"
      ],
      "text/plain": [
       "    block_num  line_num  font_size            font  color_srgb  \\\n",
       "0           0         0       11.0  Helvetica-Bold           0   \n",
       "1           1         0       11.0  Helvetica-Bold           0   \n",
       "2           2         0       11.0  Helvetica-Bold           0   \n",
       "3           3         0       10.0       Helvetica           0   \n",
       "4           3         1       10.0       Helvetica           0   \n",
       "5           3         2       10.0       Helvetica           0   \n",
       "6           4         0       10.0       Helvetica           0   \n",
       "7           5         0       10.0       Helvetica           0   \n",
       "8           5         1       10.0       Helvetica           0   \n",
       "9           5         3       10.0       Helvetica           0   \n",
       "10          7         0       10.0       Helvetica           0   \n",
       "11          7         2       10.0       Helvetica           0   \n",
       "12          7         4       10.0       Helvetica           0   \n",
       "13          8         0       10.0       Helvetica           0   \n",
       "14          8         2       10.0       Helvetica           0   \n",
       "15          8         4       10.0       Helvetica           0   \n",
       "16          9         0       10.0       Helvetica           0   \n",
       "17          9         2       10.0       Helvetica           0   \n",
       "18          9         4       10.0       Helvetica           0   \n",
       "19         10         0       10.0     Times-Roman           0   \n",
       "20         10         1       10.0       Helvetica           0   \n",
       "21         10         2       10.0       Helvetica           0   \n",
       "\n",
       "                                                 text  top_left_x_pdf  \\\n",
       "0                                        Exhibit 21.1      504.791168   \n",
       "1                    WISCONSIN ELECTRIC POWER COMPANY      184.882263   \n",
       "2                SUBSIDIARIES AS OF DECEMBER 31, 2016      184.249771   \n",
       "3   The following table includes the subsidiaries ...       29.346460   \n",
       "4   Wisconsin, as well as the percent of ownership...       29.346460   \n",
       "5                                                Inc.       29.346460   \n",
       "6                                          Subsidiary       31.346460   \n",
       "7                              State of Incorporation      344.084747   \n",
       "8                                     or Organization      357.709747   \n",
       "9                                   Percent Ownership      467.862946   \n",
       "10                             ATC Management, Inc. *       31.346460   \n",
       "11                                          Wisconsin      369.109741   \n",
       "12                                             26.24%      493.422943   \n",
       "13                American Transmission Company LLC *       31.346460   \n",
       "14                                          Wisconsin      369.109741   \n",
       "15                                             23.04%      493.422943   \n",
       "16                                         Bostco LLC       31.346460   \n",
       "17                                          Wisconsin      369.109741   \n",
       "18                                               100%      497.592926   \n",
       "19                                                  *       28.346460   \n",
       "20  On January 1, 2017, we transferred our ownersh...       41.846458   \n",
       "21  Company LLC to to another subsidiary of WEC En...       41.846458   \n",
       "\n",
       "    top_left_y_pdf  bottom_right_x_pdf  bottom_right_y_pdf  page_num  \n",
       "0        83.474442          565.929260           98.621445         0  \n",
       "1       127.074478          410.393280          142.221481         0  \n",
       "2       142.274490          411.025818          157.421494         0  \n",
       "3       214.576477          559.586365          228.316483         0  \n",
       "4       226.646484          547.326355          240.386490         0  \n",
       "5       238.716492           45.466461          252.456497         0  \n",
       "6       317.576477           78.026466          331.316467         0  \n",
       "7       307.576477          439.694733          321.316467         0  \n",
       "8       317.979828          426.069763          331.719818         0  \n",
       "9       317.576477          552.892944          331.316467         0  \n",
       "10      349.576477          140.836456          363.316467         0  \n",
       "11      349.576477          414.669739          363.316467         0  \n",
       "12      349.576477          527.332947          363.316467         0  \n",
       "13      365.576477          209.166458          379.316467         0  \n",
       "14      365.576477          414.669739          379.316467         0  \n",
       "15      365.576477          527.332947          379.316467         0  \n",
       "16      381.576477           83.036469          395.316467         0  \n",
       "17      381.576477          414.669739          395.316467         0  \n",
       "18      381.576477          523.162964          395.316467         0  \n",
       "19      420.446472           33.346458          433.786469         0  \n",
       "20      420.576477          543.156311          434.316467         0  \n",
       "21      432.646484          317.516418          446.386475         0  "
      ]
     },
     "execution_count": 11,
     "metadata": {},
     "output_type": "execute_result"
    }
   ],
   "source": [
    "txt"
   ]
  },
  {
   "cell_type": "markdown",
   "id": "46310943-177b-4bf5-86ad-29fb156ff5ed",
   "metadata": {},
   "source": [
    "### Label the entities"
   ]
  },
  {
   "cell_type": "code",
   "execution_count": 12,
   "id": "c5f16fa8-857e-40de-9d1f-e04cbaf42d11",
   "metadata": {
    "tags": []
   },
   "outputs": [],
   "source": [
    "label_col = \"ner_tag\""
   ]
  },
  {
   "cell_type": "code",
   "execution_count": 13,
   "id": "8b98246f-47b6-47c3-b64f-9dc4c494ddfb",
   "metadata": {
    "tags": []
   },
   "outputs": [],
   "source": [
    "txt.loc[:, label_col] = 0"
   ]
  },
  {
   "cell_type": "code",
   "execution_count": 14,
   "id": "0cf6ae61-e87d-4e63-8037-faccd3de70d8",
   "metadata": {
    "tags": []
   },
   "outputs": [
    {
     "data": {
      "image/jpeg": "[encoded data removed]",
      "image/png": "[encoded data removed]",
      "text/plain": [
       "<PIL.Image.Image image mode=RGB size=414x585>"
      ]
     },
     "execution_count": 14,
     "metadata": {},
     "output_type": "execute_result"
    }
   ],
   "source": [
    "pg_img = _render_page(pg, dpi=50)  # small dpi for notebook display\n",
    "pg_img"
   ]
  },
  {
   "cell_type": "code",
   "execution_count": 15,
   "id": "ad2fafdc-057c-4fb0-aa89-371782a4b8b5",
   "metadata": {
    "tags": []
   },
   "outputs": [
    {
     "data": {
      "text/plain": [
       "{0: 'no object',\n",
       " 1: 'header: subsdiary',\n",
       " 2: 'data: subsidiary',\n",
       " 3: 'header: location of incorporation',\n",
       " 4: 'data: location of incorporation',\n",
       " 5: 'header: ownership percentage',\n",
       " 6: 'data: ownership percentage'}"
      ]
     },
     "execution_count": 15,
     "metadata": {},
     "output_type": "execute_result"
    }
   ],
   "source": [
    "id_to_label"
   ]
  },
  {
   "cell_type": "code",
   "execution_count": 16,
   "id": "eb9979cd-9461-4f39-9196-31a104ad5ade",
   "metadata": {
    "tags": []
   },
   "outputs": [],
   "source": [
    "label_to_indices = {\n",
    "    1: [6],\n",
    "    2: [10, 13, 16],\n",
    "    3: [7, 8],\n",
    "    4: [11, 14, 17],\n",
    "    5: [9],\n",
    "    6: [12, 15, 18]\n",
    "}"
   ]
  },
  {
   "cell_type": "code",
   "execution_count": 17,
   "id": "cc013dca-73ca-4456-b1b3-a8d1cc309cf1",
   "metadata": {
    "tags": []
   },
   "outputs": [],
   "source": [
    "for label, indices in label_to_indices.items():\n",
    "    txt.loc[indices, label_col] = label"
   ]
  },
  {
   "cell_type": "code",
   "execution_count": 18,
   "id": "d09b7b2a-15fa-4630-8f09-7e095fec33dd",
   "metadata": {
    "tags": []
   },
   "outputs": [],
   "source": [
    "id_to_color = {\n",
    "    0: (128, 128, 128),\n",
    "    1: (0, 255, 0),\n",
    "    2: (0, 255, 128),\n",
    "    3: (255, 0, 255),\n",
    "    4: (128, 0, 255),\n",
    "    5: (255, 128, 0),\n",
    "    6: (255, 0, 0)\n",
    "}   "
   ]
  },
  {
   "cell_type": "code",
   "execution_count": 19,
   "id": "2cfa0275-058a-4034-aeee-82da0d6d7b62",
   "metadata": {
    "tags": []
   },
   "outputs": [
    {
     "data": {
      "text/plain": [
       "<matplotlib.image.AxesImage at 0x302ae8590>"
      ]
     },
     "execution_count": 19,
     "metadata": {},
     "output_type": "execute_result"
    },
    {
     "data": {
      "image/png": "[encoded data removed]",
      "text/plain": [
       "<Figure size 1000x1000 with 1 Axes>"
      ]
     },
     "metadata": {},
     "output_type": "display_data"
    }
   ],
   "source": [
    "# fix to overlay boxes on pdf and color code it by label\n",
    "coord_cols = ['top_left_x_pdf', 'top_left_y_pdf', 'bottom_right_x_pdf', 'bottom_right_y_pdf']\n",
    "dpi = 70\n",
    "display_img = np.array(_render_page(pg, dpi=dpi))\n",
    "for tag in id_to_label.keys():\n",
    "    subset = txt[txt[label_col] == tag]\n",
    "    bboxes = pdf_coords_to_pixel_coords(subset[coord_cols].values, dpi=dpi)\n",
    "    display_img = overlay_bboxes(display_img, bboxes, color=id_to_color[tag])\n",
    "display_img_array(display_img, figsize=(10, 10))"
   ]
  },
  {
   "cell_type": "markdown",
   "id": "e71e43ca-d388-4353-834c-7ccc654ccd2a",
   "metadata": {},
   "source": [
    "### Combine into one record"
   ]
  },
  {
   "cell_type": "code",
   "execution_count": 31,
   "id": "5ff7b11c-dfb2-4699-89e5-a6602d19355d",
   "metadata": {
    "tags": []
   },
   "outputs": [],
   "source": [
    "# for now make image a filename\n",
    "output_df = pd.DataFrame(columns=[\"tokens\", \"bboxes\", \"ner_tags\", \"image\"])"
   ]
  },
  {
   "cell_type": "code",
   "execution_count": 20,
   "id": "d2522f7b-7e20-4c85-991a-d4d2896b9ef9",
   "metadata": {
    "tags": []
   },
   "outputs": [],
   "source": [
    "doc_id = 0"
   ]
  },
  {
   "cell_type": "code",
   "execution_count": 21,
   "id": "a3115358-d056-4990-aa34-92aeaef99903",
   "metadata": {
    "tags": []
   },
   "outputs": [],
   "source": [
    "txt.loc[:, \"id\"] = doc_id"
   ]
  },
  {
   "cell_type": "code",
   "execution_count": 35,
   "id": "9ef93bad-7ef7-4322-b167-eeee45c62185",
   "metadata": {
    "tags": []
   },
   "outputs": [],
   "source": [
    "output_df[\"tokens\"] = txt.groupby(\"id\")[\"text\"].apply(list)\n",
    "output_df[\"ner_tags\"] = txt.groupby(\"id\")[\"ner_tag\"].apply(list)"
   ]
  },
  {
   "cell_type": "code",
   "execution_count": 36,
   "id": "49d0920a-905f-4821-9368-4c046d850333",
   "metadata": {
    "tags": []
   },
   "outputs": [
    {
     "data": {
      "text/html": [
       "<div>\n",
       "<style scoped>\n",
       "    .dataframe tbody tr th:only-of-type {\n",
       "        vertical-align: middle;\n",
       "    }\n",
       "\n",
       "    .dataframe tbody tr th {\n",
       "        vertical-align: top;\n",
       "    }\n",
       "\n",
       "    .dataframe thead th {\n",
       "        text-align: right;\n",
       "    }\n",
       "</style>\n",
       "<table border=\"1\" class=\"dataframe\">\n",
       "  <thead>\n",
       "    <tr style=\"text-align: right;\">\n",
       "      <th></th>\n",
       "      <th>tokens</th>\n",
       "      <th>bboxes</th>\n",
       "      <th>ner_tags</th>\n",
       "      <th>image</th>\n",
       "    </tr>\n",
       "    <tr>\n",
       "      <th>id</th>\n",
       "      <th></th>\n",
       "      <th></th>\n",
       "      <th></th>\n",
       "      <th></th>\n",
       "    </tr>\n",
       "  </thead>\n",
       "  <tbody>\n",
       "    <tr>\n",
       "      <th>0</th>\n",
       "      <td>[Exhibit 21.1, WISCONSIN ELECTRIC POWER COMPAN...</td>\n",
       "      <td>NaN</td>\n",
       "      <td>[0, 0, 0, 0, 0, 0, 1, 3, 3, 5, 2, 4, 6, 2, 4, ...</td>\n",
       "      <td>NaN</td>\n",
       "    </tr>\n",
       "  </tbody>\n",
       "</table>\n",
       "</div>"
      ],
      "text/plain": [
       "                                               tokens bboxes  \\\n",
       "id                                                             \n",
       "0   [Exhibit 21.1, WISCONSIN ELECTRIC POWER COMPAN...    NaN   \n",
       "\n",
       "                                             ner_tags image  \n",
       "id                                                           \n",
       "0   [0, 0, 0, 0, 0, 0, 1, 3, 3, 5, 2, 4, 6, 2, 4, ...   NaN  "
      ]
     },
     "execution_count": 36,
     "metadata": {},
     "output_type": "execute_result"
    }
   ],
   "source": [
    "output_df"
   ]
  },
  {
   "cell_type": "code",
   "execution_count": 41,
   "id": "ef6849a8-1770-47f9-a25c-9d2f86cb2d7a",
   "metadata": {
    "tags": []
   },
   "outputs": [
    {
     "ename": "AttributeError",
     "evalue": "Can only use .str accessor with string values!",
     "output_type": "error",
     "traceback": [
      "\u001b[0;31m---------------------------------------------------------------------------\u001b[0m",
      "\u001b[0;31mAttributeError\u001b[0m                            Traceback (most recent call last)",
      "Cell \u001b[0;32mIn[41], line 2\u001b[0m\n\u001b[1;32m      1\u001b[0m \u001b[38;5;66;03m# format bboxes to have x1, y1, x2, y2\u001b[39;00m\n\u001b[0;32m----> 2\u001b[0m \u001b[43mtxt\u001b[49m\u001b[38;5;241;43m.\u001b[39;49m\u001b[43mtop_left_x_pdf\u001b[49m\u001b[38;5;241;43m.\u001b[39;49m\u001b[43mstr\u001b[49m \u001b[38;5;241m+\u001b[39m \u001b[38;5;124m\"\u001b[39m\u001b[38;5;124m, \u001b[39m\u001b[38;5;124m\"\u001b[39m \u001b[38;5;241m+\u001b[39m txt\u001b[38;5;241m.\u001b[39mtop_left_y_pdf\u001b[38;5;241m.\u001b[39mstr\n",
      "File \u001b[0;32m~/mambaforge/envs/mozilla-sec-eia/lib/python3.11/site-packages/pandas/core/generic.py:6296\u001b[0m, in \u001b[0;36mNDFrame.__getattr__\u001b[0;34m(self, name)\u001b[0m\n\u001b[1;32m   6289\u001b[0m \u001b[38;5;28;01mif\u001b[39;00m (\n\u001b[1;32m   6290\u001b[0m     name \u001b[38;5;129;01mnot\u001b[39;00m \u001b[38;5;129;01min\u001b[39;00m \u001b[38;5;28mself\u001b[39m\u001b[38;5;241m.\u001b[39m_internal_names_set\n\u001b[1;32m   6291\u001b[0m     \u001b[38;5;129;01mand\u001b[39;00m name \u001b[38;5;129;01mnot\u001b[39;00m \u001b[38;5;129;01min\u001b[39;00m \u001b[38;5;28mself\u001b[39m\u001b[38;5;241m.\u001b[39m_metadata\n\u001b[1;32m   6292\u001b[0m     \u001b[38;5;129;01mand\u001b[39;00m name \u001b[38;5;129;01mnot\u001b[39;00m \u001b[38;5;129;01min\u001b[39;00m \u001b[38;5;28mself\u001b[39m\u001b[38;5;241m.\u001b[39m_accessors\n\u001b[1;32m   6293\u001b[0m     \u001b[38;5;129;01mand\u001b[39;00m \u001b[38;5;28mself\u001b[39m\u001b[38;5;241m.\u001b[39m_info_axis\u001b[38;5;241m.\u001b[39m_can_hold_identifiers_and_holds_name(name)\n\u001b[1;32m   6294\u001b[0m ):\n\u001b[1;32m   6295\u001b[0m     \u001b[38;5;28;01mreturn\u001b[39;00m \u001b[38;5;28mself\u001b[39m[name]\n\u001b[0;32m-> 6296\u001b[0m \u001b[38;5;28;01mreturn\u001b[39;00m \u001b[38;5;28;43mobject\u001b[39;49m\u001b[38;5;241;43m.\u001b[39;49m\u001b[38;5;21;43m__getattribute__\u001b[39;49m\u001b[43m(\u001b[49m\u001b[38;5;28;43mself\u001b[39;49m\u001b[43m,\u001b[49m\u001b[43m \u001b[49m\u001b[43mname\u001b[49m\u001b[43m)\u001b[49m\n",
      "File \u001b[0;32m~/mambaforge/envs/mozilla-sec-eia/lib/python3.11/site-packages/pandas/core/accessor.py:224\u001b[0m, in \u001b[0;36mCachedAccessor.__get__\u001b[0;34m(self, obj, cls)\u001b[0m\n\u001b[1;32m    221\u001b[0m \u001b[38;5;28;01mif\u001b[39;00m obj \u001b[38;5;129;01mis\u001b[39;00m \u001b[38;5;28;01mNone\u001b[39;00m:\n\u001b[1;32m    222\u001b[0m     \u001b[38;5;66;03m# we're accessing the attribute of the class, i.e., Dataset.geo\u001b[39;00m\n\u001b[1;32m    223\u001b[0m     \u001b[38;5;28;01mreturn\u001b[39;00m \u001b[38;5;28mself\u001b[39m\u001b[38;5;241m.\u001b[39m_accessor\n\u001b[0;32m--> 224\u001b[0m accessor_obj \u001b[38;5;241m=\u001b[39m \u001b[38;5;28;43mself\u001b[39;49m\u001b[38;5;241;43m.\u001b[39;49m\u001b[43m_accessor\u001b[49m\u001b[43m(\u001b[49m\u001b[43mobj\u001b[49m\u001b[43m)\u001b[49m\n\u001b[1;32m    225\u001b[0m \u001b[38;5;66;03m# Replace the property with the accessor object. Inspired by:\u001b[39;00m\n\u001b[1;32m    226\u001b[0m \u001b[38;5;66;03m# https://www.pydanny.com/cached-property.html\u001b[39;00m\n\u001b[1;32m    227\u001b[0m \u001b[38;5;66;03m# We need to use object.__setattr__ because we overwrite __setattr__ on\u001b[39;00m\n\u001b[1;32m    228\u001b[0m \u001b[38;5;66;03m# NDFrame\u001b[39;00m\n\u001b[1;32m    229\u001b[0m \u001b[38;5;28mobject\u001b[39m\u001b[38;5;241m.\u001b[39m\u001b[38;5;21m__setattr__\u001b[39m(obj, \u001b[38;5;28mself\u001b[39m\u001b[38;5;241m.\u001b[39m_name, accessor_obj)\n",
      "File \u001b[0;32m~/mambaforge/envs/mozilla-sec-eia/lib/python3.11/site-packages/pandas/core/strings/accessor.py:191\u001b[0m, in \u001b[0;36mStringMethods.__init__\u001b[0;34m(self, data)\u001b[0m\n\u001b[1;32m    188\u001b[0m \u001b[38;5;28;01mdef\u001b[39;00m \u001b[38;5;21m__init__\u001b[39m(\u001b[38;5;28mself\u001b[39m, data) \u001b[38;5;241m-\u001b[39m\u001b[38;5;241m>\u001b[39m \u001b[38;5;28;01mNone\u001b[39;00m:\n\u001b[1;32m    189\u001b[0m     \u001b[38;5;28;01mfrom\u001b[39;00m \u001b[38;5;21;01mpandas\u001b[39;00m\u001b[38;5;21;01m.\u001b[39;00m\u001b[38;5;21;01mcore\u001b[39;00m\u001b[38;5;21;01m.\u001b[39;00m\u001b[38;5;21;01marrays\u001b[39;00m\u001b[38;5;21;01m.\u001b[39;00m\u001b[38;5;21;01mstring_\u001b[39;00m \u001b[38;5;28;01mimport\u001b[39;00m StringDtype\n\u001b[0;32m--> 191\u001b[0m     \u001b[38;5;28mself\u001b[39m\u001b[38;5;241m.\u001b[39m_inferred_dtype \u001b[38;5;241m=\u001b[39m \u001b[38;5;28;43mself\u001b[39;49m\u001b[38;5;241;43m.\u001b[39;49m\u001b[43m_validate\u001b[49m\u001b[43m(\u001b[49m\u001b[43mdata\u001b[49m\u001b[43m)\u001b[49m\n\u001b[1;32m    192\u001b[0m     \u001b[38;5;28mself\u001b[39m\u001b[38;5;241m.\u001b[39m_is_categorical \u001b[38;5;241m=\u001b[39m \u001b[38;5;28misinstance\u001b[39m(data\u001b[38;5;241m.\u001b[39mdtype, CategoricalDtype)\n\u001b[1;32m    193\u001b[0m     \u001b[38;5;28mself\u001b[39m\u001b[38;5;241m.\u001b[39m_is_string \u001b[38;5;241m=\u001b[39m \u001b[38;5;28misinstance\u001b[39m(data\u001b[38;5;241m.\u001b[39mdtype, StringDtype)\n",
      "File \u001b[0;32m~/mambaforge/envs/mozilla-sec-eia/lib/python3.11/site-packages/pandas/core/strings/accessor.py:245\u001b[0m, in \u001b[0;36mStringMethods._validate\u001b[0;34m(data)\u001b[0m\n\u001b[1;32m    242\u001b[0m inferred_dtype \u001b[38;5;241m=\u001b[39m lib\u001b[38;5;241m.\u001b[39minfer_dtype(values, skipna\u001b[38;5;241m=\u001b[39m\u001b[38;5;28;01mTrue\u001b[39;00m)\n\u001b[1;32m    244\u001b[0m \u001b[38;5;28;01mif\u001b[39;00m inferred_dtype \u001b[38;5;129;01mnot\u001b[39;00m \u001b[38;5;129;01min\u001b[39;00m allowed_types:\n\u001b[0;32m--> 245\u001b[0m     \u001b[38;5;28;01mraise\u001b[39;00m \u001b[38;5;167;01mAttributeError\u001b[39;00m(\u001b[38;5;124m\"\u001b[39m\u001b[38;5;124mCan only use .str accessor with string values!\u001b[39m\u001b[38;5;124m\"\u001b[39m)\n\u001b[1;32m    246\u001b[0m \u001b[38;5;28;01mreturn\u001b[39;00m inferred_dtype\n",
      "\u001b[0;31mAttributeError\u001b[0m: Can only use .str accessor with string values!"
     ]
    }
   ],
   "source": [
    "# format bboxes to have x1, y1, x2, y2\n",
    "txt.top_left_x_pdf.str + \", \" + txt.top_left_y_pdf.str"
   ]
  },
  {
   "cell_type": "code",
   "execution_count": null,
   "id": "88e9c6af-4719-4663-bb87-4897c12cc1a8",
   "metadata": {},
   "outputs": [],
   "source": []
  }
 ],
 "metadata": {
  "kernelspec": {
   "display_name": "mozilla-sec-eia",
   "language": "python",
   "name": "mozilla-sec-eia"
  },
  "language_info": {
   "codemirror_mode": {
    "name": "ipython",
    "version": 3
   },
   "file_extension": ".py",
   "mimetype": "text/x-python",
   "name": "python",
   "nbconvert_exporter": "python",
   "pygments_lexer": "ipython3",
   "version": "3.11.8"
  }
 },
 "nbformat": 4,
 "nbformat_minor": 5
}
