{
 "cells": [
  {
   "cell_type": "markdown",
   "id": "277dd674-b2a5-49d7-b182-758bb6bb179a",
   "metadata": {},
   "source": [
    "# Create training data\n",
    "\n",
    "Schema:\n",
    "* id: (int) unique ID for each doc\n",
    "* tokens: (list) words or groups of words \n",
    "* bboxes: (list) bounding box for each token (x1, y1, x2, y2)\n",
    "* ner_tags: (int) the entity tag corresponding to each token\n",
    "* image: PIL Image\n",
    "\n",
    "See [FUNSD dataset](https://huggingface.co/datasets/nielsr/funsd-layoutlmv3) as an example\n",
    "\n",
    "Tutorials and notebooks:\n",
    "* [Fine-tuning on custom dataset tutorial](https://medium.com/@matt.noe/tutorial-how-to-train-layoutlm-on-a-custom-dataset-with-hugging-face-cda58c96571c)\n",
    "* [Fine-tuning LayoutLMv3 notebook](https://colab.research.google.com/github/NielsRogge/Transformers-Tutorials/blob/master/LayoutLMv3/Fine_tune_LayoutLMv3_on_FUNSD_(HuggingFace_Trainer).ipynb#scrollTo=cqcq7rzlVDOE)\n",
    "* [Fine-tuning LayoutLMv2 notebook](https://colab.research.google.com/github/NielsRogge/Transformers-Tutorials/blob/master/LayoutLMv2/FUNSD/Fine_tuning_LayoutLMv2ForTokenClassification_on_FUNSD_using_HuggingFace_Trainer.ipynb)"
   ]
  },
  {
   "cell_type": "code",
   "execution_count": null,
   "id": "1965dd48-1d86-4456-afa6-66ca5ae4a51b",
   "metadata": {
    "tags": []
   },
   "outputs": [],
   "source": [
    "!pip install opencv-python"
   ]
  },
  {
   "cell_type": "code",
   "execution_count": null,
   "id": "ac57b7c0-0fcc-4ad0-92d8-2fe3be1356a4",
   "metadata": {
    "tags": []
   },
   "outputs": [],
   "source": [
    "!pip install datasets"
   ]
  },
  {
   "cell_type": "code",
   "execution_count": 4,
   "id": "91015277-ac2f-485e-b866-8de301e7ea60",
   "metadata": {
    "tags": []
   },
   "outputs": [],
   "source": [
    "from typing import Any, Optional, Union\n",
    "\n",
    "import fitz  # PyMuPDF\n",
    "import numpy as np\n",
    "import pandas as pd\n",
    "from PIL import Image\n",
    "from pathlib import Path\n",
    "import cv2\n",
    "import matplotlib.pyplot as plt\n",
    "from datasets import Dataset, ClassLabel, Features, Sequence, Value, Array2D, Array3D, load_metric\n",
    "import torch\n",
    "from transformers import AutoProcessor\n",
    "\n",
    "from mozilla_sec_eia.utils import GCSArchive"
   ]
  },
  {
   "cell_type": "code",
   "execution_count": 5,
   "id": "d066e666-af80-4df1-9682-9d96a10413cd",
   "metadata": {
    "tags": []
   },
   "outputs": [],
   "source": [
    "# do we actually need the headers?\n",
    "id_to_label_full = {\n",
    "    0: \"O\",\n",
    "    1: \"B-Header_Subsidiary\",\n",
    "    2: \"I-Header_Subsidiary\",\n",
    "    3: \"B-Body_Subsidiary\",\n",
    "    4: \"I-Body_Subsidiary\",\n",
    "    5: \"B-Header_Loc\",\n",
    "    6: \"I-Header_Loc\",\n",
    "    7: \"B-Body_Loc\",\n",
    "    8: \"I-Body_Loc\",\n",
    "    9: \"B-Header_Own_Per\",\n",
    "    10: \"I-Header_Own_Per\",\n",
    "    11: \"B-Body_Own_Per\",\n",
    "    12: \"I-Body_Own_Per\"\n",
    "}\n",
    "id_to_label_small = {\n",
    "    0: \"O\",\n",
    "    1: \"B-Subsidiary\",\n",
    "    2: \"I-Subsidiary\",\n",
    "    3: \"B-Loc\",\n",
    "    4: \"I-Loc\",\n",
    "    5: \"B-Own_Per\",\n",
    "    6: \"I-Own_Per\"\n",
    "}\n"
   ]
  },
  {
   "cell_type": "code",
   "execution_count": 6,
   "id": "69287355-f6be-4892-977e-3a3e27eb76f8",
   "metadata": {
    "tags": []
   },
   "outputs": [],
   "source": [
    "# copied from well gas project wellgas/features/extract_text.py\n",
    "def extract_pdf_data_from_page(page: fitz.Page) -> dict[str, pd.DataFrame]:\n",
    "    \"\"\"Parse PDF page data.\"\"\"\n",
    "    contents = _parse_page_contents(page)\n",
    "    meta = {\n",
    "        \"rotation_degrees\": [page.rotation],\n",
    "        \"origin_x_pdf_coord\": [page.rect[0]],\n",
    "        \"origin_y_pdf_coord\": [page.rect[1]],\n",
    "        \"width_pdf_coord\": [page.rect[2] - page.rect[0]],\n",
    "        \"height_pdf_coord\": [page.rect[3] - page.rect[1]],\n",
    "        \"has_images\": [not contents[\"image\"].empty],\n",
    "        \"has_text\": [not contents[\"pdf_text\"].empty],\n",
    "        \"page_num\": [page.number],\n",
    "    }\n",
    "    if not contents[\"image\"].empty:\n",
    "        img_area = (\n",
    "            contents[\"image\"]\n",
    "            .eval(\n",
    "                \"((bottom_right_x_pdf - top_left_x_pdf)\"\n",
    "                \" * (bottom_right_y_pdf - top_left_y_pdf))\"\n",
    "            )\n",
    "            .sum()\n",
    "        )\n",
    "    else:\n",
    "        img_area = 0\n",
    "    total_area = meta[\"width_pdf_coord\"][0] * meta[\"height_pdf_coord\"][0]\n",
    "\n",
    "    meta[\"image_area_frac\"] = [np.float32(img_area / total_area)]\n",
    "    meta_df = pd.DataFrame(meta).astype(\n",
    "        {\n",
    "            \"rotation_degrees\": np.int16,\n",
    "            \"origin_x_pdf_coord\": np.float32,\n",
    "            \"origin_y_pdf_coord\": np.float32,\n",
    "            \"width_pdf_coord\": np.float32,\n",
    "            \"height_pdf_coord\": np.float32,\n",
    "            \"has_images\": \"boolean\",\n",
    "            \"has_text\": \"boolean\",\n",
    "            \"page_num\": np.int16,\n",
    "            \"image_area_frac\": np.float32,\n",
    "        }\n",
    "    )\n",
    "    meta = dict(page=meta_df)\n",
    "    for df in contents.values():  # add ID fields\n",
    "        if not df.empty:\n",
    "            df[\"page_num\"] = np.int16(page.number)\n",
    "    return contents | meta\n",
    "\n",
    "\n",
    "def _parse_page_contents(page: fitz.Page) -> dict[str, pd.DataFrame]:\n",
    "    \"\"\"Parse page contents using fitz.TextPage.\"\"\"\n",
    "    flags = fitz.TEXTFLAGS_DICT\n",
    "    textpage = page.get_textpage(flags=flags)\n",
    "    content = textpage.extractDICT()\n",
    "    images = []\n",
    "    text = []\n",
    "    for block in content[\"blocks\"]:\n",
    "        if block[\"type\"] == 0:\n",
    "            parsed = _parse_text_block(block)\n",
    "            if not parsed.empty:  # can happen when all blocks are whitespace\n",
    "                text.append(parsed)\n",
    "        elif block[\"type\"] == 1:\n",
    "            images.append(_parse_image_block(block))\n",
    "        else:\n",
    "            raise ValueError(f\"Unknown block type: {block['type']}\")\n",
    "    if text:\n",
    "        text = pd.concat(text, axis=0, ignore_index=True)\n",
    "    else:\n",
    "        text = pd.DataFrame()\n",
    "    if images:\n",
    "        images = pd.concat(\n",
    "            (pd.DataFrame(image) for image in images), axis=0, ignore_index=True\n",
    "        )\n",
    "    else:\n",
    "        images = pd.DataFrame()\n",
    "    return dict(pdf_text=text, image=images)\n",
    "\n",
    "\n",
    "def _parse_image_block(img_block: dict[str, Any]) -> pd.DataFrame:\n",
    "    \"\"\"Parse an image block from a fitz.TextPage.extractDICT() output.\"\"\"\n",
    "    top_left_x_pdf, top_left_y_pdf, bottom_right_x_pdf, bottom_right_y_pdf = img_block[\n",
    "        \"bbox\"\n",
    "    ]\n",
    "    dpi = min(\n",
    "        img_block[\"xres\"], img_block[\"yres\"]\n",
    "    )  # should be equal; min() just in case\n",
    "    out = pd.DataFrame(\n",
    "        {\n",
    "            \"img_num\": [img_block[\"number\"]],\n",
    "            \"dpi\": [dpi],\n",
    "            \"top_left_x_pdf\": [top_left_x_pdf],\n",
    "            \"top_left_y_pdf\": [top_left_y_pdf],\n",
    "            \"bottom_right_x_pdf\": [bottom_right_x_pdf],\n",
    "            \"bottom_right_y_pdf\": [bottom_right_y_pdf],\n",
    "        }\n",
    "    ).astype(\n",
    "        {\n",
    "            \"img_num\": np.int16,\n",
    "            \"dpi\": np.int16,\n",
    "            \"top_left_x_pdf\": np.float32,\n",
    "            \"top_left_y_pdf\": np.float32,\n",
    "            \"bottom_right_x_pdf\": np.float32,\n",
    "            \"bottom_right_y_pdf\": np.float32,\n",
    "        }\n",
    "    )\n",
    "    return out\n",
    "\n",
    "\n",
    "def _parse_text_block(text_block: dict[str, Any]) -> pd.DataFrame:\n",
    "    \"\"\"Parse a text block from a fitz.TextPage.extractDICT() output.\"\"\"\n",
    "    # block and line bboxes have no information additional to the text bboxes\n",
    "    out = dict(\n",
    "        block_num=[],\n",
    "        line_num=[],\n",
    "        font_size=[],\n",
    "        font=[],\n",
    "        color_srgb=[],\n",
    "        text=[],\n",
    "        top_left_x_pdf=[],\n",
    "        top_left_y_pdf=[],\n",
    "        bottom_right_x_pdf=[],\n",
    "        bottom_right_y_pdf=[],\n",
    "    )\n",
    "    block_num = text_block[\"number\"]\n",
    "    for line_num, line in enumerate(text_block[\"lines\"]):\n",
    "        for span in line[\"spans\"]:  # no numbering, differentiated by font properties\n",
    "            if span[\"text\"].isspace():  # ignore whitespace spans\n",
    "                continue\n",
    "            if _frac_normal_ascii(span[\"text\"]) < 0.7 and len(span[\"text\"]) > 3:\n",
    "                # Long non-ASCII is likely bad encoding. It has created problems like\n",
    "                # unbalanced quotes or unquoted \\r and \\n in CSVs\n",
    "                out[\"text\"].append(\"\")\n",
    "            else:\n",
    "                out[\"text\"].append(span[\"text\"])\n",
    "            out[\"block_num\"].append(block_num)\n",
    "            out[\"line_num\"].append(line_num)\n",
    "            out[\"font_size\"].append(span[\"size\"])\n",
    "            out[\"font\"].append(span[\"font\"])\n",
    "            out[\"color_srgb\"].append(span[\"color\"])\n",
    "            out[\"top_left_x_pdf\"].append(span[\"bbox\"][0])\n",
    "            out[\"top_left_y_pdf\"].append(span[\"bbox\"][1])\n",
    "            out[\"bottom_right_x_pdf\"].append(span[\"bbox\"][2])\n",
    "            out[\"bottom_right_y_pdf\"].append(span[\"bbox\"][3])\n",
    "    out = pd.DataFrame(out).astype(\n",
    "        {\n",
    "            \"block_num\": np.int16,\n",
    "            \"line_num\": np.int16,\n",
    "            \"font_size\": np.float32,\n",
    "            \"font\": \"string\",\n",
    "            \"color_srgb\": np.int32,\n",
    "            \"text\": \"string\",\n",
    "            \"top_left_x_pdf\": np.float32,\n",
    "            \"top_left_y_pdf\": np.float32,\n",
    "            \"bottom_right_x_pdf\": np.float32,\n",
    "            \"bottom_right_y_pdf\": np.float32,\n",
    "        }\n",
    "    )\n",
    "    return out\n",
    "\n",
    "\n",
    "def _frac_normal_ascii(text: Union[str, bytes]) -> float:\n",
    "    \"\"\"Fraction of characters that are normal ASCII characters.\"\"\"\n",
    "    # normal characters, from space to tilde, plus whitespace\n",
    "    # see https://www.asciitable.com/\n",
    "    sum_ = 0\n",
    "    if isinstance(text, bytes):\n",
    "        text = text.decode(\"utf-8\")\n",
    "    for char in text:\n",
    "        if (32 <= ord(char) <= 126) or char in \"\\t\\n\":\n",
    "            sum_ += 1\n",
    "    return sum_ / len(text)\n"
   ]
  },
  {
   "cell_type": "code",
   "execution_count": 7,
   "id": "20cb1911-6368-4393-a6f7-a66a7d8f5c55",
   "metadata": {
    "tags": []
   },
   "outputs": [],
   "source": [
    "\n",
    "def _render_page(\n",
    "    pg: fitz.Page, dpi=150, clip: Optional[fitz.Rect] = None\n",
    ") -> Image.Image:\n",
    "    \"\"\"Render a page of a PDF as a PIL.Image object.\n",
    "\n",
    "    Args:\n",
    "        pg (fitz.Page): a page of a PDF\n",
    "        dpi (int, optional): image resolution in pixels per inch. Defaults to 150.\n",
    "        clip (Optional[fitz.Rect], optional): Optionally render only a subset of the\n",
    "            page. Defined in PDF coordinates. Defaults to None, which renders the\n",
    "            full page.\n",
    "\n",
    "    Returns:\n",
    "        Image.Image: PDF page rendered as a PIL.Image object\n",
    "    \"\"\"\n",
    "    # 300 dpi is what tesseract recommends. PaddleOCR seems to do fine with half that.\n",
    "    render: fitz.Pixmap = pg.get_pixmap(dpi=dpi, clip=clip)  # type: ignore\n",
    "    img = _pil_img_from_pixmap(render)\n",
    "    return img\n",
    "\n",
    "\n",
    "def _pil_img_from_pixmap(pix: fitz.Pixmap) -> Image.Image:\n",
    "    \"\"\"Convert pyMuPDF Pixmap object to PIL.Image object.\n",
    "\n",
    "    For some reason pyMuPDF (aka fitz) lets you save images using PIL, but does not\n",
    "    have any function to convert to PIL objects. Clearly they do this conversion\n",
    "    internally; they should just expose it. Instead, I had to copy it out from their\n",
    "    source code.\n",
    "\n",
    "    Args:\n",
    "        pix (fitz.Pixmap): a rendered Pixmap\n",
    "\n",
    "    Returns:\n",
    "        Image: a PIL.Image object\n",
    "    \"\"\"\n",
    "    # pyMuPDF source code on GitHub is all in SWIG (some kind of C to python code\n",
    "    # generator) and is unreadable to me. So you have to inspect your local .py files.\n",
    "    # Adapted from the Pixmap.pil_save method in python3.9/site-packages/fitz/fitz.py\n",
    "    # I just replaced instances of \"self\" with \"pix\"\n",
    "    cspace = pix.colorspace\n",
    "    if cspace is None:\n",
    "        mode = \"L\"\n",
    "    elif cspace.n == 1:\n",
    "        mode = \"L\" if pix.alpha == 0 else \"LA\"\n",
    "    elif cspace.n == 3:\n",
    "        mode = \"RGB\" if pix.alpha == 0 else \"RGBA\"\n",
    "    else:\n",
    "        mode = \"CMYK\"\n",
    "\n",
    "    img = Image.frombytes(mode, (pix.width, pix.height), pix.samples)\n",
    "    return img"
   ]
  },
  {
   "cell_type": "code",
   "execution_count": 8,
   "id": "7d3ba492-7913-47bc-81cb-2e1179a8e1d6",
   "metadata": {
    "tags": []
   },
   "outputs": [],
   "source": [
    "PDF_POINTS_PER_INCH = 72  # I believe this is standard for all PDFs\n",
    "\n",
    "def pil_to_cv2(image: Image.Image) -> np.ndarray:  # noqa: C901\n",
    "    \"\"\"Convert a PIL Image to an OpenCV image (numpy array).\"\"\"\n",
    "    # copied from https://gist.github.com/panzi/1ceac1cb30bb6b3450aa5227c02eedd3\n",
    "    # This covers the common modes, is not exhaustive.\n",
    "    mode = image.mode\n",
    "    new_image: np.ndarray\n",
    "    if mode == \"1\":\n",
    "        new_image = np.array(image, dtype=np.uint8)\n",
    "        new_image *= 255\n",
    "    elif mode == \"L\":\n",
    "        new_image = np.array(image, dtype=np.uint8)\n",
    "    elif mode == \"LA\" or mode == \"La\":\n",
    "        new_image = np.array(image.convert(\"RGBA\"), dtype=np.uint8)\n",
    "        new_image = cv2.cvtColor(new_image, cv2.COLOR_RGBA2BGRA)\n",
    "    elif mode == \"RGB\":\n",
    "        new_image = np.array(image, dtype=np.uint8)\n",
    "        new_image = cv2.cvtColor(new_image, cv2.COLOR_RGB2BGR)\n",
    "    elif mode == \"RGBA\":\n",
    "        new_image = np.array(image, dtype=np.uint8)\n",
    "        new_image = cv2.cvtColor(new_image, cv2.COLOR_RGBA2BGRA)\n",
    "    elif mode == \"LAB\":\n",
    "        new_image = np.array(image, dtype=np.uint8)\n",
    "        new_image = cv2.cvtColor(new_image, cv2.COLOR_LAB2BGR)\n",
    "    elif mode == \"HSV\":\n",
    "        new_image = np.array(image, dtype=np.uint8)\n",
    "        new_image = cv2.cvtColor(new_image, cv2.COLOR_HSV2BGR)\n",
    "    elif mode == \"YCbCr\":\n",
    "        # XXX: not sure if YCbCr == YCrCb\n",
    "        new_image = np.array(image, dtype=np.uint8)\n",
    "        new_image = cv2.cvtColor(new_image, cv2.COLOR_YCrCb2BGR)\n",
    "    elif mode == \"P\" or mode == \"CMYK\":\n",
    "        new_image = np.array(image.convert(\"RGB\"), dtype=np.uint8)\n",
    "        new_image = cv2.cvtColor(new_image, cv2.COLOR_RGB2BGR)\n",
    "    elif mode == \"PA\" or mode == \"Pa\":\n",
    "        new_image = np.array(image.convert(\"RGBA\"), dtype=np.uint8)\n",
    "        new_image = cv2.cvtColor(new_image, cv2.COLOR_RGBA2BGRA)\n",
    "    else:\n",
    "        raise ValueError(f\"unhandled image color mode: {mode}\")\n",
    "\n",
    "    return new_image\n",
    "\n",
    "\n",
    "def cv2_to_pil(img: np.ndarray) -> Image.Image:\n",
    "    \"\"\"Create PIL Image from numpy pixel array.\"\"\"\n",
    "    if len(img.shape) == 2:  # single channel, AKA grayscale\n",
    "        return Image.fromarray(img)\n",
    "    else:  # only handle BGR for now\n",
    "        return Image.fromarray(cv2.cvtColor(img, cv2.COLOR_BGR2RGB))\n",
    "\n",
    "\n",
    "def display_img_array(img: np.ndarray, figsize=(5, 5), **kwargs):\n",
    "    \"\"\"Plot image array for jupyter sessions.\"\"\"\n",
    "    plt.figure(figsize=figsize)\n",
    "    if len(img.shape) == 2:  # grayscale\n",
    "        return plt.imshow(img, cmap=\"gray\", vmin=0, vmax=255, **kwargs)\n",
    "    else:\n",
    "        return plt.imshow(cv2.cvtColor(img, cv2.COLOR_BGR2RGB), **kwargs)\n",
    "\n",
    "\n",
    "def overlay_bboxes(\n",
    "    img: np.ndarray, bboxes: np.ndarray, color=(255, 0, 0)\n",
    ") -> np.ndarray:\n",
    "    \"\"\"Overlay bounding boxes of shape N x 4 (x0, y0, x1, y1) on an image.\"\"\"\n",
    "    img = img.copy()\n",
    "    for box in np.round(bboxes, 0).astype(np.int32):  # float to int just in case:\n",
    "        x0, y0, x1, y1 = box\n",
    "        cv2.rectangle(img, (x0, y0), (x1, y1), color=color, thickness=1)\n",
    "    return img\n",
    "\n",
    "\n",
    "def pdf_coords_to_pixel_coords(coords: np.ndarray, dpi: int) -> np.ndarray:\n",
    "    \"\"\"Convert PDF coordinates to pixel coordinates.\"\"\"\n",
    "    # For arbitrary PDFs you would need to subtract the origin in PDF coordinates,\n",
    "    # but since you create these PDFs, you know the origin is (0, 0).\n",
    "    out = coords * dpi / PDF_POINTS_PER_INCH\n",
    "    return out"
   ]
  },
  {
   "cell_type": "markdown",
   "id": "79b76769-dd06-439e-b6c5-f8961b5ec5b4",
   "metadata": {
    "jp-MarkdownHeadingCollapsed": true,
    "tags": []
   },
   "source": [
    "# Create PDFs of Ex. 21's"
   ]
  },
  {
   "cell_type": "code",
   "execution_count": null,
   "id": "897b5b70-83b2-460f-92c5-f004acc0a3f2",
   "metadata": {
    "tags": []
   },
   "outputs": [],
   "source": [
    "archive = GCSArchive()\n",
    "md = archive.get_metadata()"
   ]
  },
  {
   "cell_type": "code",
   "execution_count": null,
   "id": "0b3091ad-cd5f-49e1-a229-907781ebf1b9",
   "metadata": {
    "tags": []
   },
   "outputs": [],
   "source": [
    "tucson_md = md[md[\"Company Name\"].str.contains(\"TUCSON\")].iloc[[0]]\n",
    "tucson_filing = archive.get_filings(tucson_md)"
   ]
  },
  {
   "cell_type": "code",
   "execution_count": 54,
   "id": "f0e653f3-4be6-4132-a756-ef728da76606",
   "metadata": {
    "tags": []
   },
   "outputs": [],
   "source": [
    "with open(\"tucson_electric.pdf\", \"wb\") as file:\n",
    "    tucson_filing[0].ex_21.save_as_pdf(file)"
   ]
  },
  {
   "cell_type": "code",
   "execution_count": 57,
   "id": "fa45448d-5ddc-4d47-801f-6c71e5431731",
   "metadata": {
    "tags": []
   },
   "outputs": [],
   "source": [
    "# get some random PDFs\n",
    "sample = md[md.exhibit_21_version.notnull()].sample(3)\n",
    "filings = archive.get_filings(sample)\n",
    "for i in range(len(filings)):\n",
    "    with open(f\"test_{i}.pdf\", \"wb\") as file:\n",
    "        filings[i].ex_21.save_as_pdf(file)"
   ]
  },
  {
   "cell_type": "markdown",
   "id": "2595a71e-09ff-4b40-ae6a-dfc1e6e24d97",
   "metadata": {},
   "source": [
    "# Demo with one doc"
   ]
  },
  {
   "cell_type": "code",
   "execution_count": 9,
   "id": "af0ea213-9084-4c6e-b59e-76dda20b9ac8",
   "metadata": {
    "tags": []
   },
   "outputs": [],
   "source": [
    "src_path = Path(\"./wisconsin_electric.pdf\")\n",
    "assert src_path.exists()"
   ]
  },
  {
   "cell_type": "code",
   "execution_count": 10,
   "id": "cc2db08d-fe70-47a6-b539-1cb20c60c7ec",
   "metadata": {
    "tags": []
   },
   "outputs": [
    {
     "data": {
      "text/plain": [
       "True"
      ]
     },
     "execution_count": 10,
     "metadata": {},
     "output_type": "execute_result"
    }
   ],
   "source": [
    "# from file\n",
    "doc = fitz.Document(str(src_path))\n",
    "doc.is_pdf"
   ]
  },
  {
   "cell_type": "code",
   "execution_count": 11,
   "id": "ccd4bee7-ee3a-4752-83b0-ca098135e66f",
   "metadata": {
    "tags": []
   },
   "outputs": [
    {
     "data": {
      "text/plain": [
       "True"
      ]
     },
     "execution_count": 11,
     "metadata": {},
     "output_type": "execute_result"
    }
   ],
   "source": [
    "# from bytes\n",
    "_bytes = src_path.read_bytes()\n",
    "from io import BytesIO\n",
    "doc = fitz.open(stream=BytesIO(_bytes), filetype=\"pdf\")\n",
    "doc.is_pdf"
   ]
  },
  {
   "cell_type": "markdown",
   "id": "d08536a6-04db-401f-a725-d54ef3723576",
   "metadata": {},
   "source": [
    "### Extract Text Bboxes"
   ]
  },
  {
   "cell_type": "code",
   "execution_count": 12,
   "id": "04d30555-63aa-4e8d-9aab-bf8d887ac5c0",
   "metadata": {
    "tags": []
   },
   "outputs": [
    {
     "data": {
      "text/plain": [
       "dict_keys(['pdf_text', 'image', 'page'])"
      ]
     },
     "execution_count": 12,
     "metadata": {},
     "output_type": "execute_result"
    }
   ],
   "source": [
    "pg = doc[0]\n",
    "extracted = extract_pdf_data_from_page(pg)\n",
    "extracted.keys()"
   ]
  },
  {
   "cell_type": "code",
   "execution_count": 13,
   "id": "be5b2066-62d5-4240-b927-c0bc720a6852",
   "metadata": {
    "tags": []
   },
   "outputs": [
    {
     "data": {
      "text/plain": [
       "((22, 11), (0, 0), (1, 9))"
      ]
     },
     "execution_count": 13,
     "metadata": {},
     "output_type": "execute_result"
    }
   ],
   "source": [
    "txt = extracted['pdf_text']\n",
    "img_info = extracted['image']\n",
    "pg_meta = extracted['page']\n",
    "txt.shape, img_info.shape, pg_meta.shape"
   ]
  },
  {
   "cell_type": "code",
   "execution_count": 14,
   "id": "d5044efd-fd14-42ab-8f2b-23f2a9d50b37",
   "metadata": {
    "tags": []
   },
   "outputs": [
    {
     "data": {
      "text/html": [
       "<div>\n",
       "<style scoped>\n",
       "    .dataframe tbody tr th:only-of-type {\n",
       "        vertical-align: middle;\n",
       "    }\n",
       "\n",
       "    .dataframe tbody tr th {\n",
       "        vertical-align: top;\n",
       "    }\n",
       "\n",
       "    .dataframe thead th {\n",
       "        text-align: right;\n",
       "    }\n",
       "</style>\n",
       "<table border=\"1\" class=\"dataframe\">\n",
       "  <thead>\n",
       "    <tr style=\"text-align: right;\">\n",
       "      <th></th>\n",
       "      <th>block_num</th>\n",
       "      <th>line_num</th>\n",
       "      <th>font_size</th>\n",
       "      <th>font</th>\n",
       "      <th>color_srgb</th>\n",
       "      <th>text</th>\n",
       "      <th>top_left_x_pdf</th>\n",
       "      <th>top_left_y_pdf</th>\n",
       "      <th>bottom_right_x_pdf</th>\n",
       "      <th>bottom_right_y_pdf</th>\n",
       "      <th>page_num</th>\n",
       "    </tr>\n",
       "  </thead>\n",
       "  <tbody>\n",
       "    <tr>\n",
       "      <th>0</th>\n",
       "      <td>0</td>\n",
       "      <td>0</td>\n",
       "      <td>11.0</td>\n",
       "      <td>Helvetica-Bold</td>\n",
       "      <td>0</td>\n",
       "      <td>Exhibit 21.1</td>\n",
       "      <td>504.791168</td>\n",
       "      <td>83.474442</td>\n",
       "      <td>565.929260</td>\n",
       "      <td>98.621445</td>\n",
       "      <td>0</td>\n",
       "    </tr>\n",
       "    <tr>\n",
       "      <th>1</th>\n",
       "      <td>1</td>\n",
       "      <td>0</td>\n",
       "      <td>11.0</td>\n",
       "      <td>Helvetica-Bold</td>\n",
       "      <td>0</td>\n",
       "      <td>WISCONSIN ELECTRIC POWER COMPANY</td>\n",
       "      <td>184.882263</td>\n",
       "      <td>127.074478</td>\n",
       "      <td>410.393280</td>\n",
       "      <td>142.221481</td>\n",
       "      <td>0</td>\n",
       "    </tr>\n",
       "    <tr>\n",
       "      <th>2</th>\n",
       "      <td>2</td>\n",
       "      <td>0</td>\n",
       "      <td>11.0</td>\n",
       "      <td>Helvetica-Bold</td>\n",
       "      <td>0</td>\n",
       "      <td>SUBSIDIARIES AS OF DECEMBER 31, 2016</td>\n",
       "      <td>184.249771</td>\n",
       "      <td>142.274490</td>\n",
       "      <td>411.025818</td>\n",
       "      <td>157.421494</td>\n",
       "      <td>0</td>\n",
       "    </tr>\n",
       "    <tr>\n",
       "      <th>3</th>\n",
       "      <td>3</td>\n",
       "      <td>0</td>\n",
       "      <td>10.0</td>\n",
       "      <td>Helvetica</td>\n",
       "      <td>0</td>\n",
       "      <td>The following table includes the subsidiaries ...</td>\n",
       "      <td>29.346460</td>\n",
       "      <td>214.576477</td>\n",
       "      <td>559.586365</td>\n",
       "      <td>228.316483</td>\n",
       "      <td>0</td>\n",
       "    </tr>\n",
       "    <tr>\n",
       "      <th>4</th>\n",
       "      <td>3</td>\n",
       "      <td>1</td>\n",
       "      <td>10.0</td>\n",
       "      <td>Helvetica</td>\n",
       "      <td>0</td>\n",
       "      <td>Wisconsin, as well as the percent of ownership...</td>\n",
       "      <td>29.346460</td>\n",
       "      <td>226.646484</td>\n",
       "      <td>547.326355</td>\n",
       "      <td>240.386490</td>\n",
       "      <td>0</td>\n",
       "    </tr>\n",
       "    <tr>\n",
       "      <th>5</th>\n",
       "      <td>3</td>\n",
       "      <td>2</td>\n",
       "      <td>10.0</td>\n",
       "      <td>Helvetica</td>\n",
       "      <td>0</td>\n",
       "      <td>Inc.</td>\n",
       "      <td>29.346460</td>\n",
       "      <td>238.716492</td>\n",
       "      <td>45.466461</td>\n",
       "      <td>252.456497</td>\n",
       "      <td>0</td>\n",
       "    </tr>\n",
       "    <tr>\n",
       "      <th>6</th>\n",
       "      <td>4</td>\n",
       "      <td>0</td>\n",
       "      <td>10.0</td>\n",
       "      <td>Helvetica</td>\n",
       "      <td>0</td>\n",
       "      <td>Subsidiary</td>\n",
       "      <td>31.346460</td>\n",
       "      <td>317.576477</td>\n",
       "      <td>78.026466</td>\n",
       "      <td>331.316467</td>\n",
       "      <td>0</td>\n",
       "    </tr>\n",
       "    <tr>\n",
       "      <th>7</th>\n",
       "      <td>5</td>\n",
       "      <td>0</td>\n",
       "      <td>10.0</td>\n",
       "      <td>Helvetica</td>\n",
       "      <td>0</td>\n",
       "      <td>State of Incorporation</td>\n",
       "      <td>344.084747</td>\n",
       "      <td>307.576477</td>\n",
       "      <td>439.694733</td>\n",
       "      <td>321.316467</td>\n",
       "      <td>0</td>\n",
       "    </tr>\n",
       "    <tr>\n",
       "      <th>8</th>\n",
       "      <td>5</td>\n",
       "      <td>1</td>\n",
       "      <td>10.0</td>\n",
       "      <td>Helvetica</td>\n",
       "      <td>0</td>\n",
       "      <td>or Organization</td>\n",
       "      <td>357.709747</td>\n",
       "      <td>317.979828</td>\n",
       "      <td>426.069763</td>\n",
       "      <td>331.719818</td>\n",
       "      <td>0</td>\n",
       "    </tr>\n",
       "    <tr>\n",
       "      <th>9</th>\n",
       "      <td>5</td>\n",
       "      <td>3</td>\n",
       "      <td>10.0</td>\n",
       "      <td>Helvetica</td>\n",
       "      <td>0</td>\n",
       "      <td>Percent Ownership</td>\n",
       "      <td>467.862946</td>\n",
       "      <td>317.576477</td>\n",
       "      <td>552.892944</td>\n",
       "      <td>331.316467</td>\n",
       "      <td>0</td>\n",
       "    </tr>\n",
       "    <tr>\n",
       "      <th>10</th>\n",
       "      <td>7</td>\n",
       "      <td>0</td>\n",
       "      <td>10.0</td>\n",
       "      <td>Helvetica</td>\n",
       "      <td>0</td>\n",
       "      <td>ATC Management, Inc. *</td>\n",
       "      <td>31.346460</td>\n",
       "      <td>349.576477</td>\n",
       "      <td>140.836456</td>\n",
       "      <td>363.316467</td>\n",
       "      <td>0</td>\n",
       "    </tr>\n",
       "    <tr>\n",
       "      <th>11</th>\n",
       "      <td>7</td>\n",
       "      <td>2</td>\n",
       "      <td>10.0</td>\n",
       "      <td>Helvetica</td>\n",
       "      <td>0</td>\n",
       "      <td>Wisconsin</td>\n",
       "      <td>369.109741</td>\n",
       "      <td>349.576477</td>\n",
       "      <td>414.669739</td>\n",
       "      <td>363.316467</td>\n",
       "      <td>0</td>\n",
       "    </tr>\n",
       "    <tr>\n",
       "      <th>12</th>\n",
       "      <td>7</td>\n",
       "      <td>4</td>\n",
       "      <td>10.0</td>\n",
       "      <td>Helvetica</td>\n",
       "      <td>0</td>\n",
       "      <td>26.24%</td>\n",
       "      <td>493.422943</td>\n",
       "      <td>349.576477</td>\n",
       "      <td>527.332947</td>\n",
       "      <td>363.316467</td>\n",
       "      <td>0</td>\n",
       "    </tr>\n",
       "    <tr>\n",
       "      <th>13</th>\n",
       "      <td>8</td>\n",
       "      <td>0</td>\n",
       "      <td>10.0</td>\n",
       "      <td>Helvetica</td>\n",
       "      <td>0</td>\n",
       "      <td>American Transmission Company LLC *</td>\n",
       "      <td>31.346460</td>\n",
       "      <td>365.576477</td>\n",
       "      <td>209.166458</td>\n",
       "      <td>379.316467</td>\n",
       "      <td>0</td>\n",
       "    </tr>\n",
       "    <tr>\n",
       "      <th>14</th>\n",
       "      <td>8</td>\n",
       "      <td>2</td>\n",
       "      <td>10.0</td>\n",
       "      <td>Helvetica</td>\n",
       "      <td>0</td>\n",
       "      <td>Wisconsin</td>\n",
       "      <td>369.109741</td>\n",
       "      <td>365.576477</td>\n",
       "      <td>414.669739</td>\n",
       "      <td>379.316467</td>\n",
       "      <td>0</td>\n",
       "    </tr>\n",
       "    <tr>\n",
       "      <th>15</th>\n",
       "      <td>8</td>\n",
       "      <td>4</td>\n",
       "      <td>10.0</td>\n",
       "      <td>Helvetica</td>\n",
       "      <td>0</td>\n",
       "      <td>23.04%</td>\n",
       "      <td>493.422943</td>\n",
       "      <td>365.576477</td>\n",
       "      <td>527.332947</td>\n",
       "      <td>379.316467</td>\n",
       "      <td>0</td>\n",
       "    </tr>\n",
       "    <tr>\n",
       "      <th>16</th>\n",
       "      <td>9</td>\n",
       "      <td>0</td>\n",
       "      <td>10.0</td>\n",
       "      <td>Helvetica</td>\n",
       "      <td>0</td>\n",
       "      <td>Bostco LLC</td>\n",
       "      <td>31.346460</td>\n",
       "      <td>381.576477</td>\n",
       "      <td>83.036469</td>\n",
       "      <td>395.316467</td>\n",
       "      <td>0</td>\n",
       "    </tr>\n",
       "    <tr>\n",
       "      <th>17</th>\n",
       "      <td>9</td>\n",
       "      <td>2</td>\n",
       "      <td>10.0</td>\n",
       "      <td>Helvetica</td>\n",
       "      <td>0</td>\n",
       "      <td>Wisconsin</td>\n",
       "      <td>369.109741</td>\n",
       "      <td>381.576477</td>\n",
       "      <td>414.669739</td>\n",
       "      <td>395.316467</td>\n",
       "      <td>0</td>\n",
       "    </tr>\n",
       "    <tr>\n",
       "      <th>18</th>\n",
       "      <td>9</td>\n",
       "      <td>4</td>\n",
       "      <td>10.0</td>\n",
       "      <td>Helvetica</td>\n",
       "      <td>0</td>\n",
       "      <td>100%</td>\n",
       "      <td>497.592926</td>\n",
       "      <td>381.576477</td>\n",
       "      <td>523.162964</td>\n",
       "      <td>395.316467</td>\n",
       "      <td>0</td>\n",
       "    </tr>\n",
       "    <tr>\n",
       "      <th>19</th>\n",
       "      <td>10</td>\n",
       "      <td>0</td>\n",
       "      <td>10.0</td>\n",
       "      <td>Times-Roman</td>\n",
       "      <td>0</td>\n",
       "      <td>*</td>\n",
       "      <td>28.346460</td>\n",
       "      <td>420.446472</td>\n",
       "      <td>33.346458</td>\n",
       "      <td>433.786469</td>\n",
       "      <td>0</td>\n",
       "    </tr>\n",
       "    <tr>\n",
       "      <th>20</th>\n",
       "      <td>10</td>\n",
       "      <td>1</td>\n",
       "      <td>10.0</td>\n",
       "      <td>Helvetica</td>\n",
       "      <td>0</td>\n",
       "      <td>On January 1, 2017, we transferred our ownersh...</td>\n",
       "      <td>41.846458</td>\n",
       "      <td>420.576477</td>\n",
       "      <td>543.156311</td>\n",
       "      <td>434.316467</td>\n",
       "      <td>0</td>\n",
       "    </tr>\n",
       "    <tr>\n",
       "      <th>21</th>\n",
       "      <td>10</td>\n",
       "      <td>2</td>\n",
       "      <td>10.0</td>\n",
       "      <td>Helvetica</td>\n",
       "      <td>0</td>\n",
       "      <td>Company LLC to to another subsidiary of WEC En...</td>\n",
       "      <td>41.846458</td>\n",
       "      <td>432.646484</td>\n",
       "      <td>317.516418</td>\n",
       "      <td>446.386475</td>\n",
       "      <td>0</td>\n",
       "    </tr>\n",
       "  </tbody>\n",
       "</table>\n",
       "</div>"
      ],
      "text/plain": [
       "    block_num  line_num  font_size            font  color_srgb  \\\n",
       "0           0         0       11.0  Helvetica-Bold           0   \n",
       "1           1         0       11.0  Helvetica-Bold           0   \n",
       "2           2         0       11.0  Helvetica-Bold           0   \n",
       "3           3         0       10.0       Helvetica           0   \n",
       "4           3         1       10.0       Helvetica           0   \n",
       "5           3         2       10.0       Helvetica           0   \n",
       "6           4         0       10.0       Helvetica           0   \n",
       "7           5         0       10.0       Helvetica           0   \n",
       "8           5         1       10.0       Helvetica           0   \n",
       "9           5         3       10.0       Helvetica           0   \n",
       "10          7         0       10.0       Helvetica           0   \n",
       "11          7         2       10.0       Helvetica           0   \n",
       "12          7         4       10.0       Helvetica           0   \n",
       "13          8         0       10.0       Helvetica           0   \n",
       "14          8         2       10.0       Helvetica           0   \n",
       "15          8         4       10.0       Helvetica           0   \n",
       "16          9         0       10.0       Helvetica           0   \n",
       "17          9         2       10.0       Helvetica           0   \n",
       "18          9         4       10.0       Helvetica           0   \n",
       "19         10         0       10.0     Times-Roman           0   \n",
       "20         10         1       10.0       Helvetica           0   \n",
       "21         10         2       10.0       Helvetica           0   \n",
       "\n",
       "                                                 text  top_left_x_pdf  \\\n",
       "0                                        Exhibit 21.1      504.791168   \n",
       "1                    WISCONSIN ELECTRIC POWER COMPANY      184.882263   \n",
       "2                SUBSIDIARIES AS OF DECEMBER 31, 2016      184.249771   \n",
       "3   The following table includes the subsidiaries ...       29.346460   \n",
       "4   Wisconsin, as well as the percent of ownership...       29.346460   \n",
       "5                                                Inc.       29.346460   \n",
       "6                                          Subsidiary       31.346460   \n",
       "7                              State of Incorporation      344.084747   \n",
       "8                                     or Organization      357.709747   \n",
       "9                                   Percent Ownership      467.862946   \n",
       "10                             ATC Management, Inc. *       31.346460   \n",
       "11                                          Wisconsin      369.109741   \n",
       "12                                             26.24%      493.422943   \n",
       "13                American Transmission Company LLC *       31.346460   \n",
       "14                                          Wisconsin      369.109741   \n",
       "15                                             23.04%      493.422943   \n",
       "16                                         Bostco LLC       31.346460   \n",
       "17                                          Wisconsin      369.109741   \n",
       "18                                               100%      497.592926   \n",
       "19                                                  *       28.346460   \n",
       "20  On January 1, 2017, we transferred our ownersh...       41.846458   \n",
       "21  Company LLC to to another subsidiary of WEC En...       41.846458   \n",
       "\n",
       "    top_left_y_pdf  bottom_right_x_pdf  bottom_right_y_pdf  page_num  \n",
       "0        83.474442          565.929260           98.621445         0  \n",
       "1       127.074478          410.393280          142.221481         0  \n",
       "2       142.274490          411.025818          157.421494         0  \n",
       "3       214.576477          559.586365          228.316483         0  \n",
       "4       226.646484          547.326355          240.386490         0  \n",
       "5       238.716492           45.466461          252.456497         0  \n",
       "6       317.576477           78.026466          331.316467         0  \n",
       "7       307.576477          439.694733          321.316467         0  \n",
       "8       317.979828          426.069763          331.719818         0  \n",
       "9       317.576477          552.892944          331.316467         0  \n",
       "10      349.576477          140.836456          363.316467         0  \n",
       "11      349.576477          414.669739          363.316467         0  \n",
       "12      349.576477          527.332947          363.316467         0  \n",
       "13      365.576477          209.166458          379.316467         0  \n",
       "14      365.576477          414.669739          379.316467         0  \n",
       "15      365.576477          527.332947          379.316467         0  \n",
       "16      381.576477           83.036469          395.316467         0  \n",
       "17      381.576477          414.669739          395.316467         0  \n",
       "18      381.576477          523.162964          395.316467         0  \n",
       "19      420.446472           33.346458          433.786469         0  \n",
       "20      420.576477          543.156311          434.316467         0  \n",
       "21      432.646484          317.516418          446.386475         0  "
      ]
     },
     "execution_count": 14,
     "metadata": {},
     "output_type": "execute_result"
    }
   ],
   "source": [
    "txt"
   ]
  },
  {
   "cell_type": "markdown",
   "id": "46310943-177b-4bf5-86ad-29fb156ff5ed",
   "metadata": {},
   "source": [
    "### Label the entities"
   ]
  },
  {
   "cell_type": "code",
   "execution_count": 15,
   "id": "c5f16fa8-857e-40de-9d1f-e04cbaf42d11",
   "metadata": {
    "tags": []
   },
   "outputs": [],
   "source": [
    "label_col = \"ner_tag\""
   ]
  },
  {
   "cell_type": "code",
   "execution_count": 16,
   "id": "8b98246f-47b6-47c3-b64f-9dc4c494ddfb",
   "metadata": {
    "tags": []
   },
   "outputs": [],
   "source": [
    "txt.loc[:, label_col] = 0"
   ]
  },
  {
   "cell_type": "code",
   "execution_count": 17,
   "id": "0cf6ae61-e87d-4e63-8037-faccd3de70d8",
   "metadata": {
    "tags": []
   },
   "outputs": [
    {
     "data": {
      "image/jpeg": "[encoded data removed]",
      "image/png": "[encoded data removed]",
      "text/plain": [
       "<PIL.Image.Image image mode=RGB size=414x585>"
      ]
     },
     "execution_count": 17,
     "metadata": {},
     "output_type": "execute_result"
    }
   ],
   "source": [
    "pg_img = _render_page(pg, dpi=50)  # small dpi for notebook display\n",
    "pg_img"
   ]
  },
  {
   "cell_type": "code",
   "execution_count": 18,
   "id": "29a9a9df-9aaa-4ad2-b466-4393dc32afbc",
   "metadata": {
    "tags": []
   },
   "outputs": [],
   "source": [
    "full_pg_img = _render_page(pg)  # full image for dataset"
   ]
  },
  {
   "cell_type": "code",
   "execution_count": 19,
   "id": "8041f9cb-81af-4b05-bd48-0dee4873b80c",
   "metadata": {
    "tags": []
   },
   "outputs": [
    {
     "data": {
      "text/plain": [
       "{0: 'O',\n",
       " 1: 'B-Subsidiary',\n",
       " 2: 'I-Subsidiary',\n",
       " 3: 'B-Loc',\n",
       " 4: 'I-Loc',\n",
       " 5: 'B-Own_Per',\n",
       " 6: 'I-Own_Per'}"
      ]
     },
     "execution_count": 19,
     "metadata": {},
     "output_type": "execute_result"
    }
   ],
   "source": [
    "id_to_label_small"
   ]
  },
  {
   "cell_type": "code",
   "execution_count": 20,
   "id": "eb9979cd-9461-4f39-9196-31a104ad5ade",
   "metadata": {
    "tags": []
   },
   "outputs": [],
   "source": [
    "label_to_indices_full = {\n",
    "    1: [6],\n",
    "    3: [10, 13, 16],\n",
    "    5: [7],\n",
    "    6: [8],\n",
    "    7: [11, 14, 17],\n",
    "    9: [9],\n",
    "    11: [12, 15, 18]\n",
    "}\n",
    "\n",
    "label_to_indices_small = {\n",
    "    1: [10, 13, 16],\n",
    "    3: [11, 14, 17],\n",
    "    5: [12, 15, 18]\n",
    "}   "
   ]
  },
  {
   "cell_type": "code",
   "execution_count": 21,
   "id": "cc013dca-73ca-4456-b1b3-a8d1cc309cf1",
   "metadata": {
    "tags": []
   },
   "outputs": [],
   "source": [
    "for label, indices in label_to_indices_small.items():\n",
    "    txt.loc[indices, label_col] = label"
   ]
  },
  {
   "cell_type": "code",
   "execution_count": 22,
   "id": "d09b7b2a-15fa-4630-8f09-7e095fec33dd",
   "metadata": {
    "tags": []
   },
   "outputs": [],
   "source": [
    "id_to_color = {\n",
    "    0: (128, 128, 128),\n",
    "    1: (0, 255, 0),\n",
    "    2: (0, 255, 128),\n",
    "    3: (255, 0, 255),\n",
    "    4: (128, 0, 255),\n",
    "    5: (255, 128, 0),\n",
    "    6: (255, 0, 0)\n",
    "}   "
   ]
  },
  {
   "cell_type": "code",
   "execution_count": 23,
   "id": "2cfa0275-058a-4034-aeee-82da0d6d7b62",
   "metadata": {
    "tags": []
   },
   "outputs": [
    {
     "data": {
      "text/plain": [
       "<matplotlib.image.AxesImage at 0x30f657950>"
      ]
     },
     "execution_count": 23,
     "metadata": {},
     "output_type": "execute_result"
    },
    {
     "data": {
      "image/png": "[encoded data removed]",
      "text/plain": [
       "<Figure size 1000x1000 with 1 Axes>"
      ]
     },
     "metadata": {},
     "output_type": "display_data"
    }
   ],
   "source": [
    "# fix to overlay boxes on pdf and color code it by label\n",
    "coord_cols = ['top_left_x_pdf', 'top_left_y_pdf', 'bottom_right_x_pdf', 'bottom_right_y_pdf']\n",
    "dpi = 70\n",
    "display_img = np.array(_render_page(pg, dpi=dpi))\n",
    "for tag in id_to_label_small.keys():\n",
    "    subset = txt[txt[label_col] == tag]\n",
    "    bboxes = pdf_coords_to_pixel_coords(subset[coord_cols].values, dpi=dpi)\n",
    "    display_img = overlay_bboxes(display_img, bboxes, color=id_to_color[tag])\n",
    "display_img_array(display_img, figsize=(10, 10))"
   ]
  },
  {
   "cell_type": "code",
   "execution_count": 24,
   "id": "15fd6add-af11-43d8-bbb8-92d97b319a61",
   "metadata": {
    "tags": []
   },
   "outputs": [],
   "source": [
    "txt.loc[:, \"id\"] = 0\n",
    "output_df = pd.DataFrame()\n",
    "output_df = pd.concat([output_df, txt])"
   ]
  },
  {
   "cell_type": "markdown",
   "id": "984d6a78-2f2a-4c4b-b0c2-be5113527dbc",
   "metadata": {
    "tags": []
   },
   "source": [
    "# Label Another"
   ]
  },
  {
   "cell_type": "code",
   "execution_count": 25,
   "id": "0b95efd5-c242-4f0c-8693-6e0c612cb8a4",
   "metadata": {
    "tags": []
   },
   "outputs": [],
   "source": [
    "src_path = Path(\"./test_0.pdf\")\n",
    "assert src_path.exists()"
   ]
  },
  {
   "cell_type": "code",
   "execution_count": 26,
   "id": "13e5de9a-9af6-44d1-a860-7e399513064e",
   "metadata": {
    "tags": []
   },
   "outputs": [
    {
     "data": {
      "text/plain": [
       "True"
      ]
     },
     "execution_count": 26,
     "metadata": {},
     "output_type": "execute_result"
    }
   ],
   "source": [
    "# from file\n",
    "doc = fitz.Document(str(src_path))\n",
    "doc.is_pdf"
   ]
  },
  {
   "cell_type": "code",
   "execution_count": 27,
   "id": "22614c0e-7864-4a83-a686-b041ee6edc09",
   "metadata": {
    "tags": []
   },
   "outputs": [
    {
     "data": {
      "text/plain": [
       "True"
      ]
     },
     "execution_count": 27,
     "metadata": {},
     "output_type": "execute_result"
    }
   ],
   "source": [
    "# from bytes\n",
    "_bytes = src_path.read_bytes()\n",
    "from io import BytesIO\n",
    "doc = fitz.open(stream=BytesIO(_bytes), filetype=\"pdf\")\n",
    "doc.is_pdf"
   ]
  },
  {
   "cell_type": "code",
   "execution_count": 28,
   "id": "113e543c-0b0d-4639-bc53-a69f540afe6b",
   "metadata": {
    "tags": []
   },
   "outputs": [
    {
     "data": {
      "text/plain": [
       "dict_keys(['pdf_text', 'image', 'page'])"
      ]
     },
     "execution_count": 28,
     "metadata": {},
     "output_type": "execute_result"
    }
   ],
   "source": [
    "pg2 = doc[0]\n",
    "extracted = extract_pdf_data_from_page(pg2)\n",
    "extracted.keys()"
   ]
  },
  {
   "cell_type": "code",
   "execution_count": 29,
   "id": "1e38c025-35c1-4668-9e9d-49e50e14a03e",
   "metadata": {
    "tags": []
   },
   "outputs": [
    {
     "data": {
      "text/plain": [
       "((14, 11), (0, 0), (1, 9))"
      ]
     },
     "execution_count": 29,
     "metadata": {},
     "output_type": "execute_result"
    }
   ],
   "source": [
    "txt2 = extracted['pdf_text']\n",
    "img_info = extracted['image']\n",
    "pg_meta = extracted['page']\n",
    "txt2.shape, img_info.shape, pg_meta.shape"
   ]
  },
  {
   "cell_type": "code",
   "execution_count": 30,
   "id": "3da3639c-645a-497b-b440-cd9ae074f3c7",
   "metadata": {
    "tags": []
   },
   "outputs": [],
   "source": [
    "txt2.loc[:, label_col] = 0"
   ]
  },
  {
   "cell_type": "code",
   "execution_count": 31,
   "id": "5546cd55-e46e-41c6-9cb6-9f1de165b6d5",
   "metadata": {
    "tags": []
   },
   "outputs": [
    {
     "data": {
      "image/jpeg": "[encoded data removed]",
      "image/png": "[encoded data removed]",
      "text/plain": [
       "<PIL.Image.Image image mode=RGB size=414x585>"
      ]
     },
     "execution_count": 31,
     "metadata": {},
     "output_type": "execute_result"
    }
   ],
   "source": [
    "pg_img2 = _render_page(pg2, dpi=50)  # small dpi for notebook display\n",
    "pg_img2"
   ]
  },
  {
   "cell_type": "code",
   "execution_count": 32,
   "id": "656f3af1-c71d-43bc-9d8a-58a0854b1bda",
   "metadata": {
    "tags": []
   },
   "outputs": [],
   "source": [
    "full_pg_img2 = _render_page(pg2)  # full image for dataset"
   ]
  },
  {
   "cell_type": "code",
   "execution_count": 33,
   "id": "9ca81796-8196-48ec-a726-d0d7ae1c29d7",
   "metadata": {
    "tags": []
   },
   "outputs": [
    {
     "data": {
      "text/plain": [
       "{0: 'O',\n",
       " 1: 'B-Subsidiary',\n",
       " 2: 'I-Subsidiary',\n",
       " 3: 'B-Loc',\n",
       " 4: 'I-Loc',\n",
       " 5: 'B-Own_Per',\n",
       " 6: 'I-Own_Per'}"
      ]
     },
     "execution_count": 33,
     "metadata": {},
     "output_type": "execute_result"
    }
   ],
   "source": [
    "id_to_label_small"
   ]
  },
  {
   "cell_type": "code",
   "execution_count": 34,
   "id": "8001f2e4-a1d6-4a98-bacc-c72473a6b77e",
   "metadata": {
    "tags": []
   },
   "outputs": [],
   "source": [
    "label_to_indices_full = {\n",
    "    1: [2],\n",
    "    2: [4, 6, 8, 10, 12],\n",
    "    3: [3],\n",
    "    4: [5, 7, 9, 11, 13],\n",
    "    5: [],\n",
    "    6: [6, 8]\n",
    "}\n",
    "# exclude owernship percentage until we can put bboxes around each individual word\n",
    "label_to_indices_small = {\n",
    "    1: [4, 6, 8, 10, 12],\n",
    "    3: [5, 7, 9, 11, 13]\n",
    "}"
   ]
  },
  {
   "cell_type": "code",
   "execution_count": 35,
   "id": "ccb1db51-667c-4d6a-931e-cd6d177fcbb2",
   "metadata": {
    "tags": []
   },
   "outputs": [],
   "source": [
    "for label, indices in label_to_indices_small.items():\n",
    "    txt2.loc[indices, label_col] = label"
   ]
  },
  {
   "cell_type": "code",
   "execution_count": 36,
   "id": "c31a6994-c467-4696-bccb-ff0f42bd2edd",
   "metadata": {
    "tags": []
   },
   "outputs": [],
   "source": [
    "id_to_color = {\n",
    "    0: (128, 128, 128),\n",
    "    1: (0, 255, 0),\n",
    "    2: (0, 255, 128),\n",
    "    3: (255, 0, 255),\n",
    "    4: (128, 0, 255),\n",
    "    5: (255, 128, 0),\n",
    "    6: (255, 0, 0)\n",
    "}   "
   ]
  },
  {
   "cell_type": "code",
   "execution_count": 37,
   "id": "79b85703-14ec-4a4b-9460-55ad8ff32870",
   "metadata": {
    "tags": []
   },
   "outputs": [
    {
     "data": {
      "text/plain": [
       "<matplotlib.image.AxesImage at 0x31ef875d0>"
      ]
     },
     "execution_count": 37,
     "metadata": {},
     "output_type": "execute_result"
    },
    {
     "data": {
      "image/png": "[encoded data removed]",
      "text/plain": [
       "<Figure size 1000x1000 with 1 Axes>"
      ]
     },
     "metadata": {},
     "output_type": "display_data"
    }
   ],
   "source": [
    "# fix to overlay boxes on pdf and color code it by label\n",
    "coord_cols = ['top_left_x_pdf', 'top_left_y_pdf', 'bottom_right_x_pdf', 'bottom_right_y_pdf']\n",
    "dpi = 70\n",
    "display_img = np.array(_render_page(pg2, dpi=dpi))\n",
    "for tag in id_to_label_small.keys():\n",
    "    subset = txt2[txt2[label_col] == tag]\n",
    "    bboxes = pdf_coords_to_pixel_coords(subset[coord_cols].values, dpi=dpi)\n",
    "    display_img = overlay_bboxes(display_img, bboxes, color=id_to_color[tag])\n",
    "display_img_array(display_img, figsize=(10, 10))"
   ]
  },
  {
   "cell_type": "code",
   "execution_count": 38,
   "id": "55689c78-b955-461d-8cae-a46225a868c5",
   "metadata": {
    "tags": []
   },
   "outputs": [],
   "source": [
    "txt2.loc[:, \"id\"] = 1\n",
    "output_df = pd.concat([output_df, txt2])"
   ]
  },
  {
   "cell_type": "markdown",
   "id": "e71e43ca-d388-4353-834c-7ccc654ccd2a",
   "metadata": {
    "jp-MarkdownHeadingCollapsed": true,
    "tags": []
   },
   "source": [
    "# Combine into one dataframe"
   ]
  },
  {
   "cell_type": "code",
   "execution_count": 31,
   "id": "5ff7b11c-dfb2-4699-89e5-a6602d19355d",
   "metadata": {
    "tags": []
   },
   "outputs": [],
   "source": [
    "# for now make image a filename\n",
    "output_df = pd.DataFrame(columns=[\"tokens\", \"bboxes\", \"ner_tags\", \"image\"])"
   ]
  },
  {
   "cell_type": "code",
   "execution_count": 20,
   "id": "d2522f7b-7e20-4c85-991a-d4d2896b9ef9",
   "metadata": {
    "tags": []
   },
   "outputs": [],
   "source": [
    "doc_id = 0"
   ]
  },
  {
   "cell_type": "code",
   "execution_count": 21,
   "id": "a3115358-d056-4990-aa34-92aeaef99903",
   "metadata": {
    "tags": []
   },
   "outputs": [],
   "source": [
    "txt.loc[:, \"id\"] = doc_id"
   ]
  },
  {
   "cell_type": "code",
   "execution_count": 35,
   "id": "9ef93bad-7ef7-4322-b167-eeee45c62185",
   "metadata": {
    "tags": []
   },
   "outputs": [],
   "source": [
    "output_df[\"tokens\"] = txt.groupby(\"id\")[\"text\"].apply(list)\n",
    "output_df[\"ner_tags\"] = txt.groupby(\"id\")[\"ner_tag\"].apply(list)"
   ]
  },
  {
   "cell_type": "code",
   "execution_count": 71,
   "id": "49d0920a-905f-4821-9368-4c046d850333",
   "metadata": {
    "tags": []
   },
   "outputs": [
    {
     "data": {
      "text/html": [
       "<div>\n",
       "<style scoped>\n",
       "    .dataframe tbody tr th:only-of-type {\n",
       "        vertical-align: middle;\n",
       "    }\n",
       "\n",
       "    .dataframe tbody tr th {\n",
       "        vertical-align: top;\n",
       "    }\n",
       "\n",
       "    .dataframe thead th {\n",
       "        text-align: right;\n",
       "    }\n",
       "</style>\n",
       "<table border=\"1\" class=\"dataframe\">\n",
       "  <thead>\n",
       "    <tr style=\"text-align: right;\">\n",
       "      <th></th>\n",
       "      <th>tokens</th>\n",
       "      <th>bboxes</th>\n",
       "      <th>ner_tags</th>\n",
       "      <th>image</th>\n",
       "    </tr>\n",
       "    <tr>\n",
       "      <th>id</th>\n",
       "      <th></th>\n",
       "      <th></th>\n",
       "      <th></th>\n",
       "      <th></th>\n",
       "    </tr>\n",
       "  </thead>\n",
       "  <tbody>\n",
       "    <tr>\n",
       "      <th>0</th>\n",
       "      <td>[Exhibit 21.1, WISCONSIN ELECTRIC POWER COMPAN...</td>\n",
       "      <td>[504.79117, 83.47444, 565.92926, 98.621445, 18...</td>\n",
       "      <td>[0, 0, 0, 0, 0, 0, 1, 3, 3, 5, 2, 4, 6, 2, 4, ...</td>\n",
       "      <td>NaN</td>\n",
       "    </tr>\n",
       "  </tbody>\n",
       "</table>\n",
       "</div>"
      ],
      "text/plain": [
       "                                               tokens  \\\n",
       "id                                                      \n",
       "0   [Exhibit 21.1, WISCONSIN ELECTRIC POWER COMPAN...   \n",
       "\n",
       "                                               bboxes  \\\n",
       "id                                                      \n",
       "0   [504.79117, 83.47444, 565.92926, 98.621445, 18...   \n",
       "\n",
       "                                             ner_tags image  \n",
       "id                                                           \n",
       "0   [0, 0, 0, 0, 0, 0, 1, 3, 3, 5, 2, 4, 6, 2, 4, ...   NaN  "
      ]
     },
     "execution_count": 71,
     "metadata": {},
     "output_type": "execute_result"
    }
   ],
   "source": [
    "output_df.loc[[0]]"
   ]
  },
  {
   "cell_type": "code",
   "execution_count": 82,
   "id": "1af1d609-8ddc-4abb-b17c-c36614c7581e",
   "metadata": {
    "tags": []
   },
   "outputs": [],
   "source": [
    "bbox_cols = [\"top_left_x_pdf\", \"top_left_y_pdf\", \"bottom_right_x_pdf\", \"bottom_right_y_pdf\"]\n",
    "matrices = {}\n",
    "for _, group in txt.groupby('id'):\n",
    "    bbox = group[bbox_cols].values\n",
    "    matrix = np.reshape(bbox, (len(group), len(bbox_cols)))\n",
    "    matrices[group.iloc[0]['id']] = matrix"
   ]
  },
  {
   "cell_type": "code",
   "execution_count": 87,
   "id": "fa5685fc-713a-4483-bc5a-16893269a161",
   "metadata": {
    "tags": []
   },
   "outputs": [
    {
     "ename": "ValueError",
     "evalue": "Must have equal len keys and value when setting with an ndarray",
     "output_type": "error",
     "traceback": [
      "\u001b[0;31m---------------------------------------------------------------------------\u001b[0m",
      "\u001b[0;31mValueError\u001b[0m                                Traceback (most recent call last)",
      "Cell \u001b[0;32mIn[87], line 2\u001b[0m\n\u001b[1;32m      1\u001b[0m \u001b[38;5;28;01mfor\u001b[39;00m i, arr \u001b[38;5;129;01min\u001b[39;00m matrices\u001b[38;5;241m.\u001b[39mitems():\n\u001b[0;32m----> 2\u001b[0m     \u001b[43moutput_df\u001b[49m\u001b[38;5;241;43m.\u001b[39;49m\u001b[43mloc\u001b[49m\u001b[43m[\u001b[49m\u001b[43mi\u001b[49m\u001b[43m,\u001b[49m\u001b[43m \u001b[49m\u001b[38;5;124;43m\"\u001b[39;49m\u001b[38;5;124;43mbboxes\u001b[39;49m\u001b[38;5;124;43m\"\u001b[39;49m\u001b[43m]\u001b[49m \u001b[38;5;241m=\u001b[39m arr\n",
      "File \u001b[0;32m~/mambaforge/envs/mozilla-sec-eia/lib/python3.11/site-packages/pandas/core/indexing.py:911\u001b[0m, in \u001b[0;36m_LocationIndexer.__setitem__\u001b[0;34m(self, key, value)\u001b[0m\n\u001b[1;32m    908\u001b[0m \u001b[38;5;28mself\u001b[39m\u001b[38;5;241m.\u001b[39m_has_valid_setitem_indexer(key)\n\u001b[1;32m    910\u001b[0m iloc \u001b[38;5;241m=\u001b[39m \u001b[38;5;28mself\u001b[39m \u001b[38;5;28;01mif\u001b[39;00m \u001b[38;5;28mself\u001b[39m\u001b[38;5;241m.\u001b[39mname \u001b[38;5;241m==\u001b[39m \u001b[38;5;124m\"\u001b[39m\u001b[38;5;124miloc\u001b[39m\u001b[38;5;124m\"\u001b[39m \u001b[38;5;28;01melse\u001b[39;00m \u001b[38;5;28mself\u001b[39m\u001b[38;5;241m.\u001b[39mobj\u001b[38;5;241m.\u001b[39miloc\n\u001b[0;32m--> 911\u001b[0m \u001b[43miloc\u001b[49m\u001b[38;5;241;43m.\u001b[39;49m\u001b[43m_setitem_with_indexer\u001b[49m\u001b[43m(\u001b[49m\u001b[43mindexer\u001b[49m\u001b[43m,\u001b[49m\u001b[43m \u001b[49m\u001b[43mvalue\u001b[49m\u001b[43m,\u001b[49m\u001b[43m \u001b[49m\u001b[38;5;28;43mself\u001b[39;49m\u001b[38;5;241;43m.\u001b[39;49m\u001b[43mname\u001b[49m\u001b[43m)\u001b[49m\n",
      "File \u001b[0;32m~/mambaforge/envs/mozilla-sec-eia/lib/python3.11/site-packages/pandas/core/indexing.py:1942\u001b[0m, in \u001b[0;36m_iLocIndexer._setitem_with_indexer\u001b[0;34m(self, indexer, value, name)\u001b[0m\n\u001b[1;32m   1939\u001b[0m \u001b[38;5;66;03m# align and set the values\u001b[39;00m\n\u001b[1;32m   1940\u001b[0m \u001b[38;5;28;01mif\u001b[39;00m take_split_path:\n\u001b[1;32m   1941\u001b[0m     \u001b[38;5;66;03m# We have to operate column-wise\u001b[39;00m\n\u001b[0;32m-> 1942\u001b[0m     \u001b[38;5;28;43mself\u001b[39;49m\u001b[38;5;241;43m.\u001b[39;49m\u001b[43m_setitem_with_indexer_split_path\u001b[49m\u001b[43m(\u001b[49m\u001b[43mindexer\u001b[49m\u001b[43m,\u001b[49m\u001b[43m \u001b[49m\u001b[43mvalue\u001b[49m\u001b[43m,\u001b[49m\u001b[43m \u001b[49m\u001b[43mname\u001b[49m\u001b[43m)\u001b[49m\n\u001b[1;32m   1943\u001b[0m \u001b[38;5;28;01melse\u001b[39;00m:\n\u001b[1;32m   1944\u001b[0m     \u001b[38;5;28mself\u001b[39m\u001b[38;5;241m.\u001b[39m_setitem_single_block(indexer, value, name)\n",
      "File \u001b[0;32m~/mambaforge/envs/mozilla-sec-eia/lib/python3.11/site-packages/pandas/core/indexing.py:1982\u001b[0m, in \u001b[0;36m_iLocIndexer._setitem_with_indexer_split_path\u001b[0;34m(self, indexer, value, name)\u001b[0m\n\u001b[1;32m   1977\u001b[0m     \u001b[38;5;28mself\u001b[39m\u001b[38;5;241m.\u001b[39m_setitem_with_indexer_frame_value(indexer, value, name)\n\u001b[1;32m   1979\u001b[0m \u001b[38;5;28;01melif\u001b[39;00m np\u001b[38;5;241m.\u001b[39mndim(value) \u001b[38;5;241m==\u001b[39m \u001b[38;5;241m2\u001b[39m:\n\u001b[1;32m   1980\u001b[0m     \u001b[38;5;66;03m# TODO: avoid np.ndim call in case it isn't an ndarray, since\u001b[39;00m\n\u001b[1;32m   1981\u001b[0m     \u001b[38;5;66;03m#  that will construct an ndarray, which will be wasteful\u001b[39;00m\n\u001b[0;32m-> 1982\u001b[0m     \u001b[38;5;28;43mself\u001b[39;49m\u001b[38;5;241;43m.\u001b[39;49m\u001b[43m_setitem_with_indexer_2d_value\u001b[49m\u001b[43m(\u001b[49m\u001b[43mindexer\u001b[49m\u001b[43m,\u001b[49m\u001b[43m \u001b[49m\u001b[43mvalue\u001b[49m\u001b[43m)\u001b[49m\n\u001b[1;32m   1984\u001b[0m \u001b[38;5;28;01melif\u001b[39;00m \u001b[38;5;28mlen\u001b[39m(ilocs) \u001b[38;5;241m==\u001b[39m \u001b[38;5;241m1\u001b[39m \u001b[38;5;129;01mand\u001b[39;00m lplane_indexer \u001b[38;5;241m==\u001b[39m \u001b[38;5;28mlen\u001b[39m(value) \u001b[38;5;129;01mand\u001b[39;00m \u001b[38;5;129;01mnot\u001b[39;00m is_scalar(pi):\n\u001b[1;32m   1985\u001b[0m     \u001b[38;5;66;03m# We are setting multiple rows in a single column.\u001b[39;00m\n\u001b[1;32m   1986\u001b[0m     \u001b[38;5;28mself\u001b[39m\u001b[38;5;241m.\u001b[39m_setitem_single_column(ilocs[\u001b[38;5;241m0\u001b[39m], value, pi)\n",
      "File \u001b[0;32m~/mambaforge/envs/mozilla-sec-eia/lib/python3.11/site-packages/pandas/core/indexing.py:2048\u001b[0m, in \u001b[0;36m_iLocIndexer._setitem_with_indexer_2d_value\u001b[0;34m(self, indexer, value)\u001b[0m\n\u001b[1;32m   2046\u001b[0m     value \u001b[38;5;241m=\u001b[39m np\u001b[38;5;241m.\u001b[39marray(value, dtype\u001b[38;5;241m=\u001b[39m\u001b[38;5;28mobject\u001b[39m)\n\u001b[1;32m   2047\u001b[0m \u001b[38;5;28;01mif\u001b[39;00m \u001b[38;5;28mlen\u001b[39m(ilocs) \u001b[38;5;241m!=\u001b[39m value\u001b[38;5;241m.\u001b[39mshape[\u001b[38;5;241m1\u001b[39m]:\n\u001b[0;32m-> 2048\u001b[0m     \u001b[38;5;28;01mraise\u001b[39;00m \u001b[38;5;167;01mValueError\u001b[39;00m(\n\u001b[1;32m   2049\u001b[0m         \u001b[38;5;124m\"\u001b[39m\u001b[38;5;124mMust have equal len keys and value when setting with an ndarray\u001b[39m\u001b[38;5;124m\"\u001b[39m\n\u001b[1;32m   2050\u001b[0m     )\n\u001b[1;32m   2052\u001b[0m \u001b[38;5;28;01mfor\u001b[39;00m i, loc \u001b[38;5;129;01min\u001b[39;00m \u001b[38;5;28menumerate\u001b[39m(ilocs):\n\u001b[1;32m   2053\u001b[0m     value_col \u001b[38;5;241m=\u001b[39m value[:, i]\n",
      "\u001b[0;31mValueError\u001b[0m: Must have equal len keys and value when setting with an ndarray"
     ]
    }
   ],
   "source": [
    "# this isn't so nice, what does the model want as input?\n",
    "for i, arr in matrices.items():\n",
    "    output_df.loc[i, \"bboxes\"] = arr"
   ]
  },
  {
   "cell_type": "code",
   "execution_count": 63,
   "id": "ef6849a8-1770-47f9-a25c-9d2f86cb2d7a",
   "metadata": {
    "tags": []
   },
   "outputs": [],
   "source": [
    "# format bboxes to have x1, y1, x2, y2\n",
    "txt[\"bboxes\"] = txt[[\"top_left_x_pdf\", \"top_left_y_pdf\", \"bottom_right_x_pdf\", \"bottom_right_y_pdf\"]].astype(str).agg(', '.join, axis=1)"
   ]
  },
  {
   "cell_type": "code",
   "execution_count": 65,
   "id": "88e9c6af-4719-4663-bb87-4897c12cc1a8",
   "metadata": {},
   "outputs": [],
   "source": [
    "output_df[\"bboxes\"] = txt.groupby(\"id\")[\"bboxes\"].apply(list)"
   ]
  },
  {
   "cell_type": "code",
   "execution_count": 66,
   "id": "bb55c8bd-436a-444f-a9c1-d51d2a1ae20a",
   "metadata": {
    "tags": []
   },
   "outputs": [
    {
     "data": {
      "text/html": [
       "<div>\n",
       "<style scoped>\n",
       "    .dataframe tbody tr th:only-of-type {\n",
       "        vertical-align: middle;\n",
       "    }\n",
       "\n",
       "    .dataframe tbody tr th {\n",
       "        vertical-align: top;\n",
       "    }\n",
       "\n",
       "    .dataframe thead th {\n",
       "        text-align: right;\n",
       "    }\n",
       "</style>\n",
       "<table border=\"1\" class=\"dataframe\">\n",
       "  <thead>\n",
       "    <tr style=\"text-align: right;\">\n",
       "      <th></th>\n",
       "      <th>tokens</th>\n",
       "      <th>bboxes</th>\n",
       "      <th>ner_tags</th>\n",
       "      <th>image</th>\n",
       "    </tr>\n",
       "    <tr>\n",
       "      <th>id</th>\n",
       "      <th></th>\n",
       "      <th></th>\n",
       "      <th></th>\n",
       "      <th></th>\n",
       "    </tr>\n",
       "  </thead>\n",
       "  <tbody>\n",
       "    <tr>\n",
       "      <th>0</th>\n",
       "      <td>[Exhibit 21.1, WISCONSIN ELECTRIC POWER COMPAN...</td>\n",
       "      <td>[504.79117, 83.47444, 565.92926, 98.621445, 18...</td>\n",
       "      <td>[0, 0, 0, 0, 0, 0, 1, 3, 3, 5, 2, 4, 6, 2, 4, ...</td>\n",
       "      <td>NaN</td>\n",
       "    </tr>\n",
       "  </tbody>\n",
       "</table>\n",
       "</div>"
      ],
      "text/plain": [
       "                                               tokens  \\\n",
       "id                                                      \n",
       "0   [Exhibit 21.1, WISCONSIN ELECTRIC POWER COMPAN...   \n",
       "\n",
       "                                               bboxes  \\\n",
       "id                                                      \n",
       "0   [504.79117, 83.47444, 565.92926, 98.621445, 18...   \n",
       "\n",
       "                                             ner_tags image  \n",
       "id                                                           \n",
       "0   [0, 0, 0, 0, 0, 0, 1, 3, 3, 5, 2, 4, 6, 2, 4, ...   NaN  "
      ]
     },
     "execution_count": 66,
     "metadata": {},
     "output_type": "execute_result"
    }
   ],
   "source": [
    "output_df"
   ]
  },
  {
   "cell_type": "markdown",
   "id": "9ac178ea-7047-47b0-998b-14ceb6343086",
   "metadata": {},
   "source": [
    "# Try vendoring DocAI\n",
    "https://medium.com/@matt.noe/tutorial-how-to-train-layoutlm-on-a-custom-dataset-with-hugging-face-cda58c96571c"
   ]
  },
  {
   "cell_type": "code",
   "execution_count": 39,
   "id": "a0431220-8549-469c-9955-855743282942",
   "metadata": {
    "tags": []
   },
   "outputs": [],
   "source": [
    "bbox_cols = [\"top_left_x_pdf\", \"top_left_y_pdf\", \"bottom_right_x_pdf\", \"bottom_right_y_pdf\"]"
   ]
  },
  {
   "cell_type": "code",
   "execution_count": 40,
   "id": "cf4a7fa5-879d-4448-a585-6a1e8dd2418a",
   "metadata": {
    "tags": []
   },
   "outputs": [],
   "source": [
    "# convert dataframe/dictionary into NER format\n",
    "# document_annotation_to_ner https://github.com/butlerlabs/docai/blob/main/docai/annotations/ner_utils.py\n",
    "# complete dataset is a list of dicts, with one dict for each doc\n",
    "n_docs = 2\n",
    "ner_annotations = []\n",
    "images = [full_pg_img, full_pg_img2]\n",
    "for i in range(n_docs):\n",
    "        annotation = {\n",
    "            \"id\": i, \n",
    "            \"tokens\": output_df.groupby(\"id\")[\"text\"].apply(list).loc[i], \n",
    "            \"ner_tags\": [id_to_label_small[n] for n in output_df.groupby(\"id\")[\"ner_tag\"].apply(list).loc[i]],\n",
    "            \"bboxes\": output_df.loc[output_df[\"id\"] == i, :][bbox_cols].values.tolist(),\n",
    "            \"image\": images[i]\n",
    "        }\n",
    "        ner_annotations.append(annotation)"
   ]
  },
  {
   "cell_type": "code",
   "execution_count": 41,
   "id": "c2051608-851e-424d-a9de-d5c42edd4829",
   "metadata": {
    "tags": []
   },
   "outputs": [
    {
     "data": {
      "text/plain": [
       "[{'id': 0,\n",
       "  'tokens': ['Exhibit 21.1',\n",
       "   'WISCONSIN ELECTRIC POWER COMPANY',\n",
       "   'SUBSIDIARIES AS OF DECEMBER 31, 2016',\n",
       "   'The following table includes the subsidiaries of WE, an electric, natural gas, and steam utility incorporated in the state of',\n",
       "   'Wisconsin, as well as the percent of ownership, as of December 31, 2016. WE is a subsidiary of WEC Energy Group,',\n",
       "   'Inc.',\n",
       "   'Subsidiary',\n",
       "   'State of Incorporation',\n",
       "   'or Organization',\n",
       "   'Percent Ownership',\n",
       "   'ATC Management, Inc. *',\n",
       "   'Wisconsin',\n",
       "   '26.24%',\n",
       "   'American Transmission Company LLC *',\n",
       "   'Wisconsin',\n",
       "   '23.04%',\n",
       "   'Bostco LLC',\n",
       "   'Wisconsin',\n",
       "   '100%',\n",
       "   '*',\n",
       "   'On January 1, 2017, we transferred our ownership interest in ATC Management, Inc. and American Transmission',\n",
       "   'Company LLC to to another subsidiary of WEC Energy Group.'],\n",
       "  'ner_tags': ['O',\n",
       "   'O',\n",
       "   'O',\n",
       "   'O',\n",
       "   'O',\n",
       "   'O',\n",
       "   'O',\n",
       "   'O',\n",
       "   'O',\n",
       "   'O',\n",
       "   'B-Subsidiary',\n",
       "   'B-Loc',\n",
       "   'B-Own_Per',\n",
       "   'B-Subsidiary',\n",
       "   'B-Loc',\n",
       "   'B-Own_Per',\n",
       "   'B-Subsidiary',\n",
       "   'B-Loc',\n",
       "   'B-Own_Per',\n",
       "   'O',\n",
       "   'O',\n",
       "   'O'],\n",
       "  'bboxes': [[504.7911682128906,\n",
       "    83.47444152832031,\n",
       "    565.9292602539062,\n",
       "    98.62144470214844],\n",
       "   [184.88226318359375,\n",
       "    127.07447814941406,\n",
       "    410.3932800292969,\n",
       "    142.2214813232422],\n",
       "   [184.24977111816406,\n",
       "    142.2744903564453,\n",
       "    411.02581787109375,\n",
       "    157.42149353027344],\n",
       "   [29.346460342407227,\n",
       "    214.57647705078125,\n",
       "    559.5863647460938,\n",
       "    228.3164825439453],\n",
       "   [29.346460342407227, 226.646484375, 547.3263549804688, 240.38648986816406],\n",
       "   [29.346460342407227,\n",
       "    238.71649169921875,\n",
       "    45.466461181640625,\n",
       "    252.4564971923828],\n",
       "   [31.346460342407227,\n",
       "    317.57647705078125,\n",
       "    78.0264663696289,\n",
       "    331.31646728515625],\n",
       "   [344.0847473144531,\n",
       "    307.57647705078125,\n",
       "    439.6947326660156,\n",
       "    321.31646728515625],\n",
       "   [357.7097473144531,\n",
       "    317.9798278808594,\n",
       "    426.06976318359375,\n",
       "    331.7198181152344],\n",
       "   [467.8629455566406,\n",
       "    317.57647705078125,\n",
       "    552.8929443359375,\n",
       "    331.31646728515625],\n",
       "   [31.346460342407227,\n",
       "    349.57647705078125,\n",
       "    140.83645629882812,\n",
       "    363.31646728515625],\n",
       "   [369.1097412109375,\n",
       "    349.57647705078125,\n",
       "    414.66973876953125,\n",
       "    363.31646728515625],\n",
       "   [493.4229431152344,\n",
       "    349.57647705078125,\n",
       "    527.3329467773438,\n",
       "    363.31646728515625],\n",
       "   [31.346460342407227,\n",
       "    365.57647705078125,\n",
       "    209.1664581298828,\n",
       "    379.31646728515625],\n",
       "   [369.1097412109375,\n",
       "    365.57647705078125,\n",
       "    414.66973876953125,\n",
       "    379.31646728515625],\n",
       "   [493.4229431152344,\n",
       "    365.57647705078125,\n",
       "    527.3329467773438,\n",
       "    379.31646728515625],\n",
       "   [31.346460342407227,\n",
       "    381.57647705078125,\n",
       "    83.03646850585938,\n",
       "    395.31646728515625],\n",
       "   [369.1097412109375,\n",
       "    381.57647705078125,\n",
       "    414.66973876953125,\n",
       "    395.31646728515625],\n",
       "   [497.5929260253906,\n",
       "    381.57647705078125,\n",
       "    523.1629638671875,\n",
       "    395.31646728515625],\n",
       "   [28.346460342407227,\n",
       "    420.44647216796875,\n",
       "    33.346458435058594,\n",
       "    433.7864685058594],\n",
       "   [41.846458435058594,\n",
       "    420.57647705078125,\n",
       "    543.1563110351562,\n",
       "    434.31646728515625],\n",
       "   [41.846458435058594, 432.646484375, 317.51641845703125, 446.386474609375]],\n",
       "  'image': <PIL.Image.Image image mode=RGB size=1241x1754>},\n",
       " {'id': 1,\n",
       "  'tokens': ['EXHIBIT 21.1',\n",
       "   'Subsidiaries of the Issuer',\n",
       "   'Name of Subsidiary',\n",
       "   'State of Organization',\n",
       "   'ThermoEnergy Environmental, LLC',\n",
       "   'New Jersey',\n",
       "   'ThermoEnergy Power Systems, LLC (85%)',\n",
       "   'Delaware',\n",
       "   'Babcock-Thermo Carbon Capture, LLC (42.5%)',\n",
       "   'Delaware',\n",
       "   'Cast Acquisition Corp.',\n",
       "   'Delaware',\n",
       "   'CASTion Corporation',\n",
       "   'Massachusetts'],\n",
       "  'ner_tags': ['O',\n",
       "   'O',\n",
       "   'O',\n",
       "   'O',\n",
       "   'B-Subsidiary',\n",
       "   'B-Loc',\n",
       "   'B-Subsidiary',\n",
       "   'B-Loc',\n",
       "   'B-Subsidiary',\n",
       "   'B-Loc',\n",
       "   'B-Subsidiary',\n",
       "   'B-Loc',\n",
       "   'B-Subsidiary',\n",
       "   'B-Loc'],\n",
       "  'bboxes': [[520.0741577148438,\n",
       "    39.91899871826172,\n",
       "    565.9291381835938,\n",
       "    50.2239990234375],\n",
       "   [255.53656005859375,\n",
       "    66.41899871826172,\n",
       "    339.73907470703125,\n",
       "    76.7239990234375],\n",
       "   [124.8875503540039,\n",
       "    91.91901397705078,\n",
       "    190.3250274658203,\n",
       "    102.22401428222656],\n",
       "   [402.4418029785156,\n",
       "    91.91901397705078,\n",
       "    472.89678955078125,\n",
       "    102.22401428222656],\n",
       "   [28.346460342407227,\n",
       "    103.91899871826172,\n",
       "    145.88644409179688,\n",
       "    114.2239990234375],\n",
       "   [405.3543701171875,\n",
       "    103.91899871826172,\n",
       "    444.5268859863281,\n",
       "    114.2239990234375],\n",
       "   [28.346460342407227,\n",
       "    115.16899871826172,\n",
       "    172.13644409179688,\n",
       "    125.4739990234375],\n",
       "   [405.3543701171875,\n",
       "    115.16899871826172,\n",
       "    437.0268859863281,\n",
       "    125.4739990234375],\n",
       "   [28.346460342407227,\n",
       "    126.41899108886719,\n",
       "    187.1514434814453,\n",
       "    136.72398376464844],\n",
       "   [405.3543701171875,\n",
       "    126.41899108886719,\n",
       "    437.0268859863281,\n",
       "    136.72398376464844],\n",
       "   [28.346460342407227,\n",
       "    137.6689910888672,\n",
       "    102.53646087646484,\n",
       "    147.97398376464844],\n",
       "   [405.3543701171875,\n",
       "    137.6689910888672,\n",
       "    437.0268859863281,\n",
       "    147.97398376464844],\n",
       "   [28.346460342407227,\n",
       "    148.9189910888672,\n",
       "    99.61897277832031,\n",
       "    159.22398376464844],\n",
       "   [405.3543701171875,\n",
       "    148.9189910888672,\n",
       "    455.37188720703125,\n",
       "    159.22398376464844]],\n",
       "  'image': <PIL.Image.Image image mode=RGB size=1241x1754>}]"
      ]
     },
     "execution_count": 41,
     "metadata": {},
     "output_type": "execute_result"
    }
   ],
   "source": [
    "ner_annotations"
   ]
  },
  {
   "cell_type": "code",
   "execution_count": 42,
   "id": "e73d7014-add1-4732-ab0e-4560af56daac",
   "metadata": {
    "tags": []
   },
   "outputs": [],
   "source": [
    "# normalize NER notation for LayoutLM\n",
    "# https://github.com/butlerlabs/docai/blob/main/docai/annotations/layoutlm_utils.py\n",
    "def normalize_bounding_box(bbx):\n",
    "    normalize_bounding_box = list(map(lambda point: int(point * 1000), bbx))\n",
    "    return normalize_bounding_box\n",
    "\n",
    "def normalize_ner_annotation_for_layoutlm(annotation):\n",
    "    \"\"\"\n",
    "    Normalize the bounding boxes by 1000 to match LayoutLM expected bounding box format\n",
    "    \"\"\"\n",
    "    normalized_bbxs = list(map(normalize_bounding_box, annotation[\"bboxes\"]))\n",
    "    return {\n",
    "        \"id\": annotation[\"id\"],\n",
    "        \"tokens\": annotation[\"tokens\"],\n",
    "        # Normalize NER bounding boxes by 1000 as LayoutLM expects\n",
    "        \"bboxes\": normalized_bbxs,\n",
    "        \"ner_tags\": annotation[\"ner_tags\"],\n",
    "        \"image\": annotation[\"image\"],\n",
    "    }"
   ]
  },
  {
   "cell_type": "code",
   "execution_count": 43,
   "id": "9f889f3f-1a0c-4d3c-b0ba-ef4ccf0e772b",
   "metadata": {
    "tags": []
   },
   "outputs": [],
   "source": [
    "# not sure if we need to actually normalize, Hugging Face expects bboxes between 0 and 1000\n",
    "# and they appear to already be that way\n",
    "# norm_ner_annotations = normalize_ner_annotation_for_layoutlm(ner_annotations)"
   ]
  },
  {
   "cell_type": "code",
   "execution_count": 44,
   "id": "505ed41c-23ee-4c5f-924f-f78166817b97",
   "metadata": {
    "tags": []
   },
   "outputs": [],
   "source": [
    "dataset = Dataset.from_list(ner_annotations)"
   ]
  },
  {
   "cell_type": "code",
   "execution_count": 45,
   "id": "48aa01c7-70f6-4ce3-bf5f-f1d4608bf208",
   "metadata": {
    "tags": []
   },
   "outputs": [
    {
     "data": {
      "text/plain": [
       "Dataset({\n",
       "    features: ['id', 'tokens', 'ner_tags', 'bboxes', 'image'],\n",
       "    num_rows: 2\n",
       "})"
      ]
     },
     "execution_count": 45,
     "metadata": {},
     "output_type": "execute_result"
    }
   ],
   "source": [
    "dataset"
   ]
  },
  {
   "cell_type": "markdown",
   "id": "daab3068-43b4-484d-b4d5-8feb2ac18b15",
   "metadata": {},
   "source": [
    "# Fine-tune Layout LM model"
   ]
  },
  {
   "cell_type": "code",
   "execution_count": 69,
   "id": "5de1d569-a08a-4dfc-95aa-0e0914bb4bc5",
   "metadata": {
    "tags": []
   },
   "outputs": [
    {
     "data": {
      "text/plain": [
       "['O',\n",
       " 'B-Subsidiary',\n",
       " 'I-Subsidiary',\n",
       " 'B-Loc',\n",
       " 'I-Loc',\n",
       " 'B-Own_Per',\n",
       " 'I-Own_Per']"
      ]
     },
     "execution_count": 69,
     "metadata": {},
     "output_type": "execute_result"
    }
   ],
   "source": [
    "label_list = list(id_to_label_small.values())\n",
    "label_list"
   ]
  },
  {
   "cell_type": "code",
   "execution_count": 47,
   "id": "f16e8d0d-4703-428a-ba31-85552fcef6c2",
   "metadata": {
    "tags": []
   },
   "outputs": [],
   "source": [
    "column_names = dataset.column_names"
   ]
  },
  {
   "cell_type": "code",
   "execution_count": 48,
   "id": "396bcfbb-4595-420c-9eb4-70845d5de9cb",
   "metadata": {
    "tags": []
   },
   "outputs": [
    {
     "data": {
      "text/plain": [
       "{0: 'O',\n",
       " 1: 'B-Subsidiary',\n",
       " 2: 'I-Subsidiary',\n",
       " 3: 'B-Loc',\n",
       " 4: 'I-Loc',\n",
       " 5: 'B-Own_Per',\n",
       " 6: 'I-Own_Per'}"
      ]
     },
     "execution_count": 48,
     "metadata": {},
     "output_type": "execute_result"
    }
   ],
   "source": [
    "id_to_label_small"
   ]
  },
  {
   "cell_type": "code",
   "execution_count": 70,
   "id": "0ee688e7-7650-46cb-be5d-b1bbbf20f964",
   "metadata": {
    "tags": []
   },
   "outputs": [],
   "source": [
    "id2label = {k: v for k,v in enumerate(label_list)}\n",
    "label2id = {v: k for k,v in enumerate(label_list)}"
   ]
  },
  {
   "cell_type": "code",
   "execution_count": 71,
   "id": "fb3955cb-4ca4-40b6-9dde-cc246f79d289",
   "metadata": {
    "tags": []
   },
   "outputs": [],
   "source": [
    "class_label = ClassLabel(names=label_list)"
   ]
  },
  {
   "cell_type": "code",
   "execution_count": 51,
   "id": "23b73042-17cb-4748-8fa2-9378c00c4e19",
   "metadata": {
    "tags": []
   },
   "outputs": [],
   "source": [
    "# update this split size when there are more than 2 docs\n",
    "dataset = dataset.train_test_split(test_size=0.5)"
   ]
  },
  {
   "cell_type": "code",
   "execution_count": 52,
   "id": "c63eef47-4168-402b-b7eb-5347847df004",
   "metadata": {
    "tags": []
   },
   "outputs": [],
   "source": [
    "# processor = LayoutLMv3Processor.from_pretrained(\"microsoft/layoutlmv3-base-uncased\")\n",
    "# we'll use the Auto API here - it will load LayoutLMv3Processor behind the scenes,\n",
    "# based on the checkpoint we provide from the hub\n",
    "processor = AutoProcessor.from_pretrained(\"microsoft/layoutlmv3-base\", apply_ocr=False)\n",
    "\n",
    "def convert_ner_tags_to_id(ner_tags):\n",
    "    return [label2id[ner_tag] for ner_tag in ner_tags]\n",
    "\n",
    "# This function is used to put the Dataset in its final format for training LayoutLM\n",
    "def prepare_dataset(annotations):\n",
    "    images = annotations['image']\n",
    "    words = annotations['tokens']\n",
    "    boxes = annotations['bboxes']\n",
    "    # Map over labels and convert to numeric id for each ner_tag\n",
    "    ner_tags = [convert_ner_tags_to_id(ner_tags) for ner_tags in annotations['ner_tags']]\n",
    "\n",
    "    encoding = processor(images, words, boxes=boxes, word_labels=ner_tags, truncation=True, padding=\"max_length\")\n",
    "\n",
    "    return encoding"
   ]
  },
  {
   "cell_type": "code",
   "execution_count": 53,
   "id": "a937250b-62a5-472a-a68d-0799b15fdd87",
   "metadata": {
    "tags": []
   },
   "outputs": [
    {
     "data": {
      "application/vnd.jupyter.widget-view+json": {
       "model_id": "441c5186c7c24c05b92de6d9aaa82677",
       "version_major": 2,
       "version_minor": 0
      },
      "text/plain": [
       "Map:   0%|          | 0/1 [00:00<?, ? examples/s]"
      ]
     },
     "metadata": {},
     "output_type": "display_data"
    },
    {
     "data": {
      "application/vnd.jupyter.widget-view+json": {
       "model_id": "45fe969f6695470e997a7ef8ea2433e2",
       "version_major": 2,
       "version_minor": 0
      },
      "text/plain": [
       "Map:   0%|          | 0/1 [00:00<?, ? examples/s]"
      ]
     },
     "metadata": {},
     "output_type": "display_data"
    }
   ],
   "source": [
    "# Define features for use training the model \n",
    "features = Features({\n",
    "    'pixel_values': Array3D(dtype=\"float32\", shape=(3, 224, 224)),\n",
    "    'input_ids': Sequence(feature=Value(dtype='int64')),\n",
    "    'attention_mask': Sequence(Value(dtype='int64')),\n",
    "    'bbox': Array2D(dtype=\"int64\", shape=(512, 4)),\n",
    "    'labels': Sequence(feature=Value(dtype='int64')),\n",
    "})\n",
    "\n",
    "# Prepare our train & eval dataset\n",
    "\n",
    "train_dataset = dataset[\"train\"].map(\n",
    "    prepare_dataset,\n",
    "    batched=True,\n",
    "    remove_columns=column_names,\n",
    "    features=features,\n",
    ")\n",
    "\n",
    "eval_dataset = dataset[\"test\"].map(\n",
    "    prepare_dataset,\n",
    "    batched=True,\n",
    "    remove_columns=column_names,\n",
    "    features=features,\n",
    ")"
   ]
  },
  {
   "cell_type": "code",
   "execution_count": 54,
   "id": "047c1635-8848-4256-8568-12425217666b",
   "metadata": {
    "tags": []
   },
   "outputs": [
    {
     "data": {
      "text/plain": [
       "'<s> EXHIBIT 21.1 Subsidiaries of the Issuer Name of Subsidiary State of Organization ThermoEnergy Environmental, LLC New Jersey ThermoEnergy Power Systems, LLC (85%) Delaware Babcock-Thermo Carbon Capture, LLC (42.5%) Delaware Cast Acquisition Corp. Delaware CASTion Corporation Massachusetts</s><pad><pad><pad><pad><pad><pad><pad><pad><pad><pad><pad><pad><pad><pad><pad><pad><pad><pad><pad><pad><pad><pad><pad><pad><pad><pad><pad><pad><pad><pad><pad><pad><pad><pad><pad><pad><pad><pad><pad><pad><pad><pad><pad><pad><pad><pad><pad><pad><pad><pad><pad><pad><pad><pad><pad><pad><pad><pad><pad><pad><pad><pad><pad><pad><pad><pad><pad><pad><pad><pad><pad><pad><pad><pad><pad><pad><pad><pad><pad><pad><pad><pad><pad><pad><pad><pad><pad><pad><pad><pad><pad><pad><pad><pad><pad><pad><pad><pad><pad><pad><pad><pad><pad><pad><pad><pad><pad><pad><pad><pad><pad><pad><pad><pad><pad><pad><pad><pad><pad><pad><pad><pad><pad><pad><pad><pad><pad><pad><pad><pad><pad><pad><pad><pad><pad><pad><pad><pad><pad><pad><pad><pad><pad><pad><pad><pad><pad><pad><pad><pad><pad><pad><pad><pad><pad><pad><pad><pad><pad><pad><pad><pad><pad><pad><pad><pad><pad><pad><pad><pad><pad><pad><pad><pad><pad><pad><pad><pad><pad><pad><pad><pad><pad><pad><pad><pad><pad><pad><pad><pad><pad><pad><pad><pad><pad><pad><pad><pad><pad><pad><pad><pad><pad><pad><pad><pad><pad><pad><pad><pad><pad><pad><pad><pad><pad><pad><pad><pad><pad><pad><pad><pad><pad><pad><pad><pad><pad><pad><pad><pad><pad><pad><pad><pad><pad><pad><pad><pad><pad><pad><pad><pad><pad><pad><pad><pad><pad><pad><pad><pad><pad><pad><pad><pad><pad><pad><pad><pad><pad><pad><pad><pad><pad><pad><pad><pad><pad><pad><pad><pad><pad><pad><pad><pad><pad><pad><pad><pad><pad><pad><pad><pad><pad><pad><pad><pad><pad><pad><pad><pad><pad><pad><pad><pad><pad><pad><pad><pad><pad><pad><pad><pad><pad><pad><pad><pad><pad><pad><pad><pad><pad><pad><pad><pad><pad><pad><pad><pad><pad><pad><pad><pad><pad><pad><pad><pad><pad><pad><pad><pad><pad><pad><pad><pad><pad><pad><pad><pad><pad><pad><pad><pad><pad><pad><pad><pad><pad><pad><pad><pad><pad><pad><pad><pad><pad><pad><pad><pad><pad><pad><pad><pad><pad><pad><pad><pad><pad><pad><pad><pad><pad><pad><pad><pad><pad><pad><pad><pad><pad><pad><pad><pad><pad><pad><pad><pad><pad><pad><pad><pad><pad><pad><pad><pad><pad><pad><pad><pad><pad><pad><pad><pad><pad><pad><pad><pad><pad><pad><pad><pad><pad><pad><pad><pad><pad><pad><pad><pad><pad><pad><pad><pad><pad><pad><pad><pad><pad><pad><pad><pad><pad><pad><pad><pad><pad><pad><pad><pad><pad><pad><pad><pad><pad><pad>'"
      ]
     },
     "execution_count": 54,
     "metadata": {},
     "output_type": "execute_result"
    }
   ],
   "source": [
    "example = train_dataset[0]\n",
    "processor.tokenizer.decode(example[\"input_ids\"])"
   ]
  },
  {
   "cell_type": "code",
   "execution_count": 55,
   "id": "96f161ea-46a3-4318-a843-bcd926ccf358",
   "metadata": {
    "tags": []
   },
   "outputs": [],
   "source": [
    "train_dataset.set_format(\"torch\")"
   ]
  },
  {
   "cell_type": "code",
   "execution_count": 56,
   "id": "903ee393-6a51-4e65-81ad-628e59718cb4",
   "metadata": {
    "tags": []
   },
   "outputs": [
    {
     "name": "stdout",
     "output_type": "stream",
     "text": [
      "pixel_values torch.Size([3, 224, 224])\n",
      "input_ids torch.Size([512])\n",
      "attention_mask torch.Size([512])\n",
      "bbox torch.Size([512, 4])\n",
      "labels torch.Size([512])\n"
     ]
    }
   ],
   "source": [
    "example = train_dataset[0]\n",
    "for k,v in example.items():\n",
    "    print(k,v.shape)"
   ]
  },
  {
   "cell_type": "code",
   "execution_count": 57,
   "id": "4821c0d2-3e42-4934-9fb2-38d520633bcb",
   "metadata": {
    "tags": []
   },
   "outputs": [
    {
     "data": {
      "text/plain": [
       "'<s> Exhibit 21.1 WISCONSIN ELECTRIC POWER COMPANY SUBSIDIARIES AS OF DECEMBER 31, 2016 The following table includes the subsidiaries of WE, an electric, natural gas, and steam utility incorporated in the state of Wisconsin, as well as the percent of ownership, as of December 31, 2016. WE is a subsidiary of WEC Energy Group, Inc. Subsidiary State of Incorporation or Organization Percent Ownership ATC Management, Inc. * Wisconsin 26.24% American Transmission Company LLC * Wisconsin 23.04% Bostco LLC Wisconsin 100% * On January 1, 2017, we transferred our ownership interest in ATC Management, Inc. and American Transmission Company LLC to to another subsidiary of WEC Energy Group.</s><pad><pad><pad><pad><pad><pad><pad><pad><pad><pad><pad><pad><pad><pad><pad><pad><pad><pad><pad><pad><pad><pad><pad><pad><pad><pad><pad><pad><pad><pad><pad><pad><pad><pad><pad><pad><pad><pad><pad><pad><pad><pad><pad><pad><pad><pad><pad><pad><pad><pad><pad><pad><pad><pad><pad><pad><pad><pad><pad><pad><pad><pad><pad><pad><pad><pad><pad><pad><pad><pad><pad><pad><pad><pad><pad><pad><pad><pad><pad><pad><pad><pad><pad><pad><pad><pad><pad><pad><pad><pad><pad><pad><pad><pad><pad><pad><pad><pad><pad><pad><pad><pad><pad><pad><pad><pad><pad><pad><pad><pad><pad><pad><pad><pad><pad><pad><pad><pad><pad><pad><pad><pad><pad><pad><pad><pad><pad><pad><pad><pad><pad><pad><pad><pad><pad><pad><pad><pad><pad><pad><pad><pad><pad><pad><pad><pad><pad><pad><pad><pad><pad><pad><pad><pad><pad><pad><pad><pad><pad><pad><pad><pad><pad><pad><pad><pad><pad><pad><pad><pad><pad><pad><pad><pad><pad><pad><pad><pad><pad><pad><pad><pad><pad><pad><pad><pad><pad><pad><pad><pad><pad><pad><pad><pad><pad><pad><pad><pad><pad><pad><pad><pad><pad><pad><pad><pad><pad><pad><pad><pad><pad><pad><pad><pad><pad><pad><pad><pad><pad><pad><pad><pad><pad><pad><pad><pad><pad><pad><pad><pad><pad><pad><pad><pad><pad><pad><pad><pad><pad><pad><pad><pad><pad><pad><pad><pad><pad><pad><pad><pad><pad><pad><pad><pad><pad><pad><pad><pad><pad><pad><pad><pad><pad><pad><pad><pad><pad><pad><pad><pad><pad><pad><pad><pad><pad><pad><pad><pad><pad><pad><pad><pad><pad><pad><pad><pad><pad><pad><pad><pad><pad><pad><pad><pad><pad><pad><pad><pad><pad><pad><pad><pad><pad><pad><pad><pad><pad><pad><pad><pad><pad><pad><pad><pad><pad><pad><pad><pad><pad><pad><pad><pad><pad><pad><pad><pad><pad><pad><pad><pad><pad><pad><pad><pad><pad><pad><pad><pad><pad><pad><pad><pad><pad><pad><pad><pad><pad><pad><pad><pad><pad><pad><pad><pad><pad>'"
      ]
     },
     "execution_count": 57,
     "metadata": {},
     "output_type": "execute_result"
    }
   ],
   "source": [
    "processor.tokenizer.decode(eval_dataset[0][\"input_ids\"])"
   ]
  },
  {
   "cell_type": "code",
   "execution_count": 63,
   "id": "4de27acd-7d93-4564-ae8f-132dee1fce5c",
   "metadata": {
    "tags": []
   },
   "outputs": [
    {
     "name": "stderr",
     "output_type": "stream",
     "text": [
      "/var/folders/c0/5zrbrqhx17d5jm6t03bw2nkw0000gn/T/ipykernel_77237/3097260500.py:3: FutureWarning: load_metric is deprecated and will be removed in the next major version of datasets. Use 'evaluate.load' instead, from the new library 🤗 Evaluate: https://huggingface.co/docs/evaluate\n",
      "  metric = load_metric(\"seqeval\")\n",
      "/Users/katielamb/mambaforge/envs/mozilla-sec-eia/lib/python3.11/site-packages/datasets/load.py:756: FutureWarning: The repository for seqeval contains custom code which must be executed to correctly load the metric. You can inspect the repository content at https://raw.githubusercontent.com/huggingface/datasets/2.18.0/metrics/seqeval/seqeval.py\n",
      "You can avoid this message in future by passing the argument `trust_remote_code=True`.\n",
      "Passing `trust_remote_code=True` will be mandatory to load this metric from the next major release of `datasets`.\n",
      "  warnings.warn(\n"
     ]
    },
    {
     "data": {
      "application/vnd.jupyter.widget-view+json": {
       "model_id": "1ed3ea3b6de24e1caa80e03a24e8352e",
       "version_major": 2,
       "version_minor": 0
      },
      "text/plain": [
       "Downloading builder script:   0%|          | 0.00/2.47k [00:00<?, ?B/s]"
      ]
     },
     "metadata": {},
     "output_type": "display_data"
    }
   ],
   "source": [
    "metric = load_metric(\"seqeval\")"
   ]
  },
  {
   "cell_type": "code",
   "execution_count": 64,
   "id": "9f2b4845-60fa-435a-9646-15337a242f44",
   "metadata": {
    "tags": []
   },
   "outputs": [],
   "source": [
    "return_entity_level_metrics = False\n",
    "\n",
    "def compute_metrics(p):\n",
    "    predictions, labels = p\n",
    "    predictions = np.argmax(predictions, axis=2)\n",
    "\n",
    "    # Remove ignored index (special tokens)\n",
    "    true_predictions = [\n",
    "        [label_list[p] for (p, l) in zip(prediction, label) if l != -100]\n",
    "        for prediction, label in zip(predictions, labels)\n",
    "    ]\n",
    "    true_labels = [\n",
    "        [label_list[l] for (p, l) in zip(prediction, label) if l != -100]\n",
    "        for prediction, label in zip(predictions, labels)\n",
    "    ]\n",
    "\n",
    "    results = metric.compute(predictions=true_predictions, references=true_labels)\n",
    "    if return_entity_level_metrics:\n",
    "        # Unpack nested dictionaries\n",
    "        final_results = {}\n",
    "        for key, value in results.items():\n",
    "            if isinstance(value, dict):\n",
    "                for n, v in value.items():\n",
    "                    final_results[f\"{key}_{n}\"] = v\n",
    "            else:\n",
    "                final_results[key] = value\n",
    "        return final_results\n",
    "    else:\n",
    "        return {\n",
    "            \"precision\": results[\"overall_precision\"],\n",
    "            \"recall\": results[\"overall_recall\"],\n",
    "            \"f1\": results[\"overall_f1\"],\n",
    "            \"accuracy\": results[\"overall_accuracy\"],\n",
    "        }"
   ]
  },
  {
   "cell_type": "code",
   "execution_count": 72,
   "id": "a6ae8eae-5684-438a-8424-0bc2a1439b29",
   "metadata": {
    "tags": []
   },
   "outputs": [
    {
     "name": "stderr",
     "output_type": "stream",
     "text": [
      "Some weights of LayoutLMv3ForTokenClassification were not initialized from the model checkpoint at microsoft/layoutlmv3-base and are newly initialized: ['classifier.bias', 'classifier.weight']\n",
      "You should probably TRAIN this model on a down-stream task to be able to use it for predictions and inference.\n"
     ]
    }
   ],
   "source": [
    "from transformers import LayoutLMv3ForTokenClassification\n",
    "\n",
    "model = LayoutLMv3ForTokenClassification.from_pretrained(\"microsoft/layoutlmv3-base\",\n",
    "                                                         id2label=id2label,\n",
    "                                                         label2id=label2id)"
   ]
  },
  {
   "cell_type": "code",
   "execution_count": 73,
   "id": "9d5e1fe2-3cf8-4c13-8d51-e9e760704f65",
   "metadata": {
    "tags": []
   },
   "outputs": [],
   "source": [
    "from transformers import TrainingArguments, Trainer\n",
    "\n",
    "training_args = TrainingArguments(output_dir=\"test\",\n",
    "                                  max_steps=1000,\n",
    "                                  per_device_train_batch_size=2,\n",
    "                                  per_device_eval_batch_size=2,\n",
    "                                  learning_rate=1e-5,\n",
    "                                  evaluation_strategy=\"steps\",\n",
    "                                  eval_steps=100,\n",
    "                                  load_best_model_at_end=True,\n",
    "                                  metric_for_best_model=\"f1\")"
   ]
  },
  {
   "cell_type": "code",
   "execution_count": 74,
   "id": "ce43aa4d-14c1-42df-b040-f8d0d626859f",
   "metadata": {
    "tags": []
   },
   "outputs": [],
   "source": [
    "from transformers.data.data_collator import default_data_collator\n",
    "\n",
    "# Initialize our Trainer\n",
    "trainer = Trainer(\n",
    "    model=model,\n",
    "    args=training_args,\n",
    "    train_dataset=train_dataset,\n",
    "    eval_dataset=eval_dataset,\n",
    "    tokenizer=processor,\n",
    "    data_collator=default_data_collator,\n",
    "    compute_metrics=compute_metrics,\n",
    ")"
   ]
  },
  {
   "cell_type": "code",
   "execution_count": 75,
   "id": "e90f3d8e-e963-462c-8d5a-a9d10145ce8a",
   "metadata": {
    "tags": []
   },
   "outputs": [
    {
     "data": {
      "text/html": [
       "\n",
       "    <div>\n",
       "      \n",
       "      <progress value='1000' max='1000' style='width:300px; height:20px; vertical-align: middle;'></progress>\n",
       "      [1000/1000 20:33, Epoch 1000/1000]\n",
       "    </div>\n",
       "    <table border=\"1\" class=\"dataframe\">\n",
       "  <thead>\n",
       " <tr style=\"text-align: left;\">\n",
       "      <th>Step</th>\n",
       "      <th>Training Loss</th>\n",
       "      <th>Validation Loss</th>\n",
       "      <th>Precision</th>\n",
       "      <th>Recall</th>\n",
       "      <th>F1</th>\n",
       "      <th>Accuracy</th>\n",
       "    </tr>\n",
       "  </thead>\n",
       "  <tbody>\n",
       "    <tr>\n",
       "      <td>100</td>\n",
       "      <td>No log</td>\n",
       "      <td>1.036757</td>\n",
       "      <td>0.500000</td>\n",
       "      <td>0.666667</td>\n",
       "      <td>0.571429</td>\n",
       "      <td>0.681818</td>\n",
       "    </tr>\n",
       "    <tr>\n",
       "      <td>200</td>\n",
       "      <td>No log</td>\n",
       "      <td>1.086099</td>\n",
       "      <td>0.461538</td>\n",
       "      <td>0.666667</td>\n",
       "      <td>0.545455</td>\n",
       "      <td>0.681818</td>\n",
       "    </tr>\n",
       "    <tr>\n",
       "      <td>300</td>\n",
       "      <td>No log</td>\n",
       "      <td>1.121462</td>\n",
       "      <td>0.461538</td>\n",
       "      <td>0.666667</td>\n",
       "      <td>0.545455</td>\n",
       "      <td>0.681818</td>\n",
       "    </tr>\n",
       "    <tr>\n",
       "      <td>400</td>\n",
       "      <td>No log</td>\n",
       "      <td>1.147209</td>\n",
       "      <td>0.461538</td>\n",
       "      <td>0.666667</td>\n",
       "      <td>0.545455</td>\n",
       "      <td>0.681818</td>\n",
       "    </tr>\n",
       "    <tr>\n",
       "      <td>500</td>\n",
       "      <td>0.028700</td>\n",
       "      <td>1.168161</td>\n",
       "      <td>0.461538</td>\n",
       "      <td>0.666667</td>\n",
       "      <td>0.545455</td>\n",
       "      <td>0.681818</td>\n",
       "    </tr>\n",
       "    <tr>\n",
       "      <td>600</td>\n",
       "      <td>0.028700</td>\n",
       "      <td>1.189763</td>\n",
       "      <td>0.461538</td>\n",
       "      <td>0.666667</td>\n",
       "      <td>0.545455</td>\n",
       "      <td>0.681818</td>\n",
       "    </tr>\n",
       "    <tr>\n",
       "      <td>700</td>\n",
       "      <td>0.028700</td>\n",
       "      <td>1.202609</td>\n",
       "      <td>0.461538</td>\n",
       "      <td>0.666667</td>\n",
       "      <td>0.545455</td>\n",
       "      <td>0.681818</td>\n",
       "    </tr>\n",
       "    <tr>\n",
       "      <td>800</td>\n",
       "      <td>0.028700</td>\n",
       "      <td>1.209763</td>\n",
       "      <td>0.461538</td>\n",
       "      <td>0.666667</td>\n",
       "      <td>0.545455</td>\n",
       "      <td>0.681818</td>\n",
       "    </tr>\n",
       "    <tr>\n",
       "      <td>900</td>\n",
       "      <td>0.028700</td>\n",
       "      <td>1.219576</td>\n",
       "      <td>0.461538</td>\n",
       "      <td>0.666667</td>\n",
       "      <td>0.545455</td>\n",
       "      <td>0.681818</td>\n",
       "    </tr>\n",
       "    <tr>\n",
       "      <td>1000</td>\n",
       "      <td>0.000300</td>\n",
       "      <td>1.220299</td>\n",
       "      <td>0.461538</td>\n",
       "      <td>0.666667</td>\n",
       "      <td>0.545455</td>\n",
       "      <td>0.681818</td>\n",
       "    </tr>\n",
       "  </tbody>\n",
       "</table><p>"
      ],
      "text/plain": [
       "<IPython.core.display.HTML object>"
      ]
     },
     "metadata": {},
     "output_type": "display_data"
    },
    {
     "name": "stderr",
     "output_type": "stream",
     "text": [
      "/Users/katielamb/mambaforge/envs/mozilla-sec-eia/lib/python3.11/site-packages/seqeval/metrics/v1.py:57: UndefinedMetricWarning: Precision and F-score are ill-defined and being set to 0.0 in labels with no predicted samples. Use `zero_division` parameter to control this behavior.\n",
      "  _warn_prf(average, modifier, msg_start, len(result))\n",
      "/Users/katielamb/mambaforge/envs/mozilla-sec-eia/lib/python3.11/site-packages/transformers/modeling_utils.py:977: FutureWarning: The `device` argument is deprecated and will be removed in v5 of Transformers.\n",
      "  warnings.warn(\n",
      "/Users/katielamb/mambaforge/envs/mozilla-sec-eia/lib/python3.11/site-packages/seqeval/metrics/v1.py:57: UndefinedMetricWarning: Precision and F-score are ill-defined and being set to 0.0 in labels with no predicted samples. Use `zero_division` parameter to control this behavior.\n",
      "  _warn_prf(average, modifier, msg_start, len(result))\n"
     ]
    },
    {
     "data": {
      "text/plain": [
       "TrainOutput(global_step=1000, training_loss=0.014478846237063407, metrics={'train_runtime': 1235.4401, 'train_samples_per_second': 1.619, 'train_steps_per_second': 0.809, 'total_flos': 263605343232000.0, 'train_loss': 0.014478846237063407, 'epoch': 1000.0})"
      ]
     },
     "execution_count": 75,
     "metadata": {},
     "output_type": "execute_result"
    }
   ],
   "source": [
    "trainer.train()"
   ]
  },
  {
   "cell_type": "code",
   "execution_count": null,
   "id": "1c655590-0ce7-417f-8cf0-b8923c28833f",
   "metadata": {},
   "outputs": [],
   "source": []
  }
 ],
 "metadata": {
  "kernelspec": {
   "display_name": "mozilla-sec-eia",
   "language": "python",
   "name": "mozilla-sec-eia"
  },
  "language_info": {
   "codemirror_mode": {
    "name": "ipython",
    "version": 3
   },
   "file_extension": ".py",
   "mimetype": "text/x-python",
   "name": "python",
   "nbconvert_exporter": "python",
   "pygments_lexer": "ipython3",
   "version": "3.11.8"
  }
 },
 "nbformat": 4,
 "nbformat_minor": 5
}
