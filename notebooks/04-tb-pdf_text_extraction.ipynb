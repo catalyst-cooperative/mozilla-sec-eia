{
 "cells": [
  {
   "cell_type": "markdown",
   "metadata": {},
   "source": [
    "# Text BBoxes from PDFs"
   ]
  },
  {
   "cell_type": "markdown",
   "metadata": {},
   "source": [
    "## Function Definitions"
   ]
  },
  {
   "cell_type": "markdown",
   "metadata": {},
   "source": [
    "### Extractor Functions"
   ]
  },
  {
   "cell_type": "code",
   "execution_count": 1,
   "metadata": {
    "tags": []
   },
   "outputs": [],
   "source": [
    "from typing import Any, Optional, Union\n",
    "\n",
    "import fitz  # PyMuPDF\n",
    "import numpy as np\n",
    "import pandas as pd"
   ]
  },
  {
   "cell_type": "code",
   "execution_count": 2,
   "metadata": {
    "tags": []
   },
   "outputs": [
    {
     "data": {
      "text/plain": [
       "True"
      ]
     },
     "execution_count": 2,
     "metadata": {},
     "output_type": "execute_result"
    }
   ],
   "source": [
    "# This is not relevant if you're not using OCR. Included just in case.\n",
    "\n",
    "# This sets a global flag that makes text bboxes more similar to OCR bboxes.\n",
    "# The default behavior is to set bbox height to the line height, which is considerably\n",
    "# taller (~1.3x) than the character height. OCR will fit to character height.\n",
    "# See the note at the bottom of this section:\n",
    "# https://pymupdf.readthedocs.io/en/latest/textpage.html#span-dictionary\n",
    "fitz.TOOLS.set_small_glyph_heights(True)"
   ]
  },
  {
   "cell_type": "code",
   "execution_count": 3,
   "metadata": {
    "tags": []
   },
   "outputs": [],
   "source": [
    "# copied from well gas project wellgas/features/extract_text.py\n",
    "def extract_pdf_data_from_page(page: fitz.Page) -> dict[str, pd.DataFrame]:\n",
    "    \"\"\"Parse PDF page data.\"\"\"\n",
    "    contents = _parse_page_contents(page)\n",
    "    meta = {\n",
    "        \"rotation_degrees\": [page.rotation],\n",
    "        \"origin_x_pdf_coord\": [page.rect[0]],\n",
    "        \"origin_y_pdf_coord\": [page.rect[1]],\n",
    "        \"width_pdf_coord\": [page.rect[2] - page.rect[0]],\n",
    "        \"height_pdf_coord\": [page.rect[3] - page.rect[1]],\n",
    "        \"has_images\": [not contents[\"image\"].empty],\n",
    "        \"has_text\": [not contents[\"pdf_text\"].empty],\n",
    "        \"page_num\": [page.number],\n",
    "    }\n",
    "    if not contents[\"image\"].empty:\n",
    "        img_area = (\n",
    "            contents[\"image\"]\n",
    "            .eval(\n",
    "                \"((bottom_right_x_pdf - top_left_x_pdf)\"\n",
    "                \" * (bottom_right_y_pdf - top_left_y_pdf))\"\n",
    "            )\n",
    "            .sum()\n",
    "        )\n",
    "    else:\n",
    "        img_area = 0\n",
    "    total_area = meta[\"width_pdf_coord\"][0] * meta[\"height_pdf_coord\"][0]\n",
    "\n",
    "    meta[\"image_area_frac\"] = [np.float32(img_area / total_area)]\n",
    "    meta_df = pd.DataFrame(meta).astype(\n",
    "        {\n",
    "            \"rotation_degrees\": np.int16,\n",
    "            \"origin_x_pdf_coord\": np.float32,\n",
    "            \"origin_y_pdf_coord\": np.float32,\n",
    "            \"width_pdf_coord\": np.float32,\n",
    "            \"height_pdf_coord\": np.float32,\n",
    "            \"has_images\": \"boolean\",\n",
    "            \"has_text\": \"boolean\",\n",
    "            \"page_num\": np.int16,\n",
    "            \"image_area_frac\": np.float32,\n",
    "        }\n",
    "    )\n",
    "    meta = dict(page=meta_df)\n",
    "    for df in contents.values():  # add ID fields\n",
    "        if not df.empty:\n",
    "            df[\"page_num\"] = np.int16(page.number)\n",
    "    return contents | meta\n",
    "\n",
    "\n",
    "def _parse_page_contents(page: fitz.Page) -> dict[str, pd.DataFrame]:\n",
    "    \"\"\"Parse page contents using fitz.TextPage.\"\"\"\n",
    "    flags = fitz.TEXTFLAGS_DICT\n",
    "    textpage = page.get_textpage(flags=flags)\n",
    "    content = textpage.extractDICT()\n",
    "    images = []\n",
    "    text = []\n",
    "    for block in content[\"blocks\"]:\n",
    "        if block[\"type\"] == 0:\n",
    "            parsed = _parse_text_block(block)\n",
    "            if not parsed.empty:  # can happen when all blocks are whitespace\n",
    "                text.append(parsed)\n",
    "        elif block[\"type\"] == 1:\n",
    "            images.append(_parse_image_block(block))\n",
    "        else:\n",
    "            raise ValueError(f\"Unknown block type: {block['type']}\")\n",
    "    if text:\n",
    "        text = pd.concat(text, axis=0, ignore_index=True)\n",
    "    else:\n",
    "        text = pd.DataFrame()\n",
    "    if images:\n",
    "        images = pd.concat(\n",
    "            (pd.DataFrame(image) for image in images), axis=0, ignore_index=True\n",
    "        )\n",
    "    else:\n",
    "        images = pd.DataFrame()\n",
    "    return dict(pdf_text=text, image=images)\n",
    "\n",
    "\n",
    "def _parse_image_block(img_block: dict[str, Any]) -> pd.DataFrame:\n",
    "    \"\"\"Parse an image block from a fitz.TextPage.extractDICT() output.\"\"\"\n",
    "    top_left_x_pdf, top_left_y_pdf, bottom_right_x_pdf, bottom_right_y_pdf = img_block[\n",
    "        \"bbox\"\n",
    "    ]\n",
    "    dpi = min(\n",
    "        img_block[\"xres\"], img_block[\"yres\"]\n",
    "    )  # should be equal; min() just in case\n",
    "    out = pd.DataFrame(\n",
    "        {\n",
    "            \"img_num\": [img_block[\"number\"]],\n",
    "            \"dpi\": [dpi],\n",
    "            \"top_left_x_pdf\": [top_left_x_pdf],\n",
    "            \"top_left_y_pdf\": [top_left_y_pdf],\n",
    "            \"bottom_right_x_pdf\": [bottom_right_x_pdf],\n",
    "            \"bottom_right_y_pdf\": [bottom_right_y_pdf],\n",
    "        }\n",
    "    ).astype(\n",
    "        {\n",
    "            \"img_num\": np.int16,\n",
    "            \"dpi\": np.int16,\n",
    "            \"top_left_x_pdf\": np.float32,\n",
    "            \"top_left_y_pdf\": np.float32,\n",
    "            \"bottom_right_x_pdf\": np.float32,\n",
    "            \"bottom_right_y_pdf\": np.float32,\n",
    "        }\n",
    "    )\n",
    "    return out\n",
    "\n",
    "\n",
    "def _parse_text_block(text_block: dict[str, Any]) -> pd.DataFrame:\n",
    "    \"\"\"Parse a text block from a fitz.TextPage.extractDICT() output.\"\"\"\n",
    "    # block and line bboxes have no information additional to the text bboxes\n",
    "    out = dict(\n",
    "        block_num=[],\n",
    "        line_num=[],\n",
    "        font_size=[],\n",
    "        font=[],\n",
    "        color_srgb=[],\n",
    "        text=[],\n",
    "        top_left_x_pdf=[],\n",
    "        top_left_y_pdf=[],\n",
    "        bottom_right_x_pdf=[],\n",
    "        bottom_right_y_pdf=[],\n",
    "    )\n",
    "    block_num = text_block[\"number\"]\n",
    "    for line_num, line in enumerate(text_block[\"lines\"]):\n",
    "        for span in line[\"spans\"]:  # no numbering, differentiated by font properties\n",
    "            if span[\"text\"].isspace():  # ignore whitespace spans\n",
    "                continue\n",
    "            if _frac_normal_ascii(span[\"text\"]) < 0.7 and len(span[\"text\"]) > 3:\n",
    "                # Long non-ASCII is likely bad encoding. It has created problems like\n",
    "                # unbalanced quotes or unquoted \\r and \\n in CSVs\n",
    "                out[\"text\"].append(\"\")\n",
    "            else:\n",
    "                out[\"text\"].append(span[\"text\"])\n",
    "            out[\"block_num\"].append(block_num)\n",
    "            out[\"line_num\"].append(line_num)\n",
    "            out[\"font_size\"].append(span[\"size\"])\n",
    "            out[\"font\"].append(span[\"font\"])\n",
    "            out[\"color_srgb\"].append(span[\"color\"])\n",
    "            out[\"top_left_x_pdf\"].append(span[\"bbox\"][0])\n",
    "            out[\"top_left_y_pdf\"].append(span[\"bbox\"][1])\n",
    "            out[\"bottom_right_x_pdf\"].append(span[\"bbox\"][2])\n",
    "            out[\"bottom_right_y_pdf\"].append(span[\"bbox\"][3])\n",
    "    out = pd.DataFrame(out).astype(\n",
    "        {\n",
    "            \"block_num\": np.int16,\n",
    "            \"line_num\": np.int16,\n",
    "            \"font_size\": np.float32,\n",
    "            \"font\": \"string\",\n",
    "            \"color_srgb\": np.int32,\n",
    "            \"text\": \"string\",\n",
    "            \"top_left_x_pdf\": np.float32,\n",
    "            \"top_left_y_pdf\": np.float32,\n",
    "            \"bottom_right_x_pdf\": np.float32,\n",
    "            \"bottom_right_y_pdf\": np.float32,\n",
    "        }\n",
    "    )\n",
    "    return out\n",
    "\n",
    "\n",
    "def _frac_normal_ascii(text: Union[str, bytes]) -> float:\n",
    "    \"\"\"Fraction of characters that are normal ASCII characters.\"\"\"\n",
    "    # normal characters, from space to tilde, plus whitespace\n",
    "    # see https://www.asciitable.com/\n",
    "    sum_ = 0\n",
    "    if isinstance(text, bytes):\n",
    "        text = text.decode(\"utf-8\")\n",
    "    for char in text:\n",
    "        if (32 <= ord(char) <= 126) or char in \"\\t\\n\":\n",
    "            sum_ += 1\n",
    "    return sum_ / len(text)\n"
   ]
  },
  {
   "cell_type": "markdown",
   "metadata": {},
   "source": [
    "### Image Rendering Functions"
   ]
  },
  {
   "cell_type": "code",
   "execution_count": 4,
   "metadata": {
    "tags": []
   },
   "outputs": [],
   "source": [
    "import fitz  # PyMuPDF\n",
    "from PIL import Image"
   ]
  },
  {
   "cell_type": "code",
   "execution_count": 5,
   "metadata": {
    "tags": []
   },
   "outputs": [],
   "source": [
    "\n",
    "def _render_page(\n",
    "    pg: fitz.Page, dpi=150, clip: Optional[fitz.Rect] = None\n",
    ") -> Image.Image:\n",
    "    \"\"\"Render a page of a PDF as a PIL.Image object.\n",
    "\n",
    "    Args:\n",
    "        pg (fitz.Page): a page of a PDF\n",
    "        dpi (int, optional): image resolution in pixels per inch. Defaults to 150.\n",
    "        clip (Optional[fitz.Rect], optional): Optionally render only a subset of the\n",
    "            page. Defined in PDF coordinates. Defaults to None, which renders the\n",
    "            full page.\n",
    "\n",
    "    Returns:\n",
    "        Image.Image: PDF page rendered as a PIL.Image object\n",
    "    \"\"\"\n",
    "    # 300 dpi is what tesseract recommends. PaddleOCR seems to do fine with half that.\n",
    "    render: fitz.Pixmap = pg.get_pixmap(dpi=dpi, clip=clip)  # type: ignore\n",
    "    img = _pil_img_from_pixmap(render)\n",
    "    return img\n",
    "\n",
    "\n",
    "def _pil_img_from_pixmap(pix: fitz.Pixmap) -> Image.Image:\n",
    "    \"\"\"Convert pyMuPDF Pixmap object to PIL.Image object.\n",
    "\n",
    "    For some reason pyMuPDF (aka fitz) lets you save images using PIL, but does not\n",
    "    have any function to convert to PIL objects. Clearly they do this conversion\n",
    "    internally; they should just expose it. Instead, I had to copy it out from their\n",
    "    source code.\n",
    "\n",
    "    Args:\n",
    "        pix (fitz.Pixmap): a rendered Pixmap\n",
    "\n",
    "    Returns:\n",
    "        Image: a PIL.Image object\n",
    "    \"\"\"\n",
    "    # pyMuPDF source code on GitHub is all in SWIG (some kind of C to python code\n",
    "    # generator) and is unreadable to me. So you have to inspect your local .py files.\n",
    "    # Adapted from the Pixmap.pil_save method in python3.9/site-packages/fitz/fitz.py\n",
    "    # I just replaced instances of \"self\" with \"pix\"\n",
    "    cspace = pix.colorspace\n",
    "    if cspace is None:\n",
    "        mode = \"L\"\n",
    "    elif cspace.n == 1:\n",
    "        mode = \"L\" if pix.alpha == 0 else \"LA\"\n",
    "    elif cspace.n == 3:\n",
    "        mode = \"RGB\" if pix.alpha == 0 else \"RGBA\"\n",
    "    else:\n",
    "        mode = \"CMYK\"\n",
    "\n",
    "    img = Image.frombytes(mode, (pix.width, pix.height), pix.samples)\n",
    "    return img\n"
   ]
  },
  {
   "cell_type": "markdown",
   "metadata": {},
   "source": [
    "## Demo"
   ]
  },
  {
   "cell_type": "markdown",
   "metadata": {},
   "source": [
    "### Load a PDF"
   ]
  },
  {
   "cell_type": "code",
   "execution_count": 6,
   "metadata": {
    "tags": []
   },
   "outputs": [],
   "source": [
    "from pathlib import Path\n",
    "src_path = Path(\"./wisconsin_electric.pdf\")\n",
    "assert src_path.exists()"
   ]
  },
  {
   "cell_type": "code",
   "execution_count": 7,
   "metadata": {
    "tags": []
   },
   "outputs": [
    {
     "data": {
      "text/plain": [
       "True"
      ]
     },
     "execution_count": 7,
     "metadata": {},
     "output_type": "execute_result"
    }
   ],
   "source": [
    "# from file\n",
    "doc = fitz.Document(str(src_path))\n",
    "doc.is_pdf"
   ]
  },
  {
   "cell_type": "code",
   "execution_count": 8,
   "metadata": {
    "tags": []
   },
   "outputs": [
    {
     "data": {
      "text/plain": [
       "True"
      ]
     },
     "execution_count": 8,
     "metadata": {},
     "output_type": "execute_result"
    }
   ],
   "source": [
    "# from bytes\n",
    "_bytes = src_path.read_bytes()\n",
    "from io import BytesIO\n",
    "doc = fitz.open(stream=BytesIO(_bytes), filetype=\"pdf\")\n",
    "doc.is_pdf"
   ]
  },
  {
   "cell_type": "markdown",
   "metadata": {},
   "source": [
    "### Extract Text Bboxes"
   ]
  },
  {
   "cell_type": "code",
   "execution_count": 9,
   "metadata": {
    "tags": []
   },
   "outputs": [
    {
     "data": {
      "text/plain": [
       "dict_keys(['pdf_text', 'image', 'page'])"
      ]
     },
     "execution_count": 9,
     "metadata": {},
     "output_type": "execute_result"
    }
   ],
   "source": [
    "pg = doc[0]\n",
    "extracted = extract_pdf_data_from_page(pg)\n",
    "extracted.keys()"
   ]
  },
  {
   "cell_type": "code",
   "execution_count": 10,
   "metadata": {
    "tags": []
   },
   "outputs": [
    {
     "data": {
      "text/plain": [
       "((22, 11), (0, 0), (1, 9))"
      ]
     },
     "execution_count": 10,
     "metadata": {},
     "output_type": "execute_result"
    }
   ],
   "source": [
    "txt = extracted['pdf_text']\n",
    "img_info = extracted['image']\n",
    "pg_meta = extracted['page']\n",
    "txt.shape, img_info.shape, pg_meta.shape"
   ]
  },
  {
   "cell_type": "code",
   "execution_count": 11,
   "metadata": {
    "tags": []
   },
   "outputs": [
    {
     "data": {
      "text/html": [
       "<div>\n",
       "<style scoped>\n",
       "    .dataframe tbody tr th:only-of-type {\n",
       "        vertical-align: middle;\n",
       "    }\n",
       "\n",
       "    .dataframe tbody tr th {\n",
       "        vertical-align: top;\n",
       "    }\n",
       "\n",
       "    .dataframe thead th {\n",
       "        text-align: right;\n",
       "    }\n",
       "</style>\n",
       "<table border=\"1\" class=\"dataframe\">\n",
       "  <thead>\n",
       "    <tr style=\"text-align: right;\">\n",
       "      <th></th>\n",
       "      <th>block_num</th>\n",
       "      <th>line_num</th>\n",
       "      <th>font_size</th>\n",
       "      <th>font</th>\n",
       "      <th>color_srgb</th>\n",
       "      <th>text</th>\n",
       "      <th>top_left_x_pdf</th>\n",
       "      <th>top_left_y_pdf</th>\n",
       "      <th>bottom_right_x_pdf</th>\n",
       "      <th>bottom_right_y_pdf</th>\n",
       "      <th>page_num</th>\n",
       "    </tr>\n",
       "  </thead>\n",
       "  <tbody>\n",
       "    <tr>\n",
       "      <th>0</th>\n",
       "      <td>0</td>\n",
       "      <td>0</td>\n",
       "      <td>11.0</td>\n",
       "      <td>Helvetica-Bold</td>\n",
       "      <td>0</td>\n",
       "      <td>Exhibit 21.1</td>\n",
       "      <td>504.791168</td>\n",
       "      <td>86.696877</td>\n",
       "      <td>565.929260</td>\n",
       "      <td>97.696877</td>\n",
       "      <td>0</td>\n",
       "    </tr>\n",
       "    <tr>\n",
       "      <th>1</th>\n",
       "      <td>1</td>\n",
       "      <td>0</td>\n",
       "      <td>11.0</td>\n",
       "      <td>Helvetica-Bold</td>\n",
       "      <td>0</td>\n",
       "      <td>WISCONSIN ELECTRIC POWER COMPANY</td>\n",
       "      <td>184.882263</td>\n",
       "      <td>130.296921</td>\n",
       "      <td>410.393280</td>\n",
       "      <td>141.296921</td>\n",
       "      <td>0</td>\n",
       "    </tr>\n",
       "    <tr>\n",
       "      <th>2</th>\n",
       "      <td>2</td>\n",
       "      <td>0</td>\n",
       "      <td>11.0</td>\n",
       "      <td>Helvetica-Bold</td>\n",
       "      <td>0</td>\n",
       "      <td>SUBSIDIARIES AS OF DECEMBER 31, 2016</td>\n",
       "      <td>184.249771</td>\n",
       "      <td>145.496933</td>\n",
       "      <td>411.025818</td>\n",
       "      <td>156.496933</td>\n",
       "      <td>0</td>\n",
       "    </tr>\n",
       "    <tr>\n",
       "      <th>3</th>\n",
       "      <td>3</td>\n",
       "      <td>0</td>\n",
       "      <td>10.0</td>\n",
       "      <td>Helvetica</td>\n",
       "      <td>0</td>\n",
       "      <td>The following table includes the subsidiaries ...</td>\n",
       "      <td>29.346460</td>\n",
       "      <td>217.502609</td>\n",
       "      <td>559.586365</td>\n",
       "      <td>227.502609</td>\n",
       "      <td>0</td>\n",
       "    </tr>\n",
       "    <tr>\n",
       "      <th>4</th>\n",
       "      <td>3</td>\n",
       "      <td>1</td>\n",
       "      <td>10.0</td>\n",
       "      <td>Helvetica</td>\n",
       "      <td>0</td>\n",
       "      <td>Wisconsin, as well as the percent of ownership...</td>\n",
       "      <td>29.346460</td>\n",
       "      <td>229.572617</td>\n",
       "      <td>547.326355</td>\n",
       "      <td>239.572617</td>\n",
       "      <td>0</td>\n",
       "    </tr>\n",
       "  </tbody>\n",
       "</table>\n",
       "</div>"
      ],
      "text/plain": [
       "   block_num  line_num  font_size            font  color_srgb  \\\n",
       "0          0         0       11.0  Helvetica-Bold           0   \n",
       "1          1         0       11.0  Helvetica-Bold           0   \n",
       "2          2         0       11.0  Helvetica-Bold           0   \n",
       "3          3         0       10.0       Helvetica           0   \n",
       "4          3         1       10.0       Helvetica           0   \n",
       "\n",
       "                                                text  top_left_x_pdf  \\\n",
       "0                                       Exhibit 21.1      504.791168   \n",
       "1                   WISCONSIN ELECTRIC POWER COMPANY      184.882263   \n",
       "2               SUBSIDIARIES AS OF DECEMBER 31, 2016      184.249771   \n",
       "3  The following table includes the subsidiaries ...       29.346460   \n",
       "4  Wisconsin, as well as the percent of ownership...       29.346460   \n",
       "\n",
       "   top_left_y_pdf  bottom_right_x_pdf  bottom_right_y_pdf  page_num  \n",
       "0       86.696877          565.929260           97.696877         0  \n",
       "1      130.296921          410.393280          141.296921         0  \n",
       "2      145.496933          411.025818          156.496933         0  \n",
       "3      217.502609          559.586365          227.502609         0  \n",
       "4      229.572617          547.326355          239.572617         0  "
      ]
     },
     "execution_count": 11,
     "metadata": {},
     "output_type": "execute_result"
    }
   ],
   "source": [
    "txt.head()"
   ]
  },
  {
   "cell_type": "code",
   "execution_count": 12,
   "metadata": {
    "tags": []
   },
   "outputs": [
    {
     "data": {
      "text/html": [
       "<div>\n",
       "<style scoped>\n",
       "    .dataframe tbody tr th:only-of-type {\n",
       "        vertical-align: middle;\n",
       "    }\n",
       "\n",
       "    .dataframe tbody tr th {\n",
       "        vertical-align: top;\n",
       "    }\n",
       "\n",
       "    .dataframe thead th {\n",
       "        text-align: right;\n",
       "    }\n",
       "</style>\n",
       "<table border=\"1\" class=\"dataframe\">\n",
       "  <thead>\n",
       "    <tr style=\"text-align: right;\">\n",
       "      <th></th>\n",
       "      <th>block_num</th>\n",
       "      <th>line_num</th>\n",
       "      <th>font_size</th>\n",
       "      <th>font</th>\n",
       "      <th>color_srgb</th>\n",
       "      <th>text</th>\n",
       "      <th>top_left_x_pdf</th>\n",
       "      <th>top_left_y_pdf</th>\n",
       "      <th>bottom_right_x_pdf</th>\n",
       "      <th>bottom_right_y_pdf</th>\n",
       "      <th>page_num</th>\n",
       "    </tr>\n",
       "  </thead>\n",
       "  <tbody>\n",
       "    <tr>\n",
       "      <th>0</th>\n",
       "      <td>0</td>\n",
       "      <td>0</td>\n",
       "      <td>11.0</td>\n",
       "      <td>Helvetica-Bold</td>\n",
       "      <td>0</td>\n",
       "      <td>Exhibit 21.1</td>\n",
       "      <td>504.791168</td>\n",
       "      <td>86.696877</td>\n",
       "      <td>565.929260</td>\n",
       "      <td>97.696877</td>\n",
       "      <td>0</td>\n",
       "    </tr>\n",
       "    <tr>\n",
       "      <th>1</th>\n",
       "      <td>1</td>\n",
       "      <td>0</td>\n",
       "      <td>11.0</td>\n",
       "      <td>Helvetica-Bold</td>\n",
       "      <td>0</td>\n",
       "      <td>WISCONSIN ELECTRIC POWER COMPANY</td>\n",
       "      <td>184.882263</td>\n",
       "      <td>130.296921</td>\n",
       "      <td>410.393280</td>\n",
       "      <td>141.296921</td>\n",
       "      <td>0</td>\n",
       "    </tr>\n",
       "    <tr>\n",
       "      <th>2</th>\n",
       "      <td>2</td>\n",
       "      <td>0</td>\n",
       "      <td>11.0</td>\n",
       "      <td>Helvetica-Bold</td>\n",
       "      <td>0</td>\n",
       "      <td>SUBSIDIARIES AS OF DECEMBER 31, 2016</td>\n",
       "      <td>184.249771</td>\n",
       "      <td>145.496933</td>\n",
       "      <td>411.025818</td>\n",
       "      <td>156.496933</td>\n",
       "      <td>0</td>\n",
       "    </tr>\n",
       "    <tr>\n",
       "      <th>3</th>\n",
       "      <td>3</td>\n",
       "      <td>0</td>\n",
       "      <td>10.0</td>\n",
       "      <td>Helvetica</td>\n",
       "      <td>0</td>\n",
       "      <td>The following table includes the subsidiaries ...</td>\n",
       "      <td>29.346460</td>\n",
       "      <td>217.502609</td>\n",
       "      <td>559.586365</td>\n",
       "      <td>227.502609</td>\n",
       "      <td>0</td>\n",
       "    </tr>\n",
       "    <tr>\n",
       "      <th>4</th>\n",
       "      <td>3</td>\n",
       "      <td>1</td>\n",
       "      <td>10.0</td>\n",
       "      <td>Helvetica</td>\n",
       "      <td>0</td>\n",
       "      <td>Wisconsin, as well as the percent of ownership...</td>\n",
       "      <td>29.346460</td>\n",
       "      <td>229.572617</td>\n",
       "      <td>547.326355</td>\n",
       "      <td>239.572617</td>\n",
       "      <td>0</td>\n",
       "    </tr>\n",
       "    <tr>\n",
       "      <th>5</th>\n",
       "      <td>3</td>\n",
       "      <td>2</td>\n",
       "      <td>10.0</td>\n",
       "      <td>Helvetica</td>\n",
       "      <td>0</td>\n",
       "      <td>Inc.</td>\n",
       "      <td>29.346460</td>\n",
       "      <td>241.642624</td>\n",
       "      <td>45.466461</td>\n",
       "      <td>251.642624</td>\n",
       "      <td>0</td>\n",
       "    </tr>\n",
       "    <tr>\n",
       "      <th>6</th>\n",
       "      <td>4</td>\n",
       "      <td>0</td>\n",
       "      <td>10.0</td>\n",
       "      <td>Helvetica</td>\n",
       "      <td>0</td>\n",
       "      <td>Subsidiary</td>\n",
       "      <td>31.346460</td>\n",
       "      <td>320.502594</td>\n",
       "      <td>78.026466</td>\n",
       "      <td>330.502594</td>\n",
       "      <td>0</td>\n",
       "    </tr>\n",
       "    <tr>\n",
       "      <th>7</th>\n",
       "      <td>5</td>\n",
       "      <td>0</td>\n",
       "      <td>10.0</td>\n",
       "      <td>Helvetica</td>\n",
       "      <td>0</td>\n",
       "      <td>State of Incorporation</td>\n",
       "      <td>344.084747</td>\n",
       "      <td>310.502594</td>\n",
       "      <td>439.694733</td>\n",
       "      <td>320.502594</td>\n",
       "      <td>0</td>\n",
       "    </tr>\n",
       "    <tr>\n",
       "      <th>8</th>\n",
       "      <td>5</td>\n",
       "      <td>1</td>\n",
       "      <td>10.0</td>\n",
       "      <td>Helvetica</td>\n",
       "      <td>0</td>\n",
       "      <td>or Organization</td>\n",
       "      <td>357.709747</td>\n",
       "      <td>320.905945</td>\n",
       "      <td>426.069763</td>\n",
       "      <td>330.905945</td>\n",
       "      <td>0</td>\n",
       "    </tr>\n",
       "    <tr>\n",
       "      <th>9</th>\n",
       "      <td>5</td>\n",
       "      <td>3</td>\n",
       "      <td>10.0</td>\n",
       "      <td>Helvetica</td>\n",
       "      <td>0</td>\n",
       "      <td>Percent Ownership</td>\n",
       "      <td>467.862946</td>\n",
       "      <td>320.502594</td>\n",
       "      <td>552.892944</td>\n",
       "      <td>330.502594</td>\n",
       "      <td>0</td>\n",
       "    </tr>\n",
       "    <tr>\n",
       "      <th>10</th>\n",
       "      <td>7</td>\n",
       "      <td>0</td>\n",
       "      <td>10.0</td>\n",
       "      <td>Helvetica</td>\n",
       "      <td>0</td>\n",
       "      <td>ATC Management, Inc. *</td>\n",
       "      <td>31.346460</td>\n",
       "      <td>352.502594</td>\n",
       "      <td>140.836456</td>\n",
       "      <td>362.502594</td>\n",
       "      <td>0</td>\n",
       "    </tr>\n",
       "    <tr>\n",
       "      <th>11</th>\n",
       "      <td>7</td>\n",
       "      <td>2</td>\n",
       "      <td>10.0</td>\n",
       "      <td>Helvetica</td>\n",
       "      <td>0</td>\n",
       "      <td>Wisconsin</td>\n",
       "      <td>369.109741</td>\n",
       "      <td>352.502594</td>\n",
       "      <td>414.669739</td>\n",
       "      <td>362.502594</td>\n",
       "      <td>0</td>\n",
       "    </tr>\n",
       "    <tr>\n",
       "      <th>12</th>\n",
       "      <td>7</td>\n",
       "      <td>4</td>\n",
       "      <td>10.0</td>\n",
       "      <td>Helvetica</td>\n",
       "      <td>0</td>\n",
       "      <td>26.24%</td>\n",
       "      <td>493.422943</td>\n",
       "      <td>352.502594</td>\n",
       "      <td>527.332947</td>\n",
       "      <td>362.502594</td>\n",
       "      <td>0</td>\n",
       "    </tr>\n",
       "    <tr>\n",
       "      <th>13</th>\n",
       "      <td>8</td>\n",
       "      <td>0</td>\n",
       "      <td>10.0</td>\n",
       "      <td>Helvetica</td>\n",
       "      <td>0</td>\n",
       "      <td>American Transmission Company LLC *</td>\n",
       "      <td>31.346460</td>\n",
       "      <td>368.502594</td>\n",
       "      <td>209.166458</td>\n",
       "      <td>378.502594</td>\n",
       "      <td>0</td>\n",
       "    </tr>\n",
       "    <tr>\n",
       "      <th>14</th>\n",
       "      <td>8</td>\n",
       "      <td>2</td>\n",
       "      <td>10.0</td>\n",
       "      <td>Helvetica</td>\n",
       "      <td>0</td>\n",
       "      <td>Wisconsin</td>\n",
       "      <td>369.109741</td>\n",
       "      <td>368.502594</td>\n",
       "      <td>414.669739</td>\n",
       "      <td>378.502594</td>\n",
       "      <td>0</td>\n",
       "    </tr>\n",
       "    <tr>\n",
       "      <th>15</th>\n",
       "      <td>8</td>\n",
       "      <td>4</td>\n",
       "      <td>10.0</td>\n",
       "      <td>Helvetica</td>\n",
       "      <td>0</td>\n",
       "      <td>23.04%</td>\n",
       "      <td>493.422943</td>\n",
       "      <td>368.502594</td>\n",
       "      <td>527.332947</td>\n",
       "      <td>378.502594</td>\n",
       "      <td>0</td>\n",
       "    </tr>\n",
       "    <tr>\n",
       "      <th>16</th>\n",
       "      <td>9</td>\n",
       "      <td>0</td>\n",
       "      <td>10.0</td>\n",
       "      <td>Helvetica</td>\n",
       "      <td>0</td>\n",
       "      <td>Bostco LLC</td>\n",
       "      <td>31.346460</td>\n",
       "      <td>384.502594</td>\n",
       "      <td>83.036469</td>\n",
       "      <td>394.502594</td>\n",
       "      <td>0</td>\n",
       "    </tr>\n",
       "    <tr>\n",
       "      <th>17</th>\n",
       "      <td>9</td>\n",
       "      <td>2</td>\n",
       "      <td>10.0</td>\n",
       "      <td>Helvetica</td>\n",
       "      <td>0</td>\n",
       "      <td>Wisconsin</td>\n",
       "      <td>369.109741</td>\n",
       "      <td>384.502594</td>\n",
       "      <td>414.669739</td>\n",
       "      <td>394.502594</td>\n",
       "      <td>0</td>\n",
       "    </tr>\n",
       "    <tr>\n",
       "      <th>18</th>\n",
       "      <td>9</td>\n",
       "      <td>4</td>\n",
       "      <td>10.0</td>\n",
       "      <td>Helvetica</td>\n",
       "      <td>0</td>\n",
       "      <td>100%</td>\n",
       "      <td>497.592926</td>\n",
       "      <td>384.502594</td>\n",
       "      <td>523.162964</td>\n",
       "      <td>394.502594</td>\n",
       "      <td>0</td>\n",
       "    </tr>\n",
       "    <tr>\n",
       "      <th>19</th>\n",
       "      <td>10</td>\n",
       "      <td>0</td>\n",
       "      <td>10.0</td>\n",
       "      <td>Times-Roman</td>\n",
       "      <td>0</td>\n",
       "      <td>*</td>\n",
       "      <td>28.346460</td>\n",
       "      <td>423.082916</td>\n",
       "      <td>33.346458</td>\n",
       "      <td>433.082916</td>\n",
       "      <td>0</td>\n",
       "    </tr>\n",
       "    <tr>\n",
       "      <th>20</th>\n",
       "      <td>10</td>\n",
       "      <td>1</td>\n",
       "      <td>10.0</td>\n",
       "      <td>Helvetica</td>\n",
       "      <td>0</td>\n",
       "      <td>On January 1, 2017, we transferred our ownersh...</td>\n",
       "      <td>41.846458</td>\n",
       "      <td>423.502594</td>\n",
       "      <td>543.156311</td>\n",
       "      <td>433.502594</td>\n",
       "      <td>0</td>\n",
       "    </tr>\n",
       "    <tr>\n",
       "      <th>21</th>\n",
       "      <td>10</td>\n",
       "      <td>2</td>\n",
       "      <td>10.0</td>\n",
       "      <td>Helvetica</td>\n",
       "      <td>0</td>\n",
       "      <td>Company LLC to to another subsidiary of WEC En...</td>\n",
       "      <td>41.846458</td>\n",
       "      <td>435.572601</td>\n",
       "      <td>317.516418</td>\n",
       "      <td>445.572601</td>\n",
       "      <td>0</td>\n",
       "    </tr>\n",
       "  </tbody>\n",
       "</table>\n",
       "</div>"
      ],
      "text/plain": [
       "    block_num  line_num  font_size            font  color_srgb  \\\n",
       "0           0         0       11.0  Helvetica-Bold           0   \n",
       "1           1         0       11.0  Helvetica-Bold           0   \n",
       "2           2         0       11.0  Helvetica-Bold           0   \n",
       "3           3         0       10.0       Helvetica           0   \n",
       "4           3         1       10.0       Helvetica           0   \n",
       "5           3         2       10.0       Helvetica           0   \n",
       "6           4         0       10.0       Helvetica           0   \n",
       "7           5         0       10.0       Helvetica           0   \n",
       "8           5         1       10.0       Helvetica           0   \n",
       "9           5         3       10.0       Helvetica           0   \n",
       "10          7         0       10.0       Helvetica           0   \n",
       "11          7         2       10.0       Helvetica           0   \n",
       "12          7         4       10.0       Helvetica           0   \n",
       "13          8         0       10.0       Helvetica           0   \n",
       "14          8         2       10.0       Helvetica           0   \n",
       "15          8         4       10.0       Helvetica           0   \n",
       "16          9         0       10.0       Helvetica           0   \n",
       "17          9         2       10.0       Helvetica           0   \n",
       "18          9         4       10.0       Helvetica           0   \n",
       "19         10         0       10.0     Times-Roman           0   \n",
       "20         10         1       10.0       Helvetica           0   \n",
       "21         10         2       10.0       Helvetica           0   \n",
       "\n",
       "                                                 text  top_left_x_pdf  \\\n",
       "0                                        Exhibit 21.1      504.791168   \n",
       "1                    WISCONSIN ELECTRIC POWER COMPANY      184.882263   \n",
       "2                SUBSIDIARIES AS OF DECEMBER 31, 2016      184.249771   \n",
       "3   The following table includes the subsidiaries ...       29.346460   \n",
       "4   Wisconsin, as well as the percent of ownership...       29.346460   \n",
       "5                                                Inc.       29.346460   \n",
       "6                                          Subsidiary       31.346460   \n",
       "7                              State of Incorporation      344.084747   \n",
       "8                                     or Organization      357.709747   \n",
       "9                                   Percent Ownership      467.862946   \n",
       "10                             ATC Management, Inc. *       31.346460   \n",
       "11                                          Wisconsin      369.109741   \n",
       "12                                             26.24%      493.422943   \n",
       "13                American Transmission Company LLC *       31.346460   \n",
       "14                                          Wisconsin      369.109741   \n",
       "15                                             23.04%      493.422943   \n",
       "16                                         Bostco LLC       31.346460   \n",
       "17                                          Wisconsin      369.109741   \n",
       "18                                               100%      497.592926   \n",
       "19                                                  *       28.346460   \n",
       "20  On January 1, 2017, we transferred our ownersh...       41.846458   \n",
       "21  Company LLC to to another subsidiary of WEC En...       41.846458   \n",
       "\n",
       "    top_left_y_pdf  bottom_right_x_pdf  bottom_right_y_pdf  page_num  \n",
       "0        86.696877          565.929260           97.696877         0  \n",
       "1       130.296921          410.393280          141.296921         0  \n",
       "2       145.496933          411.025818          156.496933         0  \n",
       "3       217.502609          559.586365          227.502609         0  \n",
       "4       229.572617          547.326355          239.572617         0  \n",
       "5       241.642624           45.466461          251.642624         0  \n",
       "6       320.502594           78.026466          330.502594         0  \n",
       "7       310.502594          439.694733          320.502594         0  \n",
       "8       320.905945          426.069763          330.905945         0  \n",
       "9       320.502594          552.892944          330.502594         0  \n",
       "10      352.502594          140.836456          362.502594         0  \n",
       "11      352.502594          414.669739          362.502594         0  \n",
       "12      352.502594          527.332947          362.502594         0  \n",
       "13      368.502594          209.166458          378.502594         0  \n",
       "14      368.502594          414.669739          378.502594         0  \n",
       "15      368.502594          527.332947          378.502594         0  \n",
       "16      384.502594           83.036469          394.502594         0  \n",
       "17      384.502594          414.669739          394.502594         0  \n",
       "18      384.502594          523.162964          394.502594         0  \n",
       "19      423.082916           33.346458          433.082916         0  \n",
       "20      423.502594          543.156311          433.502594         0  \n",
       "21      435.572601          317.516418          445.572601         0  "
      ]
     },
     "execution_count": 12,
     "metadata": {},
     "output_type": "execute_result"
    }
   ],
   "source": [
    "txt"
   ]
  },
  {
   "cell_type": "code",
   "execution_count": 20,
   "metadata": {},
   "outputs": [
    {
     "data": {
      "text/html": [
       "<div>\n",
       "<style scoped>\n",
       "    .dataframe tbody tr th:only-of-type {\n",
       "        vertical-align: middle;\n",
       "    }\n",
       "\n",
       "    .dataframe tbody tr th {\n",
       "        vertical-align: top;\n",
       "    }\n",
       "\n",
       "    .dataframe thead th {\n",
       "        text-align: right;\n",
       "    }\n",
       "</style>\n",
       "<table border=\"1\" class=\"dataframe\">\n",
       "  <thead>\n",
       "    <tr style=\"text-align: right;\">\n",
       "      <th></th>\n",
       "    </tr>\n",
       "  </thead>\n",
       "  <tbody>\n",
       "  </tbody>\n",
       "</table>\n",
       "</div>"
      ],
      "text/plain": [
       "Empty DataFrame\n",
       "Columns: []\n",
       "Index: []"
      ]
     },
     "execution_count": 20,
     "metadata": {},
     "output_type": "execute_result"
    }
   ],
   "source": [
    "img_info  # no images in this doc. Do any Ex 21 docs have images? I guess we'll find out."
   ]
  },
  {
   "cell_type": "code",
   "execution_count": 15,
   "metadata": {},
   "outputs": [
    {
     "data": {
      "text/html": [
       "<div>\n",
       "<style scoped>\n",
       "    .dataframe tbody tr th:only-of-type {\n",
       "        vertical-align: middle;\n",
       "    }\n",
       "\n",
       "    .dataframe tbody tr th {\n",
       "        vertical-align: top;\n",
       "    }\n",
       "\n",
       "    .dataframe thead th {\n",
       "        text-align: right;\n",
       "    }\n",
       "</style>\n",
       "<table border=\"1\" class=\"dataframe\">\n",
       "  <thead>\n",
       "    <tr style=\"text-align: right;\">\n",
       "      <th></th>\n",
       "      <th>rotation_degrees</th>\n",
       "      <th>origin_x_pdf_coord</th>\n",
       "      <th>origin_y_pdf_coord</th>\n",
       "      <th>width_pdf_coord</th>\n",
       "      <th>height_pdf_coord</th>\n",
       "      <th>has_images</th>\n",
       "      <th>has_text</th>\n",
       "      <th>page_num</th>\n",
       "      <th>image_area_frac</th>\n",
       "    </tr>\n",
       "  </thead>\n",
       "  <tbody>\n",
       "    <tr>\n",
       "      <th>0</th>\n",
       "      <td>0</td>\n",
       "      <td>0.0</td>\n",
       "      <td>0.0</td>\n",
       "      <td>595.275574</td>\n",
       "      <td>841.889771</td>\n",
       "      <td>False</td>\n",
       "      <td>True</td>\n",
       "      <td>0</td>\n",
       "      <td>0.0</td>\n",
       "    </tr>\n",
       "  </tbody>\n",
       "</table>\n",
       "</div>"
      ],
      "text/plain": [
       "   rotation_degrees  origin_x_pdf_coord  origin_y_pdf_coord  width_pdf_coord  \\\n",
       "0                 0                 0.0                 0.0       595.275574   \n",
       "\n",
       "   height_pdf_coord  has_images  has_text  page_num  image_area_frac  \n",
       "0        841.889771       False      True         0              0.0  "
      ]
     },
     "execution_count": 15,
     "metadata": {},
     "output_type": "execute_result"
    }
   ],
   "source": [
    "pg_meta"
   ]
  },
  {
   "cell_type": "markdown",
   "metadata": {},
   "source": [
    "### Render Image"
   ]
  },
  {
   "cell_type": "markdown",
   "metadata": {},
   "source": [
    "#### Full page"
   ]
  },
  {
   "cell_type": "code",
   "execution_count": 21,
   "metadata": {},
   "outputs": [
    {
     "data": {
      "image/jpeg": "[encoded data removed]",
      "image/png": "[encoded data removed]",
      "text/plain": [
       "<PIL.Image.Image image mode=RGB size=414x585>"
      ]
     },
     "execution_count": 21,
     "metadata": {},
     "output_type": "execute_result"
    }
   ],
   "source": [
    "pg_img = _render_page(pg, dpi=50)  # small dpi for notebook display\n",
    "pg_img"
   ]
  },
  {
   "cell_type": "markdown",
   "metadata": {},
   "source": [
    "#### Render a subset of the page"
   ]
  },
  {
   "cell_type": "code",
   "execution_count": 26,
   "metadata": {},
   "outputs": [
    {
     "data": {
      "text/plain": [
       "top_left_x_pdf         31.346460\n",
       "top_left_y_pdf        310.502594\n",
       "bottom_right_x_pdf    552.892944\n",
       "bottom_right_y_pdf    362.502594\n",
       "dtype: float32"
      ]
     },
     "execution_count": 26,
     "metadata": {},
     "output_type": "execute_result"
    }
   ],
   "source": [
    "# here I create a clipping rectangle as a convex hull around some text.\n",
    "# But you could define the clipping rectangle however you want. It's just a box.\n",
    "coord_cols = ['top_left_x_pdf', 'top_left_y_pdf', 'bottom_right_x_pdf', 'bottom_right_y_pdf']\n",
    "subset_text = txt.loc[6:10,coord_cols]  # an artibrary subset of text\n",
    "convex_hull = subset_text.agg(dict(zip(coord_cols, ['min', 'min', 'max', 'max'])))\n",
    "convex_hull"
   ]
  },
  {
   "cell_type": "code",
   "execution_count": 27,
   "metadata": {},
   "outputs": [
    {
     "data": {
      "text/plain": [
       "Rect(31.346460342407227, 310.5025939941406, 552.8929443359375, 362.5025939941406)"
      ]
     },
     "execution_count": 27,
     "metadata": {},
     "output_type": "execute_result"
    }
   ],
   "source": [
    "clip = fitz.Rect(*convex_hull) # x0, y0, x1, y1\n",
    "clip"
   ]
  },
  {
   "cell_type": "code",
   "execution_count": 28,
   "metadata": {},
   "outputs": [
    {
     "data": {
      "image/jpeg": "[encoded data removed]",
      "image/png": "[encoded data removed]",
      "text/plain": [
       "<PIL.Image.Image image mode=RGB size=363x37>"
      ]
     },
     "execution_count": 28,
     "metadata": {},
     "output_type": "execute_result"
    }
   ],
   "source": [
    "_render_page(pg, dpi=50, clip=clip)"
   ]
  },
  {
   "cell_type": "markdown",
   "metadata": {},
   "source": [
    "## Visualize the Bboxes\n",
    "\n",
    "Images are awesome but take a little extra housekeeping. There are many ways to represent an image and every library uses a different one as its standard. There is constant conversion: OpenCV expects BGR in numpy arrays, matplotlib expects RGB in numpy arrays, and PIL defaults to RGB but uses its own array structure (not numpy).\n",
    "\n",
    "Additionally, we have to convert between pixel coordinates and PDF coordinates."
   ]
  },
  {
   "cell_type": "markdown",
   "metadata": {},
   "source": [
    "### Viz Functions"
   ]
  },
  {
   "cell_type": "code",
   "execution_count": null,
   "metadata": {
    "tags": []
   },
   "outputs": [],
   "source": [
    "\n",
    "import cv2\n",
    "import matplotlib.pyplot as plt\n",
    "\n",
    "PDF_POINTS_PER_INCH = 72  # I believe this is standard for all PDFs\n",
    "\n",
    "def pil_to_cv2(image: Image.Image) -> np.ndarray:  # noqa: C901\n",
    "    \"\"\"Convert a PIL Image to an OpenCV image (numpy array).\"\"\"\n",
    "    # copied from https://gist.github.com/panzi/1ceac1cb30bb6b3450aa5227c02eedd3\n",
    "    # This covers the common modes, is not exhaustive.\n",
    "    mode = image.mode\n",
    "    new_image: np.ndarray\n",
    "    if mode == \"1\":\n",
    "        new_image = np.array(image, dtype=np.uint8)\n",
    "        new_image *= 255\n",
    "    elif mode == \"L\":\n",
    "        new_image = np.array(image, dtype=np.uint8)\n",
    "    elif mode == \"LA\" or mode == \"La\":\n",
    "        new_image = np.array(image.convert(\"RGBA\"), dtype=np.uint8)\n",
    "        new_image = cv2.cvtColor(new_image, cv2.COLOR_RGBA2BGRA)\n",
    "    elif mode == \"RGB\":\n",
    "        new_image = np.array(image, dtype=np.uint8)\n",
    "        new_image = cv2.cvtColor(new_image, cv2.COLOR_RGB2BGR)\n",
    "    elif mode == \"RGBA\":\n",
    "        new_image = np.array(image, dtype=np.uint8)\n",
    "        new_image = cv2.cvtColor(new_image, cv2.COLOR_RGBA2BGRA)\n",
    "    elif mode == \"LAB\":\n",
    "        new_image = np.array(image, dtype=np.uint8)\n",
    "        new_image = cv2.cvtColor(new_image, cv2.COLOR_LAB2BGR)\n",
    "    elif mode == \"HSV\":\n",
    "        new_image = np.array(image, dtype=np.uint8)\n",
    "        new_image = cv2.cvtColor(new_image, cv2.COLOR_HSV2BGR)\n",
    "    elif mode == \"YCbCr\":\n",
    "        # XXX: not sure if YCbCr == YCrCb\n",
    "        new_image = np.array(image, dtype=np.uint8)\n",
    "        new_image = cv2.cvtColor(new_image, cv2.COLOR_YCrCb2BGR)\n",
    "    elif mode == \"P\" or mode == \"CMYK\":\n",
    "        new_image = np.array(image.convert(\"RGB\"), dtype=np.uint8)\n",
    "        new_image = cv2.cvtColor(new_image, cv2.COLOR_RGB2BGR)\n",
    "    elif mode == \"PA\" or mode == \"Pa\":\n",
    "        new_image = np.array(image.convert(\"RGBA\"), dtype=np.uint8)\n",
    "        new_image = cv2.cvtColor(new_image, cv2.COLOR_RGBA2BGRA)\n",
    "    else:\n",
    "        raise ValueError(f\"unhandled image color mode: {mode}\")\n",
    "\n",
    "    return new_image\n",
    "\n",
    "\n",
    "def cv2_to_pil(img: np.ndarray) -> Image.Image:\n",
    "    \"\"\"Create PIL Image from numpy pixel array.\"\"\"\n",
    "    if len(img.shape) == 2:  # single channel, AKA grayscale\n",
    "        return Image.fromarray(img)\n",
    "    else:  # only handle BGR for now\n",
    "        return Image.fromarray(cv2.cvtColor(img, cv2.COLOR_BGR2RGB))\n",
    "\n",
    "\n",
    "def display_img_array(img: np.ndarray, figsize=(5, 5), **kwargs):\n",
    "    \"\"\"Plot image array for jupyter sessions.\"\"\"\n",
    "    plt.figure(figsize=figsize)\n",
    "    if len(img.shape) == 2:  # grayscale\n",
    "        return plt.imshow(img, cmap=\"gray\", vmin=0, vmax=255, **kwargs)\n",
    "    else:\n",
    "        return plt.imshow(cv2.cvtColor(img, cv2.COLOR_BGR2RGB), **kwargs)\n",
    "\n",
    "\n",
    "def overlay_bboxes(\n",
    "    img: np.ndarray, bboxes: np.ndarray, color=(255, 0, 0)\n",
    ") -> np.ndarray:\n",
    "    \"\"\"Overlay bounding boxes of shape N x 4 (x0, y0, x1, y1) on an image.\"\"\"\n",
    "    img = img.copy()\n",
    "    for box in np.round(bboxes, 0).astype(np.int32):  # float to int just in case:\n",
    "        x0, y0, x1, y1 = box\n",
    "        cv2.rectangle(img, (x0, y0), (x1, y1), color=color, thickness=1)\n",
    "    return img\n",
    "\n",
    "\n",
    "def pdf_coords_to_pixel_coords(coords: np.ndarray, dpi: int) -> np.ndarray:\n",
    "    \"\"\"Convert PDF coordinates to pixel coordinates.\"\"\"\n",
    "    # For arbitrary PDFs you would need to subtract the origin in PDF coordinates,\n",
    "    # but since you create these PDFs, you know the origin is (0, 0).\n",
    "    out = coords * dpi / PDF_POINTS_PER_INCH\n",
    "    return out"
   ]
  },
  {
   "cell_type": "code",
   "execution_count": 31,
   "metadata": {},
   "outputs": [
    {
     "data": {
      "text/plain": [
       "<matplotlib.image.AxesImage at 0x7f0ff81615e0>"
      ]
     },
     "execution_count": 31,
     "metadata": {},
     "output_type": "execute_result"
    },
    {
     "data": {
      "image/png": "[encoded data removed]",
      "text/plain": [
       "<Figure size 1000x1000 with 1 Axes>"
      ]
     },
     "metadata": {},
     "output_type": "display_data"
    }
   ],
   "source": [
    "dpi = 70\n",
    "bboxes = pdf_coords_to_pixel_coords(txt[coord_cols].values, dpi=dpi)\n",
    "img = np.array(_render_page(pg, dpi=dpi))\n",
    "display_img = overlay_bboxes(img, bboxes)\n",
    "display_img_array(display_img, figsize=(10, 10))"
   ]
  },
  {
   "cell_type": "markdown",
   "metadata": {},
   "source": [
    "Some of the bboxes in the table look a little low? Not sure if that is a bbox scaling issue or a rendering issue or a PDF generation issue. I'll leave that as an exercise for the reader ;)"
   ]
  }
 ],
 "metadata": {
  "kernelspec": {
   "display_name": "mozilla-sec-eia",
   "language": "python",
   "name": "mozilla-sec-eia"
  },
  "language_info": {
   "codemirror_mode": {
    "name": "ipython",
    "version": 3
   },
   "file_extension": ".py",
   "mimetype": "text/x-python",
   "name": "python",
   "nbconvert_exporter": "python",
   "pygments_lexer": "ipython3",
   "version": "3.11.8"
  }
 },
 "nbformat": 4,
 "nbformat_minor": 4
}
