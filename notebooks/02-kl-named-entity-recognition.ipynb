{
 "cells": [
  {
   "cell_type": "markdown",
   "id": "b736be65-7d3e-4927-bc9b-d3aa3abff30c",
   "metadata": {},
   "source": [
    "# Named Entity Recognition Table Extraction\n",
    "\n",
    "* Train a named entity recognition model (need to create training data)\n",
    "* Apply trained NER to label entities in docs\n",
    "* Extract the Ex. 21 entities\n",
    "* Structure into dataframe"
   ]
  },
  {
   "cell_type": "code",
   "execution_count": null,
   "id": "fd1629db-7397-44a9-b987-442716a63a22",
   "metadata": {},
   "outputs": [],
   "source": [
    "!pip install spacy"
   ]
  },
  {
   "cell_type": "code",
   "execution_count": null,
   "id": "add9a9d9-70ee-4dc4-88e4-6aa54345b6cc",
   "metadata": {},
   "outputs": [],
   "source": [
    "# Download spacy model\n",
    "!python -m spacy download en_core_web_sm"
   ]
  },
  {
   "cell_type": "code",
   "execution_count": null,
   "id": "73c1cd62-3767-49ef-9559-f43b546137e5",
   "metadata": {},
   "outputs": [],
   "source": [
    "import spacy\n",
    "import pandas as pd\n",
    "from bs4 import BeautifulSoup as bs"
   ]
  },
  {
   "cell_type": "code",
   "execution_count": null,
   "id": "3b29926a-7700-4ade-9f6d-047ba84634b0",
   "metadata": {},
   "outputs": [],
   "source": [
    "# Load spacy model\n",
    "nlp = spacy.load('en_core_web_sm')"
   ]
  },
  {
   "cell_type": "code",
   "execution_count": null,
   "id": "56c706be-1eee-485e-8b2e-51a24c9e8c6e",
   "metadata": {},
   "outputs": [],
   "source": [
    "def extract_entities(text):\n",
    "    doc = nlp(text)\n",
    "    entities = []\n",
    "    for ent in doc.ents:\n",
    "        entities.append((ent.text, ent.label_))\n",
    "    return entities\n",
    "\n",
    "def extract_data_into_dataframe(text):\n",
    "    entities = extract_entities(text)\n",
    "    df = pd.DataFrame(entities, columns=['Text', 'Entity'])\n",
    "    return df\n"
   ]
  },
  {
   "cell_type": "code",
   "execution_count": null,
   "id": "01e268b6-6775-4f27-bfcb-839006803377",
   "metadata": {},
   "outputs": [],
   "source": [
    "example_text = \"Katie lives in Cupertino, California. Her subsidiaries are Pet Dog Company and she owns 100%.\"\n",
    "df = extract_data_into_dataframe(example_text)\n",
    "print(df)"
   ]
  },
  {
   "cell_type": "code",
   "execution_count": null,
   "id": "c286417c-3448-4a72-b708-f9cbb4525b45",
   "metadata": {},
   "outputs": [],
   "source": [
    "def get_entities_from_html(filename, keywords, tag_type=\"body\"):\n",
    "    with open(filename, 'r') as file:\n",
    "        html_content = file.read()\n",
    "    soup = bs(html_content, 'html.parser')\n",
    "    # Define a function to filter body elements based on text content\n",
    "    def contains_keyword(tag, keywords=keywords):\n",
    "        return tag.name == tag_type and keywords in tag.get_text()\n",
    "    \n",
    "    # Find all body elements containing the keyword\n",
    "    body_elements_with_keyword = soup.find_all(contains_keyword)\n",
    "\n",
    "    dfs = []\n",
    "    for body_element in body_elements_with_keyword:\n",
    "        text = body_element.get_text()\n",
    "        dfs.append(extract_data_into_dataframe(text))\n",
    "    return dfs"
   ]
  },
  {
   "cell_type": "code",
   "execution_count": null,
   "id": "33c49ae8-0a16-4b59-8cb1-2287f9e9239e",
   "metadata": {},
   "outputs": [],
   "source": [
    "get_entities_from_html(filename=\"torotel.html\", keywords=\"SUBSIDIARIES OF THE REGISTRANT\")"
   ]
  },
  {
   "cell_type": "code",
   "execution_count": null,
   "id": "f4844c54-0ec6-4c51-a9a7-0df516bbe3d1",
   "metadata": {},
   "outputs": [],
   "source": [
    "get_entities_from_html(filename=\"wisconsin_electric.html\", keywords=\"Subsidiary\", tag_type=\"table\")"
   ]
  },
  {
   "cell_type": "code",
   "execution_count": null,
   "id": "01a2ce6f-3d23-4338-8bff-8703493f3e09",
   "metadata": {},
   "outputs": [],
   "source": [
    "get_entities_from_html(filename=\"trans_lux_corp.html\", keywords=\"Percentage\", tag_type=\"table\")"
   ]
  },
  {
   "cell_type": "code",
   "execution_count": null,
   "id": "fbfc81d2-4ed4-4f46-90c0-88db77a45f8c",
   "metadata": {},
   "outputs": [],
   "source": [
    "get_entities_from_html(filename=\"isle_of_capri.html\", keywords=\"SUBSIDIARIES\", tag_type=\"table\")"
   ]
  }
 ],
 "metadata": {
  "kernelspec": {
   "display_name": "pudl-dev",
   "language": "python",
   "name": "pudl-dev"
  },
  "language_info": {
   "codemirror_mode": {
    "name": "ipython",
    "version": 3
   },
   "file_extension": ".py",
   "mimetype": "text/x-python",
   "name": "python",
   "nbconvert_exporter": "python",
   "pygments_lexer": "ipython3",
   "version": "3.11.8"
  }
 },
 "nbformat": 4,
 "nbformat_minor": 5
}
