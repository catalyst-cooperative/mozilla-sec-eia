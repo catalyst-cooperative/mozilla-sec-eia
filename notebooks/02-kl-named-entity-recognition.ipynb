{
 "cells": [
  {
   "cell_type": "markdown",
   "id": "b736be65-7d3e-4927-bc9b-d3aa3abff30c",
   "metadata": {},
   "source": [
    "# Named Entity Recognition Table Extraction\n",
    "\n",
    "* Train a named entity recognition model (need to create training data)\n",
    "* Apply trained NER to label entities in docs\n",
    "* Extract the Ex. 21 entities\n",
    "* Structure into dataframe"
   ]
  },
  {
   "cell_type": "code",
   "execution_count": null,
   "id": "fd1629db-7397-44a9-b987-442716a63a22",
   "metadata": {},
   "outputs": [],
   "source": [
    "!pip install spacy"
   ]
  },
  {
   "cell_type": "code",
   "execution_count": null,
   "id": "add9a9d9-70ee-4dc4-88e4-6aa54345b6cc",
   "metadata": {},
   "outputs": [],
   "source": [
    "# Download spacy model\n",
    "!python -m spacy download en_core_web_sm"
   ]
  },
  {
   "cell_type": "code",
   "execution_count": 12,
   "id": "73c1cd62-3767-49ef-9559-f43b546137e5",
   "metadata": {},
   "outputs": [],
   "source": [
    "import spacy\n",
    "import pandas as pd\n",
    "from bs4 import BeautifulSoup as bs"
   ]
  },
  {
   "cell_type": "code",
   "execution_count": 5,
   "id": "3b29926a-7700-4ade-9f6d-047ba84634b0",
   "metadata": {},
   "outputs": [],
   "source": [
    "# Load spacy model\n",
    "nlp = spacy.load('en_core_web_sm')"
   ]
  },
  {
   "cell_type": "code",
   "execution_count": 6,
   "id": "56c706be-1eee-485e-8b2e-51a24c9e8c6e",
   "metadata": {},
   "outputs": [],
   "source": [
    "def extract_entities(text):\n",
    "    doc = nlp(text)\n",
    "    entities = []\n",
    "    for ent in doc.ents:\n",
    "        entities.append((ent.text, ent.label_))\n",
    "    return entities\n",
    "\n",
    "def extract_data_into_dataframe(text):\n",
    "    entities = extract_entities(text)\n",
    "    df = pd.DataFrame(entities, columns=['Text', 'Entity'])\n",
    "    return df\n"
   ]
  },
  {
   "cell_type": "code",
   "execution_count": 9,
   "id": "01e268b6-6775-4f27-bfcb-839006803377",
   "metadata": {},
   "outputs": [
    {
     "name": "stdout",
     "output_type": "stream",
     "text": [
      "              Text   Entity\n",
      "0            Katie   PERSON\n",
      "1        Cupertino      GPE\n",
      "2       California      GPE\n",
      "3  Pet Dog Company      ORG\n",
      "4             100%  PERCENT\n"
     ]
    }
   ],
   "source": [
    "example_text = \"Katie lives in Cupertino, California. Her subsidiaries are Pet Dog Company and she owns 100%.\"\n",
    "df = extract_data_into_dataframe(example_text)\n",
    "print(df)"
   ]
  },
  {
   "cell_type": "code",
   "execution_count": 24,
   "id": "c286417c-3448-4a72-b708-f9cbb4525b45",
   "metadata": {},
   "outputs": [],
   "source": [
    "def get_entities_from_html(filename, keywords, tag_type=\"body\"):\n",
    "    with open(filename, 'r') as file:\n",
    "        html_content = file.read()\n",
    "    soup = bs(html_content, 'html.parser')\n",
    "    # Define a function to filter body elements based on text content\n",
    "    def contains_keyword(tag, keywords=keywords):\n",
    "        return tag.name == tag_type and keywords in tag.get_text()\n",
    "    \n",
    "    # Find all body elements containing the keyword\n",
    "    body_elements_with_keyword = soup.find_all(contains_keyword)\n",
    "\n",
    "    dfs = []\n",
    "    for body_element in body_elements_with_keyword:\n",
    "        text = body_element.get_text()\n",
    "        dfs.append(extract_data_into_dataframe(text))\n",
    "    return dfs"
   ]
  },
  {
   "cell_type": "code",
   "execution_count": 18,
   "id": "33c49ae8-0a16-4b59-8cb1-2287f9e9239e",
   "metadata": {},
   "outputs": [
    {
     "data": {
      "text/plain": [
       "[          Text    Entity\n",
       " 0           21  CARDINAL\n",
       " 1   Subsidiary    PERSON\n",
       " 2     Missouri       GPE\n",
       " 3       Nevada       GPE\n",
       " 4   Subsidiary    PERSON\n",
       " 5  Electronika       GPE\n",
       " 6       Kansas       GPE\n",
       " 7       Kansas       GPE\n",
       " 8       Kansas       GPE]"
      ]
     },
     "execution_count": 18,
     "metadata": {},
     "output_type": "execute_result"
    }
   ],
   "source": [
    "get_entities_from_html(filename=\"torotel.html\", keywords=\"SUBSIDIARIES OF THE REGISTRANT\")"
   ]
  },
  {
   "cell_type": "code",
   "execution_count": 25,
   "id": "f4844c54-0ec6-4c51-a9a7-0df516bbe3d1",
   "metadata": {},
   "outputs": [
    {
     "data": {
      "text/plain": [
       "[                                                Text   Entity\n",
       " 0  Organization\\n\\nOwnership\\n\\n \\n \\n \\n\\n\\nATC ...      ORG\n",
       " 1                                          Wisconsin      GPE\n",
       " 2                                            42.482%  PERCENT\n",
       " 3                      American Transmission Company      ORG\n",
       " 4                                          Wisconsin      GPE\n",
       " 5                                            37.295%  PERCENT]"
      ]
     },
     "execution_count": 25,
     "metadata": {},
     "output_type": "execute_result"
    }
   ],
   "source": [
    "get_entities_from_html(filename=\"wisconsin_electric.html\", keywords=\"Subsidiary\", tag_type=\"table\")"
   ]
  },
  {
   "cell_type": "code",
   "execution_count": 27,
   "id": "01a2ce6f-3d23-4338-8bff-8703493f3e09",
   "metadata": {},
   "outputs": [
    {
     "data": {
      "text/plain": [
       "[                                 Text    Entity\n",
       " 0                              Canada       GPE\n",
       " 1                                100%   PERCENT\n",
       " 2    Trans-Lux Commercial Corporation       ORG\n",
       " 3                                Utah       GPE\n",
       " 4                                 100  CARDINAL\n",
       " 5       Trans-Lux Display Corporation       ORG\n",
       " 6                            Delaware       GPE\n",
       " 7                                 100  CARDINAL\n",
       " 8    Trans-Lux Experience Corporation       ORG\n",
       " 9                            New York       GPE\n",
       " 10                                100  CARDINAL\n",
       " 11       Trans-Lux Energy Corporation       ORG\n",
       " 12                        Connecticut       GPE\n",
       " 13                                100  CARDINAL\n",
       " 14      Trans-Lux Midwest Corporation       ORG\n",
       " 15                               Iowa       GPE\n",
       " 16                                100  CARDINAL\n",
       " 17      Trans-Lux Seaport Corporation       ORG\n",
       " 18                           New York       GPE\n",
       " 19                                100  CARDINAL\n",
       " 20      Trans-Lux Service Corporation       ORG\n",
       " 21                           New York       GPE\n",
       " 22                                100  CARDINAL\n",
       " 23   Trans-Lux Investment Corporation       ORG\n",
       " 24                           Delaware       GPE\n",
       " 25                                100  CARDINAL\n",
       " 26  Trans-Lux Multi-Media Corporation       ORG\n",
       " 27                        Connecticut       GPE\n",
       " 28                                100  CARDINAL\n",
       " 29    Trans-Lux Montezuma Corporation       ORG\n",
       " 30                                  1  CARDINAL\n",
       " 31                         New Mexico       GPE\n",
       " 32                                100  CARDINAL\n",
       " 33    Trans-Lux Southwest Corporation       ORG\n",
       " 34                                  1  CARDINAL\n",
       " 35                         New Mexico       GPE\n",
       " 36                                100  CARDINAL]"
      ]
     },
     "execution_count": 27,
     "metadata": {},
     "output_type": "execute_result"
    }
   ],
   "source": [
    "get_entities_from_html(filename=\"trans_lux_corp.html\", keywords=\"Percentage\", tag_type=\"table\")"
   ]
  },
  {
   "cell_type": "code",
   "execution_count": 29,
   "id": "fbfc81d2-4ed4-4f46-90c0-88db77a45f8c",
   "metadata": {},
   "outputs": [
    {
     "data": {
      "text/plain": [
       "[                                    Text  Entity\n",
       " 0                                 WHOLLY     GPE\n",
       " 1                    Black Hawk Holdings     ORG\n",
       " 2                                 L.L.C.     GPE\n",
       " 3                               Colorado     GPE\n",
       " 4                Capri Insurance Company     ORG\n",
       " 5                                 Hawaii     GPE\n",
       " 6                               Colorado     GPE\n",
       " 7                               Colorado     GPE\n",
       " 8                               Colorado     GPE\n",
       " 9                                    LLC     ORG\n",
       " 10                              Colorado     GPE\n",
       " 11                                Nevada     GPE\n",
       " 12                    IOC-Caruthersville     ORG\n",
       " 13                                 L.L.C     ORG\n",
       " 14                              Missouri     GPE\n",
       " 15                       IOC-Kansas City     GPE\n",
       " 16                              Missouri     GPE\n",
       " 17                              IOC-Lula     ORG\n",
       " 18                           IOC-Natchez     GPE\n",
       " 19                         IOC-Vicksburg     GPE\n",
       " 20           Delaware\\n\\n\\nIOC-Vicksburg     ORG\n",
       " 21                                L.L.C.     GPE\n",
       " 22                                  Iowa     GPE\n",
       " 23                                   LLC     ORG\n",
       " 24                              Missouri     GPE\n",
       " 25                         IOC Davenport     FAC\n",
       " 26                                  Iowa     GPE\n",
       " 27                          IOC Holdings     ORG\n",
       " 28                                L.L.C.     GPE\n",
       " 29                 Louisiana\\n\\n\\nIOC-PA     ORG\n",
       " 30                                L.L.C.     GPE\n",
       " 31                          Pennsylvania     GPE\n",
       " 32                        L.C. \\n \\nIowa     GPE\n",
       " 33                                L.L.C.     GPE\n",
       " 34                              Colorado     GPE\n",
       " 35                                  Iowa     GPE\n",
       " 36                               Florida     GPE\n",
       " 37  Rainbow Casino-Vicksburg Partnership     ORG\n",
       " 38                 L.P. \\n \\nMississippi  PERSON\n",
       " 39                             Louisiana     GPE]"
      ]
     },
     "execution_count": 29,
     "metadata": {},
     "output_type": "execute_result"
    }
   ],
   "source": [
    "get_entities_from_html(filename=\"isle_of_capri.html\", keywords=\"SUBSIDIARIES\", tag_type=\"table\")"
   ]
  }
 ],
 "metadata": {
  "kernelspec": {
   "display_name": "pudl-dev",
   "language": "python",
   "name": "pudl-dev"
  },
  "language_info": {
   "codemirror_mode": {
    "name": "ipython",
    "version": 3
   },
   "file_extension": ".py",
   "mimetype": "text/x-python",
   "name": "python",
   "nbconvert_exporter": "python",
   "pygments_lexer": "ipython3",
   "version": "3.11.8"
  }
 },
 "nbformat": 4,
 "nbformat_minor": 5
}
