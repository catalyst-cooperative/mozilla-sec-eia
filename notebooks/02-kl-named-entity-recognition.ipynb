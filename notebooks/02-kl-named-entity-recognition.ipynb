{
 "cells": [
  {
   "cell_type": "markdown",
   "id": "b736be65-7d3e-4927-bc9b-d3aa3abff30c",
   "metadata": {},
   "source": [
    "# Named Entity Recognition Table Extraction\n",
    "\n",
    "* Train a named entity recognition model (need to create training data)\n",
    "* Apply trained NER to label entities in docs\n",
    "* Extract the Ex. 21 entities\n",
    "* Structure into dataframe"
   ]
  },
  {
   "cell_type": "code",
   "execution_count": null,
   "id": "add9a9d9-70ee-4dc4-88e4-6aa54345b6cc",
   "metadata": {},
   "outputs": [],
   "source": []
  }
 ],
 "metadata": {
  "kernelspec": {
   "display_name": "pudl-dev",
   "language": "python",
   "name": "pudl-dev"
  },
  "language_info": {
   "codemirror_mode": {
    "name": "ipython",
    "version": 3
   },
   "file_extension": ".py",
   "mimetype": "text/x-python",
   "name": "python",
   "nbconvert_exporter": "python",
   "pygments_lexer": "ipython3",
   "version": "3.11.8"
  }
 },
 "nbformat": 4,
 "nbformat_minor": 5
}
