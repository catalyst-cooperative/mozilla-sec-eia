{
 "cells": [
  {
   "cell_type": "code",
   "execution_count": null,
   "id": "5474d897-e2d4-4895-9a02-9f2370d43bd0",
   "metadata": {},
   "outputs": [],
   "source": [
    "import pandas as pd\n",
    "from bs4 import BeautifulSoup as bs"
   ]
  },
  {
   "cell_type": "markdown",
   "id": "58885096-83e4-4d3d-a9a5-1ffc48979d6f",
   "metadata": {},
   "source": [
    "# Read in from HTML Table\n",
    "\n",
    "Some of the Ex. 21 tables are formatted in HTML `<table>` elements\n",
    "\n",
    "* Not unified schema/headers, but similar string headers\n",
    "* Probably a relatively small set of keywords necessary to find the Ex. 21 table within the doc"
   ]
  },
  {
   "cell_type": "code",
   "execution_count": null,
   "id": "35bcd17d-2fcf-4d19-82a1-74b237a01420",
   "metadata": {},
   "outputs": [],
   "source": [
    "filename_1 = \"wisconsin_electric.html\""
   ]
  },
  {
   "cell_type": "code",
   "execution_count": null,
   "id": "4ca094e4-3da1-47d0-8630-0df078f2b16f",
   "metadata": {},
   "outputs": [],
   "source": [
    "match_1 = r\"Subsidiary\""
   ]
  },
  {
   "cell_type": "code",
   "execution_count": null,
   "id": "2d12d089-372c-4e29-bc8b-ff5a65685a12",
   "metadata": {},
   "outputs": [],
   "source": [
    "pd.read_html(io=filename_1, match=match_1)"
   ]
  },
  {
   "cell_type": "code",
   "execution_count": null,
   "id": "c63f5c31-3212-4d8a-9af6-9e1ee74f3fb5",
   "metadata": {},
   "outputs": [],
   "source": [
    "pd.read_html(io=filename_1, match=match_1, header = [0, 1, 2])"
   ]
  },
  {
   "cell_type": "code",
   "execution_count": null,
   "id": "c572ed0d-751c-48f3-bb80-e7f426339657",
   "metadata": {},
   "outputs": [],
   "source": [
    "filename_2 = \"trans_lux_corp.html\""
   ]
  },
  {
   "cell_type": "code",
   "execution_count": null,
   "id": "18818ed1-58ec-4411-b956-8d4dc1bc8cb1",
   "metadata": {},
   "outputs": [],
   "source": [
    "match_2 = r\"Percentage\""
   ]
  },
  {
   "cell_type": "code",
   "execution_count": null,
   "id": "2ab1fb3a-77c1-4eb0-9222-4f69dae4f2d2",
   "metadata": {},
   "outputs": [],
   "source": [
    "pd.read_html(io=filename_2, match=match_2, header=[0, 1])"
   ]
  },
  {
   "cell_type": "code",
   "execution_count": null,
   "id": "28097542-a78e-4065-aaea-a567e2d7c402",
   "metadata": {},
   "outputs": [],
   "source": [
    "filename_4 = \"isle_of_capri.html\""
   ]
  },
  {
   "cell_type": "code",
   "execution_count": null,
   "id": "c88dcd60-22de-4dc4-b314-6da5b1ed6fe3",
   "metadata": {},
   "outputs": [],
   "source": [
    "pd.read_html(io=filename_4, match=\"SUBSIDIARIES\")"
   ]
  },
  {
   "cell_type": "markdown",
   "id": "a4232c47-b9a7-475c-84f1-d9fbd607f8cd",
   "metadata": {},
   "source": [
    "# Read from unstructured text"
   ]
  },
  {
   "cell_type": "code",
   "execution_count": null,
   "id": "93482963-78dc-456b-91a1-7101218cbda1",
   "metadata": {},
   "outputs": [],
   "source": [
    "filename_3 = \"torotel.html\""
   ]
  },
  {
   "cell_type": "code",
   "execution_count": null,
   "id": "b271df3d-6e64-4ca5-8c8a-6dc414447a3a",
   "metadata": {},
   "outputs": [],
   "source": [
    "# Open the HTML file and read its contents\n",
    "with open(filename_3) as file:\n",
    "    html_content = file.read()\n",
    "soup = bs(html_content, \"html.parser\")\n",
    "# Define a function to filter body elements based on text content\n",
    "def contains_keyword(tag, keywords=\"SUBSIDIARIES OF THE REGISTRANT\"):\n",
    "    return tag.name == \"body\" and keywords in tag.get_text()\n",
    "\n",
    "# Find all body elements containing the keyword\n",
    "body_elements_with_keyword = soup.find_all(contains_keyword)\n",
    "\n",
    "for body_element in body_elements_with_keyword:\n",
    "    print(body_element)\n",
    "    print(\"\\nIN TEXT FORM\")\n",
    "    print(body_element.get_text())"
   ]
  }
 ],
 "metadata": {
  "kernelspec": {
   "display_name": "pudl-dev",
   "language": "python",
   "name": "pudl-dev"
  },
  "language_info": {
   "codemirror_mode": {
    "name": "ipython",
    "version": 3
   },
   "file_extension": ".py",
   "mimetype": "text/x-python",
   "name": "python",
   "nbconvert_exporter": "python",
   "pygments_lexer": "ipython3",
   "version": "3.11.8"
  }
 },
 "nbformat": 4,
 "nbformat_minor": 5
}
