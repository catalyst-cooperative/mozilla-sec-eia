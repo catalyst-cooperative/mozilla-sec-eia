{
 "cells": [
  {
   "cell_type": "code",
   "execution_count": 1,
   "id": "5474d897-e2d4-4895-9a02-9f2370d43bd0",
   "metadata": {},
   "outputs": [],
   "source": [
    "import pandas as pd\n",
    "from bs4 import BeautifulSoup as bs"
   ]
  },
  {
   "cell_type": "markdown",
   "id": "58885096-83e4-4d3d-a9a5-1ffc48979d6f",
   "metadata": {},
   "source": [
    "# Read in from HTML Table\n",
    "\n",
    "Some of the Ex. 21 tables are formatted in HTML `<table>` elements\n",
    "\n",
    "* Not unified schema/headers, but similar string headers\n",
    "* Probably a relatively small set of keywords necessary to find the Ex. 21 table within the doc"
   ]
  },
  {
   "cell_type": "code",
   "execution_count": 52,
   "id": "35bcd17d-2fcf-4d19-82a1-74b237a01420",
   "metadata": {},
   "outputs": [],
   "source": [
    "filename_1 = \"wisconsin_electric.html\""
   ]
  },
  {
   "cell_type": "code",
   "execution_count": 53,
   "id": "4ca094e4-3da1-47d0-8630-0df078f2b16f",
   "metadata": {},
   "outputs": [],
   "source": [
    "match_1 = r\"Subsidiary\""
   ]
  },
  {
   "cell_type": "code",
   "execution_count": 54,
   "id": "2d12d089-372c-4e29-bc8b-ff5a65685a12",
   "metadata": {},
   "outputs": [
    {
     "data": {
      "text/plain": [
       "[                                   0                1          2\n",
       " 0                                NaN         State of        NaN\n",
       " 1                                NaN    Incorporation    Percent\n",
       " 2                     Subsidiary (a)  or Organization  Ownership\n",
       " 3                                NaN              NaN        NaN\n",
       " 4                ATC Management Inc.        Wisconsin    42.482%\n",
       " 5  American Transmission Company LLC        Wisconsin    37.295%]"
      ]
     },
     "execution_count": 54,
     "metadata": {},
     "output_type": "execute_result"
    }
   ],
   "source": [
    "pd.read_html(io=filename_1, match=match_1)"
   ]
  },
  {
   "cell_type": "code",
   "execution_count": 55,
   "id": "c63f5c31-3212-4d8a-9af6-9e1ee74f3fb5",
   "metadata": {},
   "outputs": [
    {
     "data": {
      "text/plain": [
       "[                  Unnamed: 0_level_0        State of Unnamed: 2_level_0\n",
       "                   Unnamed: 0_level_1   Incorporation            Percent\n",
       "                       Subsidiary (a) or Organization          Ownership\n",
       " 0                                NaN             NaN                NaN\n",
       " 1                ATC Management Inc.       Wisconsin            42.482%\n",
       " 2  American Transmission Company LLC       Wisconsin            37.295%]"
      ]
     },
     "execution_count": 55,
     "metadata": {},
     "output_type": "execute_result"
    }
   ],
   "source": [
    "pd.read_html(io=filename_1, match=match_1, header = [0, 1, 2])"
   ]
  },
  {
   "cell_type": "code",
   "execution_count": 58,
   "id": "c572ed0d-751c-48f3-bb80-e7f426339657",
   "metadata": {},
   "outputs": [],
   "source": [
    "filename_2 = \"trans_lux_corp.html\""
   ]
  },
  {
   "cell_type": "code",
   "execution_count": 59,
   "id": "18818ed1-58ec-4411-b956-8d4dc1bc8cb1",
   "metadata": {},
   "outputs": [],
   "source": [
    "match_2 = r\"Percentage\""
   ]
  },
  {
   "cell_type": "code",
   "execution_count": 60,
   "id": "2ab1fb3a-77c1-4eb0-9222-4f69dae4f2d2",
   "metadata": {},
   "outputs": [
    {
     "data": {
      "text/plain": [
       "[                     Unnamed: 0_level_0 Unnamed: 1_level_0 Jurisdiction of  \\\n",
       "                                    Name Unnamed: 1_level_1   Incorporation   \n",
       " 0                                   NaN                NaN             NaN   \n",
       " 1                 Trans-Lux Canada Ltd.                NaN          Canada   \n",
       " 2      Trans-Lux Commercial Corporation                NaN            Utah   \n",
       " 3         Trans-Lux Display Corporation                NaN        Delaware   \n",
       " 4      Trans-Lux Experience Corporation                NaN        New York   \n",
       " 5          Trans-Lux Energy Corporation                NaN     Connecticut   \n",
       " 6         Trans-Lux Midwest Corporation                NaN            Iowa   \n",
       " 7         Trans-Lux Seaport Corporation                NaN        New York   \n",
       " 8         Trans-Lux Service Corporation                NaN        New York   \n",
       " 9      Trans-Lux Investment Corporation                NaN        Delaware   \n",
       " 10    Trans-Lux Multi-Media Corporation                NaN     Connecticut   \n",
       " 11  Trans-Lux Montezuma Corporation (1)                NaN      New Mexico   \n",
       " 12  Trans-Lux Southwest Corporation (1)                NaN      New Mexico   \n",
       " \n",
       "    Unnamed: 3_level_0 Percentage  \n",
       "    Unnamed: 3_level_1      Owned  \n",
       " 0                 NaN        NaN  \n",
       " 1                 NaN       100%  \n",
       " 2                 NaN        100  \n",
       " 3                 NaN        100  \n",
       " 4                 NaN        100  \n",
       " 5                 NaN        100  \n",
       " 6                 NaN        100  \n",
       " 7                 NaN        100  \n",
       " 8                 NaN        100  \n",
       " 9                 NaN        100  \n",
       " 10                NaN        100  \n",
       " 11                NaN        100  \n",
       " 12                NaN        100  ]"
      ]
     },
     "execution_count": 60,
     "metadata": {},
     "output_type": "execute_result"
    }
   ],
   "source": [
    "pd.read_html(io=filename_2, match=match_2, header=[0, 1])"
   ]
  },
  {
   "cell_type": "code",
   "execution_count": 2,
   "id": "28097542-a78e-4065-aaea-a567e2d7c402",
   "metadata": {},
   "outputs": [],
   "source": [
    "filename_4 = \"isle_of_capri.html\""
   ]
  },
  {
   "cell_type": "code",
   "execution_count": 5,
   "id": "c88dcd60-22de-4dc4-b314-6da5b1ed6fe3",
   "metadata": {},
   "outputs": [
    {
     "data": {
      "text/plain": [
       "[                                             0   1                       2\n",
       " 0                                          NaN NaN                     NaN\n",
       " 1                    WHOLLY-OWNED SUBSIDIARIES NaN  STATE OF INCORPORATION\n",
       " 2                  Black Hawk Holdings, L.L.C. NaN                Colorado\n",
       " 3                      Capri Insurance Company NaN                  Hawaii\n",
       " 4                         CCSC Blackhawk, Inc. NaN                Colorado\n",
       " 5                   IC Holdings Colorado, Inc. NaN                Colorado\n",
       " 6     IOC-Black Hawk Distribution Company, LLC NaN                Colorado\n",
       " 7                          IOC-Boonville, Inc. NaN                  Nevada\n",
       " 8                    IOC-Caruthersville, L.L.C NaN                Missouri\n",
       " 9                        IOC-Kansas City, Inc. NaN                Missouri\n",
       " 10                              IOC-Lula, Inc. NaN             Mississippi\n",
       " 11                           IOC-Natchez, Inc. NaN             Mississippi\n",
       " 12                         IOC-Vicksburg, Inc. NaN                Delaware\n",
       " 13                       IOC-Vicksburg, L.L.C. NaN                Delaware\n",
       " 14                 IOC Black Hawk County, Inc. NaN                    Iowa\n",
       " 15                     IOC Cape Girardeau, LLC NaN                Missouri\n",
       " 16                         IOC Davenport, Inc. NaN                    Iowa\n",
       " 17                        IOC Holdings, L.L.C. NaN               Louisiana\n",
       " 18                              IOC-PA, L.L.C. NaN            Pennsylvania\n",
       " 19              Isle of Capri Bettendorf, L.C. NaN                    Iowa\n",
       " 20            Isle of Capri Black Hawk, L.L.C. NaN                Colorado\n",
       " 21               Isle of Capri Marquette, Inc. NaN                    Iowa\n",
       " 22                                   PPI, Inc. NaN                 Florida\n",
       " 23  Rainbow Casino-Vicksburg Partnership, L.P. NaN             Mississippi\n",
       " 24            St. Charles Gaming Company, Inc. NaN               Louisiana]"
      ]
     },
     "execution_count": 5,
     "metadata": {},
     "output_type": "execute_result"
    }
   ],
   "source": [
    "pd.read_html(io=filename_4, match=\"SUBSIDIARIES\")"
   ]
  },
  {
   "cell_type": "markdown",
   "id": "a4232c47-b9a7-475c-84f1-d9fbd607f8cd",
   "metadata": {},
   "source": [
    "# Read from unstructured text"
   ]
  },
  {
   "cell_type": "code",
   "execution_count": 56,
   "id": "93482963-78dc-456b-91a1-7101218cbda1",
   "metadata": {},
   "outputs": [],
   "source": [
    "filename_3 = \"torotel.html\""
   ]
  },
  {
   "cell_type": "code",
   "execution_count": 57,
   "id": "b271df3d-6e64-4ca5-8c8a-6dc414447a3a",
   "metadata": {},
   "outputs": [
    {
     "name": "stdout",
     "output_type": "stream",
     "text": [
      "<body style=\"font-family:Times New Roman;font-size:10pt;\">\n",
      "<a name=\"sE2B368F738F92E3CD68273166CA18462\"></a><div><div style=\"line-height:120%;font-size:10pt;\"><font style=\"font-family:inherit;font-size:10pt;\"><br/></font></div></div><br/><div style=\"line-height:120%;text-align:right;font-size:9pt;\"><font style=\"font-family:inherit;font-size:9pt;font-weight:bold;\">EXHIBIT 21</font></div><div style=\"line-height:120%;text-align:right;font-size:9pt;\"><font style=\"font-family:inherit;font-size:9pt;\"> </font></div><div style=\"line-height:120%;text-align:center;font-size:9pt;\"><font style=\"font-family:inherit;font-size:9pt;font-weight:bold;\">SUBSIDIARIES OF THE REGISTRANT</font></div><div style=\"line-height:120%;text-align:center;font-size:9pt;\"><font style=\"font-family:inherit;font-size:9pt;\"> </font></div><div style=\"line-height:120%;text-align:left;font-size:9pt;\"><font style=\"font-family:inherit;font-size:9pt;\">(a)</font><font style=\"font-family:inherit;font-size:7pt;\">                                  </font><font style=\"font-family:inherit;font-size:9pt;\">Subsidiary (wholly-owned)</font></div><div style=\"line-height:120%;text-align:left;text-indent:96px;font-size:9pt;\"><font style=\"font-family:inherit;font-size:9pt;\">Torotel Products, Inc. (a Missouri corporation)</font></div><div style=\"line-height:120%;text-align:left;font-size:9pt;\"><font style=\"font-family:inherit;font-size:9pt;\"> </font></div><div style=\"line-height:120%;text-align:left;font-size:9pt;\"><font style=\"font-family:inherit;font-size:9pt;\">(b)</font><font style=\"font-family:inherit;font-size:7pt;\">                                 </font><font style=\"font-family:inherit;font-size:9pt;\">Subsidiary (wholly-owned)</font></div><div style=\"line-height:120%;text-align:left;text-indent:96px;font-size:9pt;\"><font style=\"font-family:inherit;font-size:9pt;\">Electronika, Inc. (a Nevada corporation)</font></div><div style=\"line-height:120%;text-align:left;font-size:9pt;\"><font style=\"font-family:inherit;font-size:9pt;\"> </font></div><div style=\"line-height:120%;text-align:left;font-size:9pt;\"><font style=\"font-family:inherit;font-size:9pt;\">(c)</font><font style=\"font-family:inherit;font-size:7pt;\">                                  </font><font style=\"font-family:inherit;font-size:9pt;\">Subsidiary (wholly-owned by Electronika, Inc.)</font></div><div style=\"line-height:120%;text-align:left;text-indent:96px;font-size:9pt;\"><font style=\"font-family:inherit;font-size:9pt;\">Electronika-Kansas, Inc. (a Kansas corporation)</font></div><div style=\"line-height:120%;text-align:left;font-size:9pt;\"><font style=\"font-family:inherit;font-size:9pt;\"> </font></div><div style=\"line-height:120%;text-align:left;font-size:9pt;\"><font style=\"font-family:inherit;font-size:9pt;\">(d)</font><font style=\"font-family:inherit;font-size:7pt;\">                                 </font><font style=\"font-family:inherit;font-size:9pt;\">Subsidiary (wholly-owned)</font></div><div style=\"line-height:120%;text-align:left;text-indent:96px;font-size:9pt;\"><font style=\"font-family:inherit;font-size:9pt;\">Torotel Manufacturing Corporation (a Kansas corporation)</font></div><div style=\"line-height:120%;text-align:left;font-size:9pt;\"><font style=\"font-family:inherit;font-size:9pt;\"> </font></div><div style=\"line-height:120%;font-size:10pt;\"><font style=\"font-family:inherit;font-size:10pt;\"><br/></font></div><br/><div style=\"text-align:center;\"><div style=\"line-height:120%;font-size:10pt;\"><font style=\"font-family:inherit;font-size:10pt;\"><br/></font></div></div> </body>\n",
      "\n",
      "IN TEXT FORM\n",
      "\n",
      "EXHIBIT 21 SUBSIDIARIES OF THE REGISTRANT (a)                                  Subsidiary (wholly-owned)Torotel Products, Inc. (a Missouri corporation) (b)                                 Subsidiary (wholly-owned)Electronika, Inc. (a Nevada corporation) (c)                                  Subsidiary (wholly-owned by Electronika, Inc.)Electronika-Kansas, Inc. (a Kansas corporation) (d)                                 Subsidiary (wholly-owned)Torotel Manufacturing Corporation (a Kansas corporation)  \n"
     ]
    }
   ],
   "source": [
    "# Open the HTML file and read its contents\n",
    "with open(filename_3, 'r') as file:\n",
    "    html_content = file.read()\n",
    "soup = bs(html_content, 'html.parser')\n",
    "# Define a function to filter body elements based on text content\n",
    "def contains_keyword(tag, keywords=\"SUBSIDIARIES OF THE REGISTRANT\"):\n",
    "    return tag.name == 'body' and keywords in tag.get_text()\n",
    "\n",
    "# Find all body elements containing the keyword\n",
    "body_elements_with_keyword = soup.find_all(contains_keyword)\n",
    "\n",
    "for body_element in body_elements_with_keyword:\n",
    "    print(body_element)\n",
    "    print(\"\\nIN TEXT FORM\")\n",
    "    print(body_element.get_text())"
   ]
  }
 ],
 "metadata": {
  "kernelspec": {
   "display_name": "pudl-dev",
   "language": "python",
   "name": "pudl-dev"
  },
  "language_info": {
   "codemirror_mode": {
    "name": "ipython",
    "version": 3
   },
   "file_extension": ".py",
   "mimetype": "text/x-python",
   "name": "python",
   "nbconvert_exporter": "python",
   "pygments_lexer": "ipython3",
   "version": "3.11.8"
  }
 },
 "nbformat": 4,
 "nbformat_minor": 5
}
