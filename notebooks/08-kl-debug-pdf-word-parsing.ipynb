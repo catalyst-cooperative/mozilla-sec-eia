{
 "cells": [
  {
   "cell_type": "code",
   "execution_count": null,
   "id": "d6165c85-b116-4252-9e9e-8187aa4492d9",
   "metadata": {},
   "outputs": [],
   "source": [
    "%load_ext autoreload\n",
    "%autoreload 2"
   ]
  },
  {
   "cell_type": "markdown",
   "id": "7daa36ee-2bf2-47d5-aee7-bb7ec3ce92fc",
   "metadata": {},
   "source": [
    "If you encounter a character that should be a delimiter when PyMuPDF is reading in words from a PDF, find that character and add it into the delimiters argument of `extractWORDS`"
   ]
  },
  {
   "cell_type": "code",
   "execution_count": null,
   "id": "589b639a-b610-4c9b-b467-d652748dc8e8",
   "metadata": {
    "tags": []
   },
   "outputs": [],
   "source": [
    "from pathlib import Path\n",
    "\n",
    "import fitz\n",
    "\n",
    "from mozilla_sec_eia.utils.pdf import extract_pdf_data_from_page"
   ]
  },
  {
   "cell_type": "code",
   "execution_count": null,
   "id": "b431b42d-4221-4001-bef8-087a3e30b58e",
   "metadata": {
    "tags": []
   },
   "outputs": [],
   "source": [
    "filepath = Path(\"../sec10k_filings/pdfs/1223037-2009q4-1223037-0001193125-09-249998.pdf\")\n",
    "assert filepath.exists()"
   ]
  },
  {
   "cell_type": "code",
   "execution_count": null,
   "id": "ad306b38-b279-4d53-9186-74d5cbc046ae",
   "metadata": {
    "tags": []
   },
   "outputs": [],
   "source": [
    "doc = fitz.Document(str(filepath))\n",
    "doc.is_pdf"
   ]
  },
  {
   "cell_type": "code",
   "execution_count": null,
   "id": "d28fcabb-f2ac-4728-866d-b0621c8c081f",
   "metadata": {
    "tags": []
   },
   "outputs": [],
   "source": [
    "pg = doc[0]\n",
    "extracted = extract_pdf_data_from_page(pg)\n",
    "extracted.keys()"
   ]
  },
  {
   "cell_type": "code",
   "execution_count": null,
   "id": "54668a29-4383-4d71-aaf7-bf030766fede",
   "metadata": {
    "tags": []
   },
   "outputs": [],
   "source": [
    "text = extracted[\"pdf_text\"]\n",
    "text"
   ]
  },
  {
   "cell_type": "code",
   "execution_count": null,
   "id": "e41f937f-0a39-43b5-acfb-ecc098e2a32d",
   "metadata": {
    "tags": []
   },
   "outputs": [],
   "source": [
    "text.iloc[74].text[4]"
   ]
  },
  {
   "cell_type": "markdown",
   "id": "424c0e1a-1809-40bd-a2f4-0783fb90a2ae",
   "metadata": {},
   "source": [
    "Go from string, to ASCII decimal, to hex"
   ]
  },
  {
   "cell_type": "code",
   "execution_count": null,
   "id": "23841eec-645b-4357-8eb0-2e79e1ff7c63",
   "metadata": {
    "tags": []
   },
   "outputs": [],
   "source": [
    "ord(text.iloc[74].text[4])"
   ]
  },
  {
   "cell_type": "code",
   "execution_count": null,
   "id": "aec0a987-6922-427c-b477-d8eeab276e2c",
   "metadata": {
    "tags": []
   },
   "outputs": [],
   "source": [
    "ord(\"&\")"
   ]
  },
  {
   "cell_type": "code",
   "execution_count": null,
   "id": "d56f482d-35e1-43bb-b0b5-0980785f5063",
   "metadata": {
    "tags": []
   },
   "outputs": [],
   "source": [
    "print(chr(0x26))"
   ]
  },
  {
   "cell_type": "code",
   "execution_count": null,
   "id": "532b18f4-656a-4edb-a8fb-f117781ea9e6",
   "metadata": {
    "tags": []
   },
   "outputs": [],
   "source": [
    "print(chr(151))"
   ]
  },
  {
   "cell_type": "code",
   "execution_count": null,
   "id": "48615759-2cc7-4d25-bd7a-af59d4b4c792",
   "metadata": {
    "tags": []
   },
   "outputs": [],
   "source": [
    "chr(151)"
   ]
  },
  {
   "cell_type": "code",
   "execution_count": null,
   "id": "3f6b2c7c-f8b0-4ef7-98c0-fdd1dcc2b600",
   "metadata": {
    "tags": []
   },
   "outputs": [],
   "source": [
    "hex(151)"
   ]
  }
 ],
 "metadata": {
  "kernelspec": {
   "display_name": "mozilla-sec-eia",
   "language": "python",
   "name": "mozilla-sec-eia"
  },
  "language_info": {
   "codemirror_mode": {
    "name": "ipython",
    "version": 3
   },
   "file_extension": ".py",
   "mimetype": "text/x-python",
   "name": "python",
   "nbconvert_exporter": "python",
   "pygments_lexer": "ipython3",
   "version": "3.11.9"
  }
 },
 "nbformat": 4,
 "nbformat_minor": 5
}
