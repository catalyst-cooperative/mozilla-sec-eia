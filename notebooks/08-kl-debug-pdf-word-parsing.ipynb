{
 "cells": [
  {
   "cell_type": "code",
   "execution_count": null,
   "id": "d6165c85-b116-4252-9e9e-8187aa4492d9",
   "metadata": {},
   "outputs": [],
   "source": [
    "%load_ext autoreload\n",
    "%autoreload 2"
   ]
  },
  {
   "cell_type": "markdown",
   "id": "7daa36ee-2bf2-47d5-aee7-bb7ec3ce92fc",
   "metadata": {},
   "source": [
    "If you encounter a character that should be a delimiter when PyMuPDF is reading in words from a PDF, find that character and add it into the delimiters argument of `extractWORDS`"
   ]
  },
  {
   "cell_type": "code",
   "execution_count": 2,
   "id": "589b639a-b610-4c9b-b467-d652748dc8e8",
   "metadata": {
    "tags": []
   },
   "outputs": [],
   "source": [
    "from mozilla_sec_eia.utils.pdf import extract_pdf_data_from_page\n",
    "from pathlib import Path\n",
    "import fitz"
   ]
  },
  {
   "cell_type": "code",
   "execution_count": 3,
   "id": "b431b42d-4221-4001-bef8-087a3e30b58e",
   "metadata": {
    "tags": []
   },
   "outputs": [],
   "source": [
    "filepath = Path(\"../sec10k_filings/pdfs/1223037-2009q4-1223037-0001193125-09-249998.pdf\")\n",
    "assert filepath.exists()"
   ]
  },
  {
   "cell_type": "code",
   "execution_count": 4,
   "id": "ad306b38-b279-4d53-9186-74d5cbc046ae",
   "metadata": {
    "tags": []
   },
   "outputs": [
    {
     "data": {
      "text/plain": [
       "True"
      ]
     },
     "execution_count": 4,
     "metadata": {},
     "output_type": "execute_result"
    }
   ],
   "source": [
    "doc = fitz.Document(str(filepath))\n",
    "doc.is_pdf"
   ]
  },
  {
   "cell_type": "code",
   "execution_count": 46,
   "id": "d28fcabb-f2ac-4728-866d-b0621c8c081f",
   "metadata": {
    "tags": []
   },
   "outputs": [
    {
     "data": {
      "text/plain": [
       "dict_keys(['pdf_text', 'image', 'page'])"
      ]
     },
     "execution_count": 46,
     "metadata": {},
     "output_type": "execute_result"
    }
   ],
   "source": [
    "pg = doc[0]\n",
    "extracted = extract_pdf_data_from_page(pg)\n",
    "extracted.keys()"
   ]
  },
  {
   "cell_type": "code",
   "execution_count": 47,
   "id": "54668a29-4383-4d71-aaf7-bf030766fede",
   "metadata": {
    "tags": []
   },
   "outputs": [
    {
     "data": {
      "text/html": [
       "<div>\n",
       "<style scoped>\n",
       "    .dataframe tbody tr th:only-of-type {\n",
       "        vertical-align: middle;\n",
       "    }\n",
       "\n",
       "    .dataframe tbody tr th {\n",
       "        vertical-align: top;\n",
       "    }\n",
       "\n",
       "    .dataframe thead th {\n",
       "        text-align: right;\n",
       "    }\n",
       "</style>\n",
       "<table border=\"1\" class=\"dataframe\">\n",
       "  <thead>\n",
       "    <tr style=\"text-align: right;\">\n",
       "      <th></th>\n",
       "      <th>top_left_x_pdf</th>\n",
       "      <th>top_left_y_pdf</th>\n",
       "      <th>bottom_right_x_pdf</th>\n",
       "      <th>bottom_right_y_pdf</th>\n",
       "      <th>text</th>\n",
       "      <th>block_num</th>\n",
       "      <th>line_num</th>\n",
       "      <th>word_num</th>\n",
       "      <th>page_num</th>\n",
       "    </tr>\n",
       "  </thead>\n",
       "  <tbody>\n",
       "    <tr>\n",
       "      <th>0</th>\n",
       "      <td>541.077881</td>\n",
       "      <td>27.276495</td>\n",
       "      <td>558.897766</td>\n",
       "      <td>35.067120</td>\n",
       "      <td>Exhibit</td>\n",
       "      <td>0</td>\n",
       "      <td>0</td>\n",
       "      <td>0</td>\n",
       "      <td>0</td>\n",
       "    </tr>\n",
       "    <tr>\n",
       "      <th>1</th>\n",
       "      <td>560.304016</td>\n",
       "      <td>27.276495</td>\n",
       "      <td>565.929016</td>\n",
       "      <td>35.067120</td>\n",
       "      <td>21</td>\n",
       "      <td>0</td>\n",
       "      <td>0</td>\n",
       "      <td>1</td>\n",
       "      <td>0</td>\n",
       "    </tr>\n",
       "    <tr>\n",
       "      <th>2</th>\n",
       "      <td>29.346460</td>\n",
       "      <td>49.526493</td>\n",
       "      <td>58.095837</td>\n",
       "      <td>57.317120</td>\n",
       "      <td>Partnership</td>\n",
       "      <td>1</td>\n",
       "      <td>0</td>\n",
       "      <td>0</td>\n",
       "      <td>0</td>\n",
       "    </tr>\n",
       "    <tr>\n",
       "      <th>3</th>\n",
       "      <td>59.502087</td>\n",
       "      <td>49.526493</td>\n",
       "      <td>88.887093</td>\n",
       "      <td>57.317120</td>\n",
       "      <td>Subsidiaries</td>\n",
       "      <td>1</td>\n",
       "      <td>0</td>\n",
       "      <td>1</td>\n",
       "      <td>0</td>\n",
       "    </tr>\n",
       "    <tr>\n",
       "      <th>4</th>\n",
       "      <td>29.346460</td>\n",
       "      <td>67.265244</td>\n",
       "      <td>39.347710</td>\n",
       "      <td>74.768997</td>\n",
       "      <td>A.P.</td>\n",
       "      <td>2</td>\n",
       "      <td>0</td>\n",
       "      <td>0</td>\n",
       "      <td>0</td>\n",
       "    </tr>\n",
       "    <tr>\n",
       "      <th>...</th>\n",
       "      <td>...</td>\n",
       "      <td>...</td>\n",
       "      <td>...</td>\n",
       "      <td>...</td>\n",
       "      <td>...</td>\n",
       "      <td>...</td>\n",
       "      <td>...</td>\n",
       "      <td>...</td>\n",
       "      <td>...</td>\n",
       "    </tr>\n",
       "    <tr>\n",
       "      <th>87</th>\n",
       "      <td>29.346460</td>\n",
       "      <td>423.265228</td>\n",
       "      <td>44.657711</td>\n",
       "      <td>430.768982</td>\n",
       "      <td>TG&amp;E</td>\n",
       "      <td>18</td>\n",
       "      <td>0</td>\n",
       "      <td>0</td>\n",
       "      <td>0</td>\n",
       "    </tr>\n",
       "    <tr>\n",
       "      <th>88</th>\n",
       "      <td>46.063961</td>\n",
       "      <td>423.265228</td>\n",
       "      <td>62.933338</td>\n",
       "      <td>430.768982</td>\n",
       "      <td>Service</td>\n",
       "      <td>18</td>\n",
       "      <td>0</td>\n",
       "      <td>1</td>\n",
       "      <td>0</td>\n",
       "    </tr>\n",
       "    <tr>\n",
       "      <th>89</th>\n",
       "      <td>64.339584</td>\n",
       "      <td>423.265228</td>\n",
       "      <td>87.621468</td>\n",
       "      <td>430.768982</td>\n",
       "      <td>Company,</td>\n",
       "      <td>18</td>\n",
       "      <td>0</td>\n",
       "      <td>2</td>\n",
       "      <td>0</td>\n",
       "    </tr>\n",
       "    <tr>\n",
       "      <th>90</th>\n",
       "      <td>89.027718</td>\n",
       "      <td>423.265228</td>\n",
       "      <td>97.617088</td>\n",
       "      <td>430.768982</td>\n",
       "      <td>Inc.</td>\n",
       "      <td>18</td>\n",
       "      <td>0</td>\n",
       "      <td>3</td>\n",
       "      <td>0</td>\n",
       "    </tr>\n",
       "    <tr>\n",
       "      <th>91</th>\n",
       "      <td>103.242088</td>\n",
       "      <td>423.265228</td>\n",
       "      <td>119.492714</td>\n",
       "      <td>430.768982</td>\n",
       "      <td>Florida</td>\n",
       "      <td>18</td>\n",
       "      <td>0</td>\n",
       "      <td>4</td>\n",
       "      <td>0</td>\n",
       "    </tr>\n",
       "  </tbody>\n",
       "</table>\n",
       "<p>92 rows × 9 columns</p>\n",
       "</div>"
      ],
      "text/plain": [
       "    top_left_x_pdf  top_left_y_pdf  bottom_right_x_pdf  bottom_right_y_pdf  \\\n",
       "0       541.077881       27.276495          558.897766           35.067120   \n",
       "1       560.304016       27.276495          565.929016           35.067120   \n",
       "2        29.346460       49.526493           58.095837           57.317120   \n",
       "3        59.502087       49.526493           88.887093           57.317120   \n",
       "4        29.346460       67.265244           39.347710           74.768997   \n",
       "..             ...             ...                 ...                 ...   \n",
       "87       29.346460      423.265228           44.657711          430.768982   \n",
       "88       46.063961      423.265228           62.933338          430.768982   \n",
       "89       64.339584      423.265228           87.621468          430.768982   \n",
       "90       89.027718      423.265228           97.617088          430.768982   \n",
       "91      103.242088      423.265228          119.492714          430.768982   \n",
       "\n",
       "            text  block_num  line_num  word_num  page_num  \n",
       "0        Exhibit          0         0         0         0  \n",
       "1             21          0         0         1         0  \n",
       "2    Partnership          1         0         0         0  \n",
       "3   Subsidiaries          1         0         1         0  \n",
       "4           A.P.          2         0         0         0  \n",
       "..           ...        ...       ...       ...       ...  \n",
       "87          TG&E         18         0         0         0  \n",
       "88       Service         18         0         1         0  \n",
       "89      Company,         18         0         2         0  \n",
       "90          Inc.         18         0         3         0  \n",
       "91       Florida         18         0         4         0  \n",
       "\n",
       "[92 rows x 9 columns]"
      ]
     },
     "execution_count": 47,
     "metadata": {},
     "output_type": "execute_result"
    }
   ],
   "source": [
    "text = extracted[\"pdf_text\"]\n",
    "text"
   ]
  },
  {
   "cell_type": "code",
   "execution_count": 41,
   "id": "e41f937f-0a39-43b5-acfb-ecc098e2a32d",
   "metadata": {
    "tags": []
   },
   "outputs": [
    {
     "data": {
      "text/plain": [
       "'—'"
      ]
     },
     "execution_count": 41,
     "metadata": {},
     "output_type": "execute_result"
    }
   ],
   "source": [
    "text.iloc[74].text[4]"
   ]
  },
  {
   "cell_type": "markdown",
   "id": "424c0e1a-1809-40bd-a2f4-0783fb90a2ae",
   "metadata": {},
   "source": [
    "Go from string, to ASCII decimal, to hex"
   ]
  },
  {
   "cell_type": "code",
   "execution_count": 42,
   "id": "23841eec-645b-4357-8eb0-2e79e1ff7c63",
   "metadata": {
    "tags": []
   },
   "outputs": [
    {
     "data": {
      "text/plain": [
       "8212"
      ]
     },
     "execution_count": 42,
     "metadata": {},
     "output_type": "execute_result"
    }
   ],
   "source": [
    "ord(text.iloc[74].text[4])"
   ]
  },
  {
   "cell_type": "code",
   "execution_count": 33,
   "id": "aec0a987-6922-427c-b477-d8eeab276e2c",
   "metadata": {
    "tags": []
   },
   "outputs": [
    {
     "data": {
      "text/plain": [
       "38"
      ]
     },
     "execution_count": 33,
     "metadata": {},
     "output_type": "execute_result"
    }
   ],
   "source": [
    "ord(\"&\")"
   ]
  },
  {
   "cell_type": "code",
   "execution_count": 28,
   "id": "d56f482d-35e1-43bb-b0b5-0980785f5063",
   "metadata": {
    "tags": []
   },
   "outputs": [
    {
     "name": "stdout",
     "output_type": "stream",
     "text": [
      "&\n"
     ]
    }
   ],
   "source": [
    "print(chr(0x26))"
   ]
  },
  {
   "cell_type": "code",
   "execution_count": 7,
   "id": "532b18f4-656a-4edb-a8fb-f117781ea9e6",
   "metadata": {
    "tags": []
   },
   "outputs": [
    {
     "name": "stdout",
     "output_type": "stream",
     "text": [
      "\n"
     ]
    }
   ],
   "source": [
    "print(chr(151))"
   ]
  },
  {
   "cell_type": "code",
   "execution_count": 8,
   "id": "48615759-2cc7-4d25-bd7a-af59d4b4c792",
   "metadata": {
    "tags": []
   },
   "outputs": [
    {
     "data": {
      "text/plain": [
       "'\\x97'"
      ]
     },
     "execution_count": 8,
     "metadata": {},
     "output_type": "execute_result"
    }
   ],
   "source": [
    "chr(151)"
   ]
  },
  {
   "cell_type": "code",
   "execution_count": 10,
   "id": "3f6b2c7c-f8b0-4ef7-98c0-fdd1dcc2b600",
   "metadata": {
    "tags": []
   },
   "outputs": [
    {
     "data": {
      "text/plain": [
       "'0x97'"
      ]
     },
     "execution_count": 10,
     "metadata": {},
     "output_type": "execute_result"
    }
   ],
   "source": [
    "hex(151)"
   ]
  }
 ],
 "metadata": {
  "kernelspec": {
   "display_name": "mozilla-sec-eia",
   "language": "python",
   "name": "mozilla-sec-eia"
  },
  "language_info": {
   "codemirror_mode": {
    "name": "ipython",
    "version": 3
   },
   "file_extension": ".py",
   "mimetype": "text/x-python",
   "name": "python",
   "nbconvert_exporter": "python",
   "pygments_lexer": "ipython3",
   "version": "3.11.9"
  }
 },
 "nbformat": 4,
 "nbformat_minor": 5
}
