{
 "cells": [
  {
   "cell_type": "markdown",
   "id": "54c18b3f-056f-4705-96ed-b140c3c331de",
   "metadata": {},
   "source": [
    "# Compare an Ex. 21 extracted table to a validation table"
   ]
  },
  {
   "cell_type": "code",
   "execution_count": 1,
   "id": "032a899f-4212-4a73-b760-8831eff7697d",
   "metadata": {},
   "outputs": [],
   "source": [
    "%load_ext autoreload\n",
    "%autoreload 3"
   ]
  },
  {
   "cell_type": "code",
   "execution_count": 31,
   "id": "460a4896-3d80-46d6-977b-3728ef382efd",
   "metadata": {
    "tags": []
   },
   "outputs": [
    {
     "data": {
      "text/plain": [
       "True"
      ]
     },
     "execution_count": 31,
     "metadata": {},
     "output_type": "execute_result"
    }
   ],
   "source": [
    "import pandas as pd\n",
    "from pathlib import Path\n",
    "\n",
    "from mozilla_sec_eia.models.sec10k import defs\n",
    "from mozilla_sec_eia.models.sec10k.utils.layoutlm import _load_pretrained_layoutlm\n",
    "from mozilla_sec_eia.models.sec10k.ex_21.inference import create_inference_dataset\n",
    "from mozilla_sec_eia.models.sec10k.utils.cloud import GCSArchive\n",
    "from mozilla_sec_eia.models.sec10k.ex_21 import Exhibit21Extractor\n",
    "from mozilla_sec_eia.models.sec10k.ex_21.inference import extract_filings\n",
    "from mozilla_sec_eia.models.sec10k.ex_21.ex21_validation_helpers import (\n",
    "    clean_ex21_validation_set,\n",
    ")\n",
    "from mozilla_sec_eia.library.mlflow.mlflow_resource import _configure_mlflow\n",
    "from dotenv import load_dotenv\n",
    "load_dotenv()"
   ]
  },
  {
   "cell_type": "code",
   "execution_count": 135,
   "id": "589c520f-667a-405c-8800-833cd2dea4ed",
   "metadata": {
    "tags": []
   },
   "outputs": [],
   "source": [
    "layout_hist = pd.read_csv(\"validation_layout_histogram.csv\")"
   ]
  },
  {
   "cell_type": "code",
   "execution_count": 132,
   "id": "fa087d5e-a7bd-4c60-8741-7f9077d8f568",
   "metadata": {
    "tags": []
   },
   "outputs": [
    {
     "data": {
      "text/plain": [
       "Layout Type\n",
       "Generic Table                             27\n",
       "Paragraph                                 12\n",
       "List with Indented Nested Subsidiaries    10\n",
       "Subsidiary List                            9\n",
       "List with Sentences                        5\n",
       "Blue & White Table (2 Column)              5\n",
       "Blue & White Table (3 Column)              3\n",
       "Table with 2 Subsidiary Name Columns       1\n",
       "Name: count, dtype: int64"
      ]
     },
     "execution_count": 132,
     "metadata": {},
     "output_type": "execute_result"
    }
   ],
   "source": [
    "layout_hist[\"Layout Type\"].value_counts()"
   ]
  },
  {
   "cell_type": "code",
   "execution_count": 147,
   "id": "c2cd6f5f-84a6-4716-89db-bcd7fbe93e9b",
   "metadata": {
    "tags": []
   },
   "outputs": [],
   "source": [
    "layout_hist.loc[:, \"full_filename\"] = \"edgar/data/\" + layout_hist[\"Filename\"].str.split(\"-\", expand=True)[0] + \"/\" + layout_hist[\"Filename\"].str.split(\"-\", expand=True, n=1)[1] + \".txt\""
   ]
  },
  {
   "cell_type": "code",
   "execution_count": 830,
   "id": "545549df-4b16-4152-b4e4-a3cb665f093f",
   "metadata": {
    "tags": []
   },
   "outputs": [],
   "source": [
    "validation_df = pd.read_csv(\"../src/mozilla_sec_eia/package_data/validation_data/ex21_labels.csv\")"
   ]
  },
  {
   "cell_type": "code",
   "execution_count": 331,
   "id": "a62cc71c-8983-4fb3-b997-01767ceeb9e4",
   "metadata": {
    "tags": []
   },
   "outputs": [],
   "source": [
    "archive = GCSArchive()\n",
    "md = archive.get_metadata()"
   ]
  },
  {
   "cell_type": "code",
   "execution_count": 824,
   "id": "4fa23b07-20af-4b6f-a0c4-a9ea8f51edcd",
   "metadata": {
    "tags": []
   },
   "outputs": [],
   "source": [
    "df = pd.read_parquet(\"gs://mlflow-artifacts-mozilla/8/f8ad133ee4cb48f5883452e558d97d21/artifacts/ex21_company_ownership_info_validation.parquet\")"
   ]
  },
  {
   "cell_type": "code",
   "execution_count": 825,
   "id": "cae4b175-74f4-4d61-bea6-2e4605f4dc30",
   "metadata": {
    "tags": []
   },
   "outputs": [],
   "source": [
    "incorrect_df = pd.read_parquet(\"gs://mlflow-artifacts-mozilla/8/f8ad133ee4cb48f5883452e558d97d21/artifacts/ex21_incorrect_filenames.parquet\")"
   ]
  },
  {
   "cell_type": "code",
   "execution_count": 826,
   "id": "ba91ea26-d2a2-4696-9ffd-38f83fefe636",
   "metadata": {
    "tags": []
   },
   "outputs": [],
   "source": [
    "validation_md = pd.read_parquet(\"gs://mlflow-artifacts-mozilla/8/f8ad133ee4cb48f5883452e558d97d21/artifacts/ex21_extraction_metadata_validation.parquet\")"
   ]
  },
  {
   "cell_type": "code",
   "execution_count": 827,
   "id": "bdd7930f-d0e4-4ea2-9241-f9d7e05d7c83",
   "metadata": {
    "tags": []
   },
   "outputs": [],
   "source": [
    "jaccard_df = pd.read_parquet(\"gs://mlflow-artifacts-mozilla/8/f8ad133ee4cb48f5883452e558d97d21/artifacts/ex21_jaccard_per_table.parquet\")"
   ]
  },
  {
   "cell_type": "code",
   "execution_count": 828,
   "id": "527c53ea-3ccc-40b3-a0d6-f15bd7835669",
   "metadata": {
    "tags": []
   },
   "outputs": [
    {
     "name": "stdout",
     "output_type": "stream",
     "text": [
      "60\n"
     ]
    },
    {
     "data": {
      "text/plain": [
       "Layout Type\n",
       "Blue & White Table (2 Column)             0.200000\n",
       "Blue & White Table (3 Column)             0.333333\n",
       "Generic Table                             0.370370\n",
       "List with Indented Nested Subsidiaries    0.500000\n",
       "List with Sentences                       0.600000\n",
       "Subsidiary List                           0.444444\n",
       "Table with 2 Subsidiary Name Columns      1.000000\n",
       "Name: count, dtype: float64"
      ]
     },
     "execution_count": 828,
     "metadata": {},
     "output_type": "execute_result"
    }
   ],
   "source": [
    "hist = layout_hist[layout_hist.full_filename.isin(validation_md.reset_index(names=\"filename\")[\"filename\"])]\n",
    "print(len(hist))\n",
    "incorrect_df.merge(\n",
    "    hist[[\"Filename\", \"Layout Type\"]],\n",
    "    left_on=\"filename\",\n",
    "    right_on=\"Filename\"\n",
    ")[\"Layout Type\"].value_counts()/hist[\"Layout Type\"].value_counts()"
   ]
  },
  {
   "cell_type": "code",
   "execution_count": 829,
   "id": "cad0a246-849e-4430-933d-201d74195947",
   "metadata": {
    "tags": []
   },
   "outputs": [
    {
     "data": {
      "text/plain": [
       "Layout Type\n",
       "Blue & White Table (2 Column)             1.000000\n",
       "Blue & White Table (3 Column)             0.923077\n",
       "Generic Table                             0.957857\n",
       "List with Indented Nested Subsidiaries    0.947781\n",
       "List with Sentences                       0.750000\n",
       "Subsidiary List                           0.832634\n",
       "Table with 2 Subsidiary Name Columns      1.000000\n",
       "Name: subsidiary, dtype: float64"
      ]
     },
     "execution_count": 829,
     "metadata": {},
     "output_type": "execute_result"
    }
   ],
   "source": [
    "hist = layout_hist[layout_hist.full_filename.isin(validation_md.reset_index(names=\"filename\")[\"filename\"])]\n",
    "jaccard_df.merge(hist, how=\"left\", left_on=\"index\", right_on=\"Filename\").groupby(\"Layout Type\")[\"subsidiary\"].mean()"
   ]
  },
  {
   "cell_type": "code",
   "execution_count": 956,
   "id": "d34cea9d-2886-49c3-bde9-0c7bfe2ffb1e",
   "metadata": {
    "tags": []
   },
   "outputs": [],
   "source": [
    "filename = incorrect_df.iloc[0].filename"
   ]
  },
  {
   "cell_type": "code",
   "execution_count": 957,
   "id": "b9042daa-9902-4fe1-9908-c8420c0b3156",
   "metadata": {
    "tags": []
   },
   "outputs": [
    {
     "data": {
      "text/plain": [
       "'61339-0001161728-17-000004'"
      ]
     },
     "execution_count": 957,
     "metadata": {},
     "output_type": "execute_result"
    }
   ],
   "source": [
    "filename"
   ]
  },
  {
   "cell_type": "code",
   "execution_count": 958,
   "id": "95cd6cdb-0245-4f94-97e3-4c90cd1ad078",
   "metadata": {
    "tags": []
   },
   "outputs": [
    {
     "name": "stderr",
     "output_type": "stream",
     "text": [
      "/Users/katielamb/CatalystCoop/mozilla-sec-eia/src/mozilla_sec_eia/models/sec10k/ex_21/inference.py:146: FutureWarning: Downcasting behavior in `replace` is deprecated and will be removed in a future version. To retain the old behavior, explicitly call `result.infer_objects(copy=False)`. To opt-in to the future behavior, set `pd.set_option('future.no_silent_downcasting', True)`\n",
      "  extracted_df[\"own_per\"] = extracted_df[\"own_per\"].replace(\"\", np.nan)\n"
     ]
    }
   ],
   "source": [
    "validation_table = clean_ex21_validation_set(validation_df[validation_df[\"Filename\"] == filename])"
   ]
  },
  {
   "cell_type": "code",
   "execution_count": 959,
   "id": "a6371721-eb9b-4fb0-9ca0-99b33099406e",
   "metadata": {
    "tags": []
   },
   "outputs": [
    {
     "data": {
      "text/html": [
       "<div>\n",
       "<style scoped>\n",
       "    .dataframe tbody tr th:only-of-type {\n",
       "        vertical-align: middle;\n",
       "    }\n",
       "\n",
       "    .dataframe tbody tr th {\n",
       "        vertical-align: top;\n",
       "    }\n",
       "\n",
       "    .dataframe thead th {\n",
       "        text-align: right;\n",
       "    }\n",
       "</style>\n",
       "<table border=\"1\" class=\"dataframe\">\n",
       "  <thead>\n",
       "    <tr style=\"text-align: right;\">\n",
       "      <th></th>\n",
       "      <th>id</th>\n",
       "      <th>subsidiary</th>\n",
       "      <th>loc</th>\n",
       "      <th>own_per</th>\n",
       "      <th>filename</th>\n",
       "    </tr>\n",
       "  </thead>\n",
       "  <tbody>\n",
       "    <tr>\n",
       "      <th>126</th>\n",
       "      <td>61339-0001161728-17-000004</td>\n",
       "      <td>madison gas and electric company</td>\n",
       "      <td>NaN</td>\n",
       "      <td>NaN</td>\n",
       "      <td>edgar/data/61339/0001161728-17-000004.txt</td>\n",
       "    </tr>\n",
       "  </tbody>\n",
       "</table>\n",
       "</div>"
      ],
      "text/plain": [
       "                             id                        subsidiary  loc  \\\n",
       "126  61339-0001161728-17-000004  madison gas and electric company  NaN   \n",
       "\n",
       "     own_per                                   filename  \n",
       "126      NaN  edgar/data/61339/0001161728-17-000004.txt  "
      ]
     },
     "execution_count": 959,
     "metadata": {},
     "output_type": "execute_result"
    }
   ],
   "source": [
    "validation_table.head(1)"
   ]
  },
  {
   "cell_type": "code",
   "execution_count": 960,
   "id": "0ea58cf0-96b9-4e66-8acf-ecc65d4b0585",
   "metadata": {
    "tags": []
   },
   "outputs": [],
   "source": [
    "extracted_table = df[df.id == filename]"
   ]
  },
  {
   "cell_type": "code",
   "execution_count": 948,
   "id": "663047e1-2afa-42c3-b1c7-8775ef0d08c1",
   "metadata": {
    "tags": []
   },
   "outputs": [
    {
     "data": {
      "text/html": [
       "<div>\n",
       "<style scoped>\n",
       "    .dataframe tbody tr th:only-of-type {\n",
       "        vertical-align: middle;\n",
       "    }\n",
       "\n",
       "    .dataframe tbody tr th {\n",
       "        vertical-align: top;\n",
       "    }\n",
       "\n",
       "    .dataframe thead th {\n",
       "        text-align: right;\n",
       "    }\n",
       "</style>\n",
       "<table border=\"1\" class=\"dataframe\">\n",
       "  <thead>\n",
       "    <tr style=\"text-align: right;\">\n",
       "      <th></th>\n",
       "      <th>id</th>\n",
       "      <th>subsidiary</th>\n",
       "      <th>loc</th>\n",
       "      <th>own_per</th>\n",
       "      <th>filename</th>\n",
       "    </tr>\n",
       "  </thead>\n",
       "  <tbody>\n",
       "    <tr>\n",
       "      <th>2343</th>\n",
       "      <td>891014-0000891014-11-000007</td>\n",
       "      <td>app china specialty minerals pte ltd</td>\n",
       "      <td>singapore</td>\n",
       "      <td>NaN</td>\n",
       "      <td>edgar/data/891014/0000891014-11-000007.txt</td>\n",
       "    </tr>\n",
       "    <tr>\n",
       "      <th>2344</th>\n",
       "      <td>891014-0000891014-11-000007</td>\n",
       "      <td>asmas agir sanayi malzemeleri imal ve tic. a.s</td>\n",
       "      <td>turkey</td>\n",
       "      <td>NaN</td>\n",
       "      <td>edgar/data/891014/0000891014-11-000007.txt</td>\n",
       "    </tr>\n",
       "    <tr>\n",
       "      <th>2345</th>\n",
       "      <td>891014-0000891014-11-000007</td>\n",
       "      <td>barretts minerals inc</td>\n",
       "      <td>delaware</td>\n",
       "      <td>NaN</td>\n",
       "      <td>edgar/data/891014/0000891014-11-000007.txt</td>\n",
       "    </tr>\n",
       "    <tr>\n",
       "      <th>2347</th>\n",
       "      <td>891014-0000891014-11-000007</td>\n",
       "      <td>gold lun chemicals (zhenjiang</td>\n",
       "      <td>china</td>\n",
       "      <td>NaN</td>\n",
       "      <td>edgar/data/891014/0000891014-11-000007.txt</td>\n",
       "    </tr>\n",
       "    <tr>\n",
       "      <th>2348</th>\n",
       "      <td>891014-0000891014-11-000007</td>\n",
       "      <td>gold sheng chemicals (zhenjiang) co., ltd</td>\n",
       "      <td>china</td>\n",
       "      <td>NaN</td>\n",
       "      <td>edgar/data/891014/0000891014-11-000007.txt</td>\n",
       "    </tr>\n",
       "    <tr>\n",
       "      <th>...</th>\n",
       "      <td>...</td>\n",
       "      <td>...</td>\n",
       "      <td>...</td>\n",
       "      <td>...</td>\n",
       "      <td>...</td>\n",
       "    </tr>\n",
       "    <tr>\n",
       "      <th>1409</th>\n",
       "      <td>891014-0000891014-11-000007</td>\n",
       "      <td>sr.o. specialty minerals south africa (pty</td>\n",
       "      <td>south africa</td>\n",
       "      <td>NaN</td>\n",
       "      <td>NaN</td>\n",
       "    </tr>\n",
       "    <tr>\n",
       "      <th>1410</th>\n",
       "      <td>891014-0000891014-11-000007</td>\n",
       "      <td>limited specialty minerals (thailand</td>\n",
       "      <td>thailand</td>\n",
       "      <td>NaN</td>\n",
       "      <td>NaN</td>\n",
       "    </tr>\n",
       "    <tr>\n",
       "      <th>1411</th>\n",
       "      <td>891014-0000891014-11-000007</td>\n",
       "      <td>limited specialty minerals uk limited</td>\n",
       "      <td>united kingdom</td>\n",
       "      <td>NaN</td>\n",
       "      <td>NaN</td>\n",
       "    </tr>\n",
       "    <tr>\n",
       "      <th>1412</th>\n",
       "      <td>891014-0000891014-11-000007</td>\n",
       "      <td>tecnologias minerales de mexico, s.a. de</td>\n",
       "      <td>mexico</td>\n",
       "      <td>NaN</td>\n",
       "      <td>NaN</td>\n",
       "    </tr>\n",
       "    <tr>\n",
       "      <th>1413</th>\n",
       "      <td>891014-0000891014-11-000007</td>\n",
       "      <td>c.v. yangpu gold hongda chemicals co</td>\n",
       "      <td>china</td>\n",
       "      <td>NaN</td>\n",
       "      <td>NaN</td>\n",
       "    </tr>\n",
       "  </tbody>\n",
       "</table>\n",
       "<p>90 rows × 5 columns</p>\n",
       "</div>"
      ],
      "text/plain": [
       "                               id  \\\n",
       "2343  891014-0000891014-11-000007   \n",
       "2344  891014-0000891014-11-000007   \n",
       "2345  891014-0000891014-11-000007   \n",
       "2347  891014-0000891014-11-000007   \n",
       "2348  891014-0000891014-11-000007   \n",
       "...                           ...   \n",
       "1409  891014-0000891014-11-000007   \n",
       "1410  891014-0000891014-11-000007   \n",
       "1411  891014-0000891014-11-000007   \n",
       "1412  891014-0000891014-11-000007   \n",
       "1413  891014-0000891014-11-000007   \n",
       "\n",
       "                                          subsidiary             loc  own_per  \\\n",
       "2343            app china specialty minerals pte ltd       singapore      NaN   \n",
       "2344  asmas agir sanayi malzemeleri imal ve tic. a.s          turkey      NaN   \n",
       "2345                           barretts minerals inc        delaware      NaN   \n",
       "2347                   gold lun chemicals (zhenjiang           china      NaN   \n",
       "2348       gold sheng chemicals (zhenjiang) co., ltd           china      NaN   \n",
       "...                                              ...             ...      ...   \n",
       "1409      sr.o. specialty minerals south africa (pty    south africa      NaN   \n",
       "1410            limited specialty minerals (thailand        thailand      NaN   \n",
       "1411           limited specialty minerals uk limited  united kingdom      NaN   \n",
       "1412        tecnologias minerales de mexico, s.a. de          mexico      NaN   \n",
       "1413            c.v. yangpu gold hongda chemicals co           china      NaN   \n",
       "\n",
       "                                        filename  \n",
       "2343  edgar/data/891014/0000891014-11-000007.txt  \n",
       "2344  edgar/data/891014/0000891014-11-000007.txt  \n",
       "2345  edgar/data/891014/0000891014-11-000007.txt  \n",
       "2347  edgar/data/891014/0000891014-11-000007.txt  \n",
       "2348  edgar/data/891014/0000891014-11-000007.txt  \n",
       "...                                          ...  \n",
       "1409                                         NaN  \n",
       "1410                                         NaN  \n",
       "1411                                         NaN  \n",
       "1412                                         NaN  \n",
       "1413                                         NaN  \n",
       "\n",
       "[90 rows x 5 columns]"
      ]
     },
     "execution_count": 948,
     "metadata": {},
     "output_type": "execute_result"
    }
   ],
   "source": [
    "pd.concat([validation_table, extracted_table]).drop_duplicates(subset=[\"subsidiary\", \"loc\", \"own_per\"], keep=False)"
   ]
  },
  {
   "cell_type": "code",
   "execution_count": 912,
   "id": "d6d34f93-aa87-474d-ba82-758b1695dcad",
   "metadata": {
    "tags": []
   },
   "outputs": [],
   "source": [
    "filing = archive.get_filings(md.loc[[\"edgar/data/56679/0001193125-16-634657.txt\"]].reset_index(), cache_directory=Path(\"../sec10k_filings/\", cache_pdf=True))"
   ]
  },
  {
   "cell_type": "markdown",
   "id": "94e35a69-fc4d-429c-9cbb-d103f63774ca",
   "metadata": {},
   "source": [
    "## See what the entities labels are for the extracted doc"
   ]
  },
  {
   "cell_type": "code",
   "execution_count": 28,
   "id": "147e4a35-8c81-4131-bf22-0149b564111b",
   "metadata": {
    "tags": []
   },
   "outputs": [],
   "source": [
    "from dotenv import dotenv_values\n",
    "values = dotenv_values()"
   ]
  },
  {
   "cell_type": "code",
   "execution_count": 29,
   "id": "15fdfe28-fd9a-4bf4-ade5-e8403b655d6d",
   "metadata": {
    "tags": []
   },
   "outputs": [],
   "source": [
    "_configure_mlflow(values[\"MLFLOW_TRACKING_URI\"], values[\"GCS_PROJECT\"])"
   ]
  },
  {
   "cell_type": "code",
   "execution_count": 67,
   "id": "557f5a38-944e-4b3d-9f3b-e50bde2e175b",
   "metadata": {
    "tags": []
   },
   "outputs": [],
   "source": [
    "cache_path = \"/Users/katielamb/CatalystCoop/dagster_home/model_cache/layoutlm\""
   ]
  },
  {
   "cell_type": "code",
   "execution_count": null,
   "id": "ffeb905a-45e7-48b1-90dd-71538af015de",
   "metadata": {
    "tags": []
   },
   "outputs": [],
   "source": [
    "model = _load_pretrained_layoutlm(cache_path)"
   ]
  },
  {
   "cell_type": "code",
   "execution_count": 36,
   "id": "5195719d-f786-47b7-82b2-87b5b1c327dc",
   "metadata": {
    "tags": []
   },
   "outputs": [],
   "source": [
    "archive = GCSArchive()\n",
    "md = archive.get_metadata()"
   ]
  },
  {
   "cell_type": "code",
   "execution_count": 46,
   "id": "41f345ac-4bde-46aa-8a0d-0a7a32279c85",
   "metadata": {
    "tags": []
   },
   "outputs": [],
   "source": [
    "tracking_df = pd.read_csv(\"../labeled_data_tracking.csv\", dtype={\"CIK\": str}, comment=\"#\")"
   ]
  },
  {
   "cell_type": "code",
   "execution_count": 47,
   "id": "167a8a29-96f7-434d-86e5-a11eba496221",
   "metadata": {
    "tags": []
   },
   "outputs": [
    {
     "data": {
      "text/html": [
       "<div>\n",
       "<style scoped>\n",
       "    .dataframe tbody tr th:only-of-type {\n",
       "        vertical-align: middle;\n",
       "    }\n",
       "\n",
       "    .dataframe tbody tr th {\n",
       "        vertical-align: top;\n",
       "    }\n",
       "\n",
       "    .dataframe thead th {\n",
       "        text-align: right;\n",
       "    }\n",
       "</style>\n",
       "<table border=\"1\" class=\"dataframe\">\n",
       "  <thead>\n",
       "    <tr style=\"text-align: right;\">\n",
       "      <th></th>\n",
       "      <th>Unnamed: 0</th>\n",
       "      <th>CIK</th>\n",
       "      <th>Filename</th>\n",
       "      <th>Initials</th>\n",
       "      <th>Notes</th>\n",
       "    </tr>\n",
       "  </thead>\n",
       "  <tbody>\n",
       "    <tr>\n",
       "      <th>0</th>\n",
       "      <td>1</td>\n",
       "      <td>354707</td>\n",
       "      <td>edgar/data/354707/0000354707-19-000043.txt</td>\n",
       "      <td>KL</td>\n",
       "      <td>NaN</td>\n",
       "    </tr>\n",
       "    <tr>\n",
       "      <th>1</th>\n",
       "      <td>2</td>\n",
       "      <td>61339</td>\n",
       "      <td>edgar/data/61339/0001161728-17-000004.txt</td>\n",
       "      <td>KL</td>\n",
       "      <td>NaN</td>\n",
       "    </tr>\n",
       "    <tr>\n",
       "      <th>2</th>\n",
       "      <td>3</td>\n",
       "      <td>1317577</td>\n",
       "      <td>edgar/data/1317577/0001193125-13-356794.txt</td>\n",
       "      <td>KL</td>\n",
       "      <td>NaN</td>\n",
       "    </tr>\n",
       "    <tr>\n",
       "      <th>3</th>\n",
       "      <td>4</td>\n",
       "      <td>59527</td>\n",
       "      <td>edgar/data/59527/0000059527-20-000007.txt</td>\n",
       "      <td>KL</td>\n",
       "      <td>NaN</td>\n",
       "    </tr>\n",
       "    <tr>\n",
       "      <th>4</th>\n",
       "      <td>5</td>\n",
       "      <td>40545</td>\n",
       "      <td>edgar/data/40545/0000040545-04-000013.txt</td>\n",
       "      <td>KL</td>\n",
       "      <td>NaN</td>\n",
       "    </tr>\n",
       "    <tr>\n",
       "      <th>...</th>\n",
       "      <td>...</td>\n",
       "      <td>...</td>\n",
       "      <td>...</td>\n",
       "      <td>...</td>\n",
       "      <td>...</td>\n",
       "    </tr>\n",
       "    <tr>\n",
       "      <th>155</th>\n",
       "      <td>159</td>\n",
       "      <td>1555177</td>\n",
       "      <td>edgar/data/1555177/0001555177-17-000011.txt</td>\n",
       "      <td>KL</td>\n",
       "      <td>NaN</td>\n",
       "    </tr>\n",
       "    <tr>\n",
       "      <th>156</th>\n",
       "      <td>160</td>\n",
       "      <td>1142129</td>\n",
       "      <td>edgar/data/1142129/0001493152-17-005793.txt</td>\n",
       "      <td>KL</td>\n",
       "      <td>NaN</td>\n",
       "    </tr>\n",
       "    <tr>\n",
       "      <th>157</th>\n",
       "      <td>161</td>\n",
       "      <td>1059025</td>\n",
       "      <td>edgar/data/1059025/0000934665-99-000002.txt</td>\n",
       "      <td>KL</td>\n",
       "      <td>NaN</td>\n",
       "    </tr>\n",
       "    <tr>\n",
       "      <th>158</th>\n",
       "      <td>162</td>\n",
       "      <td>318996</td>\n",
       "      <td>edgar/data/318996/0000318996-18-000007.txt</td>\n",
       "      <td>KL</td>\n",
       "      <td>NaN</td>\n",
       "    </tr>\n",
       "    <tr>\n",
       "      <th>159</th>\n",
       "      <td>163</td>\n",
       "      <td>350563</td>\n",
       "      <td>edgar/data/350563/0001193125-12-078254.txt</td>\n",
       "      <td>KL</td>\n",
       "      <td>NaN</td>\n",
       "    </tr>\n",
       "  </tbody>\n",
       "</table>\n",
       "<p>160 rows × 5 columns</p>\n",
       "</div>"
      ],
      "text/plain": [
       "     Unnamed: 0      CIK                                     Filename  \\\n",
       "0             1   354707   edgar/data/354707/0000354707-19-000043.txt   \n",
       "1             2    61339    edgar/data/61339/0001161728-17-000004.txt   \n",
       "2             3  1317577  edgar/data/1317577/0001193125-13-356794.txt   \n",
       "3             4    59527    edgar/data/59527/0000059527-20-000007.txt   \n",
       "4             5    40545    edgar/data/40545/0000040545-04-000013.txt   \n",
       "..          ...      ...                                          ...   \n",
       "155         159  1555177  edgar/data/1555177/0001555177-17-000011.txt   \n",
       "156         160  1142129  edgar/data/1142129/0001493152-17-005793.txt   \n",
       "157         161  1059025  edgar/data/1059025/0000934665-99-000002.txt   \n",
       "158         162   318996   edgar/data/318996/0000318996-18-000007.txt   \n",
       "159         163   350563   edgar/data/350563/0001193125-12-078254.txt   \n",
       "\n",
       "    Initials  Notes  \n",
       "0         KL    NaN  \n",
       "1         KL    NaN  \n",
       "2         KL    NaN  \n",
       "3         KL    NaN  \n",
       "4         KL    NaN  \n",
       "..       ...    ...  \n",
       "155       KL    NaN  \n",
       "156       KL    NaN  \n",
       "157       KL    NaN  \n",
       "158       KL    NaN  \n",
       "159       KL    NaN  \n",
       "\n",
       "[160 rows x 5 columns]"
      ]
     },
     "execution_count": 47,
     "metadata": {},
     "output_type": "execute_result"
    }
   ],
   "source": [
    "tracking_df"
   ]
  },
  {
   "cell_type": "code",
   "execution_count": 49,
   "id": "7f485484-b04a-4d7e-b7b6-269665f291ad",
   "metadata": {
    "tags": []
   },
   "outputs": [],
   "source": [
    "filing_of_interest = md.loc[[\"edgar/data/38079/0001558370-16-004332.txt\"]]"
   ]
  },
  {
   "cell_type": "code",
   "execution_count": null,
   "id": "3d000ef6-b40a-45df-a8d2-e85e7e8795dc",
   "metadata": {},
   "outputs": [],
   "source": [
    "extractor = Exhibit21Extractor(cloud_interface=archive)\n",
    "md, extracted = extract_filings(extractor, filings_of_interest, model)"
   ]
  }
 ],
 "metadata": {
  "kernelspec": {
   "display_name": "mozilla_sec_eia",
   "language": "python",
   "name": "mozilla_sec_eia"
  },
  "language_info": {
   "codemirror_mode": {
    "name": "ipython",
    "version": 3
   },
   "file_extension": ".py",
   "mimetype": "text/x-python",
   "name": "python",
   "nbconvert_exporter": "python",
   "pygments_lexer": "ipython3",
   "version": "3.11.10"
  }
 },
 "nbformat": 4,
 "nbformat_minor": 5
}
