{
 "cells": [
  {
   "cell_type": "code",
   "execution_count": 1,
   "id": "cdc30fc3-e19e-4e98-a659-8a3d63a7324f",
   "metadata": {
    "tags": []
   },
   "outputs": [],
   "source": [
    "%load_ext autoreload\n",
    "%autoreload 3"
   ]
  },
  {
   "cell_type": "code",
   "execution_count": 92,
   "id": "54afdddc-5707-42fc-8e5f-283113bbd6ff",
   "metadata": {
    "tags": []
   },
   "outputs": [],
   "source": [
    "from importlib import resources\n",
    "import os\n",
    "from pathlib import Path\n",
    "\n",
    "import numpy as np\n",
    "import pandas as pd\n",
    "\n",
    "from mozilla_sec_eia.models.sec10k.utils.cloud import GCSArchive\n",
    "from mozilla_sec_eia.models.sec10k.utils.layoutlm import normalize_bboxes\n",
    "from mozilla_sec_eia.models.sec10k.utils.pdf import get_pdf_data_from_path"
   ]
  },
  {
   "cell_type": "markdown",
   "id": "f673d44d-a2a2-4ee3-86a3-7e2de81bfd1a",
   "metadata": {},
   "source": [
    "Create a directory with all of the validation docs"
   ]
  },
  {
   "cell_type": "code",
   "execution_count": 93,
   "id": "45a45f0f-80c8-4f5f-9c13-c0b850c22253",
   "metadata": {
    "tags": []
   },
   "outputs": [],
   "source": [
    "hist_filename = \"ex21_layout_histogram.csv\"\n",
    "hist_df = pd.read_csv(\n",
    "        resources.files(\"mozilla_sec_eia.package_data.validation_data\")\n",
    "        / hist_filename,\n",
    "        comment=\"#\",\n",
    "    )"
   ]
  },
  {
   "cell_type": "code",
   "execution_count": 94,
   "id": "4a201c93-fa26-4e6a-a16d-c7e769d30b5f",
   "metadata": {
    "tags": []
   },
   "outputs": [],
   "source": [
    "hist_df.loc[:, \"full_filename\"] = \"edgar/data/\" + hist_df[\"Filename\"].str.split(\"-\", expand=True)[0] + \"/\" + hist_df[\"Filename\"].str.split(\"-\", expand=True, n=1)[1] + \".txt\""
   ]
  },
  {
   "cell_type": "code",
   "execution_count": 95,
   "id": "370498b5-b4d9-449f-80ae-afd2c400d2ed",
   "metadata": {
    "tags": []
   },
   "outputs": [],
   "source": [
    "archive = GCSArchive()\n",
    "md = archive.get_metadata()"
   ]
  },
  {
   "cell_type": "code",
   "execution_count": 96,
   "id": "f079f4da-7106-4d98-ae5d-482012d0ab84",
   "metadata": {
    "tags": []
   },
   "outputs": [],
   "source": [
    "pdfs_dir = Path(\"../sec10k_filings/validation_filings\")"
   ]
  },
  {
   "cell_type": "code",
   "execution_count": 97,
   "id": "5bbb6466-0e0f-49bf-93ed-b156c46d55ae",
   "metadata": {
    "tags": []
   },
   "outputs": [
    {
     "name": "stderr",
     "output_type": "stream",
     "text": [
      "<table> is empty\n",
      "'<c> 900 West Park Drive LLC Delaware Astrum Software Corporation Delaware Australian Outsourcing Pty Limited Australia Avalon Consulting Group California Boxcar Software, Inc. Delaware Datagen, Inc. Delaware Data General Argentina S.A. Argentina Data General Australia Pty. Ltd. Australia Data General BVI, Ltd. British Virgin Islands Data General Computers Sdn Bhd'\n",
      "<table> is empty\n",
      "'<table> </table>'\n",
      "<table> is empty\n",
      "'<table> </table>'\n",
      "<table> is empty\n",
      "'<c> Mid Ocean Limited -- Cayman Islands Mid Ocean Holdings Ltd. 100 Bermuda Mid Ocean Reinsurance Company Ltd. 100 Bermuda Baltusrol Holdings Limited 51 Bermuda Mid Ocean Reinsurance Consulting GmbH 100 Germany Ridgewood Holdings Ltd. 100 Bermuda The Brockbank Group plc 100 United Kingdom Brockbank Holdings Limited 100 United Kingdom'\n",
      "<table> is empty\n",
      "'<c> HNC Software Inc., U.K. United Kingdom 100% HNC Software Inc., Japan Japan 100% Neil Thall Associates, Inc. * Georgia 100% Retek Information Systems, Inc. * Nevada 100% Retek Distribution Corporation Delaware 100% Retek Development, Inc. * Nevada 100% Retek Information Systems Inc. Canada 100% Retek Information Systems Ltd. United'\n",
      "<table> is empty\n",
      "'<c> BowSteel Corporation......................... Delaware BowSteel of Texas Corporation................ Delaware Claro Precision, Inc. ....................... Canada Earthline Technologies, Inc. ................ Ohio ETCA G.P., L.L.C. ........................... Texas ETCA L.P., Inc. ............................. Delaware Extrusion Technology Corporation of America.................................... Ohio Galt Alloys, Inc. ........................... Ohio NATI Gas Company............................. Ohio New Century Metals, Inc. .................... Ohio'\n",
      "<table> is empty\n",
      "'<c> Ferro Electronic Materials Inc ................................................. United States of America Ferro Finance Corp. ............................................................ United States of America Ferro Glass &amp; Color Corporation................................................. United States of America Ferro Colores SA de CV.................................................... Mexico Ferro International Services Inc ............................................... United States of America Ferro Pfanstiehl Laboratories, Inc ............................................. United States of'\n"
     ]
    }
   ],
   "source": [
    "archive.get_filings(md.loc[hist_df[\"full_filename\"]], cache_directory=pdfs_dir, cache_pdf=True)"
   ]
  },
  {
   "cell_type": "markdown",
   "id": "2473b76c-0c50-4531-8b1c-2400b8279a4d",
   "metadata": {
    "tags": []
   },
   "source": [
    "Get the documents in \"OCR'ed\" format, with bounding boxes and text. Then, create features for each document that we can train a model on.\n",
    "\n",
    "Add ons:\n",
    "* We could run this post LayoutLM inference, and filter for just bounding boxes that have entity labels, then create features."
   ]
  },
  {
   "cell_type": "code",
   "execution_count": 154,
   "id": "04a951e8-c4db-44c3-b92b-c766a646843b",
   "metadata": {
    "tags": []
   },
   "outputs": [],
   "source": [
    "def calculate_features(df):\n",
    "    features = {}\n",
    "    features['n_bboxes'] = len(df)\n",
    "    \n",
    "    # block density wasn't a very useful feature, maybe rework?\n",
    "    # Calculate the bounding box density of the area of the page with text\n",
    "    # x_width = df[\"bottom_right_x_pdf\"].max() - df[\"top_left_x_pdf\"].min()\n",
    "    # y_height = df[\"bottom_right_y_pdf\"].max() - df[\"top_left_y_pdf\"].min()\n",
    "    # text_area = x_width * y_height\n",
    "    # features[\"block_density\"] = features[\"n_bboxes\"] / text_area\n",
    "    \n",
    "    # Calculate average y-distance between bounding boxes for a given document\n",
    "    df = df.sort_values(by=['top_left_y_pdf', 'top_left_x_pdf'])\n",
    "    y_diffs = df['top_left_y_pdf'].diff().dropna()\n",
    "    features['avg_y_distance'] = y_diffs.mean()\n",
    "    features['std_y_distance'] = y_diffs.std()\n",
    "\n",
    "    # Calculate x-distance to assess horizontal alignment\n",
    "    x_diffs = df.groupby('top_left_y_pdf')['top_left_x_pdf'].apply(lambda x: x.diff().dropna())\n",
    "    features['avg_x_distance'] = x_diffs.mean()\n",
    "    features['std_x_distance'] = x_diffs.std()\n",
    "\n",
    "    # Define a small threshold to group bounding boxes that are on the same line\n",
    "    y_threshold = 0.1 \n",
    "    df.loc[:, 'line_group'] = (df['top_left_y_pdf'].diff().fillna(0).abs() > y_threshold).cumsum()\n",
    "    boxes_per_line = df.groupby('line_group').size()\n",
    "    features['median_boxes_per_line'] = boxes_per_line.median()\n",
    "    return features"
   ]
  },
  {
   "cell_type": "code",
   "execution_count": 155,
   "id": "71bb9f0e-b7c8-4108-8465-ac9a0058f6cf",
   "metadata": {
    "tags": []
   },
   "outputs": [],
   "source": [
    "features_df = pd.DataFrame()\n",
    "for pdf_filename in os.listdir(pdfs_dir):\n",
    "    if pdf_filename.split(\".\")[-1] != \"pdf\":\n",
    "        continue\n",
    "    src_path = pdfs_dir / pdf_filename\n",
    "    extracted, pg = get_pdf_data_from_path(src_path)\n",
    "    txt = extracted[\"pdf_text\"]\n",
    "    pg_meta = extracted[\"page\"]\n",
    "    txt_df = normalize_bboxes(txt_df=txt, pg_meta_df=pg_meta)\n",
    "    if txt_df.empty:\n",
    "        continue\n",
    "    features = calculate_features(txt_df)\n",
    "    features_df = pd.concat([features_df, pd.DataFrame(index=[pdf_filename.split(\".\")[0]], data=features)])"
   ]
  },
  {
   "cell_type": "code",
   "execution_count": 156,
   "id": "851ee707-a5f1-4e8d-9f0b-5b5b6d76577d",
   "metadata": {
    "tags": []
   },
   "outputs": [
    {
     "data": {
      "text/html": [
       "<div>\n",
       "<style scoped>\n",
       "    .dataframe tbody tr th:only-of-type {\n",
       "        vertical-align: middle;\n",
       "    }\n",
       "\n",
       "    .dataframe tbody tr th {\n",
       "        vertical-align: top;\n",
       "    }\n",
       "\n",
       "    .dataframe thead th {\n",
       "        text-align: right;\n",
       "    }\n",
       "</style>\n",
       "<table border=\"1\" class=\"dataframe\">\n",
       "  <thead>\n",
       "    <tr style=\"text-align: right;\">\n",
       "      <th></th>\n",
       "      <th>n_bboxes</th>\n",
       "      <th>avg_y_distance</th>\n",
       "      <th>std_y_distance</th>\n",
       "      <th>avg_x_distance</th>\n",
       "      <th>std_x_distance</th>\n",
       "      <th>median_boxes_per_line</th>\n",
       "    </tr>\n",
       "  </thead>\n",
       "  <tbody>\n",
       "    <tr>\n",
       "      <th>1739566-0001739566-21-000088</th>\n",
       "      <td>147</td>\n",
       "      <td>3.012425</td>\n",
       "      <td>8.213566</td>\n",
       "      <td>101.908806</td>\n",
       "      <td>156.981918</td>\n",
       "      <td>5.0</td>\n",
       "    </tr>\n",
       "  </tbody>\n",
       "</table>\n",
       "</div>"
      ],
      "text/plain": [
       "                              n_bboxes  avg_y_distance  std_y_distance  \\\n",
       "1739566-0001739566-21-000088       147        3.012425        8.213566   \n",
       "\n",
       "                              avg_x_distance  std_x_distance  \\\n",
       "1739566-0001739566-21-000088      101.908806      156.981918   \n",
       "\n",
       "                              median_boxes_per_line  \n",
       "1739566-0001739566-21-000088                    5.0  "
      ]
     },
     "execution_count": 156,
     "metadata": {},
     "output_type": "execute_result"
    }
   ],
   "source": [
    "features_df.head(1)"
   ]
  },
  {
   "cell_type": "markdown",
   "id": "2c7307a3-8ad1-4b04-8a41-8835e94f1419",
   "metadata": {
    "tags": []
   },
   "source": [
    "Create y labels from the layout histogram"
   ]
  },
  {
   "cell_type": "code",
   "execution_count": 145,
   "id": "a41449a9-9af4-46d3-8be0-def5df9e92a9",
   "metadata": {
    "tags": []
   },
   "outputs": [
    {
     "data": {
      "text/plain": [
       "array(['Subsidiary List', 'Blue & White Table (3 Column)',\n",
       "       'List with Sentences', 'Generic Table',\n",
       "       'List with Indented Nested Subsidiaries', 'Paragraph',\n",
       "       'Blue & White Table (2 Column)',\n",
       "       'Table with 2 Subsidiary Name Columns'], dtype=object)"
      ]
     },
     "execution_count": 145,
     "metadata": {},
     "output_type": "execute_result"
    }
   ],
   "source": [
    "hist_df[\"Layout Type\"].unique()"
   ]
  },
  {
   "cell_type": "code",
   "execution_count": 146,
   "id": "6463c409-9127-49ee-91ae-2305fd9b628a",
   "metadata": {
    "tags": []
   },
   "outputs": [],
   "source": [
    "hist_df.loc[:, 'label'] = np.where(hist_df['Layout Type'] == 'Paragraph', 1, 0)"
   ]
  },
  {
   "cell_type": "code",
   "execution_count": 147,
   "id": "fe590f06-7f82-488c-b7ec-c4df8e4cddb4",
   "metadata": {
    "tags": []
   },
   "outputs": [
    {
     "data": {
      "text/html": [
       "<div>\n",
       "<style scoped>\n",
       "    .dataframe tbody tr th:only-of-type {\n",
       "        vertical-align: middle;\n",
       "    }\n",
       "\n",
       "    .dataframe tbody tr th {\n",
       "        vertical-align: top;\n",
       "    }\n",
       "\n",
       "    .dataframe thead th {\n",
       "        text-align: right;\n",
       "    }\n",
       "</style>\n",
       "<table border=\"1\" class=\"dataframe\">\n",
       "  <thead>\n",
       "    <tr style=\"text-align: right;\">\n",
       "      <th></th>\n",
       "      <th>Filename</th>\n",
       "      <th>Layout Type</th>\n",
       "      <th>Your Initials</th>\n",
       "      <th>full_filename</th>\n",
       "      <th>label</th>\n",
       "    </tr>\n",
       "  </thead>\n",
       "  <tbody>\n",
       "    <tr>\n",
       "      <th>0</th>\n",
       "      <td>38079-0001558370-16-004332</td>\n",
       "      <td>Subsidiary List</td>\n",
       "      <td>KL</td>\n",
       "      <td>edgar/data/38079/0001558370-16-004332.txt</td>\n",
       "      <td>0</td>\n",
       "    </tr>\n",
       "  </tbody>\n",
       "</table>\n",
       "</div>"
      ],
      "text/plain": [
       "                     Filename      Layout Type Your Initials  \\\n",
       "0  38079-0001558370-16-004332  Subsidiary List            KL   \n",
       "\n",
       "                               full_filename  label  \n",
       "0  edgar/data/38079/0001558370-16-004332.txt      0  "
      ]
     },
     "execution_count": 147,
     "metadata": {},
     "output_type": "execute_result"
    }
   ],
   "source": [
    "hist_df.head(1)"
   ]
  },
  {
   "cell_type": "code",
   "execution_count": 157,
   "id": "d22ef17b-d989-45db-a6fb-c1df4ff3bab6",
   "metadata": {
    "tags": []
   },
   "outputs": [],
   "source": [
    "input_df = features_df.merge(hist_df[[\"Filename\", \"label\", \"full_filename\"]], how=\"left\", left_index=True, right_on=\"Filename\").reset_index(drop=True)"
   ]
  },
  {
   "cell_type": "code",
   "execution_count": 149,
   "id": "227dba56-e4d0-43a8-985a-7a673f80ae99",
   "metadata": {
    "tags": []
   },
   "outputs": [
    {
     "data": {
      "text/plain": [
       "Index(['n_bboxes', 'block_density', 'avg_y_distance', 'std_y_distance',\n",
       "       'avg_x_distance', 'std_x_distance', 'median_boxes_per_line', 'Filename',\n",
       "       'label', 'full_filename'],\n",
       "      dtype='object')"
      ]
     },
     "execution_count": 149,
     "metadata": {},
     "output_type": "execute_result"
    }
   ],
   "source": [
    "input_df.columns"
   ]
  },
  {
   "cell_type": "markdown",
   "id": "3fb92c4a-7fcb-40de-af35-145a2b82839e",
   "metadata": {},
   "source": [
    "Train a classifier"
   ]
  },
  {
   "cell_type": "code",
   "execution_count": 150,
   "id": "3a4c6230-896a-4d33-a632-33f11f77d199",
   "metadata": {
    "tags": []
   },
   "outputs": [],
   "source": [
    "from sklearn.model_selection import train_test_split\n",
    "from sklearn.linear_model import LogisticRegression\n",
    "from sklearn.metrics import classification_report"
   ]
  },
  {
   "cell_type": "code",
   "execution_count": 158,
   "id": "a8b3a69b-4ce0-4721-be28-5d601e2993ce",
   "metadata": {
    "tags": []
   },
   "outputs": [
    {
     "name": "stdout",
     "output_type": "stream",
     "text": [
      "              precision    recall  f1-score   support\n",
      "\n",
      "           0       0.95      0.95      0.95        21\n",
      "           1       0.92      0.92      0.92        12\n",
      "\n",
      "    accuracy                           0.94        33\n",
      "   macro avg       0.93      0.93      0.93        33\n",
      "weighted avg       0.94      0.94      0.94        33\n",
      "\n"
     ]
    },
    {
     "name": "stderr",
     "output_type": "stream",
     "text": [
      "/Users/katielamb/mambaforge/envs/mozilla_sec_eia/lib/python3.11/site-packages/sklearn/linear_model/_logistic.py:469: ConvergenceWarning: lbfgs failed to converge (status=1):\n",
      "STOP: TOTAL NO. of ITERATIONS REACHED LIMIT.\n",
      "\n",
      "Increase the number of iterations (max_iter) or scale the data as shown in:\n",
      "    https://scikit-learn.org/stable/modules/preprocessing.html\n",
      "Please also refer to the documentation for alternative solver options:\n",
      "    https://scikit-learn.org/stable/modules/linear_model.html#logistic-regression\n",
      "  n_iter_i = _check_optimize_result(\n"
     ]
    }
   ],
   "source": [
    "X = input_df.drop(columns=[\"label\", \"full_filename\", \"Filename\"])\n",
    "y = input_df['label']\n",
    "\n",
    "X_train, X_test, y_train, y_test = train_test_split(X, y, test_size=0.3, random_state=16)\n",
    "model = LogisticRegression()\n",
    "model.fit(X_train, y_train)\n",
    "\n",
    "y_pred = model.predict(X_test)\n",
    "print(classification_report(y_test, y_pred))\n"
   ]
  },
  {
   "cell_type": "code",
   "execution_count": 159,
   "id": "2f93e5dd-cc89-426f-a58c-aeee7c07dcac",
   "metadata": {
    "tags": []
   },
   "outputs": [],
   "source": [
    "coefficients = model.coef_[0]\n",
    "\n",
    "# Create a dataframe to display feature importance\n",
    "feature_importance = pd.DataFrame({\n",
    "    'Feature': X.columns,\n",
    "    'Coefficient': coefficients\n",
    "}).sort_values(by='Coefficient', ascending=False)"
   ]
  },
  {
   "cell_type": "code",
   "execution_count": 160,
   "id": "a9dfc67f-7f5f-4f29-9b6b-5a235fda5626",
   "metadata": {
    "tags": []
   },
   "outputs": [
    {
     "data": {
      "text/html": [
       "<div>\n",
       "<style scoped>\n",
       "    .dataframe tbody tr th:only-of-type {\n",
       "        vertical-align: middle;\n",
       "    }\n",
       "\n",
       "    .dataframe tbody tr th {\n",
       "        vertical-align: top;\n",
       "    }\n",
       "\n",
       "    .dataframe thead th {\n",
       "        text-align: right;\n",
       "    }\n",
       "</style>\n",
       "<table border=\"1\" class=\"dataframe\">\n",
       "  <thead>\n",
       "    <tr style=\"text-align: right;\">\n",
       "      <th></th>\n",
       "      <th>Feature</th>\n",
       "      <th>Coefficient</th>\n",
       "    </tr>\n",
       "  </thead>\n",
       "  <tbody>\n",
       "    <tr>\n",
       "      <th>5</th>\n",
       "      <td>median_boxes_per_line</td>\n",
       "      <td>0.724693</td>\n",
       "    </tr>\n",
       "    <tr>\n",
       "      <th>4</th>\n",
       "      <td>std_x_distance</td>\n",
       "      <td>0.014897</td>\n",
       "    </tr>\n",
       "    <tr>\n",
       "      <th>0</th>\n",
       "      <td>n_bboxes</td>\n",
       "      <td>-0.001819</td>\n",
       "    </tr>\n",
       "    <tr>\n",
       "      <th>3</th>\n",
       "      <td>avg_x_distance</td>\n",
       "      <td>-0.086826</td>\n",
       "    </tr>\n",
       "    <tr>\n",
       "      <th>1</th>\n",
       "      <td>avg_y_distance</td>\n",
       "      <td>-0.264036</td>\n",
       "    </tr>\n",
       "    <tr>\n",
       "      <th>2</th>\n",
       "      <td>std_y_distance</td>\n",
       "      <td>-0.574559</td>\n",
       "    </tr>\n",
       "  </tbody>\n",
       "</table>\n",
       "</div>"
      ],
      "text/plain": [
       "                 Feature  Coefficient\n",
       "5  median_boxes_per_line     0.724693\n",
       "4         std_x_distance     0.014897\n",
       "0               n_bboxes    -0.001819\n",
       "3         avg_x_distance    -0.086826\n",
       "1         avg_y_distance    -0.264036\n",
       "2         std_y_distance    -0.574559"
      ]
     },
     "execution_count": 160,
     "metadata": {},
     "output_type": "execute_result"
    }
   ],
   "source": [
    "feature_importance"
   ]
  },
  {
   "cell_type": "code",
   "execution_count": 129,
   "id": "4a70e13d-f009-4642-9a85-1a018a6724a4",
   "metadata": {
    "tags": []
   },
   "outputs": [
    {
     "data": {
      "text/plain": [
       "array([0, 1, 0, 0, 0, 0, 1, 1, 1, 0, 0, 0, 0, 0, 1, 0, 1, 0, 0, 1, 0, 0,\n",
       "       1, 0, 0, 0, 1, 1, 0, 1, 1, 1, 0])"
      ]
     },
     "execution_count": 129,
     "metadata": {},
     "output_type": "execute_result"
    }
   ],
   "source": [
    "y_pred"
   ]
  },
  {
   "cell_type": "code",
   "execution_count": 131,
   "id": "5a41e5f5-7e1d-4ed5-8ada-d6bb6a52700d",
   "metadata": {
    "tags": []
   },
   "outputs": [
    {
     "data": {
      "text/html": [
       "<div>\n",
       "<style scoped>\n",
       "    .dataframe tbody tr th:only-of-type {\n",
       "        vertical-align: middle;\n",
       "    }\n",
       "\n",
       "    .dataframe tbody tr th {\n",
       "        vertical-align: top;\n",
       "    }\n",
       "\n",
       "    .dataframe thead th {\n",
       "        text-align: right;\n",
       "    }\n",
       "</style>\n",
       "<table border=\"1\" class=\"dataframe\">\n",
       "  <thead>\n",
       "    <tr style=\"text-align: right;\">\n",
       "      <th></th>\n",
       "      <th>n_bboxes</th>\n",
       "      <th>block_density</th>\n",
       "      <th>avg_y_distance</th>\n",
       "      <th>std_y_distance</th>\n",
       "      <th>avg_x_distance</th>\n",
       "      <th>std_x_distance</th>\n",
       "      <th>Filename</th>\n",
       "      <th>label</th>\n",
       "      <th>full_filename</th>\n",
       "    </tr>\n",
       "  </thead>\n",
       "  <tbody>\n",
       "    <tr>\n",
       "      <th>0</th>\n",
       "      <td>147</td>\n",
       "      <td>0.000358</td>\n",
       "      <td>3.012425</td>\n",
       "      <td>8.213566</td>\n",
       "      <td>101.908806</td>\n",
       "      <td>156.981918</td>\n",
       "      <td>1739566-0001739566-21-000088</td>\n",
       "      <td>0</td>\n",
       "      <td>edgar/data/1739566/0001739566-21-000088.txt</td>\n",
       "    </tr>\n",
       "    <tr>\n",
       "      <th>1</th>\n",
       "      <td>137</td>\n",
       "      <td>0.001447</td>\n",
       "      <td>0.687791</td>\n",
       "      <td>2.963500</td>\n",
       "      <td>48.664894</td>\n",
       "      <td>27.802301</td>\n",
       "      <td>61986-0000061986-99-000003</td>\n",
       "      <td>1</td>\n",
       "      <td>edgar/data/61986/0000061986-99-000003.txt</td>\n",
       "    </tr>\n",
       "  </tbody>\n",
       "</table>\n",
       "</div>"
      ],
      "text/plain": [
       "   n_bboxes  block_density  avg_y_distance  std_y_distance  avg_x_distance  \\\n",
       "0       147       0.000358        3.012425        8.213566      101.908806   \n",
       "1       137       0.001447        0.687791        2.963500       48.664894   \n",
       "\n",
       "   std_x_distance                      Filename  label  \\\n",
       "0      156.981918  1739566-0001739566-21-000088      0   \n",
       "1       27.802301    61986-0000061986-99-000003      1   \n",
       "\n",
       "                                 full_filename  \n",
       "0  edgar/data/1739566/0001739566-21-000088.txt  \n",
       "1    edgar/data/61986/0000061986-99-000003.txt  "
      ]
     },
     "execution_count": 131,
     "metadata": {},
     "output_type": "execute_result"
    }
   ],
   "source": [
    "input_df.head(2)"
   ]
  },
  {
   "cell_type": "code",
   "execution_count": 134,
   "id": "cfb8d6a0-2f25-4536-8cb4-12f8fa335d23",
   "metadata": {
    "tags": []
   },
   "outputs": [],
   "source": [
    "results_df = X_test.merge(input_df[[\"Filename\", \"label\"]], how=\"left\", left_index=True, right_index=True)\n",
    "results_df.loc[:, \"pred_label\"] = y_pred"
   ]
  },
  {
   "cell_type": "code",
   "execution_count": 135,
   "id": "aad3941a-c4c3-4478-9366-426ae7c9eb99",
   "metadata": {
    "tags": []
   },
   "outputs": [
    {
     "data": {
      "text/html": [
       "<div>\n",
       "<style scoped>\n",
       "    .dataframe tbody tr th:only-of-type {\n",
       "        vertical-align: middle;\n",
       "    }\n",
       "\n",
       "    .dataframe tbody tr th {\n",
       "        vertical-align: top;\n",
       "    }\n",
       "\n",
       "    .dataframe thead th {\n",
       "        text-align: right;\n",
       "    }\n",
       "</style>\n",
       "<table border=\"1\" class=\"dataframe\">\n",
       "  <thead>\n",
       "    <tr style=\"text-align: right;\">\n",
       "      <th></th>\n",
       "      <th>n_bboxes</th>\n",
       "      <th>block_density</th>\n",
       "      <th>avg_y_distance</th>\n",
       "      <th>std_y_distance</th>\n",
       "      <th>avg_x_distance</th>\n",
       "      <th>std_x_distance</th>\n",
       "      <th>Filename</th>\n",
       "      <th>label</th>\n",
       "      <th>pred_label</th>\n",
       "    </tr>\n",
       "  </thead>\n",
       "  <tbody>\n",
       "    <tr>\n",
       "      <th>9</th>\n",
       "      <td>1032</td>\n",
       "      <td>0.001123</td>\n",
       "      <td>0.959820</td>\n",
       "      <td>2.231205</td>\n",
       "      <td>127.400566</td>\n",
       "      <td>207.930161</td>\n",
       "      <td>4962-0001193125-10-041232</td>\n",
       "      <td>0</td>\n",
       "      <td>0</td>\n",
       "    </tr>\n",
       "    <tr>\n",
       "      <th>50</th>\n",
       "      <td>99</td>\n",
       "      <td>0.001405</td>\n",
       "      <td>0.681775</td>\n",
       "      <td>2.955458</td>\n",
       "      <td>49.789227</td>\n",
       "      <td>40.322922</td>\n",
       "      <td>81033-0000950117-06-000927</td>\n",
       "      <td>1</td>\n",
       "      <td>1</td>\n",
       "    </tr>\n",
       "    <tr>\n",
       "      <th>45</th>\n",
       "      <td>440</td>\n",
       "      <td>0.000505</td>\n",
       "      <td>2.180920</td>\n",
       "      <td>5.329875</td>\n",
       "      <td>124.028130</td>\n",
       "      <td>160.601257</td>\n",
       "      <td>40545-0000040545-04-000013</td>\n",
       "      <td>0</td>\n",
       "      <td>0</td>\n",
       "    </tr>\n",
       "    <tr>\n",
       "      <th>39</th>\n",
       "      <td>71</td>\n",
       "      <td>0.000095</td>\n",
       "      <td>11.282914</td>\n",
       "      <td>22.625301</td>\n",
       "      <td>102.355408</td>\n",
       "      <td>88.687737</td>\n",
       "      <td>716646-0000950135-06-004150</td>\n",
       "      <td>0</td>\n",
       "      <td>0</td>\n",
       "    </tr>\n",
       "    <tr>\n",
       "      <th>7</th>\n",
       "      <td>37</td>\n",
       "      <td>0.000199</td>\n",
       "      <td>5.475447</td>\n",
       "      <td>11.809794</td>\n",
       "      <td>104.781906</td>\n",
       "      <td>107.117111</td>\n",
       "      <td>320340-0000950123-10-027168</td>\n",
       "      <td>0</td>\n",
       "      <td>0</td>\n",
       "    </tr>\n",
       "    <tr>\n",
       "      <th>85</th>\n",
       "      <td>964</td>\n",
       "      <td>0.001198</td>\n",
       "      <td>1.022415</td>\n",
       "      <td>2.039834</td>\n",
       "      <td>162.664932</td>\n",
       "      <td>197.020065</td>\n",
       "      <td>315858-0000315858-19-000023</td>\n",
       "      <td>0</td>\n",
       "      <td>0</td>\n",
       "    </tr>\n",
       "    <tr>\n",
       "      <th>51</th>\n",
       "      <td>840</td>\n",
       "      <td>0.000941</td>\n",
       "      <td>1.177622</td>\n",
       "      <td>2.447244</td>\n",
       "      <td>28.503000</td>\n",
       "      <td>12.000216</td>\n",
       "      <td>860546-0001104659-07-015618</td>\n",
       "      <td>0</td>\n",
       "      <td>1</td>\n",
       "    </tr>\n",
       "    <tr>\n",
       "      <th>66</th>\n",
       "      <td>96</td>\n",
       "      <td>0.000810</td>\n",
       "      <td>1.290955</td>\n",
       "      <td>5.511497</td>\n",
       "      <td>28.687408</td>\n",
       "      <td>12.497664</td>\n",
       "      <td>320575-0001193125-07-117419</td>\n",
       "      <td>0</td>\n",
       "      <td>1</td>\n",
       "    </tr>\n",
       "    <tr>\n",
       "      <th>38</th>\n",
       "      <td>104</td>\n",
       "      <td>0.001460</td>\n",
       "      <td>0.648679</td>\n",
       "      <td>2.885869</td>\n",
       "      <td>43.733025</td>\n",
       "      <td>21.256653</td>\n",
       "      <td>205402-0000950114-99-000043</td>\n",
       "      <td>1</td>\n",
       "      <td>1</td>\n",
       "    </tr>\n",
       "    <tr>\n",
       "      <th>62</th>\n",
       "      <td>100</td>\n",
       "      <td>0.000389</td>\n",
       "      <td>2.792539</td>\n",
       "      <td>6.367428</td>\n",
       "      <td>142.057449</td>\n",
       "      <td>263.204254</td>\n",
       "      <td>70145-0001193125-11-321222</td>\n",
       "      <td>0</td>\n",
       "      <td>0</td>\n",
       "    </tr>\n",
       "    <tr>\n",
       "      <th>26</th>\n",
       "      <td>29</td>\n",
       "      <td>0.000254</td>\n",
       "      <td>3.953266</td>\n",
       "      <td>12.485551</td>\n",
       "      <td>41.435265</td>\n",
       "      <td>27.391859</td>\n",
       "      <td>1093672-0001654954-23-003112</td>\n",
       "      <td>1</td>\n",
       "      <td>0</td>\n",
       "    </tr>\n",
       "    <tr>\n",
       "      <th>99</th>\n",
       "      <td>85</td>\n",
       "      <td>0.000364</td>\n",
       "      <td>2.973045</td>\n",
       "      <td>6.956867</td>\n",
       "      <td>72.389709</td>\n",
       "      <td>96.496338</td>\n",
       "      <td>104819-0001193125-14-422013</td>\n",
       "      <td>0</td>\n",
       "      <td>0</td>\n",
       "    </tr>\n",
       "    <tr>\n",
       "      <th>81</th>\n",
       "      <td>412</td>\n",
       "      <td>0.000486</td>\n",
       "      <td>2.264572</td>\n",
       "      <td>7.724522</td>\n",
       "      <td>97.899033</td>\n",
       "      <td>92.595673</td>\n",
       "      <td>29644-0001628280-16-019746</td>\n",
       "      <td>0</td>\n",
       "      <td>0</td>\n",
       "    </tr>\n",
       "    <tr>\n",
       "      <th>72</th>\n",
       "      <td>364</td>\n",
       "      <td>0.000555</td>\n",
       "      <td>2.505909</td>\n",
       "      <td>4.576678</td>\n",
       "      <td>124.066566</td>\n",
       "      <td>147.893005</td>\n",
       "      <td>891014-0000891014-11-000007</td>\n",
       "      <td>0</td>\n",
       "      <td>0</td>\n",
       "    </tr>\n",
       "    <tr>\n",
       "      <th>71</th>\n",
       "      <td>44</td>\n",
       "      <td>0.001206</td>\n",
       "      <td>0.676772</td>\n",
       "      <td>3.111296</td>\n",
       "      <td>39.331356</td>\n",
       "      <td>20.759048</td>\n",
       "      <td>906247-0000950123-98-006267</td>\n",
       "      <td>1</td>\n",
       "      <td>1</td>\n",
       "    </tr>\n",
       "    <tr>\n",
       "      <th>94</th>\n",
       "      <td>40</td>\n",
       "      <td>0.000167</td>\n",
       "      <td>6.761345</td>\n",
       "      <td>18.069818</td>\n",
       "      <td>131.637192</td>\n",
       "      <td>123.254616</td>\n",
       "      <td>799233-0000799233-13-000013</td>\n",
       "      <td>0</td>\n",
       "      <td>0</td>\n",
       "    </tr>\n",
       "    <tr>\n",
       "      <th>101</th>\n",
       "      <td>248</td>\n",
       "      <td>0.001731</td>\n",
       "      <td>0.595104</td>\n",
       "      <td>2.762063</td>\n",
       "      <td>40.137409</td>\n",
       "      <td>19.245853</td>\n",
       "      <td>60549-0001047469-98-012481</td>\n",
       "      <td>1</td>\n",
       "      <td>1</td>\n",
       "    </tr>\n",
       "    <tr>\n",
       "      <th>53</th>\n",
       "      <td>23</td>\n",
       "      <td>0.000298</td>\n",
       "      <td>6.006508</td>\n",
       "      <td>12.258658</td>\n",
       "      <td>29.732834</td>\n",
       "      <td>16.617113</td>\n",
       "      <td>3146-0001193125-06-055140</td>\n",
       "      <td>0</td>\n",
       "      <td>0</td>\n",
       "    </tr>\n",
       "    <tr>\n",
       "      <th>10</th>\n",
       "      <td>122</td>\n",
       "      <td>0.000521</td>\n",
       "      <td>2.068730</td>\n",
       "      <td>5.939752</td>\n",
       "      <td>63.179146</td>\n",
       "      <td>88.890198</td>\n",
       "      <td>103682-0001193125-05-038710</td>\n",
       "      <td>0</td>\n",
       "      <td>0</td>\n",
       "    </tr>\n",
       "    <tr>\n",
       "      <th>11</th>\n",
       "      <td>108</td>\n",
       "      <td>0.001529</td>\n",
       "      <td>0.624430</td>\n",
       "      <td>2.833593</td>\n",
       "      <td>42.546421</td>\n",
       "      <td>19.496576</td>\n",
       "      <td>1091973-0000893220-03-000418</td>\n",
       "      <td>1</td>\n",
       "      <td>1</td>\n",
       "    </tr>\n",
       "    <tr>\n",
       "      <th>105</th>\n",
       "      <td>67</td>\n",
       "      <td>0.000271</td>\n",
       "      <td>6.226972</td>\n",
       "      <td>13.083374</td>\n",
       "      <td>104.821106</td>\n",
       "      <td>124.968605</td>\n",
       "      <td>71675-0001046861-02-000012</td>\n",
       "      <td>0</td>\n",
       "      <td>0</td>\n",
       "    </tr>\n",
       "    <tr>\n",
       "      <th>107</th>\n",
       "      <td>40</td>\n",
       "      <td>0.000209</td>\n",
       "      <td>5.131922</td>\n",
       "      <td>11.155481</td>\n",
       "      <td>85.730576</td>\n",
       "      <td>110.746307</td>\n",
       "      <td>49728-0001144204-11-070058</td>\n",
       "      <td>0</td>\n",
       "      <td>0</td>\n",
       "    </tr>\n",
       "    <tr>\n",
       "      <th>25</th>\n",
       "      <td>28</td>\n",
       "      <td>0.001232</td>\n",
       "      <td>0.494918</td>\n",
       "      <td>2.571671</td>\n",
       "      <td>50.427837</td>\n",
       "      <td>34.055492</td>\n",
       "      <td>804104-0000950128-98-000667</td>\n",
       "      <td>1</td>\n",
       "      <td>1</td>\n",
       "    </tr>\n",
       "    <tr>\n",
       "      <th>98</th>\n",
       "      <td>27</td>\n",
       "      <td>0.000263</td>\n",
       "      <td>4.036094</td>\n",
       "      <td>9.120522</td>\n",
       "      <td>79.093773</td>\n",
       "      <td>127.586113</td>\n",
       "      <td>34067-0001104659-06-016592</td>\n",
       "      <td>0</td>\n",
       "      <td>0</td>\n",
       "    </tr>\n",
       "    <tr>\n",
       "      <th>5</th>\n",
       "      <td>48</td>\n",
       "      <td>0.000061</td>\n",
       "      <td>18.009531</td>\n",
       "      <td>46.493824</td>\n",
       "      <td>59.469219</td>\n",
       "      <td>90.724838</td>\n",
       "      <td>32689-0001047469-09-001643</td>\n",
       "      <td>0</td>\n",
       "      <td>0</td>\n",
       "    </tr>\n",
       "    <tr>\n",
       "      <th>29</th>\n",
       "      <td>132</td>\n",
       "      <td>0.000462</td>\n",
       "      <td>2.345748</td>\n",
       "      <td>7.401248</td>\n",
       "      <td>83.269165</td>\n",
       "      <td>172.756561</td>\n",
       "      <td>9534-0000897069-05-000574</td>\n",
       "      <td>0</td>\n",
       "      <td>0</td>\n",
       "    </tr>\n",
       "    <tr>\n",
       "      <th>80</th>\n",
       "      <td>104</td>\n",
       "      <td>0.001757</td>\n",
       "      <td>0.518943</td>\n",
       "      <td>2.594336</td>\n",
       "      <td>39.997410</td>\n",
       "      <td>19.056353</td>\n",
       "      <td>791905-0000791905-98-000012</td>\n",
       "      <td>1</td>\n",
       "      <td>1</td>\n",
       "    </tr>\n",
       "    <tr>\n",
       "      <th>55</th>\n",
       "      <td>57</td>\n",
       "      <td>0.001221</td>\n",
       "      <td>0.715864</td>\n",
       "      <td>3.036131</td>\n",
       "      <td>50.710384</td>\n",
       "      <td>27.705986</td>\n",
       "      <td>100122-0000941138-03-000007</td>\n",
       "      <td>1</td>\n",
       "      <td>1</td>\n",
       "    </tr>\n",
       "    <tr>\n",
       "      <th>60</th>\n",
       "      <td>246</td>\n",
       "      <td>0.000474</td>\n",
       "      <td>2.315006</td>\n",
       "      <td>5.888659</td>\n",
       "      <td>27.957924</td>\n",
       "      <td>11.676406</td>\n",
       "      <td>96271-0001193125-07-042781</td>\n",
       "      <td>0</td>\n",
       "      <td>0</td>\n",
       "    </tr>\n",
       "    <tr>\n",
       "      <th>42</th>\n",
       "      <td>41</td>\n",
       "      <td>0.001114</td>\n",
       "      <td>0.727530</td>\n",
       "      <td>3.222874</td>\n",
       "      <td>38.742905</td>\n",
       "      <td>21.597832</td>\n",
       "      <td>945093-0000936392-97-000426</td>\n",
       "      <td>1</td>\n",
       "      <td>1</td>\n",
       "    </tr>\n",
       "    <tr>\n",
       "      <th>13</th>\n",
       "      <td>499</td>\n",
       "      <td>0.001569</td>\n",
       "      <td>0.685134</td>\n",
       "      <td>2.988153</td>\n",
       "      <td>42.430420</td>\n",
       "      <td>16.686457</td>\n",
       "      <td>790070-0001047469-04-006200</td>\n",
       "      <td>1</td>\n",
       "      <td>1</td>\n",
       "    </tr>\n",
       "    <tr>\n",
       "      <th>76</th>\n",
       "      <td>79</td>\n",
       "      <td>0.001342</td>\n",
       "      <td>0.685271</td>\n",
       "      <td>2.966542</td>\n",
       "      <td>48.261269</td>\n",
       "      <td>40.180737</td>\n",
       "      <td>78778-0000078778-97-000019</td>\n",
       "      <td>1</td>\n",
       "      <td>1</td>\n",
       "    </tr>\n",
       "    <tr>\n",
       "      <th>79</th>\n",
       "      <td>132</td>\n",
       "      <td>0.000275</td>\n",
       "      <td>3.952848</td>\n",
       "      <td>10.752102</td>\n",
       "      <td>53.094189</td>\n",
       "      <td>58.323383</td>\n",
       "      <td>874501-0000874501-15-000013</td>\n",
       "      <td>0</td>\n",
       "      <td>0</td>\n",
       "    </tr>\n",
       "  </tbody>\n",
       "</table>\n",
       "</div>"
      ],
      "text/plain": [
       "     n_bboxes  block_density  avg_y_distance  std_y_distance  avg_x_distance  \\\n",
       "9        1032       0.001123        0.959820        2.231205      127.400566   \n",
       "50         99       0.001405        0.681775        2.955458       49.789227   \n",
       "45        440       0.000505        2.180920        5.329875      124.028130   \n",
       "39         71       0.000095       11.282914       22.625301      102.355408   \n",
       "7          37       0.000199        5.475447       11.809794      104.781906   \n",
       "85        964       0.001198        1.022415        2.039834      162.664932   \n",
       "51        840       0.000941        1.177622        2.447244       28.503000   \n",
       "66         96       0.000810        1.290955        5.511497       28.687408   \n",
       "38        104       0.001460        0.648679        2.885869       43.733025   \n",
       "62        100       0.000389        2.792539        6.367428      142.057449   \n",
       "26         29       0.000254        3.953266       12.485551       41.435265   \n",
       "99         85       0.000364        2.973045        6.956867       72.389709   \n",
       "81        412       0.000486        2.264572        7.724522       97.899033   \n",
       "72        364       0.000555        2.505909        4.576678      124.066566   \n",
       "71         44       0.001206        0.676772        3.111296       39.331356   \n",
       "94         40       0.000167        6.761345       18.069818      131.637192   \n",
       "101       248       0.001731        0.595104        2.762063       40.137409   \n",
       "53         23       0.000298        6.006508       12.258658       29.732834   \n",
       "10        122       0.000521        2.068730        5.939752       63.179146   \n",
       "11        108       0.001529        0.624430        2.833593       42.546421   \n",
       "105        67       0.000271        6.226972       13.083374      104.821106   \n",
       "107        40       0.000209        5.131922       11.155481       85.730576   \n",
       "25         28       0.001232        0.494918        2.571671       50.427837   \n",
       "98         27       0.000263        4.036094        9.120522       79.093773   \n",
       "5          48       0.000061       18.009531       46.493824       59.469219   \n",
       "29        132       0.000462        2.345748        7.401248       83.269165   \n",
       "80        104       0.001757        0.518943        2.594336       39.997410   \n",
       "55         57       0.001221        0.715864        3.036131       50.710384   \n",
       "60        246       0.000474        2.315006        5.888659       27.957924   \n",
       "42         41       0.001114        0.727530        3.222874       38.742905   \n",
       "13        499       0.001569        0.685134        2.988153       42.430420   \n",
       "76         79       0.001342        0.685271        2.966542       48.261269   \n",
       "79        132       0.000275        3.952848       10.752102       53.094189   \n",
       "\n",
       "     std_x_distance                      Filename  label  pred_label  \n",
       "9        207.930161     4962-0001193125-10-041232      0           0  \n",
       "50        40.322922    81033-0000950117-06-000927      1           1  \n",
       "45       160.601257    40545-0000040545-04-000013      0           0  \n",
       "39        88.687737   716646-0000950135-06-004150      0           0  \n",
       "7        107.117111   320340-0000950123-10-027168      0           0  \n",
       "85       197.020065   315858-0000315858-19-000023      0           0  \n",
       "51        12.000216   860546-0001104659-07-015618      0           1  \n",
       "66        12.497664   320575-0001193125-07-117419      0           1  \n",
       "38        21.256653   205402-0000950114-99-000043      1           1  \n",
       "62       263.204254    70145-0001193125-11-321222      0           0  \n",
       "26        27.391859  1093672-0001654954-23-003112      1           0  \n",
       "99        96.496338   104819-0001193125-14-422013      0           0  \n",
       "81        92.595673    29644-0001628280-16-019746      0           0  \n",
       "72       147.893005   891014-0000891014-11-000007      0           0  \n",
       "71        20.759048   906247-0000950123-98-006267      1           1  \n",
       "94       123.254616   799233-0000799233-13-000013      0           0  \n",
       "101       19.245853    60549-0001047469-98-012481      1           1  \n",
       "53        16.617113     3146-0001193125-06-055140      0           0  \n",
       "10        88.890198   103682-0001193125-05-038710      0           0  \n",
       "11        19.496576  1091973-0000893220-03-000418      1           1  \n",
       "105      124.968605    71675-0001046861-02-000012      0           0  \n",
       "107      110.746307    49728-0001144204-11-070058      0           0  \n",
       "25        34.055492   804104-0000950128-98-000667      1           1  \n",
       "98       127.586113    34067-0001104659-06-016592      0           0  \n",
       "5         90.724838    32689-0001047469-09-001643      0           0  \n",
       "29       172.756561     9534-0000897069-05-000574      0           0  \n",
       "80        19.056353   791905-0000791905-98-000012      1           1  \n",
       "55        27.705986   100122-0000941138-03-000007      1           1  \n",
       "60        11.676406    96271-0001193125-07-042781      0           0  \n",
       "42        21.597832   945093-0000936392-97-000426      1           1  \n",
       "13        16.686457   790070-0001047469-04-006200      1           1  \n",
       "76        40.180737    78778-0000078778-97-000019      1           1  \n",
       "79        58.323383   874501-0000874501-15-000013      0           0  "
      ]
     },
     "execution_count": 135,
     "metadata": {},
     "output_type": "execute_result"
    }
   ],
   "source": [
    "results_df"
   ]
  },
  {
   "cell_type": "code",
   "execution_count": null,
   "id": "e7408553-10d3-42a6-b942-69104bac1334",
   "metadata": {},
   "outputs": [],
   "source": []
  }
 ],
 "metadata": {
  "kernelspec": {
   "display_name": "mozilla_sec_eia",
   "language": "python",
   "name": "mozilla_sec_eia"
  },
  "language_info": {
   "codemirror_mode": {
    "name": "ipython",
    "version": 3
   },
   "file_extension": ".py",
   "mimetype": "text/x-python",
   "name": "python",
   "nbconvert_exporter": "python",
   "pygments_lexer": "ipython3",
   "version": "3.11.10"
  }
 },
 "nbformat": 4,
 "nbformat_minor": 5
}
