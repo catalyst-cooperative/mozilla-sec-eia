{
 "cells": [
  {
   "cell_type": "code",
   "execution_count": 1,
   "id": "cdc30fc3-e19e-4e98-a659-8a3d63a7324f",
   "metadata": {
    "tags": []
   },
   "outputs": [],
   "source": [
    "%load_ext autoreload\n",
    "%autoreload 3"
   ]
  },
  {
   "cell_type": "code",
   "execution_count": 92,
   "id": "54afdddc-5707-42fc-8e5f-283113bbd6ff",
   "metadata": {
    "tags": []
   },
   "outputs": [],
   "source": [
    "from importlib import resources\n",
    "import os\n",
    "from pathlib import Path\n",
    "\n",
    "import numpy as np\n",
    "import pandas as pd\n",
    "\n",
    "from mozilla_sec_eia.models.sec10k.utils.cloud import GCSArchive\n",
    "from mozilla_sec_eia.models.sec10k.utils.layoutlm import normalize_bboxes\n",
    "from mozilla_sec_eia.models.sec10k.utils.pdf import get_pdf_data_from_path"
   ]
  },
  {
   "cell_type": "markdown",
   "id": "f673d44d-a2a2-4ee3-86a3-7e2de81bfd1a",
   "metadata": {},
   "source": [
    "Create a directory with all of the validation docs"
   ]
  },
  {
   "cell_type": "code",
   "execution_count": 93,
   "id": "45a45f0f-80c8-4f5f-9c13-c0b850c22253",
   "metadata": {
    "tags": []
   },
   "outputs": [],
   "source": [
    "hist_filename = \"ex21_layout_histogram.csv\"\n",
    "hist_df = pd.read_csv(\n",
    "        resources.files(\"mozilla_sec_eia.package_data.validation_data\")\n",
    "        / hist_filename,\n",
    "        comment=\"#\",\n",
    "    )"
   ]
  },
  {
   "cell_type": "code",
   "execution_count": 94,
   "id": "4a201c93-fa26-4e6a-a16d-c7e769d30b5f",
   "metadata": {
    "tags": []
   },
   "outputs": [],
   "source": [
    "hist_df.loc[:, \"full_filename\"] = \"edgar/data/\" + hist_df[\"Filename\"].str.split(\"-\", expand=True)[0] + \"/\" + hist_df[\"Filename\"].str.split(\"-\", expand=True, n=1)[1] + \".txt\""
   ]
  },
  {
   "cell_type": "code",
   "execution_count": 95,
   "id": "370498b5-b4d9-449f-80ae-afd2c400d2ed",
   "metadata": {
    "tags": []
   },
   "outputs": [],
   "source": [
    "archive = GCSArchive()\n",
    "md = archive.get_metadata()"
   ]
  },
  {
   "cell_type": "code",
   "execution_count": 96,
   "id": "f079f4da-7106-4d98-ae5d-482012d0ab84",
   "metadata": {
    "tags": []
   },
   "outputs": [],
   "source": [
    "pdfs_dir = Path(\"../sec10k_filings/validation_filings\")"
   ]
  },
  {
   "cell_type": "code",
   "execution_count": 97,
   "id": "5bbb6466-0e0f-49bf-93ed-b156c46d55ae",
   "metadata": {
    "tags": []
   },
   "outputs": [
    {
     "name": "stderr",
     "output_type": "stream",
     "text": [
      "<table> is empty\n",
      "'<c> 900 West Park Drive LLC Delaware Astrum Software Corporation Delaware Australian Outsourcing Pty Limited Australia Avalon Consulting Group California Boxcar Software, Inc. Delaware Datagen, Inc. Delaware Data General Argentina S.A. Argentina Data General Australia Pty. Ltd. Australia Data General BVI, Ltd. British Virgin Islands Data General Computers Sdn Bhd'\n",
      "<table> is empty\n",
      "'<table> </table>'\n",
      "<table> is empty\n",
      "'<table> </table>'\n",
      "<table> is empty\n",
      "'<c> Mid Ocean Limited -- Cayman Islands Mid Ocean Holdings Ltd. 100 Bermuda Mid Ocean Reinsurance Company Ltd. 100 Bermuda Baltusrol Holdings Limited 51 Bermuda Mid Ocean Reinsurance Consulting GmbH 100 Germany Ridgewood Holdings Ltd. 100 Bermuda The Brockbank Group plc 100 United Kingdom Brockbank Holdings Limited 100 United Kingdom'\n",
      "<table> is empty\n",
      "'<c> HNC Software Inc., U.K. United Kingdom 100% HNC Software Inc., Japan Japan 100% Neil Thall Associates, Inc. * Georgia 100% Retek Information Systems, Inc. * Nevada 100% Retek Distribution Corporation Delaware 100% Retek Development, Inc. * Nevada 100% Retek Information Systems Inc. Canada 100% Retek Information Systems Ltd. United'\n",
      "<table> is empty\n",
      "'<c> BowSteel Corporation......................... Delaware BowSteel of Texas Corporation................ Delaware Claro Precision, Inc. ....................... Canada Earthline Technologies, Inc. ................ Ohio ETCA G.P., L.L.C. ........................... Texas ETCA L.P., Inc. ............................. Delaware Extrusion Technology Corporation of America.................................... Ohio Galt Alloys, Inc. ........................... Ohio NATI Gas Company............................. Ohio New Century Metals, Inc. .................... Ohio'\n",
      "<table> is empty\n",
      "'<c> Ferro Electronic Materials Inc ................................................. United States of America Ferro Finance Corp. ............................................................ United States of America Ferro Glass &amp; Color Corporation................................................. United States of America Ferro Colores SA de CV.................................................... Mexico Ferro International Services Inc ............................................... United States of America Ferro Pfanstiehl Laboratories, Inc ............................................. United States of'\n"
     ]
    }
   ],
   "source": [
    "archive.get_filings(md.loc[hist_df[\"full_filename\"]], cache_directory=pdfs_dir, cache_pdf=True)"
   ]
  },
  {
   "cell_type": "markdown",
   "id": "2473b76c-0c50-4531-8b1c-2400b8279a4d",
   "metadata": {
    "tags": []
   },
   "source": [
    "Get the documents in \"OCR'ed\" format, with bounding boxes and text. Then, create features for each document that we can train a model on.\n",
    "\n",
    "Add ons:\n",
    "* We could run this post LayoutLM inference, and filter for just bounding boxes that have entity labels, then create features."
   ]
  },
  {
   "cell_type": "code",
   "execution_count": 262,
   "id": "04a951e8-c4db-44c3-b92b-c766a646843b",
   "metadata": {
    "tags": []
   },
   "outputs": [],
   "source": [
    "def calculate_features(df):\n",
    "    features = {}\n",
    "    # features['n_bboxes'] = len(df)\n",
    "    \n",
    "    # block density wasn't a very useful feature, maybe rework?\n",
    "    # Calculate the bounding box density of the area of the page with text\n",
    "    # x_width = df[\"bottom_right_x_pdf\"].max() - df[\"top_left_x_pdf\"].min()\n",
    "    y_height = df[\"bottom_right_y_pdf\"].max() - df[\"top_left_y_pdf\"].min()\n",
    "    # text_area = x_width * y_height\n",
    "    features[\"block_y_density\"] = len(df) / y_height\n",
    "    \n",
    "    # Calculate average y-distance between bounding boxes for a given document\n",
    "    df = df.sort_values(by=['top_left_y_pdf', 'top_left_x_pdf'])\n",
    "    y_diffs = df['top_left_y_pdf'].diff().dropna()\n",
    "    features['avg_y_distance'] = y_diffs.mean()\n",
    "    features['std_y_distance'] = y_diffs.std()\n",
    "\n",
    "    # Define a small threshold to group bounding boxes that are on the same line\n",
    "    y_threshold = 0.5\n",
    "    df.loc[:, 'line_group'] = (df['top_left_y_pdf'].diff().fillna(0).abs() > y_threshold).cumsum()\n",
    "    \n",
    "    # Calculate x-distance to assess horizontal alignment\n",
    "    x_diffs = df.groupby('line_group')['top_left_x_pdf'].apply(lambda x: x.diff().dropna())\n",
    "    # x_diffs = df[\"top_left_x_pdf\"].diff().dropna()\n",
    "    features['avg_x_distance'] = x_diffs.mean()\n",
    "    # features['std_x_distance'] = x_diffs.std()\n",
    "    \n",
    "    boxes_per_line = df.groupby('line_group').size()\n",
    "    features['median_boxes_per_line'] = boxes_per_line.median()\n",
    "    \n",
    "    #df['line_width'] = df.groupby('line_group')['bottom_right_x_pdf'].transform(lambda x: x.max() - x.min())\n",
    "    #features['mean_line_width'] = df['line_width'].mean()\n",
    "\n",
    "    return features"
   ]
  },
  {
   "cell_type": "code",
   "execution_count": 263,
   "id": "71bb9f0e-b7c8-4108-8465-ac9a0058f6cf",
   "metadata": {
    "tags": []
   },
   "outputs": [],
   "source": [
    "features_df = pd.DataFrame()\n",
    "for pdf_filename in os.listdir(pdfs_dir):\n",
    "    if pdf_filename.split(\".\")[-1] != \"pdf\":\n",
    "        continue\n",
    "    src_path = pdfs_dir / pdf_filename\n",
    "    extracted, pg = get_pdf_data_from_path(src_path)\n",
    "    txt = extracted[\"pdf_text\"]\n",
    "    pg_meta = extracted[\"page\"]\n",
    "    txt_df = normalize_bboxes(txt_df=txt, pg_meta_df=pg_meta)\n",
    "    if txt_df.empty:\n",
    "        continue\n",
    "    features = calculate_features(txt_df)\n",
    "    features_df = pd.concat([features_df, pd.DataFrame(index=[pdf_filename.split(\".\")[0]], data=features)])"
   ]
  },
  {
   "cell_type": "code",
   "execution_count": 264,
   "id": "851ee707-a5f1-4e8d-9f0b-5b5b6d76577d",
   "metadata": {
    "tags": []
   },
   "outputs": [
    {
     "data": {
      "text/html": [
       "<div>\n",
       "<style scoped>\n",
       "    .dataframe tbody tr th:only-of-type {\n",
       "        vertical-align: middle;\n",
       "    }\n",
       "\n",
       "    .dataframe tbody tr th {\n",
       "        vertical-align: top;\n",
       "    }\n",
       "\n",
       "    .dataframe thead th {\n",
       "        text-align: right;\n",
       "    }\n",
       "</style>\n",
       "<table border=\"1\" class=\"dataframe\">\n",
       "  <thead>\n",
       "    <tr style=\"text-align: right;\">\n",
       "      <th></th>\n",
       "      <th>block_y_density</th>\n",
       "      <th>avg_y_distance</th>\n",
       "      <th>std_y_distance</th>\n",
       "      <th>avg_x_distance</th>\n",
       "      <th>median_boxes_per_line</th>\n",
       "    </tr>\n",
       "  </thead>\n",
       "  <tbody>\n",
       "    <tr>\n",
       "      <th>1739566-0001739566-21-000088</th>\n",
       "      <td>0.322609</td>\n",
       "      <td>3.012425</td>\n",
       "      <td>8.213566</td>\n",
       "      <td>101.908806</td>\n",
       "      <td>5.0</td>\n",
       "    </tr>\n",
       "  </tbody>\n",
       "</table>\n",
       "</div>"
      ],
      "text/plain": [
       "                              block_y_density  avg_y_distance  std_y_distance  \\\n",
       "1739566-0001739566-21-000088         0.322609        3.012425        8.213566   \n",
       "\n",
       "                              avg_x_distance  median_boxes_per_line  \n",
       "1739566-0001739566-21-000088      101.908806                    5.0  "
      ]
     },
     "execution_count": 264,
     "metadata": {},
     "output_type": "execute_result"
    }
   ],
   "source": [
    "features_df.head(1)"
   ]
  },
  {
   "cell_type": "markdown",
   "id": "2c7307a3-8ad1-4b04-8a41-8835e94f1419",
   "metadata": {
    "tags": []
   },
   "source": [
    "Create y labels from the layout histogram"
   ]
  },
  {
   "cell_type": "code",
   "execution_count": 226,
   "id": "a41449a9-9af4-46d3-8be0-def5df9e92a9",
   "metadata": {
    "tags": []
   },
   "outputs": [
    {
     "data": {
      "text/plain": [
       "array(['Subsidiary List', 'Blue & White Table (3 Column)',\n",
       "       'List with Sentences', 'Generic Table',\n",
       "       'List with Indented Nested Subsidiaries', 'Paragraph',\n",
       "       'Blue & White Table (2 Column)',\n",
       "       'Table with 2 Subsidiary Name Columns'], dtype=object)"
      ]
     },
     "execution_count": 226,
     "metadata": {},
     "output_type": "execute_result"
    }
   ],
   "source": [
    "hist_df[\"Layout Type\"].unique()"
   ]
  },
  {
   "cell_type": "code",
   "execution_count": 254,
   "id": "6463c409-9127-49ee-91ae-2305fd9b628a",
   "metadata": {
    "tags": []
   },
   "outputs": [],
   "source": [
    "hist_df.loc[:, 'label'] = np.where(hist_df['Layout Type'] == 'Paragraph', 1, 0)"
   ]
  },
  {
   "cell_type": "code",
   "execution_count": 255,
   "id": "fe590f06-7f82-488c-b7ec-c4df8e4cddb4",
   "metadata": {
    "tags": []
   },
   "outputs": [
    {
     "data": {
      "text/html": [
       "<div>\n",
       "<style scoped>\n",
       "    .dataframe tbody tr th:only-of-type {\n",
       "        vertical-align: middle;\n",
       "    }\n",
       "\n",
       "    .dataframe tbody tr th {\n",
       "        vertical-align: top;\n",
       "    }\n",
       "\n",
       "    .dataframe thead th {\n",
       "        text-align: right;\n",
       "    }\n",
       "</style>\n",
       "<table border=\"1\" class=\"dataframe\">\n",
       "  <thead>\n",
       "    <tr style=\"text-align: right;\">\n",
       "      <th></th>\n",
       "      <th>Filename</th>\n",
       "      <th>Layout Type</th>\n",
       "      <th>Your Initials</th>\n",
       "      <th>full_filename</th>\n",
       "      <th>label</th>\n",
       "    </tr>\n",
       "  </thead>\n",
       "  <tbody>\n",
       "    <tr>\n",
       "      <th>0</th>\n",
       "      <td>38079-0001558370-16-004332</td>\n",
       "      <td>Subsidiary List</td>\n",
       "      <td>KL</td>\n",
       "      <td>edgar/data/38079/0001558370-16-004332.txt</td>\n",
       "      <td>0</td>\n",
       "    </tr>\n",
       "  </tbody>\n",
       "</table>\n",
       "</div>"
      ],
      "text/plain": [
       "                     Filename      Layout Type Your Initials  \\\n",
       "0  38079-0001558370-16-004332  Subsidiary List            KL   \n",
       "\n",
       "                               full_filename  label  \n",
       "0  edgar/data/38079/0001558370-16-004332.txt      0  "
      ]
     },
     "execution_count": 255,
     "metadata": {},
     "output_type": "execute_result"
    }
   ],
   "source": [
    "hist_df.head(1)"
   ]
  },
  {
   "cell_type": "code",
   "execution_count": 265,
   "id": "d22ef17b-d989-45db-a6fb-c1df4ff3bab6",
   "metadata": {
    "tags": []
   },
   "outputs": [],
   "source": [
    "input_df = features_df.merge(hist_df[[\"Filename\", \"label\", \"full_filename\"]], how=\"left\", left_index=True, right_on=\"Filename\").reset_index(drop=True)"
   ]
  },
  {
   "cell_type": "code",
   "execution_count": 209,
   "id": "227dba56-e4d0-43a8-985a-7a673f80ae99",
   "metadata": {
    "tags": []
   },
   "outputs": [
    {
     "data": {
      "text/plain": [
       "Index(['block_y_density', 'avg_y_distance', 'std_y_distance', 'avg_x_distance',\n",
       "       'std_x_distance', 'median_boxes_per_line', 'Filename', 'label',\n",
       "       'full_filename'],\n",
       "      dtype='object')"
      ]
     },
     "execution_count": 209,
     "metadata": {},
     "output_type": "execute_result"
    }
   ],
   "source": [
    "input_df.columns"
   ]
  },
  {
   "cell_type": "markdown",
   "id": "3fb92c4a-7fcb-40de-af35-145a2b82839e",
   "metadata": {},
   "source": [
    "Train a classifier"
   ]
  },
  {
   "cell_type": "code",
   "execution_count": 249,
   "id": "3a4c6230-896a-4d33-a632-33f11f77d199",
   "metadata": {
    "tags": []
   },
   "outputs": [],
   "source": [
    "from sklearn.model_selection import train_test_split\n",
    "from sklearn.metrics import classification_report\n",
    "from sklearn.svm import SVC\n",
    "from sklearn.preprocessing import StandardScaler"
   ]
  },
  {
   "cell_type": "code",
   "execution_count": 279,
   "id": "66649ae6-1158-47b8-83b4-91ad118e9445",
   "metadata": {
    "tags": []
   },
   "outputs": [
    {
     "name": "stdout",
     "output_type": "stream",
     "text": [
      "              precision    recall  f1-score   support\n",
      "\n",
      "           0       0.95      0.95      0.95        21\n",
      "           1       0.92      0.92      0.92        12\n",
      "\n",
      "    accuracy                           0.94        33\n",
      "   macro avg       0.93      0.93      0.93        33\n",
      "weighted avg       0.94      0.94      0.94        33\n",
      "\n"
     ]
    }
   ],
   "source": [
    "X = input_df.drop(columns=[\"label\", \"full_filename\", \"Filename\"])\n",
    "y = input_df['label']\n",
    "\n",
    "X_train, X_test, y_train, y_test = train_test_split(X, y, test_size=0.3, random_state=16)\n",
    "scaler = StandardScaler()\n",
    "X_scaled = scaler.fit_transform(X_train)\n",
    "model = SVC(kernel='linear')\n",
    "model.fit(X_scaled, y_train)\n",
    "\n",
    "X_test_scaled = scaler.transform(X_test)\n",
    "y_pred = model.predict(X_test_scaled)\n",
    "print(classification_report(y_test, y_pred))\n"
   ]
  },
  {
   "cell_type": "markdown",
   "id": "f6cd3dc3-4d82-48f7-8831-bc0ff8c5cb57",
   "metadata": {},
   "source": [
    "# Scratch: feature selection and cross validation of models"
   ]
  },
  {
   "cell_type": "code",
   "execution_count": 278,
   "id": "cfb8d6a0-2f25-4536-8cb4-12f8fa335d23",
   "metadata": {
    "tags": []
   },
   "outputs": [],
   "source": [
    "results_df = X_test.merge(input_df[[\"Filename\", \"label\"]], how=\"left\", left_index=True, right_index=True)\n",
    "results_df.loc[:, \"pred_label\"] = y_pred"
   ]
  },
  {
   "cell_type": "code",
   "execution_count": 280,
   "id": "aad3941a-c4c3-4478-9366-426ae7c9eb99",
   "metadata": {
    "tags": []
   },
   "outputs": [
    {
     "data": {
      "text/html": [
       "<div>\n",
       "<style scoped>\n",
       "    .dataframe tbody tr th:only-of-type {\n",
       "        vertical-align: middle;\n",
       "    }\n",
       "\n",
       "    .dataframe tbody tr th {\n",
       "        vertical-align: top;\n",
       "    }\n",
       "\n",
       "    .dataframe thead th {\n",
       "        text-align: right;\n",
       "    }\n",
       "</style>\n",
       "<table border=\"1\" class=\"dataframe\">\n",
       "  <thead>\n",
       "    <tr style=\"text-align: right;\">\n",
       "      <th></th>\n",
       "      <th>block_y_density</th>\n",
       "      <th>avg_y_distance</th>\n",
       "      <th>std_y_distance</th>\n",
       "      <th>avg_x_distance</th>\n",
       "      <th>median_boxes_per_line</th>\n",
       "      <th>Filename</th>\n",
       "      <th>label</th>\n",
       "      <th>pred_label</th>\n",
       "    </tr>\n",
       "  </thead>\n",
       "  <tbody>\n",
       "    <tr>\n",
       "      <th>66</th>\n",
       "      <td>0.729740</td>\n",
       "      <td>1.290955</td>\n",
       "      <td>5.511497</td>\n",
       "      <td>28.687408</td>\n",
       "      <td>16.5</td>\n",
       "      <td>320575-0001193125-07-117419</td>\n",
       "      <td>0</td>\n",
       "      <td>1</td>\n",
       "    </tr>\n",
       "    <tr>\n",
       "      <th>26</th>\n",
       "      <td>0.229182</td>\n",
       "      <td>3.953266</td>\n",
       "      <td>12.485551</td>\n",
       "      <td>41.435265</td>\n",
       "      <td>3.0</td>\n",
       "      <td>1093672-0001654954-23-003112</td>\n",
       "      <td>1</td>\n",
       "      <td>0</td>\n",
       "    </tr>\n",
       "  </tbody>\n",
       "</table>\n",
       "</div>"
      ],
      "text/plain": [
       "    block_y_density  avg_y_distance  std_y_distance  avg_x_distance  \\\n",
       "66         0.729740        1.290955        5.511497       28.687408   \n",
       "26         0.229182        3.953266       12.485551       41.435265   \n",
       "\n",
       "    median_boxes_per_line                      Filename  label  pred_label  \n",
       "66                   16.5   320575-0001193125-07-117419      0           1  \n",
       "26                    3.0  1093672-0001654954-23-003112      1           0  "
      ]
     },
     "execution_count": 280,
     "metadata": {},
     "output_type": "execute_result"
    }
   ],
   "source": [
    "results_df[results_df.label != results_df.pred_label]"
   ]
  },
  {
   "cell_type": "code",
   "execution_count": 266,
   "id": "a8b3a69b-4ce0-4721-be28-5d601e2993ce",
   "metadata": {
    "tags": []
   },
   "outputs": [
    {
     "name": "stdout",
     "output_type": "stream",
     "text": [
      "              precision    recall  f1-score   support\n",
      "\n",
      "           0       0.95      0.95      0.95        21\n",
      "           1       0.92      0.92      0.92        12\n",
      "\n",
      "    accuracy                           0.94        33\n",
      "   macro avg       0.93      0.93      0.93        33\n",
      "weighted avg       0.94      0.94      0.94        33\n",
      "\n"
     ]
    }
   ],
   "source": [
    "from sklearn.linear_model import LogisticRegression\n",
    "\n",
    "X = input_df.drop(columns=[\"label\", \"full_filename\", \"Filename\"])\n",
    "y = input_df['label']\n",
    "\n",
    "X_train, X_test, y_train, y_test = train_test_split(X, y, test_size=0.3, random_state=16)\n",
    "scaler = StandardScaler()\n",
    "X_scaled = scaler.fit_transform(X_train)\n",
    "model = LogisticRegression()\n",
    "model.fit(X_scaled, y_train)\n",
    "\n",
    "X_test_scaled = scaler.transform(X_test)\n",
    "y_pred = model.predict(X_test_scaled)\n",
    "print(classification_report(y_test, y_pred))\n"
   ]
  },
  {
   "cell_type": "code",
   "execution_count": 267,
   "id": "2f93e5dd-cc89-426f-a58c-aeee7c07dcac",
   "metadata": {
    "tags": []
   },
   "outputs": [],
   "source": [
    "coefficients = model.coef_[0]\n",
    "\n",
    "# Create a dataframe to display feature importance\n",
    "feature_importance = pd.DataFrame({\n",
    "    'Feature': X.columns,\n",
    "    'Coefficient': coefficients\n",
    "}).sort_values(by='Coefficient', ascending=False)"
   ]
  },
  {
   "cell_type": "code",
   "execution_count": 268,
   "id": "a9dfc67f-7f5f-4f29-9b6b-5a235fda5626",
   "metadata": {
    "tags": []
   },
   "outputs": [
    {
     "data": {
      "text/html": [
       "<div>\n",
       "<style scoped>\n",
       "    .dataframe tbody tr th:only-of-type {\n",
       "        vertical-align: middle;\n",
       "    }\n",
       "\n",
       "    .dataframe tbody tr th {\n",
       "        vertical-align: top;\n",
       "    }\n",
       "\n",
       "    .dataframe thead th {\n",
       "        text-align: right;\n",
       "    }\n",
       "</style>\n",
       "<table border=\"1\" class=\"dataframe\">\n",
       "  <thead>\n",
       "    <tr style=\"text-align: right;\">\n",
       "      <th></th>\n",
       "      <th>Feature</th>\n",
       "      <th>Coefficient</th>\n",
       "    </tr>\n",
       "  </thead>\n",
       "  <tbody>\n",
       "    <tr>\n",
       "      <th>4</th>\n",
       "      <td>median_boxes_per_line</td>\n",
       "      <td>2.087307</td>\n",
       "    </tr>\n",
       "    <tr>\n",
       "      <th>0</th>\n",
       "      <td>block_y_density</td>\n",
       "      <td>0.484606</td>\n",
       "    </tr>\n",
       "    <tr>\n",
       "      <th>2</th>\n",
       "      <td>std_y_distance</td>\n",
       "      <td>-0.692503</td>\n",
       "    </tr>\n",
       "    <tr>\n",
       "      <th>1</th>\n",
       "      <td>avg_y_distance</td>\n",
       "      <td>-0.810105</td>\n",
       "    </tr>\n",
       "    <tr>\n",
       "      <th>3</th>\n",
       "      <td>avg_x_distance</td>\n",
       "      <td>-0.880440</td>\n",
       "    </tr>\n",
       "  </tbody>\n",
       "</table>\n",
       "</div>"
      ],
      "text/plain": [
       "                 Feature  Coefficient\n",
       "4  median_boxes_per_line     2.087307\n",
       "0        block_y_density     0.484606\n",
       "2         std_y_distance    -0.692503\n",
       "1         avg_y_distance    -0.810105\n",
       "3         avg_x_distance    -0.880440"
      ]
     },
     "execution_count": 268,
     "metadata": {},
     "output_type": "execute_result"
    }
   ],
   "source": [
    "feature_importance"
   ]
  },
  {
   "cell_type": "markdown",
   "id": "81f95810-22b8-4ff1-b190-4d2160ea7203",
   "metadata": {},
   "source": [
    "Random Forest"
   ]
  },
  {
   "cell_type": "code",
   "execution_count": 269,
   "id": "9693279b-34eb-450b-9a0f-e9b9aaf73f64",
   "metadata": {
    "tags": []
   },
   "outputs": [
    {
     "data": {
      "text/plain": [
       "median_boxes_per_line    0.396481\n",
       "avg_y_distance           0.250036\n",
       "block_y_density          0.193412\n",
       "std_y_distance           0.119810\n",
       "avg_x_distance           0.040261\n",
       "dtype: float64"
      ]
     },
     "execution_count": 269,
     "metadata": {},
     "output_type": "execute_result"
    }
   ],
   "source": [
    "from sklearn.ensemble import RandomForestClassifier\n",
    "\n",
    "scaler = StandardScaler()\n",
    "X_scaled = scaler.fit_transform(X)\n",
    "\n",
    "# Train a Random Forest classifier\n",
    "rf = RandomForestClassifier(n_estimators=100, random_state=16)\n",
    "rf.fit(X_scaled, y)\n",
    "\n",
    "# Get feature importances\n",
    "feature_importances = pd.Series(rf.feature_importances_, index=X_train.columns)\n",
    "\n",
    "# Sort and display feature importances\n",
    "important_features = feature_importances.sort_values(ascending=False)\n",
    "important_features"
   ]
  },
  {
   "cell_type": "markdown",
   "id": "7e1d6637-9019-440d-b1c9-45c96bafb6b5",
   "metadata": {},
   "source": [
    "RFE with Logistic Regression"
   ]
  },
  {
   "cell_type": "code",
   "execution_count": 270,
   "id": "517210d4-210f-470f-9bad-729491b9e32e",
   "metadata": {
    "tags": []
   },
   "outputs": [
    {
     "name": "stdout",
     "output_type": "stream",
     "text": [
      "Selected features: ['block_y_density', 'avg_y_distance', 'avg_x_distance', 'median_boxes_per_line']\n"
     ]
    }
   ],
   "source": [
    "from sklearn.feature_selection import RFE\n",
    "\n",
    "# Create a Logistic Regression model\n",
    "lr = LogisticRegression()\n",
    "scaler = StandardScaler()\n",
    "X_scaled = scaler.fit_transform(X)\n",
    "# Initialize Recursive Feature Elimination (RFE)\n",
    "rfe = RFE(lr, n_features_to_select=4) \n",
    "rfe.fit(X_scaled, y)\n",
    "\n",
    "# Get the ranking of the features\n",
    "feature_ranking = pd.Series(rfe.ranking_, index=X.columns)\n",
    "\n",
    "# Features selected by RFE\n",
    "selected_features = feature_ranking[feature_ranking == 1].index.tolist()\n",
    "print(\"Selected features:\", selected_features)\n"
   ]
  },
  {
   "cell_type": "markdown",
   "id": "77ed25bb-a3d9-43bf-b6d2-b171e3315322",
   "metadata": {},
   "source": [
    "Cross Validate different classifiers"
   ]
  },
  {
   "cell_type": "code",
   "execution_count": 272,
   "id": "4bb7db42-bbe4-4e33-83d8-46583fe0df18",
   "metadata": {
    "tags": []
   },
   "outputs": [
    {
     "name": "stdout",
     "output_type": "stream",
     "text": [
      "Logistic Regression: Mean F1-Score = 0.9616, Std Dev = 0.0315\n",
      "Random Forest: Mean F1-Score = 0.9499, Std Dev = 0.0469\n",
      "SVM: Mean F1-Score = 0.9749, Std Dev = 0.0308\n"
     ]
    }
   ],
   "source": [
    "from sklearn.model_selection import cross_val_score\n",
    "from sklearn.ensemble import RandomForestClassifier\n",
    "from sklearn.svm import SVC\n",
    "from sklearn.metrics import make_scorer, accuracy_score, f1_score\n",
    "\n",
    "# Define the classifiers\n",
    "classifiers = {\n",
    "    'Logistic Regression': LogisticRegression(max_iter=500),\n",
    "    'Random Forest': RandomForestClassifier(n_estimators=100),\n",
    "    'SVM': SVC(kernel='linear')\n",
    "}\n",
    "\n",
    "# Create a scoring function (use accuracy, F1-score, etc.)\n",
    "scorer = make_scorer(f1_score)\n",
    "\n",
    "# Dictionary to store cross-validation results\n",
    "cv_results = {}\n",
    "\n",
    "scaler = StandardScaler()\n",
    "X_scaled = scaler.fit_transform(X)\n",
    "# Perform cross-validation for each classifier\n",
    "for name, clf in classifiers.items():\n",
    "    # Perform 5-fold cross-validation\n",
    "    scores = cross_val_score(clf, X_scaled, y, cv=5, scoring=scorer)\n",
    "    \n",
    "    # Store the mean score and standard deviation\n",
    "    cv_results[name] = {\n",
    "        'mean_f1': np.mean(scores),\n",
    "        'std_f1': np.std(scores)\n",
    "    }\n",
    "\n",
    "# Print comparison of classifiers\n",
    "for clf_name, scores in cv_results.items():\n",
    "    print(f\"{clf_name}: Mean F1-Score = {scores['mean_f1']:.4f}, Std Dev = {scores['std_f1']:.4f}\")\n"
   ]
  },
  {
   "cell_type": "code",
   "execution_count": null,
   "id": "e7408553-10d3-42a6-b942-69104bac1334",
   "metadata": {},
   "outputs": [],
   "source": []
  }
 ],
 "metadata": {
  "kernelspec": {
   "display_name": "mozilla_sec_eia",
   "language": "python",
   "name": "mozilla_sec_eia"
  },
  "language_info": {
   "codemirror_mode": {
    "name": "ipython",
    "version": 3
   },
   "file_extension": ".py",
   "mimetype": "text/x-python",
   "name": "python",
   "nbconvert_exporter": "python",
   "pygments_lexer": "ipython3",
   "version": "3.11.10"
  }
 },
 "nbformat": 4,
 "nbformat_minor": 5
}
