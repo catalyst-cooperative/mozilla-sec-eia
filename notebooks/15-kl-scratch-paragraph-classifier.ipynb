{
 "cells": [
  {
   "cell_type": "code",
   "execution_count": 1,
   "id": "cdc30fc3-e19e-4e98-a659-8a3d63a7324f",
   "metadata": {
    "tags": []
   },
   "outputs": [],
   "source": [
    "%load_ext autoreload\n",
    "%autoreload 3"
   ]
  },
  {
   "cell_type": "code",
   "execution_count": 75,
   "id": "54afdddc-5707-42fc-8e5f-283113bbd6ff",
   "metadata": {
    "tags": []
   },
   "outputs": [],
   "source": [
    "import os\n",
    "from pathlib import Path\n",
    "\n",
    "import numpy as np\n",
    "import pandas as pd\n",
    "\n",
    "from mozilla_sec_eia.models.sec10k.utils.cloud import GCSArchive\n",
    "from mozilla_sec_eia.models.sec10k.utils.layoutlm import normalize_bboxes\n",
    "from mozilla_sec_eia.models.sec10k.utils.pdf import get_pdf_data_from_path"
   ]
  },
  {
   "cell_type": "markdown",
   "id": "f673d44d-a2a2-4ee3-86a3-7e2de81bfd1a",
   "metadata": {},
   "source": [
    "Create a directory with all of the validation docs"
   ]
  },
  {
   "cell_type": "code",
   "execution_count": 3,
   "id": "45a45f0f-80c8-4f5f-9c13-c0b850c22253",
   "metadata": {
    "tags": []
   },
   "outputs": [],
   "source": [
    "hist_df = pd.read_csv(\"validation_layout_histogram.csv\")"
   ]
  },
  {
   "cell_type": "code",
   "execution_count": 5,
   "id": "4a201c93-fa26-4e6a-a16d-c7e769d30b5f",
   "metadata": {
    "tags": []
   },
   "outputs": [],
   "source": [
    "hist_df.loc[:, \"full_filename\"] = \"edgar/data/\" + hist_df[\"Filename\"].str.split(\"-\", expand=True)[0] + \"/\" + hist_df[\"Filename\"].str.split(\"-\", expand=True, n=1)[1] + \".txt\""
   ]
  },
  {
   "cell_type": "code",
   "execution_count": 6,
   "id": "370498b5-b4d9-449f-80ae-afd2c400d2ed",
   "metadata": {
    "tags": []
   },
   "outputs": [],
   "source": [
    "archive = GCSArchive()\n",
    "md = archive.get_metadata()"
   ]
  },
  {
   "cell_type": "code",
   "execution_count": 11,
   "id": "f079f4da-7106-4d98-ae5d-482012d0ab84",
   "metadata": {
    "tags": []
   },
   "outputs": [],
   "source": [
    "pdfs_dir = Path(\"../sec10k_filings/validation_filings\")"
   ]
  },
  {
   "cell_type": "code",
   "execution_count": null,
   "id": "5bbb6466-0e0f-49bf-93ed-b156c46d55ae",
   "metadata": {
    "tags": []
   },
   "outputs": [],
   "source": [
    "archive.get_filings(md.loc[hist_df[\"full_filename\"]], cache_directory=pdfs_dir, cache_pdf=True)"
   ]
  },
  {
   "cell_type": "markdown",
   "id": "2473b76c-0c50-4531-8b1c-2400b8279a4d",
   "metadata": {
    "tags": []
   },
   "source": [
    "Get the documents in \"OCR'ed\" format, with bounding boxes and text. Then, create features for each document that we can train a model on.\n",
    "\n",
    "Add ons:\n",
    "* We could run this post LayoutLM inference, and filter for just bounding boxes that have entity labels, then create features."
   ]
  },
  {
   "cell_type": "code",
   "execution_count": 61,
   "id": "04a951e8-c4db-44c3-b92b-c766a646843b",
   "metadata": {
    "tags": []
   },
   "outputs": [],
   "source": [
    "def calculate_features(df):\n",
    "    features = {}\n",
    "    features['n_bboxes'] = len(df)\n",
    "    \n",
    "    # Calculate the bounding box density of the area of the page with text\n",
    "    x_width = df[\"top_left_x_pdf\"].max() - df[\"top_left_x_pdf\"].min()\n",
    "    y_height = df[\"top_left_y_pdf\"].max() - df[\"top_left_y_pdf\"].min()\n",
    "    text_area = x_width * y_height\n",
    "    features[\"block_density\"] = features[\"n_bboxes\"] / text_area\n",
    "    \n",
    "    # Calculate average y-distance between bounding boxes for a given document\n",
    "    df = df.sort_values(by=['top_left_y_pdf', 'top_left_x_pdf'])\n",
    "    y_diffs = df['top_left_y_pdf'].diff().dropna()\n",
    "    features['avg_y_distance'] = y_diffs.mean()\n",
    "    features['std_y_distance'] = y_diffs.std()\n",
    "\n",
    "    # Calculate x-distance to assess horizontal alignment\n",
    "    x_diffs = df.groupby('top_left_y_pdf')['top_left_x_pdf'].apply(lambda x: x.diff().dropna())\n",
    "    features['avg_x_distance'] = x_diffs.mean()\n",
    "    features['std_x_distance'] = x_diffs.std()\n",
    "    \n",
    "    return features"
   ]
  },
  {
   "cell_type": "code",
   "execution_count": 71,
   "id": "71bb9f0e-b7c8-4108-8465-ac9a0058f6cf",
   "metadata": {
    "tags": []
   },
   "outputs": [],
   "source": [
    "features_df = pd.DataFrame()\n",
    "for pdf_filename in os.listdir(pdfs_dir):\n",
    "    if pdf_filename.split(\".\")[-1] != \"pdf\":\n",
    "        continue\n",
    "    src_path = pdfs_dir / pdf_filename\n",
    "    extracted, pg = get_pdf_data_from_path(src_path)\n",
    "    txt = extracted[\"pdf_text\"]\n",
    "    pg_meta = extracted[\"page\"]\n",
    "    txt_df = normalize_bboxes(txt_df=txt, pg_meta_df=pg_meta)\n",
    "    features = calculate_features(txt_df)\n",
    "    features_df = pd.concat([features_df, pd.DataFrame(index=[pdf_filename.split(\".\")[0]], data=features)])"
   ]
  },
  {
   "cell_type": "code",
   "execution_count": 72,
   "id": "851ee707-a5f1-4e8d-9f0b-5b5b6d76577d",
   "metadata": {
    "tags": []
   },
   "outputs": [
    {
     "data": {
      "text/html": [
       "<div>\n",
       "<style scoped>\n",
       "    .dataframe tbody tr th:only-of-type {\n",
       "        vertical-align: middle;\n",
       "    }\n",
       "\n",
       "    .dataframe tbody tr th {\n",
       "        vertical-align: top;\n",
       "    }\n",
       "\n",
       "    .dataframe thead th {\n",
       "        text-align: right;\n",
       "    }\n",
       "</style>\n",
       "<table border=\"1\" class=\"dataframe\">\n",
       "  <thead>\n",
       "    <tr style=\"text-align: right;\">\n",
       "      <th></th>\n",
       "      <th>n_bboxes</th>\n",
       "      <th>block_density</th>\n",
       "      <th>avg_y_distance</th>\n",
       "      <th>std_y_distance</th>\n",
       "      <th>avg_x_distance</th>\n",
       "      <th>std_x_distance</th>\n",
       "    </tr>\n",
       "  </thead>\n",
       "  <tbody>\n",
       "    <tr>\n",
       "      <th>1739566-0001739566-21-000088</th>\n",
       "      <td>147</td>\n",
       "      <td>0.000383</td>\n",
       "      <td>3.012425</td>\n",
       "      <td>8.213566</td>\n",
       "      <td>101.908806</td>\n",
       "      <td>156.981918</td>\n",
       "    </tr>\n",
       "  </tbody>\n",
       "</table>\n",
       "</div>"
      ],
      "text/plain": [
       "                              n_bboxes  block_density  avg_y_distance  \\\n",
       "1739566-0001739566-21-000088       147       0.000383        3.012425   \n",
       "\n",
       "                              std_y_distance  avg_x_distance  std_x_distance  \n",
       "1739566-0001739566-21-000088        8.213566      101.908806      156.981918  "
      ]
     },
     "execution_count": 72,
     "metadata": {},
     "output_type": "execute_result"
    }
   ],
   "source": [
    "features_df.head(1)"
   ]
  },
  {
   "cell_type": "markdown",
   "id": "2c7307a3-8ad1-4b04-8a41-8835e94f1419",
   "metadata": {
    "tags": []
   },
   "source": [
    "Create y labels from the layout histogram"
   ]
  },
  {
   "cell_type": "code",
   "execution_count": 73,
   "id": "a41449a9-9af4-46d3-8be0-def5df9e92a9",
   "metadata": {
    "tags": []
   },
   "outputs": [
    {
     "data": {
      "text/plain": [
       "array(['Subsidiary List', 'Blue & White Table (3 Column)',\n",
       "       'List with Sentences', 'Generic Table',\n",
       "       'List with Indented Nested Subsidiaries', 'Paragraph',\n",
       "       'Blue & White Table (2 Column)',\n",
       "       'Table with 2 Subsidiary Name Columns'], dtype=object)"
      ]
     },
     "execution_count": 73,
     "metadata": {},
     "output_type": "execute_result"
    }
   ],
   "source": [
    "hist_df[\"Layout Type\"].unique()"
   ]
  },
  {
   "cell_type": "code",
   "execution_count": 76,
   "id": "6463c409-9127-49ee-91ae-2305fd9b628a",
   "metadata": {
    "tags": []
   },
   "outputs": [],
   "source": [
    "hist_df.loc[:, 'label'] = np.where(hist_df['Layout Type'] == 'Paragraph', 1, 0)"
   ]
  },
  {
   "cell_type": "code",
   "execution_count": 77,
   "id": "fe590f06-7f82-488c-b7ec-c4df8e4cddb4",
   "metadata": {
    "tags": []
   },
   "outputs": [
    {
     "data": {
      "text/html": [
       "<div>\n",
       "<style scoped>\n",
       "    .dataframe tbody tr th:only-of-type {\n",
       "        vertical-align: middle;\n",
       "    }\n",
       "\n",
       "    .dataframe tbody tr th {\n",
       "        vertical-align: top;\n",
       "    }\n",
       "\n",
       "    .dataframe thead th {\n",
       "        text-align: right;\n",
       "    }\n",
       "</style>\n",
       "<table border=\"1\" class=\"dataframe\">\n",
       "  <thead>\n",
       "    <tr style=\"text-align: right;\">\n",
       "      <th></th>\n",
       "      <th>Filename</th>\n",
       "      <th>Layout Type</th>\n",
       "      <th>Your Initials</th>\n",
       "      <th>full_filename</th>\n",
       "      <th>label</th>\n",
       "    </tr>\n",
       "  </thead>\n",
       "  <tbody>\n",
       "    <tr>\n",
       "      <th>0</th>\n",
       "      <td>38079-0001558370-16-004332</td>\n",
       "      <td>Subsidiary List</td>\n",
       "      <td>KL</td>\n",
       "      <td>edgar/data/38079/0001558370-16-004332.txt</td>\n",
       "      <td>0</td>\n",
       "    </tr>\n",
       "  </tbody>\n",
       "</table>\n",
       "</div>"
      ],
      "text/plain": [
       "                     Filename      Layout Type Your Initials  \\\n",
       "0  38079-0001558370-16-004332  Subsidiary List            KL   \n",
       "\n",
       "                               full_filename  label  \n",
       "0  edgar/data/38079/0001558370-16-004332.txt      0  "
      ]
     },
     "execution_count": 77,
     "metadata": {},
     "output_type": "execute_result"
    }
   ],
   "source": [
    "hist_df.head(1)"
   ]
  },
  {
   "cell_type": "code",
   "execution_count": 87,
   "id": "d22ef17b-d989-45db-a6fb-c1df4ff3bab6",
   "metadata": {
    "tags": []
   },
   "outputs": [],
   "source": [
    "input_df = features_df.merge(hist_df[[\"Filename\", \"label\", \"full_filename\"]], how=\"left\", left_index=True, right_on=\"Filename\").reset_index(drop=True)"
   ]
  },
  {
   "cell_type": "code",
   "execution_count": 88,
   "id": "227dba56-e4d0-43a8-985a-7a673f80ae99",
   "metadata": {
    "tags": []
   },
   "outputs": [
    {
     "data": {
      "text/plain": [
       "Index(['n_bboxes', 'block_density', 'avg_y_distance', 'std_y_distance',\n",
       "       'avg_x_distance', 'std_x_distance', 'Filename', 'label',\n",
       "       'full_filename'],\n",
       "      dtype='object')"
      ]
     },
     "execution_count": 88,
     "metadata": {},
     "output_type": "execute_result"
    }
   ],
   "source": [
    "input_df.columns"
   ]
  },
  {
   "cell_type": "markdown",
   "id": "3fb92c4a-7fcb-40de-af35-145a2b82839e",
   "metadata": {},
   "source": [
    "Train a classifier"
   ]
  },
  {
   "cell_type": "code",
   "execution_count": 85,
   "id": "3a4c6230-896a-4d33-a632-33f11f77d199",
   "metadata": {
    "tags": []
   },
   "outputs": [],
   "source": [
    "from sklearn.model_selection import train_test_split\n",
    "from sklearn.linear_model import LogisticRegression\n",
    "from sklearn.metrics import classification_report"
   ]
  },
  {
   "cell_type": "code",
   "execution_count": 89,
   "id": "a8b3a69b-4ce0-4721-be28-5d601e2993ce",
   "metadata": {
    "tags": []
   },
   "outputs": [
    {
     "name": "stdout",
     "output_type": "stream",
     "text": [
      "              precision    recall  f1-score   support\n",
      "\n",
      "           0       1.00      1.00      1.00         9\n",
      "           1       1.00      1.00      1.00         6\n",
      "\n",
      "    accuracy                           1.00        15\n",
      "   macro avg       1.00      1.00      1.00        15\n",
      "weighted avg       1.00      1.00      1.00        15\n",
      "\n"
     ]
    }
   ],
   "source": [
    "X = input_df.drop(columns=[\"label\", \"full_filename\", \"Filename\"])\n",
    "y = input_df['label']\n",
    "\n",
    "X_train, X_test, y_train, y_test = train_test_split(X, y, test_size=0.2, random_state=16)\n",
    "model = LogisticRegression()\n",
    "model.fit(X_train, y_train)\n",
    "\n",
    "y_pred = model.predict(X_test)\n",
    "print(classification_report(y_test, y_pred))\n"
   ]
  },
  {
   "cell_type": "code",
   "execution_count": null,
   "id": "4a70e13d-f009-4642-9a85-1a018a6724a4",
   "metadata": {},
   "outputs": [],
   "source": []
  }
 ],
 "metadata": {
  "kernelspec": {
   "display_name": "mozilla_sec_eia",
   "language": "python",
   "name": "mozilla_sec_eia"
  },
  "language_info": {
   "codemirror_mode": {
    "name": "ipython",
    "version": 3
   },
   "file_extension": ".py",
   "mimetype": "text/x-python",
   "name": "python",
   "nbconvert_exporter": "python",
   "pygments_lexer": "ipython3",
   "version": "3.11.10"
  }
 },
 "nbformat": 4,
 "nbformat_minor": 5
}
