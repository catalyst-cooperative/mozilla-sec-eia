{
 "cells": [
  {
   "cell_type": "code",
   "execution_count": null,
   "id": "290251c2-3103-4ebb-a13f-f0274954d220",
   "metadata": {
    "tags": []
   },
   "outputs": [],
   "source": [
    "%load_ext autoreload\n",
    "%autoreload 2"
   ]
  },
  {
   "cell_type": "code",
   "execution_count": null,
   "id": "cc765246-7684-431e-bd16-eb62363d5430",
   "metadata": {
    "tags": []
   },
   "outputs": [],
   "source": [
    "from pathlib import Path\n",
    "import fitz\n",
    "import numpy as np\n",
    "\n",
    "from mozilla_sec_eia.utils.pdf import combine_doc_pages, display_img_array, extract_pdf_data_from_page, get_label_studio_bbox_dicts, overlay_bboxes, pdf_coords_to_pixel_coords, render_page"
   ]
  },
  {
   "cell_type": "code",
   "execution_count": null,
   "id": "31270ad2-5fbc-4070-9d1f-6d01f845b9da",
   "metadata": {
    "tags": []
   },
   "outputs": [],
   "source": [
    "filepath = Path(\"../sec10k_filings/pdfs/40545-2004q1-40545-0000040545-04-000013.pdf\")\n",
    "assert filepath.exists()"
   ]
  },
  {
   "cell_type": "code",
   "execution_count": null,
   "id": "aa6ce146-bdd3-49f6-b680-b865688afada",
   "metadata": {
    "tags": []
   },
   "outputs": [],
   "source": [
    "doc = fitz.Document(str(filepath))\n",
    "doc.is_pdf"
   ]
  },
  {
   "cell_type": "markdown",
   "id": "c95f1b35-e05f-4861-978d-271c4f2cd77c",
   "metadata": {},
   "source": [
    "Multi page PDFs show up as separate indices in doc."
   ]
  },
  {
   "cell_type": "code",
   "execution_count": null,
   "id": "2db61900-f20a-4d59-81f5-d09a28c24f0b",
   "metadata": {
    "tags": []
   },
   "outputs": [],
   "source": [
    "len(doc)"
   ]
  },
  {
   "cell_type": "code",
   "execution_count": null,
   "id": "1479c658-0511-40d3-8cfd-e806ac7b015e",
   "metadata": {
    "tags": []
   },
   "outputs": [],
   "source": [
    "pg = combine_doc_pages(doc)\n",
    "extracted = extract_pdf_data_from_page(pg)\n",
    "extracted.keys()"
   ]
  },
  {
   "cell_type": "code",
   "execution_count": null,
   "id": "8011d8d0-57df-4717-b7ec-1df373a02cc6",
   "metadata": {
    "tags": []
   },
   "outputs": [],
   "source": [
    "txt = extracted['pdf_text']\n",
    "img_info = extracted['image']\n",
    "pg_meta = extracted['page']\n",
    "txt.shape, img_info.shape, pg_meta.shape"
   ]
  },
  {
   "cell_type": "code",
   "execution_count": null,
   "id": "8a2edd54-6ac5-4988-a7ef-78c54fd4e383",
   "metadata": {
    "tags": []
   },
   "outputs": [],
   "source": [
    "full_pg_img = render_page(pg)"
   ]
  },
  {
   "cell_type": "code",
   "execution_count": null,
   "id": "f3782c66-6e22-447e-a75c-14e3a0b01674",
   "metadata": {
    "tags": []
   },
   "outputs": [],
   "source": [
    "full_pg_img"
   ]
  },
  {
   "cell_type": "code",
   "execution_count": null,
   "id": "0dcb711a-8f6e-45f2-888c-f765da79a121",
   "metadata": {
    "tags": []
   },
   "outputs": [],
   "source": [
    "txt_arr = txt[[\"top_left_x_pdf\", \"top_left_y_pdf\", \"bottom_right_x_pdf\", \"bottom_right_y_pdf\"]].to_numpy()\n",
    "txt_arr = pdf_coords_to_pixel_coords(txt_arr, dpi=150)\n",
    "display_img_array(overlay_bboxes(np.array(full_pg_img), txt_arr))"
   ]
  },
  {
   "cell_type": "code",
   "execution_count": null,
   "id": "5c082be8-7428-4b26-a3c3-9b3c1c87eddc",
   "metadata": {},
   "outputs": [],
   "source": []
  }
 ],
 "metadata": {
  "kernelspec": {
   "display_name": "mozilla-sec-eia",
   "language": "python",
   "name": "mozilla-sec-eia"
  },
  "language_info": {
   "codemirror_mode": {
    "name": "ipython",
    "version": 3
   },
   "file_extension": ".py",
   "mimetype": "text/x-python",
   "name": "python",
   "nbconvert_exporter": "python",
   "pygments_lexer": "ipython3",
   "version": "3.11.9"
  }
 },
 "nbformat": 4,
 "nbformat_minor": 5
}
