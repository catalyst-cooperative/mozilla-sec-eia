{
 "cells": [
  {
   "cell_type": "markdown",
   "id": "15ed3a39-8739-4399-ad08-4f1ec6600bbf",
   "metadata": {},
   "source": [
    "# Look at extracted Ex. 21 data from full model run"
   ]
  },
  {
   "cell_type": "code",
   "execution_count": null,
   "id": "f5919ca3-0f75-4e74-a231-208e01c37c31",
   "metadata": {},
   "outputs": [],
   "source": [
    "%load_ext autoreload\n",
    "%autoreload 3"
   ]
  },
  {
   "cell_type": "code",
   "execution_count": 1,
   "id": "a16aa677-5c09-45da-a3a6-a030a6efd7cb",
   "metadata": {
    "tags": []
   },
   "outputs": [],
   "source": [
    "import pandas as pd"
   ]
  },
  {
   "cell_type": "code",
   "execution_count": 2,
   "id": "36f1b68c-2fb2-4109-b57b-84cf2193b9bb",
   "metadata": {
    "tags": []
   },
   "outputs": [],
   "source": [
    "df = pd.read_parquet(\"gs://sec10k-outputs/ex21_company_ownership_info/2016q2.parquet\")"
   ]
  },
  {
   "cell_type": "code",
   "execution_count": 3,
   "id": "049c6ead-ceb6-4ac9-9ae4-fb92403a210d",
   "metadata": {
    "tags": []
   },
   "outputs": [
    {
     "data": {
      "text/html": [
       "<div>\n",
       "<style scoped>\n",
       "    .dataframe tbody tr th:only-of-type {\n",
       "        vertical-align: middle;\n",
       "    }\n",
       "\n",
       "    .dataframe tbody tr th {\n",
       "        vertical-align: top;\n",
       "    }\n",
       "\n",
       "    .dataframe thead th {\n",
       "        text-align: right;\n",
       "    }\n",
       "</style>\n",
       "<table border=\"1\" class=\"dataframe\">\n",
       "  <thead>\n",
       "    <tr style=\"text-align: right;\">\n",
       "      <th></th>\n",
       "      <th>id</th>\n",
       "      <th>subsidiary</th>\n",
       "      <th>loc</th>\n",
       "      <th>own_per</th>\n",
       "    </tr>\n",
       "  </thead>\n",
       "  <tbody>\n",
       "    <tr>\n",
       "      <th>0</th>\n",
       "      <td>1124524-0001144204-16-110227</td>\n",
       "      <td>cryoport systems, inc</td>\n",
       "      <td>None</td>\n",
       "      <td>None</td>\n",
       "    </tr>\n",
       "    <tr>\n",
       "      <th>1</th>\n",
       "      <td>1126741-0001558370-16-006362</td>\n",
       "      <td>gsi technology holdings, inc</td>\n",
       "      <td>cayman islands</td>\n",
       "      <td>None</td>\n",
       "    </tr>\n",
       "    <tr>\n",
       "      <th>2</th>\n",
       "      <td>1126741-0001558370-16-006362</td>\n",
       "      <td>gsi technology (bvi), inc</td>\n",
       "      <td>british virgin islands</td>\n",
       "      <td>None</td>\n",
       "    </tr>\n",
       "    <tr>\n",
       "      <th>3</th>\n",
       "      <td>1126741-0001558370-16-006362</td>\n",
       "      <td>gsi technology taiwan, inc</td>\n",
       "      <td>republic of china</td>\n",
       "      <td>None</td>\n",
       "    </tr>\n",
       "    <tr>\n",
       "      <th>4</th>\n",
       "      <td>1126741-0001558370-16-006362</td>\n",
       "      <td>gsi technology israel ltd</td>\n",
       "      <td>israeli</td>\n",
       "      <td>None</td>\n",
       "    </tr>\n",
       "    <tr>\n",
       "      <th>...</th>\n",
       "      <td>...</td>\n",
       "      <td>...</td>\n",
       "      <td>...</td>\n",
       "      <td>...</td>\n",
       "    </tr>\n",
       "    <tr>\n",
       "      <th>14</th>\n",
       "      <td>1639300-0001193125-16-536766</td>\n",
       "      <td>bargain parent, inc</td>\n",
       "      <td>delaware</td>\n",
       "      <td>None</td>\n",
       "    </tr>\n",
       "    <tr>\n",
       "      <th>15</th>\n",
       "      <td>1639300-0001193125-16-536766</td>\n",
       "      <td>ollie’s holdings, inc</td>\n",
       "      <td>delaware</td>\n",
       "      <td>None</td>\n",
       "    </tr>\n",
       "    <tr>\n",
       "      <th>16</th>\n",
       "      <td>1639300-0001193125-16-536766</td>\n",
       "      <td>ollie’s</td>\n",
       "      <td>pennsylvania</td>\n",
       "      <td>None</td>\n",
       "    </tr>\n",
       "    <tr>\n",
       "      <th>17</th>\n",
       "      <td>1639300-0001193125-16-536766</td>\n",
       "      <td>obo ventures, inc</td>\n",
       "      <td>pennsylvania</td>\n",
       "      <td>None</td>\n",
       "    </tr>\n",
       "    <tr>\n",
       "      <th>18</th>\n",
       "      <td>1636050-0001636050-16-000042</td>\n",
       "      <td>axovant sciences, inc</td>\n",
       "      <td>delaware</td>\n",
       "      <td>None</td>\n",
       "    </tr>\n",
       "  </tbody>\n",
       "</table>\n",
       "<p>11134 rows × 4 columns</p>\n",
       "</div>"
      ],
      "text/plain": [
       "                              id                    subsidiary  \\\n",
       "0   1124524-0001144204-16-110227         cryoport systems, inc   \n",
       "1   1126741-0001558370-16-006362  gsi technology holdings, inc   \n",
       "2   1126741-0001558370-16-006362     gsi technology (bvi), inc   \n",
       "3   1126741-0001558370-16-006362    gsi technology taiwan, inc   \n",
       "4   1126741-0001558370-16-006362     gsi technology israel ltd   \n",
       "..                           ...                           ...   \n",
       "14  1639300-0001193125-16-536766           bargain parent, inc   \n",
       "15  1639300-0001193125-16-536766         ollie’s holdings, inc   \n",
       "16  1639300-0001193125-16-536766                       ollie’s   \n",
       "17  1639300-0001193125-16-536766             obo ventures, inc   \n",
       "18  1636050-0001636050-16-000042         axovant sciences, inc   \n",
       "\n",
       "                       loc own_per  \n",
       "0                     None    None  \n",
       "1           cayman islands    None  \n",
       "2   british virgin islands    None  \n",
       "3        republic of china    None  \n",
       "4                  israeli    None  \n",
       "..                     ...     ...  \n",
       "14                delaware    None  \n",
       "15                delaware    None  \n",
       "16            pennsylvania    None  \n",
       "17            pennsylvania    None  \n",
       "18                delaware    None  \n",
       "\n",
       "[11134 rows x 4 columns]"
      ]
     },
     "execution_count": 3,
     "metadata": {},
     "output_type": "execute_result"
    }
   ],
   "source": [
    "df"
   ]
  },
  {
   "cell_type": "code",
   "execution_count": null,
   "id": "f8459b42-c3ae-4f91-b202-9a123de4957a",
   "metadata": {},
   "outputs": [],
   "source": []
  }
 ],
 "metadata": {
  "kernelspec": {
   "display_name": "mozilla_sec_eia",
   "language": "python",
   "name": "mozilla_sec_eia"
  },
  "language_info": {
   "codemirror_mode": {
    "name": "ipython",
    "version": 3
   },
   "file_extension": ".py",
   "mimetype": "text/x-python",
   "name": "python",
   "nbconvert_exporter": "python",
   "pygments_lexer": "ipython3",
   "version": "3.11.10"
  }
 },
 "nbformat": 4,
 "nbformat_minor": 5
}
