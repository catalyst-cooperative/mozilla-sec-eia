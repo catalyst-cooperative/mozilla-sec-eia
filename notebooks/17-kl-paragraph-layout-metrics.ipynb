{
 "cells": [
  {
   "cell_type": "code",
   "execution_count": 1,
   "id": "748b07d1-61ac-43b8-bff9-9f660626da1b",
   "metadata": {
    "tags": []
   },
   "outputs": [],
   "source": [
    "%load_ext autoreload\n",
    "%autoreload 3"
   ]
  },
  {
   "cell_type": "code",
   "execution_count": 2,
   "id": "bb513a3e-31f7-49da-895b-e3ed4f52efd4",
   "metadata": {
    "tags": []
   },
   "outputs": [],
   "source": [
    "import os\n",
    "from pathlib import Path\n",
    "\n",
    "import pandas as pd\n",
    "\n",
    "from mozilla_sec_eia.models.sec10k.utils.cloud import GCSArchive"
   ]
  },
  {
   "cell_type": "code",
   "execution_count": 3,
   "id": "29c9b2e0-7f2f-4ab7-9972-f1ed30ff196a",
   "metadata": {
    "tags": []
   },
   "outputs": [],
   "source": [
    "archive = GCSArchive()\n",
    "md = archive.get_metadata()"
   ]
  },
  {
   "cell_type": "code",
   "execution_count": 4,
   "id": "1608bf1e-d6cf-4e3a-8f69-0e62744d0dfd",
   "metadata": {
    "tags": []
   },
   "outputs": [
    {
     "data": {
      "text/html": [
       "<div>\n",
       "<style scoped>\n",
       "    .dataframe tbody tr th:only-of-type {\n",
       "        vertical-align: middle;\n",
       "    }\n",
       "\n",
       "    .dataframe tbody tr th {\n",
       "        vertical-align: top;\n",
       "    }\n",
       "\n",
       "    .dataframe thead th {\n",
       "        text-align: right;\n",
       "    }\n",
       "</style>\n",
       "<table border=\"1\" class=\"dataframe\">\n",
       "  <thead>\n",
       "    <tr style=\"text-align: right;\">\n",
       "      <th></th>\n",
       "      <th>cik</th>\n",
       "      <th>company_name</th>\n",
       "      <th>form_type</th>\n",
       "      <th>date_filed</th>\n",
       "      <th>exhibit_21_version</th>\n",
       "      <th>year_quarter</th>\n",
       "    </tr>\n",
       "    <tr>\n",
       "      <th>filename</th>\n",
       "      <th></th>\n",
       "      <th></th>\n",
       "      <th></th>\n",
       "      <th></th>\n",
       "      <th></th>\n",
       "      <th></th>\n",
       "    </tr>\n",
       "  </thead>\n",
       "  <tbody>\n",
       "    <tr>\n",
       "      <th>edgar/data/17206/0000017206-94-000007.txt</th>\n",
       "      <td>17206</td>\n",
       "      <td>CAPITAL HOLDING CORP</td>\n",
       "      <td>10-K/A</td>\n",
       "      <td>1993-12-22</td>\n",
       "      <td>None</td>\n",
       "      <td>1993q4</td>\n",
       "    </tr>\n",
       "    <tr>\n",
       "      <th>edgar/data/29082/0000950131-94-000021.txt</th>\n",
       "      <td>29082</td>\n",
       "      <td>DISNEY WALT CO</td>\n",
       "      <td>10-K</td>\n",
       "      <td>1993-12-22</td>\n",
       "      <td>21</td>\n",
       "      <td>1993q4</td>\n",
       "    </tr>\n",
       "    <tr>\n",
       "      <th>edgar/data/32377/0000032377-94-000001.txt</th>\n",
       "      <td>32377</td>\n",
       "      <td>ELIZABETHTOWN GAS CO</td>\n",
       "      <td>10-K</td>\n",
       "      <td>1993-12-13</td>\n",
       "      <td>21</td>\n",
       "      <td>1993q4</td>\n",
       "    </tr>\n",
       "    <tr>\n",
       "      <th>edgar/data/353944/0000353944-94-000005.txt</th>\n",
       "      <td>353944</td>\n",
       "      <td>INTERNATIONAL GAME TECHNOLOGY</td>\n",
       "      <td>10-K</td>\n",
       "      <td>1993-12-23</td>\n",
       "      <td>21</td>\n",
       "      <td>1993q4</td>\n",
       "    </tr>\n",
       "    <tr>\n",
       "      <th>edgar/data/60512/0000060512-94-000006.txt</th>\n",
       "      <td>60512</td>\n",
       "      <td>LOUISIANA LAND &amp; EXPLORATION CO</td>\n",
       "      <td>10-K/A</td>\n",
       "      <td>1993-10-07</td>\n",
       "      <td>None</td>\n",
       "      <td>1993q4</td>\n",
       "    </tr>\n",
       "    <tr>\n",
       "      <th>...</th>\n",
       "      <td>...</td>\n",
       "      <td>...</td>\n",
       "      <td>...</td>\n",
       "      <td>...</td>\n",
       "      <td>...</td>\n",
       "      <td>...</td>\n",
       "    </tr>\n",
       "    <tr>\n",
       "      <th>edgar/data/932021/0001493152-23-046428.txt</th>\n",
       "      <td>932021</td>\n",
       "      <td>GLOBAL TECHNOLOGIES LTD</td>\n",
       "      <td>10-K</td>\n",
       "      <td>2023-12-29</td>\n",
       "      <td>21.1</td>\n",
       "      <td>2023q4</td>\n",
       "    </tr>\n",
       "    <tr>\n",
       "      <th>edgar/data/933974/0001558370-23-019262.txt</th>\n",
       "      <td>933974</td>\n",
       "      <td>Azenta, Inc.</td>\n",
       "      <td>10-K</td>\n",
       "      <td>2023-11-21</td>\n",
       "      <td>21.0</td>\n",
       "      <td>2023q4</td>\n",
       "    </tr>\n",
       "    <tr>\n",
       "      <th>edgar/data/935419/0001628280-23-041580.txt</th>\n",
       "      <td>935419</td>\n",
       "      <td>RCI HOSPITALITY HOLDINGS, INC.</td>\n",
       "      <td>10-K</td>\n",
       "      <td>2023-12-14</td>\n",
       "      <td>21.1</td>\n",
       "      <td>2023q4</td>\n",
       "    </tr>\n",
       "    <tr>\n",
       "      <th>edgar/data/936395/0000936395-23-000044.txt</th>\n",
       "      <td>936395</td>\n",
       "      <td>CIENA CORP</td>\n",
       "      <td>10-K</td>\n",
       "      <td>2023-12-15</td>\n",
       "      <td>21.1</td>\n",
       "      <td>2023q4</td>\n",
       "    </tr>\n",
       "    <tr>\n",
       "      <th>edgar/data/936528/0000936528-23-000207.txt</th>\n",
       "      <td>936528</td>\n",
       "      <td>WAFD INC</td>\n",
       "      <td>10-K</td>\n",
       "      <td>2023-11-17</td>\n",
       "      <td>None</td>\n",
       "      <td>2023q4</td>\n",
       "    </tr>\n",
       "  </tbody>\n",
       "</table>\n",
       "<p>290379 rows × 6 columns</p>\n",
       "</div>"
      ],
      "text/plain": [
       "                                               cik  \\\n",
       "filename                                             \n",
       "edgar/data/17206/0000017206-94-000007.txt    17206   \n",
       "edgar/data/29082/0000950131-94-000021.txt    29082   \n",
       "edgar/data/32377/0000032377-94-000001.txt    32377   \n",
       "edgar/data/353944/0000353944-94-000005.txt  353944   \n",
       "edgar/data/60512/0000060512-94-000006.txt    60512   \n",
       "...                                            ...   \n",
       "edgar/data/932021/0001493152-23-046428.txt  932021   \n",
       "edgar/data/933974/0001558370-23-019262.txt  933974   \n",
       "edgar/data/935419/0001628280-23-041580.txt  935419   \n",
       "edgar/data/936395/0000936395-23-000044.txt  936395   \n",
       "edgar/data/936528/0000936528-23-000207.txt  936528   \n",
       "\n",
       "                                                               company_name  \\\n",
       "filename                                                                      \n",
       "edgar/data/17206/0000017206-94-000007.txt              CAPITAL HOLDING CORP   \n",
       "edgar/data/29082/0000950131-94-000021.txt                    DISNEY WALT CO   \n",
       "edgar/data/32377/0000032377-94-000001.txt              ELIZABETHTOWN GAS CO   \n",
       "edgar/data/353944/0000353944-94-000005.txt    INTERNATIONAL GAME TECHNOLOGY   \n",
       "edgar/data/60512/0000060512-94-000006.txt   LOUISIANA LAND & EXPLORATION CO   \n",
       "...                                                                     ...   \n",
       "edgar/data/932021/0001493152-23-046428.txt          GLOBAL TECHNOLOGIES LTD   \n",
       "edgar/data/933974/0001558370-23-019262.txt                     Azenta, Inc.   \n",
       "edgar/data/935419/0001628280-23-041580.txt   RCI HOSPITALITY HOLDINGS, INC.   \n",
       "edgar/data/936395/0000936395-23-000044.txt                       CIENA CORP   \n",
       "edgar/data/936528/0000936528-23-000207.txt                         WAFD INC   \n",
       "\n",
       "                                           form_type  date_filed  \\\n",
       "filename                                                           \n",
       "edgar/data/17206/0000017206-94-000007.txt     10-K/A  1993-12-22   \n",
       "edgar/data/29082/0000950131-94-000021.txt       10-K  1993-12-22   \n",
       "edgar/data/32377/0000032377-94-000001.txt       10-K  1993-12-13   \n",
       "edgar/data/353944/0000353944-94-000005.txt      10-K  1993-12-23   \n",
       "edgar/data/60512/0000060512-94-000006.txt     10-K/A  1993-10-07   \n",
       "...                                              ...         ...   \n",
       "edgar/data/932021/0001493152-23-046428.txt      10-K  2023-12-29   \n",
       "edgar/data/933974/0001558370-23-019262.txt      10-K  2023-11-21   \n",
       "edgar/data/935419/0001628280-23-041580.txt      10-K  2023-12-14   \n",
       "edgar/data/936395/0000936395-23-000044.txt      10-K  2023-12-15   \n",
       "edgar/data/936528/0000936528-23-000207.txt      10-K  2023-11-17   \n",
       "\n",
       "                                           exhibit_21_version year_quarter  \n",
       "filename                                                                    \n",
       "edgar/data/17206/0000017206-94-000007.txt                None       1993q4  \n",
       "edgar/data/29082/0000950131-94-000021.txt                  21       1993q4  \n",
       "edgar/data/32377/0000032377-94-000001.txt                  21       1993q4  \n",
       "edgar/data/353944/0000353944-94-000005.txt                 21       1993q4  \n",
       "edgar/data/60512/0000060512-94-000006.txt                None       1993q4  \n",
       "...                                                       ...          ...  \n",
       "edgar/data/932021/0001493152-23-046428.txt               21.1       2023q4  \n",
       "edgar/data/933974/0001558370-23-019262.txt               21.0       2023q4  \n",
       "edgar/data/935419/0001628280-23-041580.txt               21.1       2023q4  \n",
       "edgar/data/936395/0000936395-23-000044.txt               21.1       2023q4  \n",
       "edgar/data/936528/0000936528-23-000207.txt               None       2023q4  \n",
       "\n",
       "[290379 rows x 6 columns]"
      ]
     },
     "execution_count": 4,
     "metadata": {},
     "output_type": "execute_result"
    }
   ],
   "source": [
    "md"
   ]
  },
  {
   "cell_type": "code",
   "execution_count": 5,
   "id": "bb94754e-3765-43f2-a5e1-8b55a4021da4",
   "metadata": {
    "tags": []
   },
   "outputs": [],
   "source": [
    "df = pd.DataFrame()\n",
    "dir_name = Path(\"paragraph_layout_md\")\n",
    "for filename in os.listdir(dir_name):\n",
    "    if filename.split(\".\")[-1] != \"parquet\":\n",
    "        continue\n",
    "    yq_df = pd.read_parquet(dir_name / filename)\n",
    "    df = pd.concat([df, yq_df])"
   ]
  },
  {
   "cell_type": "code",
   "execution_count": 6,
   "id": "52828dfa-a951-4bc5-88a1-f8c2dca2628b",
   "metadata": {
    "tags": []
   },
   "outputs": [
    {
     "data": {
      "text/html": [
       "<div>\n",
       "<style scoped>\n",
       "    .dataframe tbody tr th:only-of-type {\n",
       "        vertical-align: middle;\n",
       "    }\n",
       "\n",
       "    .dataframe tbody tr th {\n",
       "        vertical-align: top;\n",
       "    }\n",
       "\n",
       "    .dataframe thead th {\n",
       "        text-align: right;\n",
       "    }\n",
       "</style>\n",
       "<table border=\"1\" class=\"dataframe\">\n",
       "  <thead>\n",
       "    <tr style=\"text-align: right;\">\n",
       "      <th></th>\n",
       "      <th>paragraph</th>\n",
       "    </tr>\n",
       "  </thead>\n",
       "  <tbody>\n",
       "    <tr>\n",
       "      <th>1011174-0001193125-10-030674</th>\n",
       "      <td>False</td>\n",
       "    </tr>\n",
       "    <tr>\n",
       "      <th>1010612-0000950123-10-019499</th>\n",
       "      <td>False</td>\n",
       "    </tr>\n",
       "    <tr>\n",
       "      <th>1003410-0001193125-10-046549</th>\n",
       "      <td>True</td>\n",
       "    </tr>\n",
       "    <tr>\n",
       "      <th>1011308-0000921895-10-000357</th>\n",
       "      <td>True</td>\n",
       "    </tr>\n",
       "    <tr>\n",
       "      <th>1009672-0000950123-10-018301</th>\n",
       "      <td>True</td>\n",
       "    </tr>\n",
       "    <tr>\n",
       "      <th>...</th>\n",
       "      <td>...</td>\n",
       "    </tr>\n",
       "    <tr>\n",
       "      <th>898293-0000950144-04-010550</th>\n",
       "      <td>False</td>\n",
       "    </tr>\n",
       "    <tr>\n",
       "      <th>894490-0001193125-04-212822</th>\n",
       "      <td>False</td>\n",
       "    </tr>\n",
       "    <tr>\n",
       "      <th>930803-0000950136-04-004585</th>\n",
       "      <td>False</td>\n",
       "    </tr>\n",
       "    <tr>\n",
       "      <th>893430-0001193125-04-212647</th>\n",
       "      <td>False</td>\n",
       "    </tr>\n",
       "    <tr>\n",
       "      <th>920354-0000950135-04-005647</th>\n",
       "      <td>True</td>\n",
       "    </tr>\n",
       "  </tbody>\n",
       "</table>\n",
       "<p>98712 rows × 1 columns</p>\n",
       "</div>"
      ],
      "text/plain": [
       "                              paragraph\n",
       "1011174-0001193125-10-030674      False\n",
       "1010612-0000950123-10-019499      False\n",
       "1003410-0001193125-10-046549       True\n",
       "1011308-0000921895-10-000357       True\n",
       "1009672-0000950123-10-018301       True\n",
       "...                                 ...\n",
       "898293-0000950144-04-010550       False\n",
       "894490-0001193125-04-212822       False\n",
       "930803-0000950136-04-004585       False\n",
       "893430-0001193125-04-212647       False\n",
       "920354-0000950135-04-005647        True\n",
       "\n",
       "[98712 rows x 1 columns]"
      ]
     },
     "execution_count": 6,
     "metadata": {},
     "output_type": "execute_result"
    }
   ],
   "source": [
    "df"
   ]
  },
  {
   "cell_type": "code",
   "execution_count": 7,
   "id": "94b2ecbc-1e08-4b3a-835f-a10327f88298",
   "metadata": {
    "tags": []
   },
   "outputs": [],
   "source": [
    "df.loc[:, \"full_filename\"] = \"edgar/data/\" + df.index.str.replace('-', '/', n=1) + \".txt\""
   ]
  },
  {
   "cell_type": "code",
   "execution_count": 8,
   "id": "b9c56e81-3e98-44bf-8c70-256ce1d58d80",
   "metadata": {
    "tags": []
   },
   "outputs": [],
   "source": [
    "md[\"date_filed\"] = md[\"date_filed\"].astype(\"datetime64[ns]\")"
   ]
  },
  {
   "cell_type": "code",
   "execution_count": 9,
   "id": "d60efebc-72ff-41e8-b765-8edcadbe185e",
   "metadata": {
    "tags": []
   },
   "outputs": [
    {
     "data": {
      "text/html": [
       "<div>\n",
       "<style scoped>\n",
       "    .dataframe tbody tr th:only-of-type {\n",
       "        vertical-align: middle;\n",
       "    }\n",
       "\n",
       "    .dataframe tbody tr th {\n",
       "        vertical-align: top;\n",
       "    }\n",
       "\n",
       "    .dataframe thead th {\n",
       "        text-align: right;\n",
       "    }\n",
       "</style>\n",
       "<table border=\"1\" class=\"dataframe\">\n",
       "  <thead>\n",
       "    <tr style=\"text-align: right;\">\n",
       "      <th></th>\n",
       "      <th>paragraph</th>\n",
       "      <th>full_filename</th>\n",
       "    </tr>\n",
       "  </thead>\n",
       "  <tbody>\n",
       "    <tr>\n",
       "      <th>1011174-0001193125-10-030674</th>\n",
       "      <td>False</td>\n",
       "      <td>edgar/data/1011174/0001193125-10-030674.txt</td>\n",
       "    </tr>\n",
       "    <tr>\n",
       "      <th>1010612-0000950123-10-019499</th>\n",
       "      <td>False</td>\n",
       "      <td>edgar/data/1010612/0000950123-10-019499.txt</td>\n",
       "    </tr>\n",
       "  </tbody>\n",
       "</table>\n",
       "</div>"
      ],
      "text/plain": [
       "                              paragraph  \\\n",
       "1011174-0001193125-10-030674      False   \n",
       "1010612-0000950123-10-019499      False   \n",
       "\n",
       "                                                            full_filename  \n",
       "1011174-0001193125-10-030674  edgar/data/1011174/0001193125-10-030674.txt  \n",
       "1010612-0000950123-10-019499  edgar/data/1010612/0000950123-10-019499.txt  "
      ]
     },
     "execution_count": 9,
     "metadata": {},
     "output_type": "execute_result"
    }
   ],
   "source": [
    "df.head(2)"
   ]
  },
  {
   "cell_type": "code",
   "execution_count": 10,
   "id": "0f6d512f-b07a-4204-b3cf-69e08848ef2d",
   "metadata": {
    "tags": []
   },
   "outputs": [
    {
     "data": {
      "text/plain": [
       "0.27785882162249775"
      ]
     },
     "execution_count": 10,
     "metadata": {},
     "output_type": "execute_result"
    }
   ],
   "source": [
    "# what percentage of files are paragraph layout?\n",
    "md_merged = md.reset_index().merge(df, left_on=\"filename\", right_on=\"full_filename\", how=\"left\", validate=\"1:1\")\n",
    "md_merged = md_merged.dropna(subset=\"paragraph\")\n",
    "len(md_merged[md_merged.paragraph])/len(md_merged)"
   ]
  },
  {
   "cell_type": "code",
   "execution_count": 11,
   "id": "67e63df0-ca52-4eef-b6aa-a1715f1ab081",
   "metadata": {
    "tags": []
   },
   "outputs": [
    {
     "data": {
      "text/html": [
       "<div>\n",
       "<style scoped>\n",
       "    .dataframe tbody tr th:only-of-type {\n",
       "        vertical-align: middle;\n",
       "    }\n",
       "\n",
       "    .dataframe tbody tr th {\n",
       "        vertical-align: top;\n",
       "    }\n",
       "\n",
       "    .dataframe thead th {\n",
       "        text-align: right;\n",
       "    }\n",
       "</style>\n",
       "<table border=\"1\" class=\"dataframe\">\n",
       "  <thead>\n",
       "    <tr style=\"text-align: right;\">\n",
       "      <th></th>\n",
       "      <th>filename</th>\n",
       "      <th>cik</th>\n",
       "      <th>company_name</th>\n",
       "      <th>form_type</th>\n",
       "      <th>date_filed</th>\n",
       "      <th>exhibit_21_version</th>\n",
       "      <th>year_quarter</th>\n",
       "      <th>paragraph</th>\n",
       "      <th>full_filename</th>\n",
       "    </tr>\n",
       "  </thead>\n",
       "  <tbody>\n",
       "    <tr>\n",
       "      <th>6</th>\n",
       "      <td>edgar/data/100240/0000950144-94-000787.txt</td>\n",
       "      <td>100240</td>\n",
       "      <td>TURNER BROADCASTING SYSTEM INC</td>\n",
       "      <td>10-K</td>\n",
       "      <td>1994-03-31</td>\n",
       "      <td>21</td>\n",
       "      <td>1994q1</td>\n",
       "      <td>False</td>\n",
       "      <td>edgar/data/100240/0000950144-94-000787.txt</td>\n",
       "    </tr>\n",
       "    <tr>\n",
       "      <th>11</th>\n",
       "      <td>edgar/data/100885/0000100885-94-000006.txt</td>\n",
       "      <td>100885</td>\n",
       "      <td>UNION PACIFIC CORP</td>\n",
       "      <td>10-K</td>\n",
       "      <td>1994-03-29</td>\n",
       "      <td>21</td>\n",
       "      <td>1994q1</td>\n",
       "      <td>False</td>\n",
       "      <td>edgar/data/100885/0000100885-94-000006.txt</td>\n",
       "    </tr>\n",
       "  </tbody>\n",
       "</table>\n",
       "</div>"
      ],
      "text/plain": [
       "                                      filename     cik  \\\n",
       "6   edgar/data/100240/0000950144-94-000787.txt  100240   \n",
       "11  edgar/data/100885/0000100885-94-000006.txt  100885   \n",
       "\n",
       "                      company_name form_type date_filed exhibit_21_version  \\\n",
       "6   TURNER BROADCASTING SYSTEM INC      10-K 1994-03-31                 21   \n",
       "11              UNION PACIFIC CORP      10-K 1994-03-29                 21   \n",
       "\n",
       "   year_quarter paragraph                               full_filename  \n",
       "6        1994q1     False  edgar/data/100240/0000950144-94-000787.txt  \n",
       "11       1994q1     False  edgar/data/100885/0000100885-94-000006.txt  "
      ]
     },
     "execution_count": 11,
     "metadata": {},
     "output_type": "execute_result"
    }
   ],
   "source": [
    "md_merged.head(2)"
   ]
  },
  {
   "cell_type": "code",
   "execution_count": 12,
   "id": "1e11faef-853b-48f2-9eb0-af7f8715cd41",
   "metadata": {
    "tags": []
   },
   "outputs": [
    {
     "data": {
      "text/plain": [
       "0.10292571287189956"
      ]
     },
     "execution_count": 12,
     "metadata": {},
     "output_type": "execute_result"
    }
   ],
   "source": [
    "# what percentage of CIKs are only covered by paragraph layout docs\n",
    "# get the set of unique CIKs in md_merged\n",
    "all_ciks = set(md_merged.cik)\n",
    "# remove the paragraph layout docs\n",
    "no_paragraph_ciks = set(md_merged[md_merged[\"paragraph\"] == False].cik)\n",
    "# get the set of CIKs that are in the full set but not the paragraph removed set\n",
    "only_paragraph_ciks = all_ciks - no_paragraph_ciks\n",
    "# divide that number by the total number of CIKs\n",
    "len(only_paragraph_ciks)/len(all_ciks)"
   ]
  },
  {
   "cell_type": "code",
   "execution_count": 13,
   "id": "6062d722-b1c7-4589-975e-7fe8cef65a40",
   "metadata": {
    "tags": []
   },
   "outputs": [
    {
     "data": {
      "text/plain": [
       "1664"
      ]
     },
     "execution_count": 13,
     "metadata": {},
     "output_type": "execute_result"
    }
   ],
   "source": [
    "len(only_paragraph_ciks)"
   ]
  },
  {
   "cell_type": "code",
   "execution_count": null,
   "id": "3b1f6ab8-e3be-48c2-9ecb-346425af3777",
   "metadata": {},
   "outputs": [],
   "source": [
    "# what percentage of CIK and year-quarter coverage do we get if we exclude all paragraph filings"
   ]
  }
 ],
 "metadata": {
  "kernelspec": {
   "display_name": "mozilla_sec_eia",
   "language": "python",
   "name": "mozilla_sec_eia"
  },
  "language_info": {
   "codemirror_mode": {
    "name": "ipython",
    "version": 3
   },
   "file_extension": ".py",
   "mimetype": "text/x-python",
   "name": "python",
   "nbconvert_exporter": "python",
   "pygments_lexer": "ipython3",
   "version": "3.12.0"
  }
 },
 "nbformat": 4,
 "nbformat_minor": 5
}
