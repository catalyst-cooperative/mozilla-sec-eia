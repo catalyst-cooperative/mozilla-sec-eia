{
 "cells": [
  {
   "cell_type": "code",
   "execution_count": null,
   "id": "290251c2-3103-4ebb-a13f-f0274954d220",
   "metadata": {
    "tags": []
   },
   "outputs": [],
   "source": [
    "%load_ext autoreload\n",
    "%autoreload 2"
   ]
  },
  {
   "cell_type": "code",
   "execution_count": null,
   "id": "cc765246-7684-431e-bd16-eb62363d5430",
   "metadata": {
    "tags": []
   },
   "outputs": [],
   "source": [
    "from pathlib import Path\n",
    "import fitz\n",
    "from fitz import Rect\n",
    "\n",
    "from mozilla_sec_eia.utils.pdf import extract_pdf_data_from_page\n",
    "from mozilla_sec_eia.utils.pdf import render_page"
   ]
  },
  {
   "cell_type": "code",
   "execution_count": null,
   "id": "31270ad2-5fbc-4070-9d1f-6d01f845b9da",
   "metadata": {
    "tags": []
   },
   "outputs": [],
   "source": [
    "filepath = Path(\"../sec10k_filings/pdfs/40545-2004q1-40545-0000040545-04-000013.pdf\")\n",
    "assert filepath.exists()"
   ]
  },
  {
   "cell_type": "code",
   "execution_count": null,
   "id": "aa6ce146-bdd3-49f6-b680-b865688afada",
   "metadata": {
    "tags": []
   },
   "outputs": [],
   "source": [
    "doc = fitz.Document(str(filepath))\n",
    "doc.is_pdf"
   ]
  },
  {
   "cell_type": "markdown",
   "id": "c95f1b35-e05f-4861-978d-271c4f2cd77c",
   "metadata": {},
   "source": [
    "Multi page PDFs show up as separate indices in doc."
   ]
  },
  {
   "cell_type": "code",
   "execution_count": null,
   "id": "2db61900-f20a-4d59-81f5-d09a28c24f0b",
   "metadata": {
    "tags": []
   },
   "outputs": [],
   "source": [
    "len(doc)"
   ]
  },
  {
   "cell_type": "code",
   "execution_count": null,
   "id": "1479c658-0511-40d3-8cfd-e806ac7b015e",
   "metadata": {
    "tags": []
   },
   "outputs": [],
   "source": [
    "pg = doc[1]\n",
    "extracted = extract_pdf_data_from_page(pg)\n",
    "extracted.keys()"
   ]
  },
  {
   "cell_type": "code",
   "execution_count": null,
   "id": "8011d8d0-57df-4717-b7ec-1df373a02cc6",
   "metadata": {
    "tags": []
   },
   "outputs": [],
   "source": [
    "txt = extracted['pdf_text']\n",
    "img_info = extracted['image']\n",
    "pg_meta = extracted['page']\n",
    "txt.shape, img_info.shape, pg_meta.shape"
   ]
  },
  {
   "cell_type": "code",
   "execution_count": null,
   "id": "b1a746c3-eb6a-45f0-84a6-a1d4153fe8a7",
   "metadata": {
    "tags": []
   },
   "outputs": [],
   "source": [
    "pg_meta"
   ]
  },
  {
   "cell_type": "code",
   "execution_count": null,
   "id": "676131f0-b170-4238-9563-b2c96a236cfc",
   "metadata": {
    "tags": []
   },
   "outputs": [],
   "source": [
    "pg.rect.width"
   ]
  },
  {
   "cell_type": "code",
   "execution_count": null,
   "id": "ca734abc-18e7-4daf-ae64-cb97fa8c21ba",
   "metadata": {
    "tags": []
   },
   "outputs": [],
   "source": [
    "pg.rect.height"
   ]
  },
  {
   "cell_type": "code",
   "execution_count": null,
   "id": "9f73fdf2-f79c-4d5a-86d2-9fc2ca98d42e",
   "metadata": {
    "tags": []
   },
   "outputs": [],
   "source": [
    "pg.rect"
   ]
  },
  {
   "cell_type": "markdown",
   "id": "22b452a9-53cb-4345-8e97-3a85ccb034a8",
   "metadata": {},
   "source": [
    "Try combining both pages into a separate PDF with one longer page."
   ]
  },
  {
   "cell_type": "code",
   "execution_count": null,
   "id": "c70e362a-1705-48aa-b771-070e4c26c0bc",
   "metadata": {
    "tags": []
   },
   "outputs": [],
   "source": [
    "combined_width = 0\n",
    "combined_height = 0\n",
    "rects = []\n",
    "for page in doc:\n",
    "    pg_width = page.rect.width\n",
    "    combined_width = max(combined_width, pg_width)\n",
    "    # instead of using page height directly, use the height of the last word + a buffer\n",
    "    full_pg_height = page.rect.height\n",
    "    extracted = extract_pdf_data_from_page(page)\n",
    "    pg_txt_height = extracted['pdf_text'].bottom_right_y_pdf.max() + (full_pg_height/100)\n",
    "    # Translate this page down by the height of the previous page\n",
    "    rects.append(Rect(0, combined_height, pg_width, combined_height + pg_txt_height))\n",
    "    page.set_cropbox(Rect(0, 0, pg_width, pg_txt_height))\n",
    "    combined_height += pg_txt_height\n",
    "\n",
    "output_pdf = fitz.open()\n",
    "combined_page = output_pdf.new_page(width=combined_width, height=combined_height)\n",
    "\n",
    "for i in range(len(doc)):\n",
    "    combined_page.show_pdf_page(rects[i], doc, i)"
   ]
  },
  {
   "cell_type": "code",
   "execution_count": null,
   "id": "7a264ec5-58a1-4c65-a129-e3c87c166a7b",
   "metadata": {
    "tags": []
   },
   "outputs": [],
   "source": [
    "extracted = extract_pdf_data_from_page(combined_page)\n",
    "extracted.keys()"
   ]
  },
  {
   "cell_type": "code",
   "execution_count": null,
   "id": "c7a990cd-29c3-4df7-9046-20a0c0f00852",
   "metadata": {
    "tags": []
   },
   "outputs": [],
   "source": [
    "txt = extracted['pdf_text']\n",
    "img_info = extracted['image']\n",
    "pg_meta = extracted['page']\n",
    "txt.shape, img_info.shape, pg_meta.shape"
   ]
  },
  {
   "cell_type": "code",
   "execution_count": null,
   "id": "6c1c81df-f698-48d7-b7a3-905ee2a5f8df",
   "metadata": {
    "tags": []
   },
   "outputs": [],
   "source": [
    "txt"
   ]
  },
  {
   "cell_type": "code",
   "execution_count": null,
   "id": "8a2edd54-6ac5-4988-a7ef-78c54fd4e383",
   "metadata": {
    "tags": []
   },
   "outputs": [],
   "source": [
    "full_pg_img = render_page(combined_page)"
   ]
  },
  {
   "cell_type": "code",
   "execution_count": null,
   "id": "f3782c66-6e22-447e-a75c-14e3a0b01674",
   "metadata": {
    "tags": []
   },
   "outputs": [],
   "source": [
    "full_pg_img"
   ]
  },
  {
   "cell_type": "code",
   "execution_count": null,
   "id": "0dcb711a-8f6e-45f2-888c-f765da79a121",
   "metadata": {},
   "outputs": [],
   "source": []
  }
 ],
 "metadata": {
  "kernelspec": {
   "display_name": "mozilla-sec-eia",
   "language": "python",
   "name": "mozilla-sec-eia"
  },
  "language_info": {
   "codemirror_mode": {
    "name": "ipython",
    "version": 3
   },
   "file_extension": ".py",
   "mimetype": "text/x-python",
   "name": "python",
   "nbconvert_exporter": "python",
   "pygments_lexer": "ipython3",
   "version": "3.11.9"
  }
 },
 "nbformat": 4,
 "nbformat_minor": 5
}
