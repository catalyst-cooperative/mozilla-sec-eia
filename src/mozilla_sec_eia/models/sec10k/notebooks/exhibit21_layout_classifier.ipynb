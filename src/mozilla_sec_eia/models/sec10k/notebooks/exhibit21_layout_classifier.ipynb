{
 "cells": [
  {
   "cell_type": "markdown",
   "id": "618936ab-bda1-4b46-8ee5-dbdfc0090562",
   "metadata": {},
   "source": [
    "## Exhibit 21 layout classifier\n",
    "Some EX21 filings are formatted as a paragraph of text rather than a structured table. Given that the extraction model is trained/designed to work with a table layout, it tends to perform poorly on these filings. In this notebook we will develop a classifier model to detect these filings, so we can filter them out, and potentially develop a dedicated model to handle them."
   ]
  },
  {
   "cell_type": "markdown",
   "id": "a22bfc9d-9487-43ec-b0b7-d5bb6e17f994",
   "metadata": {},
   "source": [
    "### Load labeled layouts from upstream asset"
   ]
  },
  {
   "cell_type": "code",
   "execution_count": 18,
   "id": "b4963648-2aac-46a7-9778-8808c1e5eeb2",
   "metadata": {
    "tags": [
     "parameters"
    ]
   },
   "outputs": [
    {
     "name": "stderr",
     "output_type": "stream",
     "text": [
      "No dagster instance configuration file (dagster.yaml) found at /home/zach/catalyst/workspace. Defaulting to loading and storing all metadata with /home/zach/catalyst/workspace. If this is the desired behavior, create an empty dagster.yaml file in /home/zach/catalyst/workspace.\n",
      "2024-10-08 13:55:05 -0400 - dagster - DEBUG - system - Loading file from: /home/zach/catalyst/workspace/storage/ex21_layout_labels using PickledObjectFilesystemIOManager...\n",
      "No dagster instance configuration file (dagster.yaml) found at /home/zach/catalyst/workspace. Defaulting to loading and storing all metadata with /home/zach/catalyst/workspace. If this is the desired behavior, create an empty dagster.yaml file in /home/zach/catalyst/workspace.\n",
      "2024-10-08 13:55:05 -0400 - dagster - DEBUG - system - Loading file from: /home/zach/catalyst/workspace/storage/ex21_layout_classifier_training_dataset using PickledObjectFilesystemIOManager...\n"
     ]
    }
   ],
   "source": [
    "from mozilla_sec_eia.models.sec10k import defs\n",
    "\n",
    "ex21_layout_labels = defs.load_asset_value(\"ex21_layout_labels\")\n",
    "ex21_layout_classifier_training_dataset = defs.load_asset_value(\"ex21_layout_classifier_training_dataset\")"
   ]
  },
  {
   "cell_type": "markdown",
   "id": "3e72a132-a87b-4827-aef0-0898e72317ca",
   "metadata": {},
   "source": [
    "### Implement method to construct feature dataset"
   ]
  },
  {
   "cell_type": "code",
   "execution_count": 43,
   "id": "ee4ed368-7d01-4cb8-952f-f7941900d669",
   "metadata": {
    "tags": []
   },
   "outputs": [],
   "source": [
    "import pandas as pd\n",
    "\n",
    "from mozilla_sec_eia.models.sec10k.ex_21.data.common import BBOX_COLS_PDF\n",
    "\n",
    "\n",
    "def calculate_features(record):\n",
    "    \"\"\"Compute features from bounding boxes in inference dataset.\"\"\"\n",
    "    df = pd.DataFrame(record[\"bboxes\"], columns=BBOX_COLS_PDF)\n",
    "    features = {}\n",
    "    features[\"n_bboxes\"] = len(df)\n",
    "\n",
    "    # block density wasn't a very useful feature, maybe rework?\n",
    "    # Calculate the bounding box density of the area of the page with text\n",
    "    # x_width = df[\"bottom_right_x_pdf\"].max() - df[\"top_left_x_pdf\"].min()\n",
    "    # y_height = df[\"bottom_right_y_pdf\"].max() - df[\"top_left_y_pdf\"].min()\n",
    "    # text_area = x_width * y_height\n",
    "    # features[\"block_density\"] = features[\"n_bboxes\"] / text_area\n",
    "\n",
    "    # Calculate average y-distance between bounding boxes for a given document\n",
    "    df = df.sort_values(by=[\"top_left_y_pdf\", \"top_left_x_pdf\"])\n",
    "    y_diffs = df[\"top_left_y_pdf\"].diff().dropna()\n",
    "    features[\"avg_y_distance\"] = y_diffs.mean()\n",
    "    features[\"std_y_distance\"] = y_diffs.std()\n",
    "\n",
    "    # Calculate x-distance to assess horizontal alignment\n",
    "    x_diffs = df.groupby(\"top_left_y_pdf\")[\"top_left_x_pdf\"].apply(lambda x: x.diff().dropna())\n",
    "    features[\"avg_x_distance\"] = x_diffs.mean()\n",
    "    features[\"std_x_distance\"] = x_diffs.std()\n",
    "\n",
    "    # Define a small threshold to group bounding boxes that are on the same line\n",
    "    y_threshold = 0.1\n",
    "    df.loc[:, \"line_group\"] = (df[\"top_left_y_pdf\"].diff().fillna(0).abs() > y_threshold).cumsum()\n",
    "    boxes_per_line = df.groupby(\"line_group\").size()\n",
    "    features[\"median_boxes_per_line\"] = boxes_per_line.median()\n",
    "    return pd.Series(features)"
   ]
  },
  {
   "cell_type": "markdown",
   "id": "44f87fd0-82ad-4564-8476-c0ddd78e1527",
   "metadata": {},
   "source": [
    "### Create training/test sets"
   ]
  },
  {
   "cell_type": "code",
   "execution_count": 60,
   "id": "f71e2dfc-552d-49e7-b23d-267c2158efe2",
   "metadata": {
    "tags": []
   },
   "outputs": [],
   "source": [
    "import numpy as np\n",
    "from sklearn.model_selection import train_test_split\n",
    "\n",
    "X = ex21_layout_classifier_training_dataset.sort_values(by=[\"id\"]).apply(calculate_features, axis=1)\n",
    "y = np.where(ex21_layout_labels.sort_values(by=[\"filename\"])[\"layout\"] == \"Paragraph\", 1, 0)\n",
    "X_train, X_test, y_train, y_test = train_test_split(X, y, test_size=0.3, random_state=16)"
   ]
  },
  {
   "cell_type": "markdown",
   "id": "de130cf4-cd52-4dde-8582-145566a0b1f3",
   "metadata": {},
   "source": [
    "### Create mlflow model to wrap classifier"
   ]
  },
  {
   "cell_type": "code",
   "execution_count": 61,
   "id": "08bf5f11-af80-4c65-a005-2a2de49c30b5",
   "metadata": {
    "tags": []
   },
   "outputs": [],
   "source": [
    "import mlflow\n",
    "\n",
    "\n",
    "class Ex21LayoutClassifier(mlflow.pyfunc.PythonModel):\n",
    "    \"\"\"Wrap sklearn classifier in mlflow pyfunc model.\"\"\"\n",
    "\n",
    "    def load_context(self, context):\n",
    "        \"\"\"Load sklearn model.\"\"\"\n",
    "        self.model = mlflow.sklearn.load_model(context.artifacts[\"layout_classifier\"])\n",
    "\n",
    "    def predict(self, context, model_input: pd.DataFrame):\n",
    "        \"\"\"Create feature matrix from inference dataset and use trained model for prediction.\"\"\"\n",
    "        features_df = model_input.apply(calculate_features, axis=1)\n",
    "        return self.model.predict(features_df)"
   ]
  },
  {
   "cell_type": "markdown",
   "id": "c3a2c6a1-cdc1-4fd0-a1ca-a5d5cc34d139",
   "metadata": {},
   "source": [
    "### Train and log model"
   ]
  },
  {
   "cell_type": "code",
   "execution_count": 66,
   "id": "55d2194e-82a8-4d1e-8318-a8c893dc29de",
   "metadata": {
    "tags": []
   },
   "outputs": [
    {
     "name": "stderr",
     "output_type": "stream",
     "text": [
      "2024/10/08 16:10:39 WARNING mlflow.utils.autologging_utils: MLflow sklearn autologging is known to be compatible with 0.24.1 <= scikit-learn <= 1.5.1, but the installed version is 1.5.2. If you encounter errors during autologging, try upgrading / downgrading scikit-learn to a compatible version, or try upgrading MLflow.\n",
      "2024/10/08 16:10:39 INFO mlflow.tracking.fluent: Autologging successfully enabled for sklearn.\n",
      "2024/10/08 16:10:40 INFO mlflow.system_metrics.system_metrics_monitor: Started monitoring system metrics.\n",
      "/home/zach/mambaforge/envs/mozilla-sec-eia/lib/python3.11/site-packages/sklearn/linear_model/_logistic.py:469: ConvergenceWarning: lbfgs failed to converge (status=1):\n",
      "STOP: TOTAL NO. of ITERATIONS REACHED LIMIT.\n",
      "\n",
      "Increase the number of iterations (max_iter) or scale the data as shown in:\n",
      "    https://scikit-learn.org/stable/modules/preprocessing.html\n",
      "Please also refer to the documentation for alternative solver options:\n",
      "    https://scikit-learn.org/stable/modules/linear_model.html#logistic-regression\n",
      "  n_iter_i = _check_optimize_result(\n",
      "/home/zach/mambaforge/envs/mozilla-sec-eia/lib/python3.11/site-packages/mlflow/types/utils.py:407: UserWarning: Hint: Inferred schema contains integer column(s). Integer columns in Python cannot represent missing values. If your input data contains missing values at inference time, it will be encoded as floats and will cause a schema enforcement error. The best way to avoid this problem is to infer the model schema based on a realistic data sample (training dataset) that includes missing values. Alternatively, you can declare integer columns as doubles (float64) whenever these columns may have missing values. See `Handling Integers With Missing Values <https://www.mlflow.org/docs/latest/models.html#handling-integers-with-missing-values>`_ for more details.\n",
      "  warnings.warn(\n"
     ]
    },
    {
     "data": {
      "application/vnd.jupyter.widget-view+json": {
       "model_id": "dd07e390d13f4f6692ae96288ffb1dbb",
       "version_major": 2,
       "version_minor": 0
      },
      "text/plain": [
       "Downloading artifacts:   0%|          | 0/5 [00:00<?, ?it/s]"
      ]
     },
     "metadata": {},
     "output_type": "display_data"
    },
    {
     "name": "stderr",
     "output_type": "stream",
     "text": [
      "2024/10/08 16:11:30 INFO mlflow.tracking._tracking_service.client: 🏃 View run languid-shrimp-450 at: https://mlflow-ned2up6sra-uc.a.run.app/#/experiments/15/runs/08802dbf347c4cd5b66751c11328a06f.\n",
      "2024/10/08 16:11:30 INFO mlflow.tracking._tracking_service.client: 🧪 View experiment at: https://mlflow-ned2up6sra-uc.a.run.app/#/experiments/15.\n",
      "2024/10/08 16:11:30 INFO mlflow.system_metrics.system_metrics_monitor: Stopping system metrics monitoring...\n",
      "2024/10/08 16:11:31 INFO mlflow.system_metrics.system_metrics_monitor: Successfully terminated system metrics monitoring!\n"
     ]
    }
   ],
   "source": [
    "from dotenv import load_dotenv\n",
    "from mlflow.models import infer_signature\n",
    "from sklearn.linear_model import LogisticRegression\n",
    "\n",
    "from mozilla_sec_eia.library.mlflow import configure_mlflow\n",
    "\n",
    "load_dotenv()\n",
    "\n",
    "\n",
    "configure_mlflow()\n",
    "mlflow.set_experiment(\"exhibit21_layout_classifier\")\n",
    "\n",
    "# Autolog sklearn model\n",
    "mlflow.autolog()\n",
    "\n",
    "model = LogisticRegression()\n",
    "pyfunc_model = Ex21LayoutClassifier()\n",
    "with mlflow.start_run():\n",
    "    model.fit(X_train, y_train)\n",
    "    model.score(X_test, y_test)\n",
    "    sklearn_model_uri = mlflow.get_artifact_uri(\"model\")\n",
    "    mlflow.pyfunc.log_model(\n",
    "        artifact_path=\"exhibit21_layout_classifier\",\n",
    "        python_model=pyfunc_model,\n",
    "        artifacts={\"layout_classifier\": sklearn_model_uri},\n",
    "        signature=infer_signature(ex21_layout_classifier_training_dataset, y),\n",
    "    )"
   ]
  },
  {
   "cell_type": "code",
   "execution_count": null,
   "id": "ed43ef26-0884-4e09-9709-8d7567f87f73",
   "metadata": {},
   "outputs": [],
   "source": []
  }
 ],
 "metadata": {
  "kernelspec": {
   "display_name": "Python 3 (ipykernel)",
   "language": "python",
   "name": "python3"
  },
  "language_info": {
   "codemirror_mode": {
    "name": "ipython",
    "version": 3
   },
   "file_extension": ".py",
   "mimetype": "text/x-python",
   "name": "python",
   "nbconvert_exporter": "python",
   "pygments_lexer": "ipython3",
   "version": "3.11.10"
  }
 },
 "nbformat": 4,
 "nbformat_minor": 5
}
